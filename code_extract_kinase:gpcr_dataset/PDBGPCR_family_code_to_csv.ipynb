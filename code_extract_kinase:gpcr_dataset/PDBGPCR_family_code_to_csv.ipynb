{
  "cells": [
    {
      "cell_type": "markdown",
      "metadata": {
        "id": "TgIEkAtaB1vP"
      },
      "source": [
        "#### This Code fetches protein GPCR family directly from PDB and extracts sequence, dssp3, dssp8 structure and saved as txt format and text to csv saved format#######"
      ]
    },
    {
      "cell_type": "markdown",
      "metadata": {
        "id": "8n-sP2ta4Cxy"
      },
      "source": [
        "Extraction of Dataset Protein GPCR family from PDB and conversion of DSSP8 to DSSP3 saving as csv file\n",
        "This Code fetches protein GPCR family directly from PDB"
      ]
    },
    {
      "cell_type": "code",
      "execution_count": 1,
      "metadata": {
        "id": "IpdLMOLEB00r",
        "colab": {
          "base_uri": "https://localhost:8080/"
        },
        "outputId": "6675b4d3-b2b1-4c2d-8e6a-d614bd733e03"
      },
      "outputs": [
        {
          "output_type": "stream",
          "name": "stdout",
          "text": [
            "Collecting biopython\n",
            "  Downloading biopython-1.85-cp311-cp311-manylinux_2_17_x86_64.manylinux2014_x86_64.whl.metadata (13 kB)\n",
            "Requirement already satisfied: numpy in /usr/local/lib/python3.11/dist-packages (from biopython) (2.0.2)\n",
            "Downloading biopython-1.85-cp311-cp311-manylinux_2_17_x86_64.manylinux2014_x86_64.whl (3.3 MB)\n",
            "\u001b[2K   \u001b[90m━━━━━━━━━━━━━━━━━━━━━━━━━━━━━━━━━━━━━━━━\u001b[0m \u001b[32m3.3/3.3 MB\u001b[0m \u001b[31m22.7 MB/s\u001b[0m eta \u001b[36m0:00:00\u001b[0m\n",
            "\u001b[?25hInstalling collected packages: biopython\n",
            "Successfully installed biopython-1.85\n",
            "Get:1 https://cloud.r-project.org/bin/linux/ubuntu jammy-cran40/ InRelease [3,632 B]\n",
            "Get:2 http://security.ubuntu.com/ubuntu jammy-security InRelease [129 kB]\n",
            "Hit:3 https://developer.download.nvidia.com/compute/cuda/repos/ubuntu2204/x86_64  InRelease\n",
            "Get:4 https://r2u.stat.illinois.edu/ubuntu jammy InRelease [6,555 B]\n",
            "Hit:5 http://archive.ubuntu.com/ubuntu jammy InRelease\n",
            "Get:6 http://archive.ubuntu.com/ubuntu jammy-updates InRelease [128 kB]\n",
            "Get:7 https://r2u.stat.illinois.edu/ubuntu jammy/main amd64 Packages [2,757 kB]\n",
            "Hit:8 https://ppa.launchpadcontent.net/deadsnakes/ppa/ubuntu jammy InRelease\n",
            "Get:9 http://security.ubuntu.com/ubuntu jammy-security/main amd64 Packages [3,103 kB]\n",
            "Hit:10 https://ppa.launchpadcontent.net/graphics-drivers/ppa/ubuntu jammy InRelease\n",
            "Hit:11 https://ppa.launchpadcontent.net/ubuntugis/ppa/ubuntu jammy InRelease\n",
            "Get:12 http://archive.ubuntu.com/ubuntu jammy-backports InRelease [127 kB]\n",
            "Get:13 https://r2u.stat.illinois.edu/ubuntu jammy/main all Packages [9,092 kB]\n",
            "Get:14 http://security.ubuntu.com/ubuntu jammy-security/universe amd64 Packages [1,266 kB]\n",
            "Get:15 http://archive.ubuntu.com/ubuntu jammy-updates/universe amd64 Packages [1,569 kB]\n",
            "Get:16 http://archive.ubuntu.com/ubuntu jammy-updates/restricted amd64 Packages [4,963 kB]\n",
            "Get:17 http://archive.ubuntu.com/ubuntu jammy-updates/main amd64 Packages [3,420 kB]\n",
            "Get:18 http://archive.ubuntu.com/ubuntu jammy-backports/main amd64 Packages [83.2 kB]\n",
            "Get:19 http://archive.ubuntu.com/ubuntu jammy-backports/universe amd64 Packages [35.2 kB]\n",
            "Fetched 26.7 MB in 3s (7,740 kB/s)\n",
            "Reading package lists... Done\n",
            "W: Skipping acquire of configured file 'main/source/Sources' as repository 'https://r2u.stat.illinois.edu/ubuntu jammy InRelease' does not seem to provide it (sources.list entry misspelt?)\n",
            "Reading package lists... Done\n",
            "Building dependency tree... Done\n",
            "Reading state information... Done\n",
            "The following additional packages will be installed:\n",
            "  libcifpp-data libcifpp2\n",
            "The following NEW packages will be installed:\n",
            "  dssp libcifpp-data libcifpp2\n",
            "0 upgraded, 3 newly installed, 0 to remove and 39 not upgraded.\n",
            "Need to get 1,967 kB of archives.\n",
            "After this operation, 15.0 MB of additional disk space will be used.\n",
            "Get:1 http://archive.ubuntu.com/ubuntu jammy/universe amd64 libcifpp-data all 2.0.5-1build1 [437 kB]\n",
            "Get:2 http://archive.ubuntu.com/ubuntu jammy/universe amd64 libcifpp2 amd64 2.0.5-1build1 [1,019 kB]\n",
            "Get:3 http://archive.ubuntu.com/ubuntu jammy/universe amd64 dssp amd64 4.0.4-1 [511 kB]\n",
            "Fetched 1,967 kB in 1s (1,540 kB/s)\n",
            "debconf: unable to initialize frontend: Dialog\n",
            "debconf: (No usable dialog-like program is installed, so the dialog based frontend cannot be used. at /usr/share/perl5/Debconf/FrontEnd/Dialog.pm line 78, <> line 3.)\n",
            "debconf: falling back to frontend: Readline\n",
            "debconf: unable to initialize frontend: Readline\n",
            "debconf: (This frontend requires a controlling tty.)\n",
            "debconf: falling back to frontend: Teletype\n",
            "dpkg-preconfigure: unable to re-open stdin: \n",
            "Selecting previously unselected package libcifpp-data.\n",
            "(Reading database ... 126281 files and directories currently installed.)\n",
            "Preparing to unpack .../libcifpp-data_2.0.5-1build1_all.deb ...\n",
            "Unpacking libcifpp-data (2.0.5-1build1) ...\n",
            "Selecting previously unselected package libcifpp2:amd64.\n",
            "Preparing to unpack .../libcifpp2_2.0.5-1build1_amd64.deb ...\n",
            "Unpacking libcifpp2:amd64 (2.0.5-1build1) ...\n",
            "Selecting previously unselected package dssp.\n",
            "Preparing to unpack .../dssp_4.0.4-1_amd64.deb ...\n",
            "Unpacking dssp (4.0.4-1) ...\n",
            "Setting up libcifpp-data (2.0.5-1build1) ...\n",
            "debconf: unable to initialize frontend: Dialog\n",
            "debconf: (No usable dialog-like program is installed, so the dialog based frontend cannot be used. at /usr/share/perl5/Debconf/FrontEnd/Dialog.pm line 78.)\n",
            "debconf: falling back to frontend: Readline\n",
            "Configuring libcifpp-data\n",
            "-------------------------\n",
            "\n",
            "The default mmcif_pdbx_v50.dic file may become out-of-date over time. Using\n",
            "this option you can enable automatic weekly updating of this file.\n",
            "\n",
            "\u001b[4mShould mmcif_pdbx_v50 files be updated automatically? [yes/no] \u001b[m\u001b[1my\n",
            "\u001b[m\u001b[m\n",
            "--2025-07-11 05:10:25--  https://mmcif.wwpdb.org/dictionaries/ascii/mmcif_pdbx_v50.dic.gz\n",
            "Resolving mmcif.wwpdb.org (mmcif.wwpdb.org)... 132.249.213.156\n",
            "Connecting to mmcif.wwpdb.org (mmcif.wwpdb.org)|132.249.213.156|:443... connected.\n",
            "HTTP request sent, awaiting response... 200 OK\n",
            "Length: 594755 (581K) [application/x-gzip]\n",
            "Saving to: ‘/var/cache/libcifpp/mmcif_pdbx_v50.dic.gz’\n",
            "\n",
            "/var/cache/libcifpp 100%[===================>] 580.82K  --.-KB/s    in 0.1s    \n",
            "\n",
            "2025-07-11 05:10:26 (5.88 MB/s) - ‘/var/cache/libcifpp/mmcif_pdbx_v50.dic.gz’ saved [594755/594755]\n",
            "\n",
            "--2025-07-11 05:10:26--  ftp://ftp.wwpdb.org/pub/pdb/data/monomers/components.cif.gz\n",
            "           => ‘/var/cache/libcifpp/components.cif.gz’\n",
            "Resolving ftp.wwpdb.org (ftp.wwpdb.org)... failed: Name or service not known.\n",
            "wget: unable to resolve host address ‘ftp.wwpdb.org’\n",
            "dpkg: error processing package libcifpp-data (--configure):\n",
            " installed libcifpp-data package post-installation script subprocess returned error exit status 4\n",
            "dpkg: dependency problems prevent configuration of libcifpp2:amd64:\n",
            " libcifpp2:amd64 depends on libcifpp-data; however:\n",
            "  Package libcifpp-data is not configured yet.\n",
            "\n",
            "dpkg: error processing package libcifpp2:amd64 (--configure):\n",
            " dependency problems - leaving unconfigured\n",
            "dpkg: dependency problems prevent configuration of dssp:\n",
            " dssp depends on libcifpp2 (>= 2.0.5); however:\n",
            "  Package libcifpp2:amd64 is not configured yet.\n",
            "\n",
            "dpkg: error processing package dssp (--configure):\n",
            " dependency problems - leaving unconfigured\n",
            "Processing triggers for libc-bin (2.35-0ubuntu3.8) ...\n",
            "/sbin/ldconfig.real: /usr/local/lib/libur_adapter_level_zero_v2.so.0 is not a symbolic link\n",
            "\n",
            "/sbin/ldconfig.real: /usr/local/lib/libtbbbind_2_0.so.3 is not a symbolic link\n",
            "\n",
            "/sbin/ldconfig.real: /usr/local/lib/libtbbmalloc_proxy.so.2 is not a symbolic link\n",
            "\n",
            "/sbin/ldconfig.real: /usr/local/lib/libtbb.so.12 is not a symbolic link\n",
            "\n",
            "/sbin/ldconfig.real: /usr/local/lib/libumf.so.0 is not a symbolic link\n",
            "\n",
            "/sbin/ldconfig.real: /usr/local/lib/libtcm_debug.so.1 is not a symbolic link\n",
            "\n",
            "/sbin/ldconfig.real: /usr/local/lib/libtbbmalloc.so.2 is not a symbolic link\n",
            "\n",
            "/sbin/ldconfig.real: /usr/local/lib/libur_loader.so.0 is not a symbolic link\n",
            "\n",
            "/sbin/ldconfig.real: /usr/local/lib/libur_adapter_opencl.so.0 is not a symbolic link\n",
            "\n",
            "/sbin/ldconfig.real: /usr/local/lib/libtbbbind.so.3 is not a symbolic link\n",
            "\n",
            "/sbin/ldconfig.real: /usr/local/lib/libur_adapter_level_zero.so.0 is not a symbolic link\n",
            "\n",
            "/sbin/ldconfig.real: /usr/local/lib/libhwloc.so.15 is not a symbolic link\n",
            "\n",
            "/sbin/ldconfig.real: /usr/local/lib/libtbbbind_2_5.so.3 is not a symbolic link\n",
            "\n",
            "/sbin/ldconfig.real: /usr/local/lib/libtcm.so.1 is not a symbolic link\n",
            "\n",
            "Processing triggers for man-db (2.10.2-1) ...\n",
            "Errors were encountered while processing:\n",
            " libcifpp-data\n",
            " libcifpp2:amd64\n",
            " dssp\n",
            "E: Sub-process /usr/bin/dpkg returned an error code (1)\n"
          ]
        }
      ],
      "source": [
        "from IPython import get_ipython\n",
        "from IPython.display import display\n",
        "# # %%\n",
        "!pip install biopython\n",
        "# # %%\n",
        "# # Install DSSP (mkdssp)\n",
        "!sudo apt-get update\n",
        "!sudo apt-get install dssp"
      ]
    },
    {
      "cell_type": "markdown",
      "metadata": {
        "id": "jHRbZ-1kEgBt"
      },
      "source": [
        "You can input any family classified PDB protein family in place of \"Kinase\""
      ]
    },
    {
      "cell_type": "code",
      "source": [
        "import requests\n",
        "\n",
        "def search_pdb_gpcr_structures(n=50):\n",
        "    url = \"https://search.rcsb.org/rcsbsearch/v2/query\"\n",
        "\n",
        "    # Query for PDB entries classified as GPCRs\n",
        "    query = {\n",
        "        \"query\": {\n",
        "            \"type\": \"terminal\",\n",
        "            \"service\": \"text\",\n",
        "            \"parameters\": {\n",
        "                \"attribute\": \"struct_keywords.pdbx_keywords\",\n",
        "                \"operator\": \"contains_words\",\n",
        "                \"value\": \"G protein-coupled receptor\"\n",
        "            }\n",
        "        },\n",
        "        \"return_type\": \"entry\",\n",
        "        \"request_options\": {\n",
        "            \"results_content_type\": [\"experimental\"],\n",
        "            \"sort\": [\n",
        "                {\n",
        "                    \"sort_by\": \"score\",\n",
        "                    \"direction\": \"desc\"\n",
        "                }\n",
        "            ],\n",
        "            \"paginate\": {\n",
        "                \"start\": 0,\n",
        "                \"rows\": n\n",
        "            }\n",
        "        }\n",
        "    }\n",
        "\n",
        "    response = requests.post(url, json=query)\n",
        "\n",
        "    if response.status_code != 200:\n",
        "        print(\"Error:\", response.status_code, response.text)\n",
        "        return []\n",
        "\n",
        "    data = response.json()\n",
        "\n",
        "    if 'result_set' not in data:\n",
        "        print(\"No results found.\")\n",
        "        return []\n",
        "\n",
        "    pdb_ids = [item['identifier'] for item in data['result_set']]\n",
        "    return pdb_ids\n",
        "\n",
        "# Test it\n",
        "gpcr_pdb_ids = search_pdb_gpcr_structures(50)\n",
        "print(\"GPCR PDB IDs:\", gpcr_pdb_ids)\n"
      ],
      "metadata": {
        "colab": {
          "base_uri": "https://localhost:8080/"
        },
        "id": "39wLS3ig4nwy",
        "outputId": "a4b54f1f-4b12-41b1-fa52-1f10494d140f"
      },
      "execution_count": 2,
      "outputs": [
        {
          "output_type": "stream",
          "name": "stdout",
          "text": [
            "GPCR PDB IDs: ['1AJE', '1E0S', '1RGP', '1ZBD', '2CJW', '2RAP', '5NI8', '5NIB', '1H30', '1A52', '1AC6', '1AJJ', '1BEC', '1BJ8', '1E6F', '1GP0', '1GP3', '1GQB', '1H68', '1HKF', '1M6P', '1NGR', '1RPM', '1TCR', '1UPV', '1UPW', '1US4', '1US5', '1W9R', '2BPD', '2BPE', '2BPH', '2BSD', '2BSE', '2BYN', '2BYP', '2BYQ', '2BYR', '2BYS', '2CDG', '2CL8', '2CNJ', '2J4A', '2J67', '2NR1', '2RQZ', '2RR0', '2RR2', '2UV3', '2UWI']\n"
          ]
        }
      ]
    },
    {
      "cell_type": "code",
      "source": [
        "from Bio.PDB import PDBList, PDBParser, DSSP\n",
        "\n",
        "# === Map 8-state DSSP to Q3 ===\n",
        "def map_dssp8_to_q3(dssp8_char):\n",
        "    if dssp8_char in ['H', 'G', 'I']:\n",
        "        return 'H'\n",
        "    elif dssp8_char in ['E', 'B']:\n",
        "        return 'E'\n",
        "    else:\n",
        "        return 'C'\n",
        "\n",
        "# === DSSP Extraction Function ===\n",
        "def get_dssp_info(pdb_id, dssp_exe='mkdssp'):\n",
        "    pdb_id = pdb_id.lower()\n",
        "    pdbl = PDBList()\n",
        "    pdbl.retrieve_pdb_file(pdb_id, pdir='.', file_format='pdb')\n",
        "    pdb_file = f\"pdb{pdb_id}.ent\"\n",
        "\n",
        "    parser = PDBParser()\n",
        "    structure = parser.get_structure(pdb_id, pdb_file)\n",
        "    model = structure[0]\n",
        "\n",
        "    dssp = DSSP(model, pdb_file, file_type='PDB', dssp=dssp_exe)\n",
        "\n",
        "    dssp_keys = list(dssp.keys())\n",
        "    primary_sequence = ''.join([dssp[key][1] for key in dssp_keys])\n",
        "    dssp8_string = ''.join([dssp[key][2] for key in dssp_keys])\n",
        "    dssp3_string = ''.join([map_dssp8_to_q3(dssp[key][2]) for key in dssp_keys])\n",
        "\n",
        "    return primary_sequence, dssp8_string, dssp3_string\n",
        "\n",
        "# === GPCR PDB IDs ===\n",
        "gpcr_pdb_ids = [\n",
        "    '1AJE', '1E0S', '1RGP', '1ZBD', '2CJW', '2RAP', '5NI8', '5NIB', '1H30', '1A52',\n",
        "    '1AC6', '1AJJ', '1BEC', '1BJ8', '1E6F', '1GP0', '1GP3', '1GQB', '1H68', '1HKF',\n",
        "    '1M6P', '1NGR', '1RPM', '1TCR', '1UPV', '1UPW', '1US4', '1US5', '1W9R', '2BPD',\n",
        "    '2BPE', '2BPH', '2BSD', '2BSE', '2BYN', '2BYP', '2BYQ', '2BYR', '2BYS', '2CDG',\n",
        "    '2CL8', '2CNJ', '2J4A', '2J67', '2NR1', '2RQZ', '2RR0', '2RR2', '2UV3', '2UWI'\n",
        "]\n",
        "\n",
        "# === LOOP OVER PDB IDs AND SAVE RESULTS ===\n",
        "output_lines = []\n",
        "\n",
        "for pdb_id in gpcr_pdb_ids:\n",
        "    print(f\"Processing {pdb_id}...\")\n",
        "    try:\n",
        "        primary_seq, dssp8_str, dssp3_str = get_dssp_info(pdb_id)\n",
        "\n",
        "        print(f\"  → Lengths: Primary={len(primary_seq)}, Q8={len(dssp8_str)}, Q3={len(dssp3_str)}\")\n",
        "\n",
        "        entry = (\n",
        "            f\"PDB ID: {pdb_id}\\n\"\n",
        "            f\"Primary sequence:\\n{primary_seq}\\n\"\n",
        "            f\"DSSP 8-state (Q8):\\n{dssp8_str}\\n\"\n",
        "            f\"DSSP 3-state (Q3):\\n{dssp3_str}\\n\"\n",
        "            f\"Lengths: Primary={len(primary_seq)}, Q8={len(dssp8_str)}, Q3={len(dssp3_str)}\\n\"\n",
        "            + \"-\"*60 + \"\\n\"\n",
        "        )\n",
        "        output_lines.append(entry)\n",
        "\n",
        "    except Exception as e:\n",
        "        print(f\"  ✖ Error processing {pdb_id}: {e}\")\n",
        "        output_lines.append(f\"PDB ID: {pdb_id} → ERROR: {e}\\n{'-'*60}\\n\")\n",
        "\n",
        "# === WRITE TO FILE ===\n",
        "with open(\"gpcr_dssp_results.txt\", \"w\") as f:\n",
        "    f.writelines(output_lines)\n",
        "\n",
        "print(\"\\n✅ All results saved to 'gpcr_dssp_results.txt'\")\n"
      ],
      "metadata": {
        "colab": {
          "base_uri": "https://localhost:8080/"
        },
        "id": "V8JRPyom4o5z",
        "outputId": "cb10ac0f-995d-47b4-9b78-05df4057e49d"
      },
      "execution_count": 3,
      "outputs": [
        {
          "output_type": "stream",
          "name": "stdout",
          "text": [
            "Processing 1AJE...\n",
            "Downloading PDB structure '1aje'...\n",
            "  → Lengths: Primary=194, Q8=194, Q3=194\n",
            "Processing 1E0S...\n",
            "Downloading PDB structure '1e0s'...\n",
            "  → Lengths: Primary=173, Q8=173, Q3=173\n",
            "Processing 1RGP...\n",
            "Downloading PDB structure '1rgp'...\n",
            "  → Lengths: Primary=189, Q8=189, Q3=189\n",
            "Processing 1ZBD...\n",
            "Downloading PDB structure '1zbd'...\n"
          ]
        },
        {
          "output_type": "stream",
          "name": "stderr",
          "text": [
            "/usr/local/lib/python3.11/dist-packages/Bio/PDB/StructureBuilder.py:100: PDBConstructionWarning: WARNING: Chain A is discontinuous at line 3059.\n",
            "  warnings.warn(\n",
            "/usr/local/lib/python3.11/dist-packages/Bio/PDB/StructureBuilder.py:100: PDBConstructionWarning: WARNING: Chain B is discontinuous at line 3092.\n",
            "  warnings.warn(\n",
            "/usr/local/lib/python3.11/dist-packages/Bio/PDB/StructureBuilder.py:100: PDBConstructionWarning: WARNING: Chain A is discontinuous at line 3094.\n",
            "  warnings.warn(\n",
            "/usr/local/lib/python3.11/dist-packages/Bio/PDB/StructureBuilder.py:100: PDBConstructionWarning: WARNING: Chain B is discontinuous at line 3125.\n",
            "  warnings.warn(\n"
          ]
        },
        {
          "output_type": "stream",
          "name": "stdout",
          "text": [
            "  → Lengths: Primary=301, Q8=301, Q3=301\n",
            "Processing 2CJW...\n",
            "Downloading PDB structure '2cjw'...\n"
          ]
        },
        {
          "output_type": "stream",
          "name": "stderr",
          "text": [
            "/usr/local/lib/python3.11/dist-packages/Bio/PDB/StructureBuilder.py:100: PDBConstructionWarning: WARNING: Chain A is discontinuous at line 3485.\n",
            "  warnings.warn(\n",
            "/usr/local/lib/python3.11/dist-packages/Bio/PDB/StructureBuilder.py:100: PDBConstructionWarning: WARNING: Chain B is discontinuous at line 3514.\n",
            "  warnings.warn(\n",
            "/usr/local/lib/python3.11/dist-packages/Bio/PDB/StructureBuilder.py:100: PDBConstructionWarning: WARNING: Chain A is discontinuous at line 3543.\n",
            "  warnings.warn(\n",
            "/usr/local/lib/python3.11/dist-packages/Bio/PDB/StructureBuilder.py:100: PDBConstructionWarning: WARNING: Chain B is discontinuous at line 3624.\n",
            "  warnings.warn(\n"
          ]
        },
        {
          "output_type": "stream",
          "name": "stdout",
          "text": [
            "  → Lengths: Primary=351, Q8=351, Q3=351\n",
            "Processing 2RAP...\n",
            "Downloading PDB structure '2rap'...\n",
            "  → Lengths: Primary=167, Q8=167, Q3=167\n",
            "Processing 5NI8...\n",
            "Downloading PDB structure '5ni8'...\n"
          ]
        },
        {
          "output_type": "stream",
          "name": "stderr",
          "text": [
            "/usr/local/lib/python3.11/dist-packages/Bio/PDB/StructureBuilder.py:100: PDBConstructionWarning: WARNING: Chain A is discontinuous at line 2628.\n",
            "  warnings.warn(\n",
            "/usr/local/lib/python3.11/dist-packages/Bio/PDB/StructureBuilder.py:100: PDBConstructionWarning: WARNING: Chain C is discontinuous at line 2836.\n",
            "  warnings.warn(\n"
          ]
        },
        {
          "output_type": "stream",
          "name": "stdout",
          "text": [
            "  → Lengths: Primary=262, Q8=262, Q3=262\n",
            "Processing 5NIB...\n",
            "Downloading PDB structure '5nib'...\n"
          ]
        },
        {
          "output_type": "stream",
          "name": "stderr",
          "text": [
            "/usr/local/lib/python3.11/dist-packages/Bio/PDB/StructureBuilder.py:100: PDBConstructionWarning: WARNING: Chain A is discontinuous at line 2633.\n",
            "  warnings.warn(\n",
            "/usr/local/lib/python3.11/dist-packages/Bio/PDB/StructureBuilder.py:100: PDBConstructionWarning: WARNING: Chain C is discontinuous at line 2846.\n",
            "  warnings.warn(\n"
          ]
        },
        {
          "output_type": "stream",
          "name": "stdout",
          "text": [
            "  → Lengths: Primary=262, Q8=262, Q3=262\n",
            "Processing 1H30...\n",
            "Downloading PDB structure '1h30'...\n",
            "  → Lengths: Primary=391, Q8=391, Q3=391\n",
            "Processing 1A52...\n",
            "Downloading PDB structure '1a52'...\n"
          ]
        },
        {
          "output_type": "stream",
          "name": "stderr",
          "text": [
            "/usr/local/lib/python3.11/dist-packages/Bio/PDB/StructureBuilder.py:100: PDBConstructionWarning: WARNING: Chain A is discontinuous at line 4468.\n",
            "  warnings.warn(\n",
            "/usr/local/lib/python3.11/dist-packages/Bio/PDB/StructureBuilder.py:100: PDBConstructionWarning: WARNING: Chain B is discontinuous at line 4491.\n",
            "  warnings.warn(\n",
            "/usr/local/lib/python3.11/dist-packages/Bio/PDB/StructureBuilder.py:100: PDBConstructionWarning: WARNING: Chain A is discontinuous at line 4514.\n",
            "  warnings.warn(\n",
            "/usr/local/lib/python3.11/dist-packages/Bio/PDB/StructureBuilder.py:100: PDBConstructionWarning: WARNING: Chain B is discontinuous at line 4524.\n",
            "  warnings.warn(\n",
            "/usr/local/lib/python3.11/dist-packages/Bio/PDB/DSSP.py:199: UserWarning: Unknown or untrusted program in REMARK 3, trying all parsers to see if there is a match\n",
            "\n",
            "  warnings.warn(err)\n",
            "/usr/local/lib/python3.11/dist-packages/Bio/PDB/StructureBuilder.py:100: PDBConstructionWarning: WARNING: Chain A is discontinuous at line 2088.\n",
            "  warnings.warn(\n",
            "/usr/local/lib/python3.11/dist-packages/Bio/PDB/StructureBuilder.py:100: PDBConstructionWarning: WARNING: Chain B is discontinuous at line 2152.\n",
            "  warnings.warn(\n"
          ]
        },
        {
          "output_type": "stream",
          "name": "stdout",
          "text": [
            "  → Lengths: Primary=479, Q8=479, Q3=479\n",
            "Processing 1AC6...\n",
            "Downloading PDB structure '1ac6'...\n",
            "  → Lengths: Primary=220, Q8=220, Q3=220\n",
            "Processing 1AJJ...\n",
            "Downloading PDB structure '1ajj'...\n",
            "  → Lengths: Primary=37, Q8=37, Q3=37\n",
            "Processing 1BEC...\n",
            "Downloading PDB structure '1bec'...\n",
            "  → Lengths: Primary=238, Q8=238, Q3=238\n",
            "Processing 1BJ8...\n",
            "Downloading PDB structure '1bj8'...\n"
          ]
        },
        {
          "output_type": "stream",
          "name": "stderr",
          "text": [
            "/usr/local/lib/python3.11/dist-packages/Bio/PDB/DSSP.py:199: UserWarning: Unknown or untrusted program in REMARK 3, trying all parsers to see if there is a match\n",
            "\n",
            "  warnings.warn(err)\n"
          ]
        },
        {
          "output_type": "stream",
          "name": "stdout",
          "text": [
            "  → Lengths: Primary=109, Q8=109, Q3=109\n",
            "Processing 1E6F...\n",
            "Downloading PDB structure '1e6f'...\n"
          ]
        },
        {
          "output_type": "stream",
          "name": "stderr",
          "text": [
            "/usr/local/lib/python3.11/dist-packages/Bio/PDB/StructureBuilder.py:100: PDBConstructionWarning: WARNING: Chain A is discontinuous at line 2387.\n",
            "  warnings.warn(\n",
            "/usr/local/lib/python3.11/dist-packages/Bio/PDB/StructureBuilder.py:100: PDBConstructionWarning: WARNING: Chain B is discontinuous at line 2451.\n",
            "  warnings.warn(\n"
          ]
        },
        {
          "output_type": "stream",
          "name": "stdout",
          "text": [
            "  → Lengths: Primary=260, Q8=260, Q3=260\n",
            "Processing 1GP0...\n",
            "Downloading PDB structure '1gp0'...\n",
            "  → Lengths: Primary=133, Q8=133, Q3=133\n",
            "Processing 1GP3...\n",
            "Downloading PDB structure '1gp3'...\n",
            "  → Lengths: Primary=129, Q8=129, Q3=129\n",
            "Processing 1GQB...\n",
            "Downloading PDB structure '1gqb'...\n"
          ]
        },
        {
          "output_type": "stream",
          "name": "stderr",
          "text": [
            "/usr/local/lib/python3.11/dist-packages/Bio/PDB/StructureBuilder.py:100: PDBConstructionWarning: WARNING: Chain A is discontinuous at line 2452.\n",
            "  warnings.warn(\n",
            "/usr/local/lib/python3.11/dist-packages/Bio/PDB/StructureBuilder.py:100: PDBConstructionWarning: WARNING: Chain B is discontinuous at line 2456.\n",
            "  warnings.warn(\n",
            "/usr/local/lib/python3.11/dist-packages/Bio/PDB/StructureBuilder.py:100: PDBConstructionWarning: WARNING: Chain A is discontinuous at line 2462.\n",
            "  warnings.warn(\n",
            "/usr/local/lib/python3.11/dist-packages/Bio/PDB/StructureBuilder.py:100: PDBConstructionWarning: WARNING: Chain B is discontinuous at line 2533.\n",
            "  warnings.warn(\n"
          ]
        },
        {
          "output_type": "stream",
          "name": "stdout",
          "text": [
            "  → Lengths: Primary=261, Q8=261, Q3=261\n",
            "Processing 1H68...\n",
            "Downloading PDB structure '1h68'...\n",
            "  → Lengths: Primary=218, Q8=218, Q3=218\n",
            "Processing 1HKF...\n",
            "Downloading PDB structure '1hkf'...\n",
            "  → Lengths: Primary=108, Q8=108, Q3=108\n",
            "Processing 1M6P...\n",
            "Downloading PDB structure '1m6p'...\n"
          ]
        },
        {
          "output_type": "stream",
          "name": "stderr",
          "text": [
            "/usr/local/lib/python3.11/dist-packages/Bio/PDB/StructureBuilder.py:100: PDBConstructionWarning: WARNING: Chain A is discontinuous at line 2725.\n",
            "  warnings.warn(\n",
            "/usr/local/lib/python3.11/dist-packages/Bio/PDB/StructureBuilder.py:100: PDBConstructionWarning: WARNING: Chain B is discontinuous at line 2742.\n",
            "  warnings.warn(\n",
            "/usr/local/lib/python3.11/dist-packages/Bio/PDB/StructureBuilder.py:100: PDBConstructionWarning: WARNING: Chain A is discontinuous at line 2759.\n",
            "  warnings.warn(\n",
            "/usr/local/lib/python3.11/dist-packages/Bio/PDB/StructureBuilder.py:100: PDBConstructionWarning: WARNING: Chain B is discontinuous at line 2832.\n",
            "  warnings.warn(\n"
          ]
        },
        {
          "output_type": "stream",
          "name": "stdout",
          "text": [
            "  → Lengths: Primary=292, Q8=292, Q3=292\n",
            "Processing 1NGR...\n",
            "Downloading PDB structure '1ngr'...\n"
          ]
        },
        {
          "output_type": "stream",
          "name": "stderr",
          "text": [
            "/usr/local/lib/python3.11/dist-packages/Bio/PDB/DSSP.py:199: UserWarning: Unknown or untrusted program in REMARK 3, trying all parsers to see if there is a match\n",
            "\n",
            "  warnings.warn(err)\n"
          ]
        },
        {
          "output_type": "stream",
          "name": "stdout",
          "text": [
            "  → Lengths: Primary=85, Q8=85, Q3=85\n",
            "Processing 1RPM...\n",
            "Downloading PDB structure '1rpm'...\n"
          ]
        },
        {
          "output_type": "stream",
          "name": "stderr",
          "text": [
            "/usr/local/lib/python3.11/dist-packages/Bio/PDB/StructureBuilder.py:100: PDBConstructionWarning: WARNING: Chain A is discontinuous at line 4871.\n",
            "  warnings.warn(\n",
            "/usr/local/lib/python3.11/dist-packages/Bio/PDB/StructureBuilder.py:100: PDBConstructionWarning: WARNING: Chain B is discontinuous at line 5046.\n",
            "  warnings.warn(\n"
          ]
        },
        {
          "output_type": "stream",
          "name": "stdout",
          "text": [
            "  → Lengths: Primary=556, Q8=556, Q3=556\n",
            "Processing 1TCR...\n",
            "Downloading PDB structure '1tcr'...\n"
          ]
        },
        {
          "output_type": "stream",
          "name": "stderr",
          "text": [
            "/usr/local/lib/python3.11/dist-packages/Bio/PDB/StructureBuilder.py:100: PDBConstructionWarning: WARNING: Chain A is discontinuous at line 4061.\n",
            "  warnings.warn(\n",
            "/usr/local/lib/python3.11/dist-packages/Bio/PDB/StructureBuilder.py:100: PDBConstructionWarning: WARNING: Chain B is discontinuous at line 4075.\n",
            "  warnings.warn(\n",
            "/usr/local/lib/python3.11/dist-packages/Bio/PDB/StructureBuilder.py:100: PDBConstructionWarning: WARNING: Chain A is discontinuous at line 4090.\n",
            "  warnings.warn(\n",
            "/usr/local/lib/python3.11/dist-packages/Bio/PDB/StructureBuilder.py:100: PDBConstructionWarning: WARNING: Chain B is discontinuous at line 4099.\n",
            "  warnings.warn(\n"
          ]
        },
        {
          "output_type": "stream",
          "name": "stdout",
          "text": [
            "  → Lengths: Primary=439, Q8=439, Q3=439\n",
            "Processing 1UPV...\n",
            "Downloading PDB structure '1upv'...\n",
            "  → Lengths: Primary=232, Q8=232, Q3=232\n",
            "Processing 1UPW...\n",
            "Downloading PDB structure '1upw'...\n",
            "  → Lengths: Primary=232, Q8=232, Q3=232\n",
            "Processing 1US4...\n",
            "Downloading PDB structure '1us4'...\n",
            "  → Lengths: Primary=297, Q8=297, Q3=297\n",
            "Processing 1US5...\n",
            "Downloading PDB structure '1us5'...\n",
            "  → Lengths: Primary=297, Q8=297, Q3=297\n",
            "Processing 1W9R...\n",
            "Downloading PDB structure '1w9r'...\n",
            "  → Lengths: Primary=119, Q8=119, Q3=119\n",
            "Processing 2BPD...\n",
            "Downloading PDB structure '2bpd'...\n"
          ]
        },
        {
          "output_type": "stream",
          "name": "stderr",
          "text": [
            "/usr/local/lib/python3.11/dist-packages/Bio/PDB/StructureBuilder.py:100: PDBConstructionWarning: WARNING: Chain A is discontinuous at line 2665.\n",
            "  warnings.warn(\n",
            "/usr/local/lib/python3.11/dist-packages/Bio/PDB/StructureBuilder.py:100: PDBConstructionWarning: WARNING: Chain B is discontinuous at line 2871.\n",
            "  warnings.warn(\n"
          ]
        },
        {
          "output_type": "stream",
          "name": "stdout",
          "text": [
            "  → Lengths: Primary=256, Q8=256, Q3=256\n",
            "Processing 2BPE...\n",
            "Downloading PDB structure '2bpe'...\n"
          ]
        },
        {
          "output_type": "stream",
          "name": "stderr",
          "text": [
            "/usr/local/lib/python3.11/dist-packages/Bio/PDB/StructureBuilder.py:100: PDBConstructionWarning: WARNING: Chain A is discontinuous at line 2771.\n",
            "  warnings.warn(\n",
            "/usr/local/lib/python3.11/dist-packages/Bio/PDB/StructureBuilder.py:100: PDBConstructionWarning: WARNING: Chain B is discontinuous at line 2786.\n",
            "  warnings.warn(\n",
            "/usr/local/lib/python3.11/dist-packages/Bio/PDB/StructureBuilder.py:100: PDBConstructionWarning: WARNING: Chain A is discontinuous at line 2801.\n",
            "  warnings.warn(\n",
            "/usr/local/lib/python3.11/dist-packages/Bio/PDB/StructureBuilder.py:100: PDBConstructionWarning: WARNING: Chain B is discontinuous at line 2909.\n",
            "  warnings.warn(\n"
          ]
        },
        {
          "output_type": "stream",
          "name": "stdout",
          "text": [
            "  → Lengths: Primary=256, Q8=256, Q3=256\n",
            "Processing 2BPH...\n",
            "Downloading PDB structure '2bph'...\n"
          ]
        },
        {
          "output_type": "stream",
          "name": "stderr",
          "text": [
            "/usr/local/lib/python3.11/dist-packages/Bio/PDB/StructureBuilder.py:100: PDBConstructionWarning: WARNING: Chain A is discontinuous at line 2631.\n",
            "  warnings.warn(\n",
            "/usr/local/lib/python3.11/dist-packages/Bio/PDB/StructureBuilder.py:100: PDBConstructionWarning: WARNING: Chain B is discontinuous at line 2632.\n",
            "  warnings.warn(\n",
            "/usr/local/lib/python3.11/dist-packages/Bio/PDB/StructureBuilder.py:100: PDBConstructionWarning: WARNING: Chain A is discontinuous at line 2633.\n",
            "  warnings.warn(\n",
            "/usr/local/lib/python3.11/dist-packages/Bio/PDB/StructureBuilder.py:100: PDBConstructionWarning: WARNING: Chain B is discontinuous at line 2711.\n",
            "  warnings.warn(\n"
          ]
        },
        {
          "output_type": "stream",
          "name": "stdout",
          "text": [
            "  → Lengths: Primary=256, Q8=256, Q3=256\n",
            "Processing 2BSD...\n",
            "Downloading PDB structure '2bsd'...\n"
          ]
        },
        {
          "output_type": "stream",
          "name": "stderr",
          "text": [
            "/usr/local/lib/python3.11/dist-packages/Bio/PDB/StructureBuilder.py:100: PDBConstructionWarning: WARNING: Chain A is discontinuous at line 6408.\n",
            "  warnings.warn(\n",
            "/usr/local/lib/python3.11/dist-packages/Bio/PDB/StructureBuilder.py:100: PDBConstructionWarning: WARNING: Chain B is discontinuous at line 6482.\n",
            "  warnings.warn(\n",
            "/usr/local/lib/python3.11/dist-packages/Bio/PDB/StructureBuilder.py:100: PDBConstructionWarning: WARNING: Chain C is discontinuous at line 6542.\n",
            "  warnings.warn(\n"
          ]
        },
        {
          "output_type": "stream",
          "name": "stdout",
          "text": [
            "  → Lengths: Primary=762, Q8=762, Q3=762\n",
            "Processing 2BSE...\n",
            "Downloading PDB structure '2bse'...\n"
          ]
        },
        {
          "output_type": "stream",
          "name": "stderr",
          "text": [
            "/usr/local/lib/python3.11/dist-packages/Bio/PDB/StructureBuilder.py:100: PDBConstructionWarning: WARNING: Chain D is discontinuous at line 6341.\n",
            "  warnings.warn(\n"
          ]
        },
        {
          "output_type": "stream",
          "name": "stdout",
          "text": [
            "  → Lengths: Primary=687, Q8=687, Q3=687\n",
            "Processing 2BYN...\n",
            "Downloading PDB structure '2byn'...\n"
          ]
        },
        {
          "output_type": "stream",
          "name": "stderr",
          "text": [
            "/usr/local/lib/python3.11/dist-packages/Bio/PDB/StructureBuilder.py:100: PDBConstructionWarning: WARNING: Chain A is discontinuous at line 9502.\n",
            "  warnings.warn(\n",
            "/usr/local/lib/python3.11/dist-packages/Bio/PDB/StructureBuilder.py:100: PDBConstructionWarning: WARNING: Chain B is discontinuous at line 9515.\n",
            "  warnings.warn(\n",
            "/usr/local/lib/python3.11/dist-packages/Bio/PDB/StructureBuilder.py:100: PDBConstructionWarning: WARNING: Chain C is discontinuous at line 9528.\n",
            "  warnings.warn(\n",
            "/usr/local/lib/python3.11/dist-packages/Bio/PDB/StructureBuilder.py:100: PDBConstructionWarning: WARNING: Chain D is discontinuous at line 9544.\n",
            "  warnings.warn(\n",
            "/usr/local/lib/python3.11/dist-packages/Bio/PDB/StructureBuilder.py:100: PDBConstructionWarning: WARNING: Chain E is discontinuous at line 9557.\n",
            "  warnings.warn(\n",
            "/usr/local/lib/python3.11/dist-packages/Bio/PDB/StructureBuilder.py:100: PDBConstructionWarning: WARNING: Chain A is discontinuous at line 9584.\n",
            "  warnings.warn(\n",
            "/usr/local/lib/python3.11/dist-packages/Bio/PDB/StructureBuilder.py:100: PDBConstructionWarning: WARNING: Chain B is discontinuous at line 9770.\n",
            "  warnings.warn(\n",
            "/usr/local/lib/python3.11/dist-packages/Bio/PDB/StructureBuilder.py:100: PDBConstructionWarning: WARNING: Chain C is discontinuous at line 9959.\n",
            "  warnings.warn(\n",
            "/usr/local/lib/python3.11/dist-packages/Bio/PDB/StructureBuilder.py:100: PDBConstructionWarning: WARNING: Chain D is discontinuous at line 10128.\n",
            "  warnings.warn(\n",
            "/usr/local/lib/python3.11/dist-packages/Bio/PDB/StructureBuilder.py:100: PDBConstructionWarning: WARNING: Chain E is discontinuous at line 10287.\n",
            "  warnings.warn(\n"
          ]
        },
        {
          "output_type": "stream",
          "name": "stdout",
          "text": [
            "  → Lengths: Primary=1066, Q8=1066, Q3=1066\n",
            "Processing 2BYP...\n",
            "Downloading PDB structure '2byp'...\n"
          ]
        },
        {
          "output_type": "stream",
          "name": "stderr",
          "text": [
            "/usr/local/lib/python3.11/dist-packages/Bio/PDB/StructureBuilder.py:100: PDBConstructionWarning: WARNING: Chain B is discontinuous at line 10066.\n",
            "  warnings.warn(\n",
            "/usr/local/lib/python3.11/dist-packages/Bio/PDB/StructureBuilder.py:100: PDBConstructionWarning: WARNING: Chain A is discontinuous at line 10080.\n",
            "  warnings.warn(\n",
            "/usr/local/lib/python3.11/dist-packages/Bio/PDB/StructureBuilder.py:100: PDBConstructionWarning: WARNING: Chain B is discontinuous at line 10251.\n",
            "  warnings.warn(\n",
            "/usr/local/lib/python3.11/dist-packages/Bio/PDB/StructureBuilder.py:100: PDBConstructionWarning: WARNING: Chain C is discontinuous at line 10463.\n",
            "  warnings.warn(\n",
            "/usr/local/lib/python3.11/dist-packages/Bio/PDB/StructureBuilder.py:100: PDBConstructionWarning: WARNING: Chain D is discontinuous at line 10706.\n",
            "  warnings.warn(\n",
            "/usr/local/lib/python3.11/dist-packages/Bio/PDB/StructureBuilder.py:100: PDBConstructionWarning: WARNING: Chain E is discontinuous at line 10905.\n",
            "  warnings.warn(\n",
            "/usr/local/lib/python3.11/dist-packages/Bio/PDB/StructureBuilder.py:100: PDBConstructionWarning: WARNING: Chain F is discontinuous at line 11059.\n",
            "  warnings.warn(\n",
            "/usr/local/lib/python3.11/dist-packages/Bio/PDB/StructureBuilder.py:100: PDBConstructionWarning: WARNING: Chain G is discontinuous at line 11067.\n",
            "  warnings.warn(\n",
            "/usr/local/lib/python3.11/dist-packages/Bio/PDB/StructureBuilder.py:100: PDBConstructionWarning: WARNING: Chain H is discontinuous at line 11078.\n",
            "  warnings.warn(\n",
            "/usr/local/lib/python3.11/dist-packages/Bio/PDB/StructureBuilder.py:100: PDBConstructionWarning: WARNING: Chain I is discontinuous at line 11093.\n",
            "  warnings.warn(\n",
            "/usr/local/lib/python3.11/dist-packages/Bio/PDB/StructureBuilder.py:100: PDBConstructionWarning: WARNING: Chain J is discontinuous at line 11108.\n",
            "  warnings.warn(\n"
          ]
        },
        {
          "output_type": "stream",
          "name": "stdout",
          "text": [
            "  → Lengths: Primary=1113, Q8=1113, Q3=1113\n",
            "Processing 2BYQ...\n",
            "Downloading PDB structure '2byq'...\n"
          ]
        },
        {
          "output_type": "stream",
          "name": "stderr",
          "text": [
            "/usr/local/lib/python3.11/dist-packages/Bio/PDB/StructureBuilder.py:100: PDBConstructionWarning: WARNING: Chain A is discontinuous at line 9454.\n",
            "  warnings.warn(\n",
            "/usr/local/lib/python3.11/dist-packages/Bio/PDB/StructureBuilder.py:100: PDBConstructionWarning: WARNING: Chain B is discontinuous at line 9468.\n",
            "  warnings.warn(\n",
            "/usr/local/lib/python3.11/dist-packages/Bio/PDB/StructureBuilder.py:100: PDBConstructionWarning: WARNING: Chain C is discontinuous at line 9482.\n",
            "  warnings.warn(\n",
            "/usr/local/lib/python3.11/dist-packages/Bio/PDB/StructureBuilder.py:100: PDBConstructionWarning: WARNING: Chain D is discontinuous at line 9496.\n",
            "  warnings.warn(\n",
            "/usr/local/lib/python3.11/dist-packages/Bio/PDB/StructureBuilder.py:100: PDBConstructionWarning: WARNING: Chain E is discontinuous at line 9510.\n",
            "  warnings.warn(\n"
          ]
        },
        {
          "output_type": "stream",
          "name": "stdout",
          "text": [
            "  → Lengths: Primary=1069, Q8=1069, Q3=1069\n",
            "Processing 2BYR...\n",
            "Downloading PDB structure '2byr'...\n"
          ]
        },
        {
          "output_type": "stream",
          "name": "stderr",
          "text": [
            "/usr/local/lib/python3.11/dist-packages/Bio/PDB/StructureBuilder.py:100: PDBConstructionWarning: WARNING: Chain A is discontinuous at line 18576.\n",
            "  warnings.warn(\n",
            "/usr/local/lib/python3.11/dist-packages/Bio/PDB/StructureBuilder.py:100: PDBConstructionWarning: WARNING: Chain B is discontinuous at line 18625.\n",
            "  warnings.warn(\n",
            "/usr/local/lib/python3.11/dist-packages/Bio/PDB/StructureBuilder.py:100: PDBConstructionWarning: WARNING: Chain C is discontinuous at line 18674.\n",
            "  warnings.warn(\n",
            "/usr/local/lib/python3.11/dist-packages/Bio/PDB/StructureBuilder.py:100: PDBConstructionWarning: WARNING: Chain D is discontinuous at line 18723.\n",
            "  warnings.warn(\n",
            "/usr/local/lib/python3.11/dist-packages/Bio/PDB/StructureBuilder.py:100: PDBConstructionWarning: WARNING: Chain E is discontinuous at line 18772.\n",
            "  warnings.warn(\n",
            "/usr/local/lib/python3.11/dist-packages/Bio/PDB/StructureBuilder.py:100: PDBConstructionWarning: WARNING: Chain F is discontinuous at line 18821.\n",
            "  warnings.warn(\n",
            "/usr/local/lib/python3.11/dist-packages/Bio/PDB/StructureBuilder.py:100: PDBConstructionWarning: WARNING: Chain G is discontinuous at line 18870.\n",
            "  warnings.warn(\n",
            "/usr/local/lib/python3.11/dist-packages/Bio/PDB/StructureBuilder.py:100: PDBConstructionWarning: WARNING: Chain H is discontinuous at line 18919.\n",
            "  warnings.warn(\n",
            "/usr/local/lib/python3.11/dist-packages/Bio/PDB/StructureBuilder.py:100: PDBConstructionWarning: WARNING: Chain I is discontinuous at line 18968.\n",
            "  warnings.warn(\n",
            "/usr/local/lib/python3.11/dist-packages/Bio/PDB/StructureBuilder.py:100: PDBConstructionWarning: WARNING: Chain J is discontinuous at line 19017.\n",
            "  warnings.warn(\n",
            "/usr/local/lib/python3.11/dist-packages/Bio/PDB/StructureBuilder.py:100: PDBConstructionWarning: WARNING: Chain A is discontinuous at line 19066.\n",
            "  warnings.warn(\n",
            "/usr/local/lib/python3.11/dist-packages/Bio/PDB/StructureBuilder.py:100: PDBConstructionWarning: WARNING: Chain B is discontinuous at line 19179.\n",
            "  warnings.warn(\n",
            "/usr/local/lib/python3.11/dist-packages/Bio/PDB/StructureBuilder.py:100: PDBConstructionWarning: WARNING: Chain C is discontinuous at line 19270.\n",
            "  warnings.warn(\n",
            "/usr/local/lib/python3.11/dist-packages/Bio/PDB/StructureBuilder.py:100: PDBConstructionWarning: WARNING: Chain D is discontinuous at line 19324.\n",
            "  warnings.warn(\n",
            "/usr/local/lib/python3.11/dist-packages/Bio/PDB/StructureBuilder.py:100: PDBConstructionWarning: WARNING: Chain E is discontinuous at line 19382.\n",
            "  warnings.warn(\n",
            "/usr/local/lib/python3.11/dist-packages/Bio/PDB/StructureBuilder.py:100: PDBConstructionWarning: WARNING: Chain F is discontinuous at line 19470.\n",
            "  warnings.warn(\n",
            "/usr/local/lib/python3.11/dist-packages/Bio/PDB/StructureBuilder.py:100: PDBConstructionWarning: WARNING: Chain G is discontinuous at line 19502.\n",
            "  warnings.warn(\n",
            "/usr/local/lib/python3.11/dist-packages/Bio/PDB/StructureBuilder.py:100: PDBConstructionWarning: WARNING: Chain H is discontinuous at line 19525.\n",
            "  warnings.warn(\n",
            "/usr/local/lib/python3.11/dist-packages/Bio/PDB/StructureBuilder.py:100: PDBConstructionWarning: WARNING: Chain I is discontinuous at line 19539.\n",
            "  warnings.warn(\n",
            "/usr/local/lib/python3.11/dist-packages/Bio/PDB/StructureBuilder.py:100: PDBConstructionWarning: WARNING: Chain J is discontinuous at line 19568.\n",
            "  warnings.warn(\n",
            "/usr/local/lib/python3.11/dist-packages/Bio/PDB/DSSP.py:199: UserWarning: Unknown or untrusted program in REMARK 3, trying all parsers to see if there is a match\n",
            "\n",
            "  warnings.warn(err)\n"
          ]
        },
        {
          "output_type": "stream",
          "name": "stdout",
          "text": [
            "  → Lengths: Primary=2101, Q8=2101, Q3=2101\n",
            "Processing 2BYS...\n",
            "Downloading PDB structure '2bys'...\n"
          ]
        },
        {
          "output_type": "stream",
          "name": "stderr",
          "text": [
            "/usr/local/lib/python3.11/dist-packages/Bio/PDB/StructureBuilder.py:100: PDBConstructionWarning: WARNING: Chain A is discontinuous at line 18264.\n",
            "  warnings.warn(\n",
            "/usr/local/lib/python3.11/dist-packages/Bio/PDB/StructureBuilder.py:100: PDBConstructionWarning: WARNING: Chain B is discontinuous at line 18289.\n",
            "  warnings.warn(\n",
            "/usr/local/lib/python3.11/dist-packages/Bio/PDB/StructureBuilder.py:100: PDBConstructionWarning: WARNING: Chain C is discontinuous at line 18314.\n",
            "  warnings.warn(\n",
            "/usr/local/lib/python3.11/dist-packages/Bio/PDB/StructureBuilder.py:100: PDBConstructionWarning: WARNING: Chain D is discontinuous at line 18339.\n",
            "  warnings.warn(\n",
            "/usr/local/lib/python3.11/dist-packages/Bio/PDB/StructureBuilder.py:100: PDBConstructionWarning: WARNING: Chain E is discontinuous at line 18364.\n",
            "  warnings.warn(\n",
            "/usr/local/lib/python3.11/dist-packages/Bio/PDB/StructureBuilder.py:100: PDBConstructionWarning: WARNING: Chain F is discontinuous at line 18389.\n",
            "  warnings.warn(\n",
            "/usr/local/lib/python3.11/dist-packages/Bio/PDB/StructureBuilder.py:100: PDBConstructionWarning: WARNING: Chain G is discontinuous at line 18414.\n",
            "  warnings.warn(\n",
            "/usr/local/lib/python3.11/dist-packages/Bio/PDB/StructureBuilder.py:100: PDBConstructionWarning: WARNING: Chain H is discontinuous at line 18439.\n",
            "  warnings.warn(\n",
            "/usr/local/lib/python3.11/dist-packages/Bio/PDB/StructureBuilder.py:100: PDBConstructionWarning: WARNING: Chain I is discontinuous at line 18464.\n",
            "  warnings.warn(\n",
            "/usr/local/lib/python3.11/dist-packages/Bio/PDB/StructureBuilder.py:100: PDBConstructionWarning: WARNING: Chain J is discontinuous at line 18489.\n",
            "  warnings.warn(\n",
            "/usr/local/lib/python3.11/dist-packages/Bio/PDB/StructureBuilder.py:100: PDBConstructionWarning: WARNING: Chain A is discontinuous at line 18514.\n",
            "  warnings.warn(\n",
            "/usr/local/lib/python3.11/dist-packages/Bio/PDB/StructureBuilder.py:100: PDBConstructionWarning: WARNING: Chain B is discontinuous at line 18678.\n",
            "  warnings.warn(\n",
            "/usr/local/lib/python3.11/dist-packages/Bio/PDB/StructureBuilder.py:100: PDBConstructionWarning: WARNING: Chain C is discontinuous at line 18864.\n",
            "  warnings.warn(\n",
            "/usr/local/lib/python3.11/dist-packages/Bio/PDB/StructureBuilder.py:100: PDBConstructionWarning: WARNING: Chain D is discontinuous at line 19014.\n",
            "  warnings.warn(\n",
            "/usr/local/lib/python3.11/dist-packages/Bio/PDB/StructureBuilder.py:100: PDBConstructionWarning: WARNING: Chain E is discontinuous at line 19195.\n",
            "  warnings.warn(\n",
            "/usr/local/lib/python3.11/dist-packages/Bio/PDB/StructureBuilder.py:100: PDBConstructionWarning: WARNING: Chain F is discontinuous at line 19365.\n",
            "  warnings.warn(\n",
            "/usr/local/lib/python3.11/dist-packages/Bio/PDB/StructureBuilder.py:100: PDBConstructionWarning: WARNING: Chain G is discontinuous at line 19523.\n",
            "  warnings.warn(\n",
            "/usr/local/lib/python3.11/dist-packages/Bio/PDB/StructureBuilder.py:100: PDBConstructionWarning: WARNING: Chain H is discontinuous at line 19681.\n",
            "  warnings.warn(\n",
            "/usr/local/lib/python3.11/dist-packages/Bio/PDB/StructureBuilder.py:100: PDBConstructionWarning: WARNING: Chain I is discontinuous at line 19785.\n",
            "  warnings.warn(\n",
            "/usr/local/lib/python3.11/dist-packages/Bio/PDB/StructureBuilder.py:100: PDBConstructionWarning: WARNING: Chain J is discontinuous at line 19918.\n",
            "  warnings.warn(\n"
          ]
        },
        {
          "output_type": "stream",
          "name": "stdout",
          "text": [
            "  → Lengths: Primary=2046, Q8=2046, Q3=2046\n",
            "Processing 2CDG...\n",
            "Downloading PDB structure '2cdg'...\n"
          ]
        },
        {
          "output_type": "stream",
          "name": "stderr",
          "text": [
            "/usr/local/lib/python3.11/dist-packages/Bio/PDB/StructureBuilder.py:100: PDBConstructionWarning: WARNING: Chain A is discontinuous at line 4040.\n",
            "  warnings.warn(\n",
            "/usr/local/lib/python3.11/dist-packages/Bio/PDB/StructureBuilder.py:100: PDBConstructionWarning: WARNING: Chain B is discontinuous at line 4056.\n",
            "  warnings.warn(\n"
          ]
        },
        {
          "output_type": "stream",
          "name": "stdout",
          "text": [
            "  → Lengths: Primary=428, Q8=428, Q3=428\n",
            "Processing 2CL8...\n",
            "Downloading PDB structure '2cl8'...\n"
          ]
        },
        {
          "output_type": "stream",
          "name": "stderr",
          "text": [
            "/usr/local/lib/python3.11/dist-packages/Bio/PDB/StructureBuilder.py:100: PDBConstructionWarning: WARNING: Chain A is discontinuous at line 2694.\n",
            "  warnings.warn(\n",
            "/usr/local/lib/python3.11/dist-packages/Bio/PDB/StructureBuilder.py:100: PDBConstructionWarning: WARNING: Chain B is discontinuous at line 2696.\n",
            "  warnings.warn(\n",
            "/usr/local/lib/python3.11/dist-packages/Bio/PDB/StructureBuilder.py:100: PDBConstructionWarning: WARNING: Chain A is discontinuous at line 2700.\n",
            "  warnings.warn(\n",
            "/usr/local/lib/python3.11/dist-packages/Bio/PDB/StructureBuilder.py:100: PDBConstructionWarning: WARNING: Chain B is discontinuous at line 2706.\n",
            "  warnings.warn(\n"
          ]
        },
        {
          "output_type": "stream",
          "name": "stdout",
          "text": [
            "  → Lengths: Primary=256, Q8=256, Q3=256\n",
            "Processing 2CNJ...\n",
            "Downloading PDB structure '2cnj'...\n",
            "  → Lengths: Primary=143, Q8=143, Q3=143\n",
            "Processing 2J4A...\n",
            "Downloading PDB structure '2j4a'...\n",
            "  → Lengths: Primary=250, Q8=250, Q3=250\n",
            "Processing 2J67...\n",
            "Downloading PDB structure '2j67'...\n"
          ]
        },
        {
          "output_type": "stream",
          "name": "stderr",
          "text": [
            "/usr/local/lib/python3.11/dist-packages/Bio/PDB/StructureBuilder.py:100: PDBConstructionWarning: WARNING: Chain A is discontinuous at line 3030.\n",
            "  warnings.warn(\n",
            "/usr/local/lib/python3.11/dist-packages/Bio/PDB/StructureBuilder.py:100: PDBConstructionWarning: WARNING: Chain B is discontinuous at line 3087.\n",
            "  warnings.warn(\n"
          ]
        },
        {
          "output_type": "stream",
          "name": "stdout",
          "text": [
            "  → Lengths: Primary=275, Q8=275, Q3=275\n",
            "Processing 2NR1...\n",
            "Downloading PDB structure '2nr1'...\n",
            "  → Lengths: Primary=23, Q8=23, Q3=23\n",
            "Processing 2RQZ...\n",
            "Downloading PDB structure '2rqz'...\n",
            "  → Lengths: Primary=38, Q8=38, Q3=38\n",
            "Processing 2RR0...\n",
            "Downloading PDB structure '2rr0'...\n",
            "  → Lengths: Primary=38, Q8=38, Q3=38\n",
            "Processing 2RR2...\n",
            "Downloading PDB structure '2rr2'...\n",
            "  → Lengths: Primary=38, Q8=38, Q3=38\n",
            "Processing 2UV3...\n",
            "Downloading PDB structure '2uv3'...\n"
          ]
        },
        {
          "output_type": "stream",
          "name": "stderr",
          "text": [
            "/usr/local/lib/python3.11/dist-packages/Bio/PDB/StructureBuilder.py:100: PDBConstructionWarning: WARNING: Chain A is discontinuous at line 2452.\n",
            "  warnings.warn(\n",
            "/usr/local/lib/python3.11/dist-packages/Bio/PDB/StructureBuilder.py:100: PDBConstructionWarning: WARNING: Chain B is discontinuous at line 2489.\n",
            "  warnings.warn(\n",
            "/usr/local/lib/python3.11/dist-packages/Bio/PDB/StructureBuilder.py:100: PDBConstructionWarning: WARNING: Chain A is discontinuous at line 2506.\n",
            "  warnings.warn(\n",
            "/usr/local/lib/python3.11/dist-packages/Bio/PDB/StructureBuilder.py:100: PDBConstructionWarning: WARNING: Chain B is discontinuous at line 2658.\n",
            "  warnings.warn(\n"
          ]
        },
        {
          "output_type": "stream",
          "name": "stdout",
          "text": [
            "  → Lengths: Primary=242, Q8=242, Q3=242\n",
            "Processing 2UWI...\n",
            "Downloading PDB structure '2uwi'...\n"
          ]
        },
        {
          "output_type": "stream",
          "name": "stderr",
          "text": [
            "/usr/local/lib/python3.11/dist-packages/Bio/PDB/StructureBuilder.py:100: PDBConstructionWarning: WARNING: Chain A is discontinuous at line 2329.\n",
            "  warnings.warn(\n",
            "/usr/local/lib/python3.11/dist-packages/Bio/PDB/StructureBuilder.py:100: PDBConstructionWarning: WARNING: Chain B is discontinuous at line 2415.\n",
            "  warnings.warn(\n"
          ]
        },
        {
          "output_type": "stream",
          "name": "stdout",
          "text": [
            "  → Lengths: Primary=254, Q8=254, Q3=254\n",
            "\n",
            "✅ All results saved to 'gpcr_dssp_results.txt'\n"
          ]
        }
      ]
    },
    {
      "cell_type": "code",
      "source": [
        "import csv\n",
        "\n",
        "input_file = \"gpcr_dssp_results.txt\"\n",
        "output_file = \"gpcr_dssp_results.csv\"\n",
        "\n",
        "entries = []\n",
        "\n",
        "with open(input_file, \"r\") as f:\n",
        "    lines = f.read().split(\"------------------------------------------------------------\\n\")\n",
        "\n",
        "    for block in lines:\n",
        "        if not block.strip():\n",
        "            continue\n",
        "\n",
        "        lines = block.strip().splitlines()\n",
        "\n",
        "        try:\n",
        "            pdb_id = lines[0].split(\":\")[1].strip()\n",
        "            primary_seq = lines[2]\n",
        "            dssp_q8 = lines[4]\n",
        "            dssp_q3 = lines[6]\n",
        "            length_line = lines[7]\n",
        "            length = length_line.split(\"Primary=\")[1].split(\",\")[0].strip()\n",
        "\n",
        "            entries.append([pdb_id, primary_seq, dssp_q8, dssp_q3, length])\n",
        "        except Exception as e:\n",
        "            print(f\"Skipping a block due to parsing error: {e}\")\n",
        "\n",
        "# Write to CSV\n",
        "with open(output_file, \"w\", newline=\"\") as csvfile:\n",
        "    writer = csv.writer(csvfile)\n",
        "    writer.writerow([\"PDB_ID\", \"Primary_Sequence\", \"DSSP_Q8\", \"DSSP_Q3\", \"Length\"])\n",
        "    writer.writerows(entries)\n",
        "\n",
        "print(f\"✅ CSV file saved as '{output_file}'\")\n"
      ],
      "metadata": {
        "colab": {
          "base_uri": "https://localhost:8080/"
        },
        "id": "cG4FAguM5cza",
        "outputId": "d54b64b3-3586-40de-d6f4-b9ce98fe0362"
      },
      "execution_count": 4,
      "outputs": [
        {
          "output_type": "stream",
          "name": "stdout",
          "text": [
            "✅ CSV file saved as 'gpcr_dssp_results.csv'\n"
          ]
        }
      ]
    },
    {
      "cell_type": "code",
      "source": [],
      "metadata": {
        "id": "86foY8cb6HJH"
      },
      "execution_count": null,
      "outputs": []
    }
  ],
  "metadata": {
    "colab": {
      "provenance": []
    },
    "kernelspec": {
      "display_name": "Python 3",
      "name": "python3"
    },
    "language_info": {
      "name": "python"
    }
  },
  "nbformat": 4,
  "nbformat_minor": 0
}