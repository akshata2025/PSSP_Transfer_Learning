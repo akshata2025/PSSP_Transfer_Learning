{
  "cells": [
    {
      "cell_type": "markdown",
      "metadata": {
        "id": "TgIEkAtaB1vP"
      },
      "source": [
        "#### This Code fetches protein kinase family directly from PDB and extracts sequence, dssp3, dssp8 structure and saved as txt format and text to csv saved format#######"
      ]
    },
    {
      "cell_type": "markdown",
      "metadata": {},
      "source": [
        "Extraction of Dataset Protein Kinase family from PDB and conversion of DSSP8 to DSSP3 saving as csv file \n",
        "This Code fetches protein kinase family directly from PDB"
      ]
    },
    {
      "cell_type": "code",
      "execution_count": null,
      "metadata": {
        "id": "IpdLMOLEB00r"
      },
      "outputs": [],
      "source": [
        "from IPython import get_ipython\n",
        "from IPython.display import display\n",
        "# # %%\n",
        "!pip install biopython\n",
        "# # %%\n",
        "# # Install DSSP (mkdssp)\n",
        "!sudo apt-get update\n",
        "!sudo apt-get install dssp"
      ]
    },
    {
      "cell_type": "markdown",
      "metadata": {
        "id": "jHRbZ-1kEgBt"
      },
      "source": [
        "You can input any family classified PDB protein family in place of \"Kinase\""
      ]
    },
    {
      "cell_type": "code",
      "execution_count": 7,
      "metadata": {
        "colab": {
          "base_uri": "https://localhost:8080/"
        },
        "id": "1VxnA8AK7tJB",
        "outputId": "36585bde-0677-41cd-9e22-824af5b670c3"
      },
      "outputs": [
        {
          "name": "stdout",
          "output_type": "stream",
          "text": [
            "Kinase PDB IDs: ['13PK', '16PK', '1A06', '1ABQ', '1AQ2', '1AWO', '1BG0', '1GMI', '1GSJ', '1GZK', '1GZN', '1GZO', '1H8F', '1KOA', '1KOB', '1KWA', '1NKS', '1OEN', '1OH9', '1OHA', '1OHB', '1OI2', '1OI3', '1OI9', '1OIQ', '1OIR', '1OIT', '1OIU', '1OIY', '1OL7', '1PHK', '1PHP', '1PKM', '1QF9', '1RGS', '1RL3', '1UN9', '3TMK', '4ZSG', '5OAT', '1H4L', '1A0B', '1AGW', '1AQ1', '1AYL', '1E1V', '1E1X', '1E2E', '1E2L', '1E2Q']\n"
          ]
        }
      ],
      "source": [
        "#### This Code fetches protein kinase family directly from PDB #######\n",
        "\n",
        "import requests\n",
        "\n",
        "def search_pdb_kinase_structures(n=50):\n",
        "    url = \"https://search.rcsb.org/rcsbsearch/v2/query\"\n",
        "\n",
        "    # Query for PDB entries classified as kinases\n",
        "    query = {\n",
        "        \"query\": {\n",
        "            \"type\": \"terminal\",\n",
        "            \"service\": \"text\",\n",
        "            \"parameters\": {\n",
        "                \"attribute\": \"struct_keywords.pdbx_keywords\",\n",
        "                \"operator\": \"contains_words\",\n",
        "                \"value\": \"kinase\"\n",
        "            }\n",
        "        },\n",
        "        \"return_type\": \"entry\",\n",
        "        \"request_options\": {\n",
        "            \"results_content_type\": [\"experimental\"],\n",
        "            \"sort\": [\n",
        "                {\n",
        "                    \"sort_by\": \"score\",\n",
        "                    \"direction\": \"desc\"\n",
        "                }\n",
        "            ],\n",
        "            \"paginate\": {\n",
        "                \"start\": 0,\n",
        "                \"rows\": n\n",
        "            }\n",
        "        }\n",
        "    }\n",
        "\n",
        "    response = requests.post(url, json=query)\n",
        "\n",
        "    if response.status_code != 200:\n",
        "        print(\"Error:\", response.status_code, response.text)\n",
        "        return []\n",
        "\n",
        "    data = response.json()\n",
        "\n",
        "    if 'result_set' not in data:\n",
        "        print(\"No results found.\")\n",
        "        return []\n",
        "\n",
        "    pdb_ids = [item['identifier'] for item in data['result_set']]\n",
        "    return pdb_ids\n",
        "\n",
        "# Test it\n",
        "kinase_pdb_ids = search_pdb_kinase_structures(50)\n",
        "print(\"Kinase PDB IDs:\", kinase_pdb_ids)\n",
        "\n"
      ]
    },
    {
      "cell_type": "code",
      "execution_count": 11,
      "metadata": {
        "colab": {
          "base_uri": "https://localhost:8080/"
        },
        "id": "8GxbdXUf99t_",
        "outputId": "bac432cf-66a1-40c5-ea2c-0e5b18a51688"
      },
      "outputs": [
        {
          "name": "stdout",
          "output_type": "stream",
          "text": [
            "Processing 13PK...\n",
            "Structure exists: './pdb13pk.ent' \n"
          ]
        },
        {
          "name": "stderr",
          "output_type": "stream",
          "text": [
            "/usr/local/lib/python3.11/dist-packages/Bio/PDB/StructureBuilder.py:100: PDBConstructionWarning: WARNING: Chain A is discontinuous at line 13342.\n",
            "  warnings.warn(\n",
            "/usr/local/lib/python3.11/dist-packages/Bio/PDB/StructureBuilder.py:100: PDBConstructionWarning: WARNING: Chain B is discontinuous at line 13391.\n",
            "  warnings.warn(\n",
            "/usr/local/lib/python3.11/dist-packages/Bio/PDB/StructureBuilder.py:100: PDBConstructionWarning: WARNING: Chain C is discontinuous at line 13430.\n",
            "  warnings.warn(\n",
            "/usr/local/lib/python3.11/dist-packages/Bio/PDB/StructureBuilder.py:100: PDBConstructionWarning: WARNING: Chain D is discontinuous at line 13473.\n",
            "  warnings.warn(\n",
            "/usr/local/lib/python3.11/dist-packages/Bio/PDB/StructureBuilder.py:100: PDBConstructionWarning: WARNING: Chain A is discontinuous at line 13506.\n",
            "  warnings.warn(\n",
            "/usr/local/lib/python3.11/dist-packages/Bio/PDB/StructureBuilder.py:100: PDBConstructionWarning: WARNING: Chain B is discontinuous at line 13685.\n",
            "  warnings.warn(\n",
            "/usr/local/lib/python3.11/dist-packages/Bio/PDB/StructureBuilder.py:100: PDBConstructionWarning: WARNING: Chain C is discontinuous at line 13849.\n",
            "  warnings.warn(\n",
            "/usr/local/lib/python3.11/dist-packages/Bio/PDB/StructureBuilder.py:100: PDBConstructionWarning: WARNING: Chain D is discontinuous at line 13958.\n",
            "  warnings.warn(\n"
          ]
        },
        {
          "name": "stdout",
          "output_type": "stream",
          "text": [
            "  → Lengths: Primary=1660, Q8=1660, Q3=1660\n",
            "Processing 16PK...\n",
            "Structure exists: './pdb16pk.ent' \n",
            "  → Lengths: Primary=415, Q8=415, Q3=415\n",
            "Processing 1A06...\n",
            "Structure exists: './pdb1a06.ent' \n",
            "  → Lengths: Primary=279, Q8=279, Q3=279\n",
            "Processing 1ABQ...\n",
            "Structure exists: './pdb1abq.ent' \n",
            "  → Lengths: Primary=56, Q8=56, Q3=56\n",
            "Processing 1AQ2...\n",
            "Structure exists: './pdb1aq2.ent' \n",
            "  → Lengths: Primary=534, Q8=534, Q3=534\n",
            "Processing 1AWO...\n",
            "Structure exists: './pdb1awo.ent' \n"
          ]
        },
        {
          "name": "stderr",
          "output_type": "stream",
          "text": [
            "/usr/local/lib/python3.11/dist-packages/Bio/PDB/DSSP.py:199: UserWarning: Unknown or untrusted program in REMARK 3, trying all parsers to see if there is a match\n",
            "\n",
            "  warnings.warn(err)\n"
          ]
        },
        {
          "name": "stdout",
          "output_type": "stream",
          "text": [
            "  → Lengths: Primary=57, Q8=57, Q3=57\n",
            "Processing 1BG0...\n",
            "Structure exists: './pdb1bg0.ent' \n",
            "  → Lengths: Primary=356, Q8=356, Q3=356\n",
            "Processing 1GMI...\n",
            "Structure exists: './pdb1gmi.ent' \n",
            "  → Lengths: Primary=135, Q8=135, Q3=135\n",
            "Processing 1GSJ...\n",
            "Structure exists: './pdb1gsj.ent' \n",
            "  → Lengths: Primary=258, Q8=258, Q3=258\n",
            "Processing 1GZK...\n",
            "Structure exists: './pdb1gzk.ent' \n",
            "  → Lengths: Primary=271, Q8=271, Q3=271\n",
            "Processing 1GZN...\n",
            "Structure exists: './pdb1gzn.ent' \n",
            "  → Lengths: Primary=271, Q8=271, Q3=271\n",
            "Processing 1GZO...\n",
            "Structure exists: './pdb1gzo.ent' \n",
            "  → Lengths: Primary=271, Q8=271, Q3=271\n",
            "Processing 1H8F...\n",
            "Structure exists: './pdb1h8f.ent' \n"
          ]
        },
        {
          "name": "stderr",
          "output_type": "stream",
          "text": [
            "/usr/local/lib/python3.11/dist-packages/Bio/PDB/StructureBuilder.py:100: PDBConstructionWarning: WARNING: Chain A is discontinuous at line 6099.\n",
            "  warnings.warn(\n",
            "/usr/local/lib/python3.11/dist-packages/Bio/PDB/StructureBuilder.py:100: PDBConstructionWarning: WARNING: Chain B is discontinuous at line 6114.\n",
            "  warnings.warn(\n",
            "/usr/local/lib/python3.11/dist-packages/Bio/PDB/StructureBuilder.py:100: PDBConstructionWarning: WARNING: Chain A is discontinuous at line 6129.\n",
            "  warnings.warn(\n",
            "/usr/local/lib/python3.11/dist-packages/Bio/PDB/StructureBuilder.py:100: PDBConstructionWarning: WARNING: Chain B is discontinuous at line 6211.\n",
            "  warnings.warn(\n"
          ]
        },
        {
          "name": "stdout",
          "output_type": "stream",
          "text": [
            "  → Lengths: Primary=702, Q8=702, Q3=702\n",
            "Processing 1KOA...\n",
            "Structure exists: './pdb1koa.ent' \n",
            "  → Lengths: Primary=447, Q8=447, Q3=447\n",
            "Processing 1KOB...\n",
            "Structure exists: './pdb1kob.ent' \n"
          ]
        },
        {
          "name": "stderr",
          "output_type": "stream",
          "text": [
            "/usr/local/lib/python3.11/dist-packages/Bio/PDB/StructureBuilder.py:100: PDBConstructionWarning: WARNING: Chain A is discontinuous at line 6277.\n",
            "  warnings.warn(\n",
            "/usr/local/lib/python3.11/dist-packages/Bio/PDB/StructureBuilder.py:100: PDBConstructionWarning: WARNING: Chain B is discontinuous at line 6449.\n",
            "  warnings.warn(\n"
          ]
        },
        {
          "name": "stdout",
          "output_type": "stream",
          "text": [
            "  → Lengths: Primary=704, Q8=704, Q3=704\n",
            "Processing 1KWA...\n",
            "Structure exists: './pdb1kwa.ent' \n"
          ]
        },
        {
          "name": "stderr",
          "output_type": "stream",
          "text": [
            "/usr/local/lib/python3.11/dist-packages/Bio/PDB/StructureBuilder.py:100: PDBConstructionWarning: WARNING: Chain A is discontinuous at line 1825.\n",
            "  warnings.warn(\n",
            "/usr/local/lib/python3.11/dist-packages/Bio/PDB/StructureBuilder.py:100: PDBConstructionWarning: WARNING: Chain B is discontinuous at line 1835.\n",
            "  warnings.warn(\n",
            "/usr/local/lib/python3.11/dist-packages/Bio/PDB/StructureBuilder.py:100: PDBConstructionWarning: WARNING: Chain A is discontinuous at line 1840.\n",
            "  warnings.warn(\n",
            "/usr/local/lib/python3.11/dist-packages/Bio/PDB/StructureBuilder.py:100: PDBConstructionWarning: WARNING: Chain B is discontinuous at line 1935.\n",
            "  warnings.warn(\n",
            "/usr/local/lib/python3.11/dist-packages/Bio/PDB/DSSP.py:199: UserWarning: Unknown or untrusted program in REMARK 3, trying all parsers to see if there is a match\n",
            "\n",
            "  warnings.warn(err)\n",
            "/usr/local/lib/python3.11/dist-packages/Bio/PDB/StructureBuilder.py:100: PDBConstructionWarning: WARNING: Chain C is discontinuous at line 9596.\n",
            "  warnings.warn(\n",
            "/usr/local/lib/python3.11/dist-packages/Bio/PDB/StructureBuilder.py:100: PDBConstructionWarning: WARNING: Chain D is discontinuous at line 9619.\n",
            "  warnings.warn(\n",
            "/usr/local/lib/python3.11/dist-packages/Bio/PDB/StructureBuilder.py:100: PDBConstructionWarning: WARNING: Chain F is discontinuous at line 9642.\n",
            "  warnings.warn(\n",
            "/usr/local/lib/python3.11/dist-packages/Bio/PDB/StructureBuilder.py:100: PDBConstructionWarning: WARNING: Chain A is discontinuous at line 9692.\n",
            "  warnings.warn(\n",
            "/usr/local/lib/python3.11/dist-packages/Bio/PDB/StructureBuilder.py:100: PDBConstructionWarning: WARNING: Chain B is discontinuous at line 9736.\n",
            "  warnings.warn(\n",
            "/usr/local/lib/python3.11/dist-packages/Bio/PDB/StructureBuilder.py:100: PDBConstructionWarning: WARNING: Chain C is discontinuous at line 9803.\n",
            "  warnings.warn(\n",
            "/usr/local/lib/python3.11/dist-packages/Bio/PDB/StructureBuilder.py:100: PDBConstructionWarning: WARNING: Chain D is discontinuous at line 9844.\n",
            "  warnings.warn(\n",
            "/usr/local/lib/python3.11/dist-packages/Bio/PDB/StructureBuilder.py:100: PDBConstructionWarning: WARNING: Chain E is discontinuous at line 9905.\n",
            "  warnings.warn(\n",
            "/usr/local/lib/python3.11/dist-packages/Bio/PDB/StructureBuilder.py:100: PDBConstructionWarning: WARNING: Chain F is discontinuous at line 9972.\n",
            "  warnings.warn(\n"
          ]
        },
        {
          "name": "stdout",
          "output_type": "stream",
          "text": [
            "  → Lengths: Primary=174, Q8=174, Q3=174\n",
            "Processing 1NKS...\n",
            "Structure exists: './pdb1nks.ent' \n",
            "  → Lengths: Primary=1164, Q8=1164, Q3=1164\n",
            "Processing 1OEN...\n",
            "Structure exists: './pdb1oen.ent' \n",
            "  → Lengths: Primary=524, Q8=524, Q3=524\n",
            "Processing 1OH9...\n",
            "Structure exists: './pdb1oh9.ent' \n",
            "  → Lengths: Primary=258, Q8=258, Q3=258\n",
            "Processing 1OHA...\n",
            "Downloading PDB structure '1oha'...\n",
            "  → Lengths: Primary=258, Q8=258, Q3=258\n",
            "Processing 1OHB...\n",
            "Downloading PDB structure '1ohb'...\n",
            "  → Lengths: Primary=258, Q8=258, Q3=258\n",
            "Processing 1OI2...\n",
            "Downloading PDB structure '1oi2'...\n"
          ]
        },
        {
          "name": "stderr",
          "output_type": "stream",
          "text": [
            "/usr/local/lib/python3.11/dist-packages/Bio/PDB/StructureBuilder.py:100: PDBConstructionWarning: WARNING: Chain A is discontinuous at line 5717.\n",
            "  warnings.warn(\n",
            "/usr/local/lib/python3.11/dist-packages/Bio/PDB/StructureBuilder.py:100: PDBConstructionWarning: WARNING: Chain B is discontinuous at line 5728.\n",
            "  warnings.warn(\n",
            "/usr/local/lib/python3.11/dist-packages/Bio/PDB/StructureBuilder.py:100: PDBConstructionWarning: WARNING: Chain A is discontinuous at line 5739.\n",
            "  warnings.warn(\n",
            "/usr/local/lib/python3.11/dist-packages/Bio/PDB/StructureBuilder.py:100: PDBConstructionWarning: WARNING: Chain B is discontinuous at line 5977.\n",
            "  warnings.warn(\n"
          ]
        },
        {
          "name": "stdout",
          "output_type": "stream",
          "text": [
            "  → Lengths: Primary=672, Q8=672, Q3=672\n",
            "Processing 1OI3...\n",
            "Downloading PDB structure '1oi3'...\n"
          ]
        },
        {
          "name": "stderr",
          "output_type": "stream",
          "text": [
            "/usr/local/lib/python3.11/dist-packages/Bio/PDB/StructureBuilder.py:100: PDBConstructionWarning: WARNING: Chain A is discontinuous at line 5688.\n",
            "  warnings.warn(\n",
            "/usr/local/lib/python3.11/dist-packages/Bio/PDB/StructureBuilder.py:100: PDBConstructionWarning: WARNING: Chain B is discontinuous at line 5693.\n",
            "  warnings.warn(\n",
            "/usr/local/lib/python3.11/dist-packages/Bio/PDB/StructureBuilder.py:100: PDBConstructionWarning: WARNING: Chain A is discontinuous at line 5698.\n",
            "  warnings.warn(\n",
            "/usr/local/lib/python3.11/dist-packages/Bio/PDB/StructureBuilder.py:100: PDBConstructionWarning: WARNING: Chain B is discontinuous at line 5933.\n",
            "  warnings.warn(\n"
          ]
        },
        {
          "name": "stdout",
          "output_type": "stream",
          "text": [
            "  → Lengths: Primary=672, Q8=672, Q3=672\n",
            "Processing 1OI9...\n",
            "Downloading PDB structure '1oi9'...\n"
          ]
        },
        {
          "name": "stderr",
          "output_type": "stream",
          "text": [
            "/usr/local/lib/python3.11/dist-packages/Bio/PDB/StructureBuilder.py:100: PDBConstructionWarning: WARNING: Chain A is discontinuous at line 9730.\n",
            "  warnings.warn(\n",
            "/usr/local/lib/python3.11/dist-packages/Bio/PDB/StructureBuilder.py:100: PDBConstructionWarning: WARNING: Chain B is discontinuous at line 9755.\n",
            "  warnings.warn(\n",
            "/usr/local/lib/python3.11/dist-packages/Bio/PDB/StructureBuilder.py:100: PDBConstructionWarning: WARNING: Chain C is discontinuous at line 9762.\n",
            "  warnings.warn(\n",
            "/usr/local/lib/python3.11/dist-packages/Bio/PDB/StructureBuilder.py:100: PDBConstructionWarning: WARNING: Chain D is discontinuous at line 9787.\n",
            "  warnings.warn(\n",
            "/usr/local/lib/python3.11/dist-packages/Bio/PDB/StructureBuilder.py:100: PDBConstructionWarning: WARNING: Chain A is discontinuous at line 9793.\n",
            "  warnings.warn(\n",
            "/usr/local/lib/python3.11/dist-packages/Bio/PDB/StructureBuilder.py:100: PDBConstructionWarning: WARNING: Chain B is discontinuous at line 9937.\n",
            "  warnings.warn(\n",
            "/usr/local/lib/python3.11/dist-packages/Bio/PDB/StructureBuilder.py:100: PDBConstructionWarning: WARNING: Chain C is discontinuous at line 10069.\n",
            "  warnings.warn(\n",
            "/usr/local/lib/python3.11/dist-packages/Bio/PDB/StructureBuilder.py:100: PDBConstructionWarning: WARNING: Chain D is discontinuous at line 10110.\n",
            "  warnings.warn(\n"
          ]
        },
        {
          "name": "stdout",
          "output_type": "stream",
          "text": [
            "  → Lengths: Primary=1104, Q8=1104, Q3=1104\n",
            "Processing 1OIQ...\n",
            "Downloading PDB structure '1oiq'...\n",
            "  → Lengths: Primary=264, Q8=264, Q3=264\n",
            "Processing 1OIR...\n",
            "Downloading PDB structure '1oir'...\n",
            "  → Lengths: Primary=287, Q8=287, Q3=287\n",
            "Processing 1OIT...\n",
            "Downloading PDB structure '1oit'...\n",
            "  → Lengths: Primary=273, Q8=273, Q3=273\n",
            "Processing 1OIU...\n",
            "Downloading PDB structure '1oiu'...\n"
          ]
        },
        {
          "name": "stderr",
          "output_type": "stream",
          "text": [
            "/usr/local/lib/python3.11/dist-packages/Bio/PDB/StructureBuilder.py:100: PDBConstructionWarning: WARNING: Chain A is discontinuous at line 9527.\n",
            "  warnings.warn(\n",
            "/usr/local/lib/python3.11/dist-packages/Bio/PDB/StructureBuilder.py:100: PDBConstructionWarning: WARNING: Chain B is discontinuous at line 9555.\n",
            "  warnings.warn(\n",
            "/usr/local/lib/python3.11/dist-packages/Bio/PDB/StructureBuilder.py:100: PDBConstructionWarning: WARNING: Chain C is discontinuous at line 9562.\n",
            "  warnings.warn(\n",
            "/usr/local/lib/python3.11/dist-packages/Bio/PDB/StructureBuilder.py:100: PDBConstructionWarning: WARNING: Chain D is discontinuous at line 9590.\n",
            "  warnings.warn(\n",
            "/usr/local/lib/python3.11/dist-packages/Bio/PDB/StructureBuilder.py:100: PDBConstructionWarning: WARNING: Chain A is discontinuous at line 9596.\n",
            "  warnings.warn(\n",
            "/usr/local/lib/python3.11/dist-packages/Bio/PDB/StructureBuilder.py:100: PDBConstructionWarning: WARNING: Chain B is discontinuous at line 9815.\n",
            "  warnings.warn(\n",
            "/usr/local/lib/python3.11/dist-packages/Bio/PDB/StructureBuilder.py:100: PDBConstructionWarning: WARNING: Chain C is discontinuous at line 10002.\n",
            "  warnings.warn(\n",
            "/usr/local/lib/python3.11/dist-packages/Bio/PDB/StructureBuilder.py:100: PDBConstructionWarning: WARNING: Chain D is discontinuous at line 10130.\n",
            "  warnings.warn(\n"
          ]
        },
        {
          "name": "stdout",
          "output_type": "stream",
          "text": [
            "  → Lengths: Primary=1075, Q8=1075, Q3=1075\n",
            "Processing 1OIY...\n",
            "Downloading PDB structure '1oiy'...\n"
          ]
        },
        {
          "name": "stderr",
          "output_type": "stream",
          "text": [
            "/usr/local/lib/python3.11/dist-packages/Bio/PDB/StructureBuilder.py:100: PDBConstructionWarning: WARNING: Chain A is discontinuous at line 9795.\n",
            "  warnings.warn(\n",
            "/usr/local/lib/python3.11/dist-packages/Bio/PDB/StructureBuilder.py:100: PDBConstructionWarning: WARNING: Chain B is discontinuous at line 9822.\n",
            "  warnings.warn(\n",
            "/usr/local/lib/python3.11/dist-packages/Bio/PDB/StructureBuilder.py:100: PDBConstructionWarning: WARNING: Chain C is discontinuous at line 9829.\n",
            "  warnings.warn(\n",
            "/usr/local/lib/python3.11/dist-packages/Bio/PDB/StructureBuilder.py:100: PDBConstructionWarning: WARNING: Chain D is discontinuous at line 9856.\n",
            "  warnings.warn(\n",
            "/usr/local/lib/python3.11/dist-packages/Bio/PDB/StructureBuilder.py:100: PDBConstructionWarning: WARNING: Chain A is discontinuous at line 9862.\n",
            "  warnings.warn(\n",
            "/usr/local/lib/python3.11/dist-packages/Bio/PDB/StructureBuilder.py:100: PDBConstructionWarning: WARNING: Chain B is discontinuous at line 9981.\n",
            "  warnings.warn(\n",
            "/usr/local/lib/python3.11/dist-packages/Bio/PDB/StructureBuilder.py:100: PDBConstructionWarning: WARNING: Chain C is discontinuous at line 10088.\n",
            "  warnings.warn(\n",
            "/usr/local/lib/python3.11/dist-packages/Bio/PDB/StructureBuilder.py:100: PDBConstructionWarning: WARNING: Chain D is discontinuous at line 10123.\n",
            "  warnings.warn(\n"
          ]
        },
        {
          "name": "stdout",
          "output_type": "stream",
          "text": [
            "  → Lengths: Primary=1107, Q8=1107, Q3=1107\n",
            "Processing 1OL7...\n",
            "Downloading PDB structure '1ol7'...\n",
            "  → Lengths: Primary=263, Q8=263, Q3=263\n",
            "Processing 1PHK...\n",
            "Downloading PDB structure '1phk'...\n",
            "  → Lengths: Primary=277, Q8=277, Q3=277\n",
            "Processing 1PHP...\n",
            "Downloading PDB structure '1php'...\n",
            "  → Lengths: Primary=394, Q8=394, Q3=394\n",
            "Processing 1PKM...\n",
            "Downloading PDB structure '1pkm'...\n",
            "  → Lengths: Primary=519, Q8=519, Q3=519\n",
            "Processing 1QF9...\n",
            "Downloading PDB structure '1qf9'...\n",
            "  → Lengths: Primary=194, Q8=194, Q3=194\n",
            "Processing 1RGS...\n",
            "Downloading PDB structure '1rgs'...\n",
            "  → Lengths: Primary=264, Q8=264, Q3=264\n",
            "Processing 1RL3...\n",
            "Downloading PDB structure '1rl3'...\n"
          ]
        },
        {
          "name": "stderr",
          "output_type": "stream",
          "text": [
            "/usr/local/lib/python3.11/dist-packages/Bio/PDB/StructureBuilder.py:100: PDBConstructionWarning: WARNING: Chain A is discontinuous at line 4572.\n",
            "  warnings.warn(\n",
            "/usr/local/lib/python3.11/dist-packages/Bio/PDB/StructureBuilder.py:100: PDBConstructionWarning: WARNING: Chain B is discontinuous at line 4601.\n",
            "  warnings.warn(\n",
            "/usr/local/lib/python3.11/dist-packages/Bio/PDB/StructureBuilder.py:100: PDBConstructionWarning: WARNING: Chain A is discontinuous at line 4636.\n",
            "  warnings.warn(\n",
            "/usr/local/lib/python3.11/dist-packages/Bio/PDB/StructureBuilder.py:100: PDBConstructionWarning: WARNING: Chain B is discontinuous at line 4648.\n",
            "  warnings.warn(\n"
          ]
        },
        {
          "name": "stdout",
          "output_type": "stream",
          "text": [
            "  → Lengths: Primary=527, Q8=527, Q3=527\n",
            "Processing 1UN9...\n",
            "Downloading PDB structure '1un9'...\n"
          ]
        },
        {
          "name": "stderr",
          "output_type": "stream",
          "text": [
            "/usr/local/lib/python3.11/dist-packages/Bio/PDB/StructureBuilder.py:100: PDBConstructionWarning: WARNING: Chain A is discontinuous at line 8629.\n",
            "  warnings.warn(\n",
            "/usr/local/lib/python3.11/dist-packages/Bio/PDB/StructureBuilder.py:100: PDBConstructionWarning: WARNING: Chain B is discontinuous at line 8668.\n",
            "  warnings.warn(\n"
          ]
        },
        {
          "name": "stdout",
          "output_type": "stream",
          "text": [
            "  → Lengths: Primary=1074, Q8=1074, Q3=1074\n",
            "Processing 3TMK...\n",
            "Downloading PDB structure '3tmk'...\n"
          ]
        },
        {
          "name": "stderr",
          "output_type": "stream",
          "text": [
            "/usr/local/lib/python3.11/dist-packages/Bio/PDB/StructureBuilder.py:100: PDBConstructionWarning: WARNING: Chain A is discontinuous at line 14564.\n",
            "  warnings.warn(\n",
            "/usr/local/lib/python3.11/dist-packages/Bio/PDB/StructureBuilder.py:100: PDBConstructionWarning: WARNING: Chain B is discontinuous at line 14619.\n",
            "  warnings.warn(\n",
            "/usr/local/lib/python3.11/dist-packages/Bio/PDB/StructureBuilder.py:100: PDBConstructionWarning: WARNING: Chain C is discontinuous at line 14674.\n",
            "  warnings.warn(\n",
            "/usr/local/lib/python3.11/dist-packages/Bio/PDB/StructureBuilder.py:100: PDBConstructionWarning: WARNING: Chain D is discontinuous at line 14729.\n",
            "  warnings.warn(\n",
            "/usr/local/lib/python3.11/dist-packages/Bio/PDB/StructureBuilder.py:100: PDBConstructionWarning: WARNING: Chain E is discontinuous at line 14784.\n",
            "  warnings.warn(\n",
            "/usr/local/lib/python3.11/dist-packages/Bio/PDB/StructureBuilder.py:100: PDBConstructionWarning: WARNING: Chain F is discontinuous at line 14839.\n",
            "  warnings.warn(\n",
            "/usr/local/lib/python3.11/dist-packages/Bio/PDB/StructureBuilder.py:100: PDBConstructionWarning: WARNING: Chain G is discontinuous at line 14894.\n",
            "  warnings.warn(\n",
            "/usr/local/lib/python3.11/dist-packages/Bio/PDB/StructureBuilder.py:100: PDBConstructionWarning: WARNING: Chain H is discontinuous at line 14949.\n",
            "  warnings.warn(\n",
            "/usr/local/lib/python3.11/dist-packages/Bio/PDB/StructureBuilder.py:100: PDBConstructionWarning: WARNING: Chain A is discontinuous at line 15004.\n",
            "  warnings.warn(\n",
            "/usr/local/lib/python3.11/dist-packages/Bio/PDB/StructureBuilder.py:100: PDBConstructionWarning: WARNING: Chain B is discontinuous at line 15133.\n",
            "  warnings.warn(\n",
            "/usr/local/lib/python3.11/dist-packages/Bio/PDB/StructureBuilder.py:100: PDBConstructionWarning: WARNING: Chain C is discontinuous at line 15294.\n",
            "  warnings.warn(\n",
            "/usr/local/lib/python3.11/dist-packages/Bio/PDB/StructureBuilder.py:100: PDBConstructionWarning: WARNING: Chain D is discontinuous at line 15428.\n",
            "  warnings.warn(\n",
            "/usr/local/lib/python3.11/dist-packages/Bio/PDB/StructureBuilder.py:100: PDBConstructionWarning: WARNING: Chain E is discontinuous at line 15572.\n",
            "  warnings.warn(\n",
            "/usr/local/lib/python3.11/dist-packages/Bio/PDB/StructureBuilder.py:100: PDBConstructionWarning: WARNING: Chain F is discontinuous at line 15698.\n",
            "  warnings.warn(\n",
            "/usr/local/lib/python3.11/dist-packages/Bio/PDB/StructureBuilder.py:100: PDBConstructionWarning: WARNING: Chain G is discontinuous at line 15845.\n",
            "  warnings.warn(\n",
            "/usr/local/lib/python3.11/dist-packages/Bio/PDB/StructureBuilder.py:100: PDBConstructionWarning: WARNING: Chain H is discontinuous at line 15981.\n",
            "  warnings.warn(\n"
          ]
        },
        {
          "name": "stdout",
          "output_type": "stream",
          "text": [
            "  → Lengths: Primary=1711, Q8=1711, Q3=1711\n",
            "Processing 4ZSG...\n",
            "Downloading PDB structure '4zsg'...\n",
            "  → Lengths: Primary=347, Q8=347, Q3=347\n",
            "Processing 5OAT...\n",
            "Downloading PDB structure '5oat'...\n"
          ]
        },
        {
          "name": "stderr",
          "output_type": "stream",
          "text": [
            "/usr/local/lib/python3.11/dist-packages/Bio/PDB/StructureBuilder.py:100: PDBConstructionWarning: WARNING: Chain A is discontinuous at line 18981.\n",
            "  warnings.warn(\n",
            "/usr/local/lib/python3.11/dist-packages/Bio/PDB/StructureBuilder.py:100: PDBConstructionWarning: WARNING: Chain C is discontinuous at line 18982.\n",
            "  warnings.warn(\n",
            "/usr/local/lib/python3.11/dist-packages/Bio/PDB/StructureBuilder.py:100: PDBConstructionWarning: WARNING: Chain E is discontinuous at line 18984.\n",
            "  warnings.warn(\n",
            "/usr/local/lib/python3.11/dist-packages/Bio/PDB/StructureBuilder.py:100: PDBConstructionWarning: WARNING: Chain F is discontinuous at line 18986.\n",
            "  warnings.warn(\n",
            "/usr/local/lib/python3.11/dist-packages/Bio/PDB/StructureBuilder.py:100: PDBConstructionWarning: WARNING: Chain A is discontinuous at line 18987.\n",
            "  warnings.warn(\n",
            "/usr/local/lib/python3.11/dist-packages/Bio/PDB/StructureBuilder.py:100: PDBConstructionWarning: WARNING: Chain B is discontinuous at line 18993.\n",
            "  warnings.warn(\n",
            "/usr/local/lib/python3.11/dist-packages/Bio/PDB/StructureBuilder.py:100: PDBConstructionWarning: WARNING: Chain C is discontinuous at line 19002.\n",
            "  warnings.warn(\n",
            "/usr/local/lib/python3.11/dist-packages/Bio/PDB/StructureBuilder.py:100: PDBConstructionWarning: WARNING: Chain D is discontinuous at line 19005.\n",
            "  warnings.warn(\n",
            "/usr/local/lib/python3.11/dist-packages/Bio/PDB/StructureBuilder.py:100: PDBConstructionWarning: WARNING: Chain E is discontinuous at line 19011.\n",
            "  warnings.warn(\n",
            "/usr/local/lib/python3.11/dist-packages/Bio/PDB/StructureBuilder.py:100: PDBConstructionWarning: WARNING: Chain F is discontinuous at line 19012.\n",
            "  warnings.warn(\n"
          ]
        },
        {
          "name": "stdout",
          "output_type": "stream",
          "text": [
            "  → Lengths: Primary=2160, Q8=2160, Q3=2160\n",
            "Processing 1H4L...\n",
            "Downloading PDB structure '1h4l'...\n"
          ]
        },
        {
          "name": "stderr",
          "output_type": "stream",
          "text": [
            "/usr/local/lib/python3.11/dist-packages/Bio/PDB/StructureBuilder.py:100: PDBConstructionWarning: WARNING: Chain A is discontinuous at line 7435.\n",
            "  warnings.warn(\n",
            "/usr/local/lib/python3.11/dist-packages/Bio/PDB/StructureBuilder.py:100: PDBConstructionWarning: WARNING: Chain B is discontinuous at line 7463.\n",
            "  warnings.warn(\n",
            "/usr/local/lib/python3.11/dist-packages/Bio/PDB/StructureBuilder.py:100: PDBConstructionWarning: WARNING: Chain D is discontinuous at line 7484.\n",
            "  warnings.warn(\n",
            "/usr/local/lib/python3.11/dist-packages/Bio/PDB/StructureBuilder.py:100: PDBConstructionWarning: WARNING: Chain E is discontinuous at line 7493.\n",
            "  warnings.warn(\n"
          ]
        },
        {
          "name": "stdout",
          "output_type": "stream",
          "text": [
            "  → Lengths: Primary=850, Q8=850, Q3=850\n",
            "Processing 1A0B...\n",
            "Downloading PDB structure '1a0b'...\n",
            "  → Lengths: Primary=117, Q8=117, Q3=117\n",
            "Processing 1AGW...\n",
            "Downloading PDB structure '1agw'...\n"
          ]
        },
        {
          "name": "stderr",
          "output_type": "stream",
          "text": [
            "/usr/local/lib/python3.11/dist-packages/Bio/PDB/StructureBuilder.py:100: PDBConstructionWarning: WARNING: Chain A is discontinuous at line 4833.\n",
            "  warnings.warn(\n",
            "/usr/local/lib/python3.11/dist-packages/Bio/PDB/StructureBuilder.py:100: PDBConstructionWarning: WARNING: Chain B is discontinuous at line 4858.\n",
            "  warnings.warn(\n",
            "/usr/local/lib/python3.11/dist-packages/Bio/PDB/StructureBuilder.py:100: PDBConstructionWarning: WARNING: Chain A is discontinuous at line 4883.\n",
            "  warnings.warn(\n",
            "/usr/local/lib/python3.11/dist-packages/Bio/PDB/StructureBuilder.py:100: PDBConstructionWarning: WARNING: Chain B is discontinuous at line 5029.\n",
            "  warnings.warn(\n"
          ]
        },
        {
          "name": "stdout",
          "output_type": "stream",
          "text": [
            "  → Lengths: Primary=549, Q8=549, Q3=549\n",
            "Processing 1AQ1...\n",
            "Downloading PDB structure '1aq1'...\n",
            "  → Lengths: Primary=277, Q8=277, Q3=277\n",
            "Processing 1AYL...\n",
            "Downloading PDB structure '1ayl'...\n",
            "  → Lengths: Primary=532, Q8=532, Q3=532\n",
            "Processing 1E1V...\n",
            "Downloading PDB structure '1e1v'...\n",
            "  → Lengths: Primary=290, Q8=290, Q3=290\n",
            "Processing 1E1X...\n",
            "Downloading PDB structure '1e1x'...\n",
            "  → Lengths: Primary=290, Q8=290, Q3=290\n",
            "Processing 1E2E...\n",
            "Downloading PDB structure '1e2e'...\n",
            "  → Lengths: Primary=209, Q8=209, Q3=209\n",
            "Processing 1E2L...\n",
            "Downloading PDB structure '1e2l'...\n"
          ]
        },
        {
          "name": "stderr",
          "output_type": "stream",
          "text": [
            "/usr/local/lib/python3.11/dist-packages/Bio/PDB/StructureBuilder.py:100: PDBConstructionWarning: WARNING: Chain A is discontinuous at line 5245.\n",
            "  warnings.warn(\n",
            "/usr/local/lib/python3.11/dist-packages/Bio/PDB/StructureBuilder.py:100: PDBConstructionWarning: WARNING: Chain B is discontinuous at line 5268.\n",
            "  warnings.warn(\n",
            "/usr/local/lib/python3.11/dist-packages/Bio/PDB/StructureBuilder.py:100: PDBConstructionWarning: WARNING: Chain A is discontinuous at line 5291.\n",
            "  warnings.warn(\n",
            "/usr/local/lib/python3.11/dist-packages/Bio/PDB/StructureBuilder.py:100: PDBConstructionWarning: WARNING: Chain B is discontinuous at line 5368.\n",
            "  warnings.warn(\n"
          ]
        },
        {
          "name": "stdout",
          "output_type": "stream",
          "text": [
            "  → Lengths: Primary=614, Q8=614, Q3=614\n",
            "Processing 1E2Q...\n",
            "Downloading PDB structure '1e2q'...\n",
            "  → Lengths: Primary=209, Q8=209, Q3=209\n",
            "\n",
            "✅ All results saved to 'kinase_dssp_results.txt'\n"
          ]
        }
      ],
      "source": [
        "from Bio.PDB import PDBList, PDBParser, DSSP\n",
        "\n",
        "# === Map 8-state DSSP to Q3 ===\n",
        "def map_dssp8_to_q3(dssp8_char):\n",
        "    if dssp8_char in ['H', 'G', 'I']:\n",
        "        return 'H'\n",
        "    elif dssp8_char in ['E', 'B']:\n",
        "        return 'E'\n",
        "    else:\n",
        "        return 'C'\n",
        "\n",
        "# === DSSP Extraction Function ===\n",
        "def get_dssp_info(pdb_id, dssp_exe='mkdssp'):\n",
        "    pdb_id = pdb_id.lower()\n",
        "    pdbl = PDBList()\n",
        "    pdbl.retrieve_pdb_file(pdb_id, pdir='.', file_format='pdb')\n",
        "    pdb_file = f\"pdb{pdb_id}.ent\"\n",
        "\n",
        "    parser = PDBParser()\n",
        "    structure = parser.get_structure(pdb_id, pdb_file)\n",
        "    model = structure[0]\n",
        "\n",
        "    dssp = DSSP(model, pdb_file, file_type='PDB', dssp=dssp_exe)\n",
        "\n",
        "    dssp_keys = list(dssp.keys())\n",
        "    primary_sequence = ''.join([dssp[key][1] for key in dssp_keys])\n",
        "    dssp8_string = ''.join([dssp[key][2] for key in dssp_keys])\n",
        "    dssp3_string = ''.join([map_dssp8_to_q3(dssp[key][2]) for key in dssp_keys])\n",
        "\n",
        "    return primary_sequence, dssp8_string, dssp3_string\n",
        "\n",
        "# === List of Kinase PDB IDs === *****REPLACE WITH ANY PROTEIN FAMILY*\n",
        "kinase_pdb_ids = [\n",
        "    '13PK', '16PK', '1A06', '1ABQ', '1AQ2', '1AWO', '1BG0', '1GMI', '1GSJ', '1GZK',\n",
        "    '1GZN', '1GZO', '1H8F', '1KOA', '1KOB', '1KWA', '1NKS', '1OEN', '1OH9', '1OHA',\n",
        "    '1OHB', '1OI2', '1OI3', '1OI9', '1OIQ', '1OIR', '1OIT', '1OIU', '1OIY', '1OL7',\n",
        "    '1PHK', '1PHP', '1PKM', '1QF9', '1RGS', '1RL3', '1UN9', '3TMK', '4ZSG', '5OAT',\n",
        "    '1H4L', '1A0B', '1AGW', '1AQ1', '1AYL', '1E1V', '1E1X', '1E2E', '1E2L', '1E2Q'\n",
        "]\n",
        "\n",
        "# === LOOP OVER PDB IDs AND SAVE RESULTS ===\n",
        "output_lines = []\n",
        "\n",
        "for pdb_id in kinase_pdb_ids:\n",
        "    print(f\"Processing {pdb_id}...\")\n",
        "    try:\n",
        "        primary_seq, dssp8_str, dssp3_str = get_dssp_info(pdb_id)\n",
        "\n",
        "        print(f\"  → Lengths: Primary={len(primary_seq)}, Q8={len(dssp8_str)}, Q3={len(dssp3_str)}\")\n",
        "\n",
        "        entry = (\n",
        "            f\"PDB ID: {pdb_id}\\n\"\n",
        "            f\"Primary sequence:\\n{primary_seq}\\n\"\n",
        "            f\"DSSP 8-state (Q8):\\n{dssp8_str}\\n\"\n",
        "            f\"DSSP 3-state (Q3):\\n{dssp3_str}\\n\"\n",
        "            f\"Lengths: Primary={len(primary_seq)}, Q8={len(dssp8_str)}, Q3={len(dssp3_str)}\\n\"\n",
        "            + \"-\"*60 + \"\\n\"\n",
        "        )\n",
        "        output_lines.append(entry)\n",
        "\n",
        "    except Exception as e:\n",
        "        print(f\"  ✖ Error processing {pdb_id}: {e}\")\n",
        "        output_lines.append(f\"PDB ID: {pdb_id} → ERROR: {e}\\n{'-'*60}\\n\")\n",
        "\n",
        "# === WRITE TO FILE ===\n",
        "with open(\"kinase_dssp_results.txt\", \"w\") as f:\n",
        "    f.writelines(output_lines)\n",
        "\n",
        "print(\"\\n✅ All results saved to 'kinase_dssp_results.txt'\")\n"
      ]
    },
    {
      "cell_type": "code",
      "execution_count": 12,
      "metadata": {
        "colab": {
          "base_uri": "https://localhost:8080/"
        },
        "id": "xnky1FEy67JR",
        "outputId": "43b75c65-57bd-4b71-a49c-b9ccf9eb7a9b"
      },
      "outputs": [
        {
          "name": "stdout",
          "output_type": "stream",
          "text": [
            "✅ CSV file saved as 'kinase_dssp_results.csv'\n"
          ]
        }
      ],
      "source": [
        "import csv\n",
        "\n",
        "input_file = \"kinase_dssp_results.txt\"\n",
        "output_file = \"kinase_dssp_results.csv\"\n",
        "\n",
        "entries = []\n",
        "\n",
        "with open(input_file, \"r\") as f:\n",
        "    lines = f.read().split(\"------------------------------------------------------------\\n\")\n",
        "\n",
        "    for block in lines:\n",
        "        if not block.strip():\n",
        "            continue\n",
        "\n",
        "        lines = block.strip().splitlines()\n",
        "\n",
        "        try:\n",
        "            pdb_id = lines[0].split(\":\")[1].strip()\n",
        "            primary_seq = lines[2]\n",
        "            dssp_q8 = lines[4]\n",
        "            dssp_q3 = lines[6]\n",
        "            length_line = lines[7]\n",
        "            length = length_line.split(\"Primary=\")[1].split(\",\")[0].strip()\n",
        "\n",
        "            entries.append([pdb_id, primary_seq, dssp_q8, dssp_q3, length])\n",
        "        except Exception as e:\n",
        "            print(f\"Skipping a block due to parsing error: {e}\")\n",
        "\n",
        "# Write to CSV\n",
        "with open(output_file, \"w\", newline=\"\") as csvfile:\n",
        "    writer = csv.writer(csvfile)\n",
        "    writer.writerow([\"PDB_ID\", \"Primary_Sequence\", \"DSSP_Q8\", \"DSSP_Q3\", \"Length\"])\n",
        "    writer.writerows(entries)\n",
        "\n",
        "print(f\"✅ CSV file saved as '{output_file}'\")\n"
      ]
    }
  ],
  "metadata": {
    "colab": {
      "provenance": []
    },
    "kernelspec": {
      "display_name": "Python 3",
      "name": "python3"
    },
    "language_info": {
      "name": "python"
    }
  },
  "nbformat": 4,
  "nbformat_minor": 0
}
