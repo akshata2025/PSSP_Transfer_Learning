{
  "cells": [
    {
      "cell_type": "markdown",
      "metadata": {
        "id": "T-yy_Y7b0ghZ"
      },
      "source": [
        "Transfer Learning RS126 and GPCR dataset using classic ML models\n"
      ]
    },
    {
      "cell_type": "markdown",
      "metadata": {},
      "source": [
        "***Summary:***\n",
        "\n",
        "The code contains Transfer Learning Model trained on RS125 dataset and testing on GPCR dataset using DT, RF, XGBoost, SVM, LR , KNN, and NB models.\n",
        "\n",
        "1. Datacleaning, AAindex property extraction\n",
        "\n",
        "2. Feature selection (DT, RF, XGBoost)\n",
        "\n",
        "3. Padding of sequences\n",
        "\n",
        "4. PCA (reduced features to 8)\n",
        "\n",
        "5. Feature importance\n",
        "\n",
        "5. SMOTE (for minority clas)\n",
        "\n",
        "4. Model training and testing\n",
        "\n",
        "5. Model evaluation\n",
        "\n",
        "6. Stratified KFold Cross_validation\n",
        "\n",
        "7. Classification_report\n",
        "\n",
        "8. Confusion matrix\n",
        "\n",
        "9. Matrices: Accuracy score, Precision, Recall, F1 score, MCC\n",
        "\n",
        "10. Model Accuracy vs CV accuracy comparision plot\n",
        "\n",
        "11. Model Comparision on Matrices: Accuracy score,\n",
        "\n",
        "12. Precision, Recall, F1 score, MCC plots\n",
        "\n",
        "13. Confidence Interval (CI) and McNemar’s Test Function\n",
        "\n",
        "13. ROC by One-vs-Rest (OvR) % Interpretation of results"
      ]
    },
    {
      "cell_type": "markdown",
      "metadata": {
        "id": "3cxoEQqTsCI7"
      },
      "source": [
        "## GPCR testing on a completely independent dataset — which is better for generalization check\n",
        "Generalization Check = Testing on a dataset that is not seen during training and ideally from a different distribution"
      ]
    },
    {
      "cell_type": "code",
      "execution_count": null,
      "metadata": {
        "colab": {
          "base_uri": "https://localhost:8080/",
          "height": 226
        },
        "id": "2DzruPCeXmFB",
        "outputId": "d5c0fe95-e19c-4e21-ca71-b96d557663bb"
      },
      "outputs": [
        {
          "data": {
            "text/html": [
              "<div>\n",
              "<style scoped>\n",
              "    .dataframe tbody tr th:only-of-type {\n",
              "        vertical-align: middle;\n",
              "    }\n",
              "\n",
              "    .dataframe tbody tr th {\n",
              "        vertical-align: top;\n",
              "    }\n",
              "\n",
              "    .dataframe thead th {\n",
              "        text-align: right;\n",
              "    }\n",
              "</style>\n",
              "<table border=\"1\" class=\"dataframe\">\n",
              "  <thead>\n",
              "    <tr style=\"text-align: right;\">\n",
              "      <th></th>\n",
              "      <th>input</th>\n",
              "      <th>dssp3</th>\n",
              "    </tr>\n",
              "  </thead>\n",
              "  <tbody>\n",
              "    <tr>\n",
              "      <th>0</th>\n",
              "      <td>APAFSVSPASGASDGQSVSVSVAAAGETYYIAQCAPVGGQDACNPA...</td>\n",
              "      <td>CCEEEEECCCCCCCCCEEEEEEECCCCEEEEEEECEECCEECCCCC...</td>\n",
              "    </tr>\n",
              "    <tr>\n",
              "      <th>1</th>\n",
              "      <td>CSVDIQGNDQMQFNTNAITVDKSCKQFTVNLSHPGNLPKNVMGHNW...</td>\n",
              "      <td>CCEEEECCCCCCCCCCCEECCCCCCEEEEEEECCCCCCCCCCCECC...</td>\n",
              "    </tr>\n",
              "    <tr>\n",
              "      <th>2</th>\n",
              "      <td>NVYHDGACPEVKPVDNFDWSNYHGKWWEVAKYPNSVEKYGKCGWAE...</td>\n",
              "      <td>CEEEECCCCCCCCCCCCCHHHCCEEEEEEEECCCCCCCCCEEEEEE...</td>\n",
              "    </tr>\n",
              "    <tr>\n",
              "      <th>3</th>\n",
              "      <td>AAPCFCSGKPGRGDLWILRGTCPGGYGYTSNCYKWPNICCYPH</td>\n",
              "      <td>CCCCCCCCCCCCCEEECCCCCCCCCCCCCCEEEECCEEEECCC</td>\n",
              "    </tr>\n",
              "    <tr>\n",
              "      <th>4</th>\n",
              "      <td>SISQQTVWNQMATVRTPLNFDSSKQSFCQFSVDLLGGGISVDKTGD...</td>\n",
              "      <td>CCCCCCCCEEEEEEECCCCCCCCCCCEEEEEEECCCCEEECCCCCC...</td>\n",
              "    </tr>\n",
              "  </tbody>\n",
              "</table>\n",
              "</div>"
            ],
            "text/plain": [
              "                                               input  \\\n",
              "0  APAFSVSPASGASDGQSVSVSVAAAGETYYIAQCAPVGGQDACNPA...   \n",
              "1  CSVDIQGNDQMQFNTNAITVDKSCKQFTVNLSHPGNLPKNVMGHNW...   \n",
              "2  NVYHDGACPEVKPVDNFDWSNYHGKWWEVAKYPNSVEKYGKCGWAE...   \n",
              "3        AAPCFCSGKPGRGDLWILRGTCPGGYGYTSNCYKWPNICCYPH   \n",
              "4  SISQQTVWNQMATVRTPLNFDSSKQSFCQFSVDLLGGGISVDKTGD...   \n",
              "\n",
              "                                               dssp3  \n",
              "0  CCEEEEECCCCCCCCCEEEEEEECCCCEEEEEEECEECCEECCCCC...  \n",
              "1  CCEEEECCCCCCCCCCCEECCCCCCEEEEEEECCCCCCCCCCCECC...  \n",
              "2  CEEEECCCCCCCCCCCCCHHHCCEEEEEEEECCCCCCCCCEEEEEE...  \n",
              "3        CCCCCCCCCCCCCEEECCCCCCCCCCCCCCEEEECCEEEECCC  \n",
              "4  CCCCCCCCEEEEEEECCCCCCCCCCCEEEEEEECCCCEEECCCCCC...  "
            ]
          },
          "execution_count": 1,
          "metadata": {},
          "output_type": "execute_result"
        }
      ],
      "source": [
        "## RS126 DATASET###\n",
        "###read csv file\n",
        "import pandas as pd\n",
        "import numpy as np\n",
        "df = pd.read_csv('RS126_to.csv')\n",
        "df.head()"
      ]
    },
    {
      "cell_type": "code",
      "execution_count": null,
      "metadata": {
        "colab": {
          "base_uri": "https://localhost:8080/",
          "height": 226
        },
        "id": "yblHh4Opcta2",
        "outputId": "92bbbb5c-53f5-4244-b168-7059bc47f932"
      },
      "outputs": [
        {
          "data": {
            "text/html": [
              "<div>\n",
              "<style scoped>\n",
              "    .dataframe tbody tr th:only-of-type {\n",
              "        vertical-align: middle;\n",
              "    }\n",
              "\n",
              "    .dataframe tbody tr th {\n",
              "        vertical-align: top;\n",
              "    }\n",
              "\n",
              "    .dataframe thead th {\n",
              "        text-align: right;\n",
              "    }\n",
              "</style>\n",
              "<table border=\"1\" class=\"dataframe\">\n",
              "  <thead>\n",
              "    <tr style=\"text-align: right;\">\n",
              "      <th></th>\n",
              "      <th>input</th>\n",
              "      <th>dssp3</th>\n",
              "    </tr>\n",
              "  </thead>\n",
              "  <tbody>\n",
              "    <tr>\n",
              "      <th>0</th>\n",
              "      <td>GSKIISAMQTIKCVVVGDGAVGKTCLLISYTTNKFPSEYVPTVFDN...</td>\n",
              "      <td>CCCCCCCCCCEEEEEECCCCCCCHHHHHHHHHCCCHHHCCCCCCCC...</td>\n",
              "    </tr>\n",
              "    <tr>\n",
              "      <th>1</th>\n",
              "      <td>GKVLSKIFGNKEMRILMLGLDAAGKTTILYKLKLGQSVTTIPTVGF...</td>\n",
              "      <td>CHHHHHHHCCCCEEEEEEEECCCCHHHHHHHCCCCCCEEEEEECCE...</td>\n",
              "    </tr>\n",
              "    <tr>\n",
              "      <th>2</th>\n",
              "      <td>PRPPLPNQQFGVSLQHLQEKNPEQEPIPIVLRETVAYLQAHALTTE...</td>\n",
              "      <td>CCCCCCCCCCCCCHHHHHHHCCCCCCCCHHHHHHHHHHHHHCCCCC...</td>\n",
              "    </tr>\n",
              "    <tr>\n",
              "      <th>3</th>\n",
              "      <td>SHXFDYXFKILIIGNSSVGKTSFLFRYADDSFTPAFVSTVGIDFKV...</td>\n",
              "      <td>CCCCCEEEEEEEECCCCCCHHHHHHHHHCCCCCCCCCCCCCEEEEE...</td>\n",
              "    </tr>\n",
              "    <tr>\n",
              "      <th>4</th>\n",
              "      <td>MTYYRVVLIGEQGVGKSTLANIFAGVHDSXEVLGEDTYERTLMVDG...</td>\n",
              "      <td>CCEEEEEEECCCCCCHHHHHHHHHHHCCCCHHHCCCEEEEEEEECC...</td>\n",
              "    </tr>\n",
              "  </tbody>\n",
              "</table>\n",
              "</div>"
            ],
            "text/plain": [
              "                                               input  \\\n",
              "0  GSKIISAMQTIKCVVVGDGAVGKTCLLISYTTNKFPSEYVPTVFDN...   \n",
              "1  GKVLSKIFGNKEMRILMLGLDAAGKTTILYKLKLGQSVTTIPTVGF...   \n",
              "2  PRPPLPNQQFGVSLQHLQEKNPEQEPIPIVLRETVAYLQAHALTTE...   \n",
              "3  SHXFDYXFKILIIGNSSVGKTSFLFRYADDSFTPAFVSTVGIDFKV...   \n",
              "4  MTYYRVVLIGEQGVGKSTLANIFAGVHDSXEVLGEDTYERTLMVDG...   \n",
              "\n",
              "                                               dssp3  \n",
              "0  CCCCCCCCCCEEEEEECCCCCCCHHHHHHHHHCCCHHHCCCCCCCC...  \n",
              "1  CHHHHHHHCCCCEEEEEEEECCCCHHHHHHHCCCCCCEEEEEECCE...  \n",
              "2  CCCCCCCCCCCCCHHHHHHHCCCCCCCCHHHHHHHHHHHHHCCCCC...  \n",
              "3  CCCCCEEEEEEEECCCCCCHHHHHHHHHCCCCCCCCCCCCCEEEEE...  \n",
              "4  CCEEEEEEECCCCCCHHHHHHHHHHHCCCCHHHCCCEEEEEEEECC...  "
            ]
          },
          "execution_count": 2,
          "metadata": {},
          "output_type": "execute_result"
        }
      ],
      "source": [
        "### GPCR DATASET####\n",
        "#read csv file\n",
        "df2 = pd.read_csv('GPCR.csv')\n",
        "\n",
        "# drop coloumns PDB_ID, DSSP_Q8, Length\n",
        "df2 = df2.drop(columns=['PDB_ID', 'DSSP_Q8', 'Length'])\n",
        "\n",
        "# rename coloumns \"Primary_Sequence\" to \"input\" , \"DSSP_Q3\" to \"dssp3\"\n",
        "df2 = df2.rename(columns={'Primary_Sequence': 'input', 'DSSP_Q3': 'dssp3'})\n",
        "df2.head()"
      ]
    },
    {
      "cell_type": "code",
      "execution_count": 3,
      "metadata": {
        "colab": {
          "base_uri": "https://localhost:8080/"
        },
        "id": "30-3VBakPo1o",
        "outputId": "5c39ecc8-d78e-4089-dbc0-f334cfe7c448"
      },
      "outputs": [
        {
          "name": "stdout",
          "output_type": "stream",
          "text": [
            "Cleaned DataFrame for RS126 data created. Removed 1 mismatched entries.\n",
            "Cleaned DataFrame for GPCR data created. Removed 0 mismatched entries.\n"
          ]
        }
      ],
      "source": [
        "### Remove Unequal-Length Sequences for RS126\n",
        "\n",
        "# Check lengths and filter\n",
        "df_cleaned = df[df['input'].str.len() == df['dssp3'].str.len()]\n",
        "\n",
        "removed = len(df) - len(df_cleaned)\n",
        "print(f\"Cleaned DataFrame for RS126 data created. Removed {removed} mismatched entries.\")\n",
        "\n",
        "### Remove Unequal-Length Sequences for GPCR\n",
        "\n",
        "# Check lengths and filter\n",
        "df2_cleaned = df2[df2['input'].str.len() == df2['dssp3'].str.len()]\n",
        "\n",
        "removed2 = len(df2) - len(df2_cleaned)\n",
        "print(f\"Cleaned DataFrame for GPCR data created. Removed {removed2} mismatched entries.\")"
      ]
    },
    {
      "cell_type": "code",
      "execution_count": 4,
      "metadata": {
        "colab": {
          "base_uri": "https://localhost:8080/"
        },
        "id": "f3DiIY1sPriG",
        "outputId": "36ad00cd-04d7-4f86-ee30-a6c46d26e790"
      },
      "outputs": [
        {
          "name": "stdout",
          "output_type": "stream",
          "text": [
            " Maximum sequence length in RS126 data: 498\n",
            " Maximum sequence length in GPCR data: 2101\n"
          ]
        }
      ],
      "source": [
        "# Calculate the maximum sequence length in Train data\n",
        "max_len = df_cleaned['input'].str.len().max()\n",
        "print(f\" Maximum sequence length in RS126 data: {max_len}\")\n",
        "\n",
        "# Calculate the maximum sequence length in test data\n",
        "max_len2 = df2_cleaned['input'].str.len().max()\n",
        "print(f\" Maximum sequence length in GPCR data: {max_len2}\")"
      ]
    },
    {
      "cell_type": "code",
      "execution_count": 5,
      "metadata": {
        "colab": {
          "base_uri": "https://localhost:8080/"
        },
        "id": "ZRNlm-yOQYsJ",
        "outputId": "23ff7c34-b0f4-4409-ac82-b3d1b645a19b"
      },
      "outputs": [
        {
          "name": "stdout",
          "output_type": "stream",
          "text": [
            "Requirement already satisfied: aaindex in /opt/anaconda3/lib/python3.12/site-packages (1.1.2)\n",
            "Note: you may need to restart the kernel to use updated packages.\n"
          ]
        }
      ],
      "source": [
        "pip install aaindex"
      ]
    },
    {
      "cell_type": "code",
      "execution_count": 6,
      "metadata": {
        "colab": {
          "base_uri": "https://localhost:8080/"
        },
        "id": "qCIZOAMQPtxg",
        "outputId": "32117e31-e6d7-41ac-8895-f4887cf4bac9"
      },
      "outputs": [
        {
          "name": "stdout",
          "output_type": "stream",
          "text": [
            "   Helix Propensity  Charge  Solvent Accessibility  Isoelectric Point  \\\n",
            "A             115.0    4.76                  50.76               6.00   \n",
            "C             135.0    3.67                  58.74               5.05   \n",
            "D             150.0    5.69                  43.17               2.77   \n",
            "E             190.0    5.48                  43.48               3.22   \n",
            "F             210.0    4.31                  53.45               5.48   \n",
            "\n",
            "   Hydrophobicity  Polarity  Beta Sheet Propensity  Turn Propensity  \\\n",
            "A             1.8       8.1                   25.0             0.38   \n",
            "C             2.5       5.5                   19.0             0.45   \n",
            "D            -3.5      13.0                   50.0             0.15   \n",
            "E            -3.5      12.3                   49.0             0.18   \n",
            "F             2.8       5.2                   24.0             0.50   \n",
            "\n",
            "   Hydrogen Bonding  Interaction Energy  Protein Stability  \\\n",
            "A               0.0                1.36                9.8   \n",
            "C               0.0                0.82                3.0   \n",
            "D               0.0                1.04                4.9   \n",
            "E               0.0                1.48                4.4   \n",
            "F               0.0                1.05               23.0   \n",
            "\n",
            "   Biological Activity  Antigenicity  Electronegativity  Refractivity  Mass  \\\n",
            "A                 1.09          0.52                0.0           9.9 -0.01   \n",
            "C                 1.04          0.83                0.0           2.8  0.12   \n",
            "D                 1.24          0.37                1.0           2.8  0.15   \n",
            "E                 1.14          0.38                1.0           3.2  0.07   \n",
            "F                 0.80          0.87                0.0          18.8  0.03   \n",
            "\n",
            "   Surface Tension  Van der Waals Volume  Bulkiness  Compressibility  \n",
            "A            -0.06                  1.00       0.83             2.04  \n",
            "C             1.36                  2.43       1.48             3.41  \n",
            "D            -0.80                  2.78       0.64             3.78  \n",
            "E            -0.77                  3.78       0.65             3.31  \n",
            "F             1.27                  5.89       2.75             6.02  \n"
          ]
        }
      ],
      "source": [
        "## Retrieving selected physicochemical properties from the AAindex1 database and creating a feature table for each amino acid\n",
        "from aaindex import aaindex1\n",
        "import pandas as pd\n",
        "\n",
        "# Corrected property IDs\n",
        "selected_ids = {\n",
        "    'Helix Propensity': 'CHOC760101',\n",
        "    'Charge': 'FAUJ880113',\n",
        "    'Solvent Accessibility':'CORJ870101',\n",
        "    'Isoelectric Point': 'ZIMJ680104',\n",
        "    'Hydrophobicity': 'KYTJ820101',\n",
        "    'Polarity': 'GRAR740102',\n",
        "    'Helix Propensity':'CHOC760101',\n",
        "    'Beta Sheet Propensity':'CHOC760102',\n",
        "    'Turn Propensity': 'CHOC760103',\n",
        "    'Hydrogen Bonding':'FAUJ880111',\n",
        "    'Interaction Energy':'KANM800101',\n",
        "    'Protein Stability':'TAKK010101',\n",
        "    'Biological Activity':'ISOY800106',\n",
        "    'Antigenicity':'WERD780101',\n",
        "    'Electronegativity':'CHAM830107',\n",
        "    'Refractivity':'ZIMJ680105',\n",
        "    'Mass':'FAUJ880108',\n",
        "    'Surface Tension':'RADA880108',\n",
        "    'Van der Waals Volume':'FAUJ880103',\n",
        "    'Bulkiness':'ZIMJ680101',\n",
        "    'Compressibility':'FAUJ880106'\n",
        "}\n",
        "\n",
        "# Validate\n",
        "for name, idx in selected_ids.items():\n",
        "    if idx not in aaindex1.record_codes():\n",
        "        raise ValueError(f\"{name} → {idx} not found in aaindex1\")\n",
        "\n",
        "# Extract features\n",
        "amino_acids = list(\"ACDEFGHIKLMNPQRSTVWY\")\n",
        "aa_features = pd.DataFrame(index=amino_acids)\n",
        "\n",
        "for name, idx in selected_ids.items():\n",
        "    aa_features[name] = [aaindex1[idx].values[aa] for aa in amino_acids]\n",
        "\n",
        "print(aa_features.head())\n"
      ]
    },
    {
      "cell_type": "code",
      "execution_count": null,
      "metadata": {
        "colab": {
          "base_uri": "https://localhost:8080/"
        },
        "id": "e1sNhpK4LDbc",
        "outputId": "95ecebb7-1575-4163-e802-55729513c381"
      },
      "outputs": [
        {
          "name": "stdout",
          "output_type": "stream",
          "text": [
            "Top features selected: ['Helix Propensity', 'Van der Waals Volume', 'Charge', 'Electronegativity', 'Isoelectric Point', 'Compressibility', 'Beta Sheet Propensity', 'Turn Propensity']\n"
          ]
        }
      ],
      "source": [
        "### PCA Loadings → Select Top 8 Raw Features\n",
        "from sklearn.decomposition import PCA\n",
        "from sklearn.preprocessing import StandardScaler\n",
        "\n",
        "# Standardize the features\n",
        "\n",
        "scaler_all = StandardScaler()\n",
        "X_scaled_all = scaler_all.fit_transform(aa_features.values)\n",
        "\n",
        "## Apply PCA on AAindex Features\n",
        "pca_all = PCA(n_components=8) # PCA:reduces dimensionality from 20 → 8, retaining ~99% variance.\n",
        "pca_all.fit(X_scaled_all)\n",
        "\n",
        "loadings = pd.DataFrame(pca_all.components_.T, index=aa_features.columns, columns=[f'PC{i+1}' for i in range(8)])\n",
        "abs_loadings = loadings.abs()\n",
        "combined = abs_loadings[['PC1', 'PC2', 'PC3']].sum(axis=1).sort_values(ascending=False)\n",
        "\n",
        "\n",
        "top_features = combined.head(8).index.tolist()\n",
        "print(\"Top features selected:\", top_features)\n",
        "\n",
        "\n",
        "### Select Only Top 8 Raw Features\n",
        "aa_features_reduced = aa_features[top_features]\n"
      ]
    },
    {
      "cell_type": "code",
      "execution_count": 8,
      "metadata": {
        "colab": {
          "base_uri": "https://localhost:8080/",
          "height": 278
        },
        "id": "ZHxS3lR5LDSZ",
        "outputId": "13fa4203-4783-4140-89ee-90cc198340a4"
      },
      "outputs": [
        {
          "data": {
            "text/html": [
              "<div>\n",
              "<style scoped>\n",
              "    .dataframe tbody tr th:only-of-type {\n",
              "        vertical-align: middle;\n",
              "    }\n",
              "\n",
              "    .dataframe tbody tr th {\n",
              "        vertical-align: top;\n",
              "    }\n",
              "\n",
              "    .dataframe thead th {\n",
              "        text-align: right;\n",
              "    }\n",
              "</style>\n",
              "<table border=\"1\" class=\"dataframe\">\n",
              "  <thead>\n",
              "    <tr style=\"text-align: right;\">\n",
              "      <th></th>\n",
              "      <th>Helix Propensity</th>\n",
              "      <th>Van der Waals Volume</th>\n",
              "      <th>Charge</th>\n",
              "      <th>Electronegativity</th>\n",
              "      <th>Isoelectric Point</th>\n",
              "      <th>Compressibility</th>\n",
              "      <th>Beta Sheet Propensity</th>\n",
              "      <th>Turn Propensity</th>\n",
              "    </tr>\n",
              "  </thead>\n",
              "  <tbody>\n",
              "    <tr>\n",
              "      <th>A</th>\n",
              "      <td>115.0</td>\n",
              "      <td>1.00</td>\n",
              "      <td>4.76</td>\n",
              "      <td>0.0</td>\n",
              "      <td>6.00</td>\n",
              "      <td>2.04</td>\n",
              "      <td>25.0</td>\n",
              "      <td>0.38</td>\n",
              "    </tr>\n",
              "    <tr>\n",
              "      <th>C</th>\n",
              "      <td>135.0</td>\n",
              "      <td>2.43</td>\n",
              "      <td>3.67</td>\n",
              "      <td>0.0</td>\n",
              "      <td>5.05</td>\n",
              "      <td>3.41</td>\n",
              "      <td>19.0</td>\n",
              "      <td>0.45</td>\n",
              "    </tr>\n",
              "    <tr>\n",
              "      <th>D</th>\n",
              "      <td>150.0</td>\n",
              "      <td>2.78</td>\n",
              "      <td>5.69</td>\n",
              "      <td>1.0</td>\n",
              "      <td>2.77</td>\n",
              "      <td>3.78</td>\n",
              "      <td>50.0</td>\n",
              "      <td>0.15</td>\n",
              "    </tr>\n",
              "    <tr>\n",
              "      <th>E</th>\n",
              "      <td>190.0</td>\n",
              "      <td>3.78</td>\n",
              "      <td>5.48</td>\n",
              "      <td>1.0</td>\n",
              "      <td>3.22</td>\n",
              "      <td>3.31</td>\n",
              "      <td>49.0</td>\n",
              "      <td>0.18</td>\n",
              "    </tr>\n",
              "    <tr>\n",
              "      <th>F</th>\n",
              "      <td>210.0</td>\n",
              "      <td>5.89</td>\n",
              "      <td>4.31</td>\n",
              "      <td>0.0</td>\n",
              "      <td>5.48</td>\n",
              "      <td>6.02</td>\n",
              "      <td>24.0</td>\n",
              "      <td>0.50</td>\n",
              "    </tr>\n",
              "  </tbody>\n",
              "</table>\n",
              "</div>"
            ],
            "text/plain": [
              "   Helix Propensity  Van der Waals Volume  Charge  Electronegativity  \\\n",
              "A             115.0                  1.00    4.76                0.0   \n",
              "C             135.0                  2.43    3.67                0.0   \n",
              "D             150.0                  2.78    5.69                1.0   \n",
              "E             190.0                  3.78    5.48                1.0   \n",
              "F             210.0                  5.89    4.31                0.0   \n",
              "\n",
              "   Isoelectric Point  Compressibility  Beta Sheet Propensity  Turn Propensity  \n",
              "A               6.00             2.04                   25.0             0.38  \n",
              "C               5.05             3.41                   19.0             0.45  \n",
              "D               2.77             3.78                   50.0             0.15  \n",
              "E               3.22             3.31                   49.0             0.18  \n",
              "F               5.48             6.02                   24.0             0.50  "
            ]
          },
          "execution_count": 8,
          "metadata": {},
          "output_type": "execute_result"
        }
      ],
      "source": [
        "aa_features_reduced.head()"
      ]
    },
    {
      "cell_type": "code",
      "execution_count": 9,
      "metadata": {
        "id": "GvHMTb-WNUp6"
      },
      "outputs": [],
      "source": [
        "# sequence_to_features() Function\n",
        "\n",
        "import numpy as np\n",
        "\n",
        "def sequence_to_features(seq, aa_features):\n",
        "    features = []\n",
        "    for aa in seq:\n",
        "        if aa in aa_features.index:\n",
        "            features.append(aa_features.loc[aa].values)\n",
        "        else:\n",
        "            features.append(np.zeros(aa_features.shape[1]))  # fallback for unknown AAs\n",
        "    return np.array(features)\n"
      ]
    },
    {
      "cell_type": "code",
      "execution_count": 10,
      "metadata": {
        "colab": {
          "base_uri": "https://localhost:8080/"
        },
        "id": "kKrfpk2aNUiM",
        "outputId": "db2f6838-2ca1-489b-9fc2-80b4a400c216"
      },
      "outputs": [
        {
          "name": "stdout",
          "output_type": "stream",
          "text": [
            "RS126 data X shape: (125, 498, 8), RS126 data y shape: (125, 498)\n"
          ]
        }
      ],
      "source": [
        "# Define Padding Length and Feature Count\n",
        "#  MAX_LEN for Padding/Truncating\n",
        "\n",
        "MAX_LEN = df_cleaned['input'].str.len().max() ## max-length for Train dataset\n",
        "\n",
        "X = []\n",
        "y = []\n",
        "\n",
        "for _, row in df_cleaned.iterrows():\n",
        "    seq = row['input']\n",
        "    labels = row['dssp3']\n",
        "\n",
        "    # Sequence to feature matrix\n",
        "    features = sequence_to_features(seq, aa_features_reduced)\n",
        "\n",
        "    # Pad/truncate features\n",
        "    if len(seq) < MAX_LEN:\n",
        "        features = np.pad(features, ((0, MAX_LEN - len(seq)), (0, 0)), mode='constant')\n",
        "    else:\n",
        "        features = features[:MAX_LEN]\n",
        "\n",
        "    # Pad/truncate labels\n",
        "    padded_labels = labels.ljust(MAX_LEN, 'C')[:MAX_LEN]\n",
        "\n",
        "    X.append(features)\n",
        "    y.append(list(padded_labels))\n",
        "\n",
        "X = np.array(X)\n",
        "y = np.array(y)\n",
        "\n",
        "print(f\"RS126 data X shape: {X.shape}, RS126 data y shape: {y.shape}\")\n"
      ]
    },
    {
      "cell_type": "code",
      "execution_count": 11,
      "metadata": {
        "colab": {
          "base_uri": "https://localhost:8080/"
        },
        "id": "AE1oQ2HMNUXh",
        "outputId": "afa1c791-da7c-45dd-cded-571c1ad2108e"
      },
      "outputs": [
        {
          "name": "stdout",
          "output_type": "stream",
          "text": [
            "RS126 data y_encoded shape: (125, 498)\n"
          ]
        }
      ],
      "source": [
        "## Convert character labels ('C', 'H', 'E') into numerical form (0, 1, 2) for machine learning models.\n",
        "\n",
        "# Label Encoding (y)\n",
        "\n",
        "from sklearn.preprocessing import LabelEncoder\n",
        "\n",
        "label_encoder = LabelEncoder()\n",
        "label_encoder.fit(['C', 'H', 'E'])\n",
        "\n",
        "y_encoded = label_encoder.transform(y.flatten()).reshape(y.shape)\n",
        "print(f\"RS126 data y_encoded shape: {y_encoded.shape}\")\n"
      ]
    },
    {
      "cell_type": "code",
      "execution_count": 12,
      "metadata": {
        "colab": {
          "base_uri": "https://localhost:8080/"
        },
        "id": "D7girfv7Nbi_",
        "outputId": "2efdf83b-8fcb-41a3-a589-ab6782478315"
      },
      "outputs": [
        {
          "name": "stdout",
          "output_type": "stream",
          "text": [
            "X_train shape (RS126 data) = (149538, 8), y_train shape (RS126 data) = (149538,)\n"
          ]
        }
      ],
      "source": [
        "# Flatten X and y\n",
        "X_flat = X.reshape(-1, X.shape[-1])  # shape: (total_residues, 8)\n",
        "y_flat = y_encoded.flatten()\n",
        "\n",
        "# Standardize features\n",
        "from sklearn.preprocessing import StandardScaler\n",
        "scaler = StandardScaler()\n",
        "\n",
        "X_train_std = scaler.fit_transform(X_flat)\n",
        "y_train_std = y_flat\n",
        "\n",
        "\n",
        "## SMOTE (Synthetic Minority Oversampling Technique) to balanced all labels\n",
        "# Apply SMOTE Smote aplied only for X and y training sets not testing sets.\n",
        "#Balances the training set by synthetically oversampling underrepresented classes (e.g., E or H).\n",
        "\n",
        "from imblearn.over_sampling import SMOTE\n",
        "smote = SMOTE(random_state=42)\n",
        "X_train, y_train = smote.fit_resample(X_train_std, y_train_std)\n",
        "\n",
        "print(f\"X_train shape (RS126 data) = {X_train.shape}, y_train shape (RS126 data) = {y_train.shape}\")\n"
      ]
    },
    {
      "cell_type": "code",
      "execution_count": 13,
      "metadata": {
        "colab": {
          "base_uri": "https://localhost:8080/"
        },
        "id": "7iGzxRaDb3Z4",
        "outputId": "8c422031-9ef8-488a-cf81-7334587a652a"
      },
      "outputs": [
        {
          "name": "stdout",
          "output_type": "stream",
          "text": [
            "RS126 data Before SMOTE: Counter({0: 49846, 2: 7157, 1: 5247})\n",
            "RS126 data After SMOTE: Counter({0: 49846, 1: 49846, 2: 49846})\n"
          ]
        }
      ],
      "source": [
        "# Count label clases before and after SMOTE for RS126 data class balance\n",
        "\n",
        "from collections import Counter\n",
        "print(\"RS126 data Before SMOTE:\", Counter(y_train_std))\n",
        "print(\"RS126 data After SMOTE:\", Counter(y_train))\n"
      ]
    },
    {
      "cell_type": "code",
      "execution_count": 14,
      "metadata": {
        "colab": {
          "base_uri": "https://localhost:8080/"
        },
        "id": "_UZLKcffsCJK",
        "outputId": "398b1d30-3df1-4a44-b5bc-2862b793aaf6"
      },
      "outputs": [
        {
          "name": "stdout",
          "output_type": "stream",
          "text": [
            "0 → C\n",
            "1 → E\n",
            "2 → H\n"
          ]
        }
      ],
      "source": [
        "##  the Mapping in Code\n",
        "for label, name in enumerate(label_encoder.classes_):\n",
        "    print(f\"{label} → {name}\")\n"
      ]
    },
    {
      "cell_type": "code",
      "execution_count": 14,
      "metadata": {
        "colab": {
          "base_uri": "https://localhost:8080/"
        },
        "id": "7CIjS_lLhAHo",
        "outputId": "29d8c561-e983-4e1d-a5ba-cec393149a9f"
      },
      "outputs": [
        {
          "name": "stdout",
          "output_type": "stream",
          "text": [
            "GPCR data X shape: (50, 498, 8), GPCR data y shape: (50, 498)\n"
          ]
        }
      ],
      "source": [
        "# Process Test data Data → X_test, y_test\n",
        "# similar steps for df2_cleaned (Test data):\n",
        "# MAX_LEN same as Train data\n",
        "\n",
        "X_2 = []\n",
        "y_2 = []\n",
        "\n",
        "for _, row in df2_cleaned.iterrows():\n",
        "    seq = row['input']\n",
        "    labels = row['dssp3']\n",
        "\n",
        "    features = sequence_to_features(seq, aa_features_reduced)\n",
        "\n",
        "    if len(seq) < MAX_LEN:\n",
        "        features = np.pad(features, ((0, MAX_LEN - len(seq)), (0, 0)), mode='constant')\n",
        "    else:\n",
        "        features = features[:MAX_LEN]\n",
        "\n",
        "    padded_labels = labels.ljust(MAX_LEN, 'C')[:MAX_LEN]\n",
        "\n",
        "    X_2.append(features)\n",
        "    y_2.append(list(padded_labels))\n",
        "\n",
        "X_2 = np.array(X_2)\n",
        "y_2 = np.array(y_2)\n",
        "\n",
        "print(f\"GPCR data X shape: {X_2.shape}, GPCR data y shape: {y_2.shape}\")"
      ]
    },
    {
      "cell_type": "code",
      "execution_count": 15,
      "metadata": {
        "colab": {
          "base_uri": "https://localhost:8080/"
        },
        "id": "aqNRenaixOKA",
        "outputId": "98755949-8a5a-4c5b-b5cf-5248a73d8172"
      },
      "outputs": [
        {
          "name": "stdout",
          "output_type": "stream",
          "text": [
            "GPCR data y_encoded shape: (50, 498)\n"
          ]
        }
      ],
      "source": [
        "# Label encode and flatten for Test data\n",
        "y_2_encoded = label_encoder.transform(y_2.flatten()).reshape(y_2.shape)\n",
        "print(f\"GPCR data y_encoded shape: {y_2_encoded.shape}\")"
      ]
    },
    {
      "cell_type": "code",
      "execution_count": 16,
      "metadata": {
        "colab": {
          "base_uri": "https://localhost:8080/"
        },
        "id": "6MJq2YGdxoMj",
        "outputId": "578478a3-1237-4946-c716-71eb2154f360"
      },
      "outputs": [
        {
          "name": "stdout",
          "output_type": "stream",
          "text": [
            "GPCR data: X_test shape = (24900, 8), y_test shape = (24900,)\n"
          ]
        }
      ],
      "source": [
        "X_test = X_2.reshape(-1, X_2.shape[-1])\n",
        "y_test = y_2_encoded.flatten()\n",
        "\n",
        "# Use same scaler from Test data\n",
        "X_test = scaler.transform(X_test)\n",
        "\n",
        "print(f\"GPCR data: X_test shape = {X_test.shape}, y_test shape = {y_test.shape}\")"
      ]
    },
    {
      "cell_type": "code",
      "execution_count": 17,
      "metadata": {
        "colab": {
          "base_uri": "https://localhost:8080/"
        },
        "id": "Z2yX89zV3yPo",
        "outputId": "985a806b-17da-4bea-a42b-2d66574916c2"
      },
      "outputs": [
        {
          "name": "stdout",
          "output_type": "stream",
          "text": [
            "Counts for RS126 data {'C': 49846, 'H': 5247, 'E': 7157}\n",
            "Counts for GPCR data {'C': 17108, 'H': 4439, 'E': 3353}\n"
          ]
        }
      ],
      "source": [
        "from collections import Counter\n",
        "\n",
        "# for Train data\n",
        "all_labels = y_train_std.flatten() # contains labels count before SMOTE\n",
        "label_counts = Counter(all_labels)\n",
        "\n",
        "# map back to original class names\n",
        "label_mapping = {0: 'C', 1: 'H', 2: 'E'}\n",
        "mapped_counts = {label_mapping[k]: v for k, v in label_counts.items()}\n",
        "\n",
        "print(\"Counts for RS126 data\",mapped_counts)\n",
        "\n",
        "# for Test data\n",
        "all_labels_2 = y_test.flatten()\n",
        "label_counts = Counter(all_labels_2)\n",
        "\n",
        "# map back to original class names\n",
        "label_mapping_2 = {0: 'C', 1: 'H', 2: 'E'}\n",
        "mapped_counts_2 = {label_mapping_2[k]: v for k, v in label_counts.items()}\n",
        "print(\"Counts for GPCR data\",mapped_counts_2)"
      ]
    },
    {
      "cell_type": "code",
      "execution_count": 19,
      "metadata": {
        "id": "VSaT1hgvNpRu"
      },
      "outputs": [],
      "source": [
        "### import necessary libraries\n",
        "\n",
        "from sklearn.preprocessing import LabelEncoder\n",
        "from sklearn.tree import DecisionTreeClassifier\n",
        "from sklearn.ensemble import RandomForestClassifier\n",
        "from xgboost import XGBClassifier\n",
        "from sklearn.model_selection import StratifiedKFold\n",
        "import pandas as pd\n",
        "from sklearn.metrics import (\n",
        "    accuracy_score, precision_score, recall_score,\n",
        "    f1_score, matthews_corrcoef, classification_report,\n",
        "    confusion_matrix, ConfusionMatrixDisplay\n",
        ")\n",
        "from sklearn.linear_model import LogisticRegression\n",
        "from sklearn.svm import SVC\n",
        "from sklearn.neighbors import KNeighborsClassifier\n",
        "from sklearn.naive_bayes import MultinomialNB\n",
        "import numpy as np\n",
        "import matplotlib.pyplot as plt"
      ]
    },
    {
      "cell_type": "code",
      "execution_count": 20,
      "metadata": {
        "colab": {
          "base_uri": "https://localhost:8080/",
          "height": 1000
        },
        "id": "fLIJB247yZHt",
        "outputId": "5b569689-a687-4c54-fd71-c3b4cd72c38f"
      },
      "outputs": [
        {
          "name": "stdout",
          "output_type": "stream",
          "text": [
            "\n",
            "========== MultinomialNB ==========\n",
            " Skipped MultinomialNB (requires non-negative features)\n",
            "\n",
            "========== Decision Tree ==========\n",
            " Accuracy         : 65.47%\n",
            " Precision (macro): 56.70%\n",
            " Recall (macro)   : 62.43%\n",
            " F1 Score (macro) : 56.27%\n",
            " MCC Score        : 0.45\n",
            "\n",
            " Classification Report:\n",
            "              precision    recall  f1-score   support\n",
            "\n",
            "           C       1.00      0.68      0.81     17108\n",
            "           E       0.40      0.57      0.47      4439\n",
            "           H       0.30      0.62      0.41      3353\n",
            "\n",
            "    accuracy                           0.65     24900\n",
            "   macro avg       0.57      0.62      0.56     24900\n",
            "weighted avg       0.80      0.65      0.70     24900\n",
            "\n",
            "\n",
            " Cross-validation scores (accuracy %): [67.32, 66.64, 66.97, 66.99, 67.36]\n",
            " Mean CV Accuracy   : 67.06%\n",
            " Std Dev CV Accuracy: 0.26%\n"
          ]
        },
        {
          "data": {
            "image/png": "[encoded data removed]",
            "text/plain": [
              "<Figure size 640x480 with 2 Axes>"
            ]
          },
          "metadata": {},
          "output_type": "display_data"
        },
        {
          "name": "stdout",
          "output_type": "stream",
          "text": [
            "\n",
            "========== Random Forest ==========\n",
            " Accuracy         : 65.47%\n",
            " Precision (macro): 56.70%\n",
            " Recall (macro)   : 62.43%\n",
            " F1 Score (macro) : 56.27%\n",
            " MCC Score        : 0.45\n",
            "\n",
            " Classification Report:\n",
            "              precision    recall  f1-score   support\n",
            "\n",
            "           C       1.00      0.68      0.81     17108\n",
            "           E       0.40      0.57      0.47      4439\n",
            "           H       0.30      0.62      0.41      3353\n",
            "\n",
            "    accuracy                           0.65     24900\n",
            "   macro avg       0.57      0.62      0.56     24900\n",
            "weighted avg       0.80      0.65      0.70     24900\n",
            "\n",
            "\n",
            " Cross-validation scores (accuracy %): [67.32, 66.64, 66.97, 66.99, 67.36]\n",
            " Mean CV Accuracy   : 67.06%\n",
            " Std Dev CV Accuracy: 0.26%\n"
          ]
        },
        {
          "data": {
            "image/png": "[encoded data removed]",
            "text/plain": [
              "<Figure size 640x480 with 2 Axes>"
            ]
          },
          "metadata": {},
          "output_type": "display_data"
        },
        {
          "name": "stdout",
          "output_type": "stream",
          "text": [
            "\n",
            "========== XGBoost ==========\n",
            " Accuracy         : 65.47%\n",
            " Precision (macro): 56.70%\n",
            " Recall (macro)   : 62.43%\n",
            " F1 Score (macro) : 56.27%\n",
            " MCC Score        : 0.45\n",
            "\n",
            " Classification Report:\n",
            "              precision    recall  f1-score   support\n",
            "\n",
            "           C       1.00      0.68      0.81     17108\n",
            "           E       0.40      0.57      0.47      4439\n",
            "           H       0.30      0.62      0.41      3353\n",
            "\n",
            "    accuracy                           0.65     24900\n",
            "   macro avg       0.57      0.62      0.56     24900\n",
            "weighted avg       0.80      0.65      0.70     24900\n",
            "\n",
            "\n",
            " Cross-validation scores (accuracy %): [67.32, 66.64, 66.97, 66.99, 67.36]\n",
            " Mean CV Accuracy   : 67.06%\n",
            " Std Dev CV Accuracy: 0.26%\n"
          ]
        },
        {
          "data": {
            "image/png": "[encoded data removed]",
            "text/plain": [
              "<Figure size 640x480 with 2 Axes>"
            ]
          },
          "metadata": {},
          "output_type": "display_data"
        },
        {
          "name": "stdout",
          "output_type": "stream",
          "text": [
            "\n",
            "========== Logistic Regression ==========\n",
            " Accuracy         : 64.84%\n",
            " Precision (macro): 55.41%\n",
            " Recall (macro)   : 60.23%\n",
            " F1 Score (macro) : 54.87%\n",
            " MCC Score        : 0.44\n",
            "\n",
            " Classification Report:\n",
            "              precision    recall  f1-score   support\n",
            "\n",
            "           C       1.00      0.68      0.81     17108\n",
            "           E       0.37      0.63      0.47      4439\n",
            "           H       0.29      0.50      0.37      3353\n",
            "\n",
            "    accuracy                           0.65     24900\n",
            "   macro avg       0.55      0.60      0.55     24900\n",
            "weighted avg       0.79      0.65      0.69     24900\n",
            "\n",
            "\n",
            " Cross-validation scores (accuracy %): [65.77, 65.49, 65.64, 65.5, 65.79]\n",
            " Mean CV Accuracy   : 65.64%\n",
            " Std Dev CV Accuracy: 0.13%\n"
          ]
        },
        {
          "data": {
            "image/png": "[encoded data removed]",
            "text/plain": [
              "<Figure size 640x480 with 2 Axes>"
            ]
          },
          "metadata": {},
          "output_type": "display_data"
        },
        {
          "name": "stdout",
          "output_type": "stream",
          "text": [
            "\n",
            "========== SVM (Linear Kernel) ==========\n",
            " Accuracy         : 63.43%\n",
            " Precision (macro): 54.58%\n",
            " Recall (macro)   : 58.46%\n",
            " F1 Score (macro) : 53.19%\n",
            " MCC Score        : 0.42\n",
            "\n",
            " Classification Report:\n",
            "              precision    recall  f1-score   support\n",
            "\n",
            "           C       1.00      0.68      0.81     17108\n",
            "           E       0.37      0.47      0.42      4439\n",
            "           H       0.26      0.60      0.37      3353\n",
            "\n",
            "    accuracy                           0.63     24900\n",
            "   macro avg       0.55      0.58      0.53     24900\n",
            "weighted avg       0.79      0.63      0.68     24900\n",
            "\n",
            "\n",
            " Cross-validation scores (accuracy %): [64.14, 64.11, 63.95, 64.24, 64.14]\n",
            " Mean CV Accuracy   : 64.12%\n",
            " Std Dev CV Accuracy: 0.09%\n"
          ]
        },
        {
          "data": {
            "image/png": "[encoded data removed]",
            "text/plain": [
              "<Figure size 640x480 with 2 Axes>"
            ]
          },
          "metadata": {},
          "output_type": "display_data"
        },
        {
          "name": "stdout",
          "output_type": "stream",
          "text": [
            "\n",
            "========== SVM (RBF Kernel) ==========\n",
            " Accuracy         : 65.47%\n",
            " Precision (macro): 56.70%\n",
            " Recall (macro)   : 62.43%\n",
            " F1 Score (macro) : 56.27%\n",
            " MCC Score        : 0.45\n",
            "\n",
            " Classification Report:\n",
            "              precision    recall  f1-score   support\n",
            "\n",
            "           C       1.00      0.68      0.81     17108\n",
            "           E       0.40      0.57      0.47      4439\n",
            "           H       0.30      0.62      0.41      3353\n",
            "\n",
            "    accuracy                           0.65     24900\n",
            "   macro avg       0.57      0.62      0.56     24900\n",
            "weighted avg       0.80      0.65      0.70     24900\n",
            "\n",
            "\n",
            " Cross-validation scores (accuracy %): [67.32, 66.64, 66.97, 66.99, 67.36]\n",
            " Mean CV Accuracy   : 67.06%\n",
            " Std Dev CV Accuracy: 0.26%\n"
          ]
        },
        {
          "data": {
            "image/png": "[encoded data removed]",
            "text/plain": [
              "<Figure size 640x480 with 2 Axes>"
            ]
          },
          "metadata": {},
          "output_type": "display_data"
        },
        {
          "name": "stdout",
          "output_type": "stream",
          "text": [
            "\n",
            "========== K-Nearest Neighbors ==========\n",
            " Accuracy         : 70.81%\n",
            " Precision (macro): 40.32%\n",
            " Recall (macro)   : 45.78%\n",
            " F1 Score (macro) : 42.85%\n",
            " MCC Score        : 0.31\n",
            "\n",
            " Classification Report:\n",
            "              precision    recall  f1-score   support\n",
            "\n",
            "           C       0.77      0.91      0.83     17108\n",
            "           E       0.44      0.46      0.45      4439\n",
            "           H       0.00      0.00      0.00      3353\n",
            "\n",
            "    accuracy                           0.71     24900\n",
            "   macro avg       0.40      0.46      0.43     24900\n",
            "weighted avg       0.61      0.71      0.65     24900\n",
            "\n",
            "\n",
            " Cross-validation scores (accuracy %): [47.06, 49.51, 50.0, 48.56, 48.95]\n",
            " Mean CV Accuracy   : 48.82%\n",
            " Std Dev CV Accuracy: 1.00%\n"
          ]
        },
        {
          "data": {
            "image/png": "[encoded data removed]",
            "text/plain": [
              "<Figure size 640x480 with 2 Axes>"
            ]
          },
          "metadata": {},
          "output_type": "display_data"
        }
      ],
      "source": [
        "\n",
        "# ===== Define Models with Class Weights Where Applicable =====\n",
        "models = {\n",
        "    \"MultinomialNB\": MultinomialNB(),  # Only if features are non-negative\n",
        "    \"Decision Tree\": DecisionTreeClassifier(class_weight='balanced', random_state=42),\n",
        "    \"Random Forest\": RandomForestClassifier(n_estimators=100, random_state=42),  # No class_weight here (SMOTE already balances)\n",
        "    \"XGBoost\": XGBClassifier(eval_metric='mlogloss', random_state=42),  # Handles imbalance internally with `scale_pos_weight`, if needed\n",
        "    \"Logistic Regression\": LogisticRegression(max_iter=1000, class_weight='balanced'),\n",
        "    \"SVM (Linear Kernel)\": SVC(kernel='linear', class_weight='balanced'),\n",
        "    \"SVM (RBF Kernel)\": SVC(kernel='rbf', class_weight='balanced'),\n",
        "    \"K-Nearest Neighbors\": KNeighborsClassifier(n_neighbors=5, weights='distance')  # No class_weight support\n",
        "}\n",
        "\n",
        "# ===== Cross-Validation Setup =====\n",
        "skf = StratifiedKFold(n_splits=5, shuffle=True, random_state=42)\n",
        "results = []\n",
        "\n",
        "# ===== Training and Evaluation =====\n",
        "for model_name, model in models.items():\n",
        "    print(f\"\\n========== {model_name} ==========\")\n",
        "\n",
        "    # Skip MultinomialNB if features are negative\n",
        "    if model_name == \"MultinomialNB\" and np.any(X_train < 0):\n",
        "        print(\" Skipped MultinomialNB (requires non-negative features)\")\n",
        "        continue\n",
        "\n",
        "    # === Train model and evaluate on test set ===\n",
        "    model.fit(X_train, y_train)\n",
        "    y_pred = model.predict(X_test)\n",
        "\n",
        "    acc = accuracy_score(y_test, y_pred)\n",
        "    prec = precision_score(y_test, y_pred, average='macro', zero_division=0)\n",
        "    rec = recall_score(y_test, y_pred, average='macro', zero_division=0)\n",
        "    f1 = f1_score(y_test, y_pred, average='macro', zero_division=0)\n",
        "    mcc = matthews_corrcoef(y_test, y_pred)\n",
        "\n",
        "    print(f\" Accuracy         : {acc * 100:.2f}%\")\n",
        "    print(f\" Precision (macro): {prec * 100:.2f}%\")\n",
        "    print(f\" Recall (macro)   : {rec * 100:.2f}%\")\n",
        "    print(f\" F1 Score (macro) : {f1 * 100:.2f}%\")\n",
        "    print(f\" MCC Score        : {mcc:.2f}\")\n",
        "\n",
        "    # === Classification Report ===\n",
        "    print(\"\\n Classification Report:\")\n",
        "    print(classification_report(y_test, y_pred, target_names=label_encoder.classes_,zero_division=0))\n",
        "\n",
        "    # === Stratified Cross-Validation ===\n",
        "    cv_accuracies = []\n",
        "    for train_idx, val_idx in skf.split(X_train, y_train):\n",
        "        X_fold_train, X_fold_val = X_train[train_idx], X_train[val_idx]\n",
        "        y_fold_train, y_fold_val = y_train[train_idx], y_train[val_idx]\n",
        "\n",
        "        model.fit(X_fold_train, y_fold_train)\n",
        "        y_fold_pred = model.predict(X_fold_val)\n",
        "        fold_acc = accuracy_score(y_fold_val, y_fold_pred)\n",
        "        cv_accuracies.append(fold_acc * 100)\n",
        "\n",
        "    cv_accuracies = np.array(cv_accuracies)\n",
        "    print(f\"\\n Cross-validation scores (accuracy %): {np.round(cv_accuracies, 2).tolist()}\")\n",
        "    print(f\" Mean CV Accuracy   : {cv_accuracies.mean():.2f}%\")\n",
        "    print(f\" Std Dev CV Accuracy: {cv_accuracies.std():.2f}%\")\n",
        "\n",
        "    # === Confusion Matrix ===\n",
        "    cm = confusion_matrix(y_test, y_pred)\n",
        "    disp = ConfusionMatrixDisplay(confusion_matrix=cm, display_labels=label_encoder.classes_)\n",
        "    disp.plot(cmap='viridis')\n",
        "    plt.title(f\"{model_name} - Confusion Matrix\")\n",
        "    plt.show()\n",
        "\n",
        "    # Store results\n",
        "    results.append({\n",
        "        'Model': model_name,\n",
        "        'Accuracy': acc * 100,\n",
        "        'Precision': prec * 100,\n",
        "        'Recall': rec * 100,\n",
        "        'F1 Score': f1 * 100,\n",
        "        'MCC': mcc,\n",
        "        'CV Accuracy Mean': cv_accuracies.mean(),\n",
        "        'CV Accuracy Std Dev': cv_accuracies.std()\n",
        "    })\n"
      ]
    },
    {
      "cell_type": "code",
      "execution_count": 21,
      "metadata": {
        "id": "x9h0r3_MyZDw"
      },
      "outputs": [
        {
          "data": {
            "text/html": [
              "<div>\n",
              "<style scoped>\n",
              "    .dataframe tbody tr th:only-of-type {\n",
              "        vertical-align: middle;\n",
              "    }\n",
              "\n",
              "    .dataframe tbody tr th {\n",
              "        vertical-align: top;\n",
              "    }\n",
              "\n",
              "    .dataframe thead th {\n",
              "        text-align: right;\n",
              "    }\n",
              "</style>\n",
              "<table border=\"1\" class=\"dataframe\">\n",
              "  <thead>\n",
              "    <tr style=\"text-align: right;\">\n",
              "      <th></th>\n",
              "      <th>Model</th>\n",
              "      <th>Accuracy</th>\n",
              "      <th>Precision</th>\n",
              "      <th>Recall</th>\n",
              "      <th>F1 Score</th>\n",
              "      <th>MCC</th>\n",
              "      <th>CV Accuracy Mean</th>\n",
              "      <th>CV Accuracy Std Dev</th>\n",
              "    </tr>\n",
              "  </thead>\n",
              "  <tbody>\n",
              "    <tr>\n",
              "      <th>0</th>\n",
              "      <td>K-Nearest Neighbors</td>\n",
              "      <td>70.81</td>\n",
              "      <td>40.32</td>\n",
              "      <td>45.78</td>\n",
              "      <td>42.85</td>\n",
              "      <td>0.31</td>\n",
              "      <td>48.82</td>\n",
              "      <td>1.00</td>\n",
              "    </tr>\n",
              "    <tr>\n",
              "      <th>1</th>\n",
              "      <td>Random Forest</td>\n",
              "      <td>65.47</td>\n",
              "      <td>56.70</td>\n",
              "      <td>62.43</td>\n",
              "      <td>56.27</td>\n",
              "      <td>0.45</td>\n",
              "      <td>67.06</td>\n",
              "      <td>0.26</td>\n",
              "    </tr>\n",
              "    <tr>\n",
              "      <th>2</th>\n",
              "      <td>Decision Tree</td>\n",
              "      <td>65.47</td>\n",
              "      <td>56.70</td>\n",
              "      <td>62.43</td>\n",
              "      <td>56.27</td>\n",
              "      <td>0.45</td>\n",
              "      <td>67.06</td>\n",
              "      <td>0.26</td>\n",
              "    </tr>\n",
              "    <tr>\n",
              "      <th>3</th>\n",
              "      <td>XGBoost</td>\n",
              "      <td>65.47</td>\n",
              "      <td>56.70</td>\n",
              "      <td>62.43</td>\n",
              "      <td>56.27</td>\n",
              "      <td>0.45</td>\n",
              "      <td>67.06</td>\n",
              "      <td>0.26</td>\n",
              "    </tr>\n",
              "    <tr>\n",
              "      <th>4</th>\n",
              "      <td>SVM (RBF Kernel)</td>\n",
              "      <td>65.47</td>\n",
              "      <td>56.70</td>\n",
              "      <td>62.43</td>\n",
              "      <td>56.27</td>\n",
              "      <td>0.45</td>\n",
              "      <td>67.06</td>\n",
              "      <td>0.26</td>\n",
              "    </tr>\n",
              "    <tr>\n",
              "      <th>5</th>\n",
              "      <td>Logistic Regression</td>\n",
              "      <td>64.84</td>\n",
              "      <td>55.41</td>\n",
              "      <td>60.23</td>\n",
              "      <td>54.87</td>\n",
              "      <td>0.44</td>\n",
              "      <td>65.64</td>\n",
              "      <td>0.13</td>\n",
              "    </tr>\n",
              "    <tr>\n",
              "      <th>6</th>\n",
              "      <td>SVM (Linear Kernel)</td>\n",
              "      <td>63.43</td>\n",
              "      <td>54.58</td>\n",
              "      <td>58.46</td>\n",
              "      <td>53.19</td>\n",
              "      <td>0.42</td>\n",
              "      <td>64.12</td>\n",
              "      <td>0.09</td>\n",
              "    </tr>\n",
              "  </tbody>\n",
              "</table>\n",
              "</div>"
            ],
            "text/plain": [
              "                 Model  Accuracy  Precision  Recall  F1 Score   MCC  \\\n",
              "0  K-Nearest Neighbors     70.81      40.32   45.78     42.85  0.31   \n",
              "1        Random Forest     65.47      56.70   62.43     56.27  0.45   \n",
              "2        Decision Tree     65.47      56.70   62.43     56.27  0.45   \n",
              "3              XGBoost     65.47      56.70   62.43     56.27  0.45   \n",
              "4     SVM (RBF Kernel)     65.47      56.70   62.43     56.27  0.45   \n",
              "5  Logistic Regression     64.84      55.41   60.23     54.87  0.44   \n",
              "6  SVM (Linear Kernel)     63.43      54.58   58.46     53.19  0.42   \n",
              "\n",
              "   CV Accuracy Mean  CV Accuracy Std Dev  \n",
              "0             48.82                 1.00  \n",
              "1             67.06                 0.26  \n",
              "2             67.06                 0.26  \n",
              "3             67.06                 0.26  \n",
              "4             67.06                 0.26  \n",
              "5             65.64                 0.13  \n",
              "6             64.12                 0.09  "
            ]
          },
          "execution_count": 21,
          "metadata": {},
          "output_type": "execute_result"
        }
      ],
      "source": [
        "# convert to DataFrame\n",
        "import pandas as pd\n",
        "results_df = pd.DataFrame(results)\n",
        "results_df = results_df.round(2)\n",
        "results_df = results_df.sort_values(by='Accuracy', ascending=False).reset_index(drop=True)\n",
        "results_df"
      ]
    },
    {
      "cell_type": "code",
      "execution_count": 22,
      "metadata": {
        "id": "R3C4lpSMyZBT"
      },
      "outputs": [
        {
          "data": {
            "application/vnd.plotly.v1+json": {
              "config": {
                "plotlyServerURL": "https://plot.ly"
              },
              "data": [
                {
                  "alignmentgroup": "True",
                  "hovertemplate": "Model=%{x}<br>MCC=%{marker.color}<extra></extra>",
                  "legendgroup": "",
                  "marker": {
                    "color": [
                      0.31,
                      0.45,
                      0.45,
                      0.45,
                      0.45,
                      0.44,
                      0.42
                    ],
                    "coloraxis": "coloraxis",
                    "pattern": {
                      "shape": ""
                    }
                  },
                  "name": "",
                  "offsetgroup": "",
                  "orientation": "v",
                  "showlegend": false,
                  "text": [
                    0.31,
                    0.45,
                    0.45,
                    0.45,
                    0.45,
                    0.44,
                    0.42
                  ],
                  "textposition": "outside",
                  "texttemplate": "%{text:.2f}",
                  "type": "bar",
                  "x": [
                    "K-Nearest Neighbors",
                    "Random Forest",
                    "Decision Tree",
                    "XGBoost",
                    "SVM (RBF Kernel)",
                    "Logistic Regression",
                    "SVM (Linear Kernel)"
                  ],
                  "xaxis": "x",
                  "y": [
                    0.31,
                    0.45,
                    0.45,
                    0.45,
                    0.45,
                    0.44,
                    0.42
                  ],
                  "yaxis": "y"
                }
              ],
              "layout": {
                "barmode": "relative",
                "coloraxis": {
                  "colorbar": {
                    "title": {
                      "text": "MCC"
                    }
                  },
                  "colorscale": [
                    [
                      0,
                      "#440154"
                    ],
                    [
                      0.1111111111111111,
                      "#482878"
                    ],
                    [
                      0.2222222222222222,
                      "#3e4989"
                    ],
                    [
                      0.3333333333333333,
                      "#31688e"
                    ],
                    [
                      0.4444444444444444,
                      "#26828e"
                    ],
                    [
                      0.5555555555555556,
                      "#1f9e89"
                    ],
                    [
                      0.6666666666666666,
                      "#35b779"
                    ],
                    [
                      0.7777777777777778,
                      "#6ece58"
                    ],
                    [
                      0.8888888888888888,
                      "#b5de2b"
                    ],
                    [
                      1,
                      "#fde725"
                    ]
                  ]
                },
                "legend": {
                  "tracegroupgap": 0
                },
                "showlegend": false,
                "template": {
                  "data": {
                    "bar": [
                      {
                        "error_x": {
                          "color": "#2a3f5f"
                        },
                        "error_y": {
                          "color": "#2a3f5f"
                        },
                        "marker": {
                          "line": {
                            "color": "#E5ECF6",
                            "width": 0.5
                          },
                          "pattern": {
                            "fillmode": "overlay",
                            "size": 10,
                            "solidity": 0.2
                          }
                        },
                        "type": "bar"
                      }
                    ],
                    "barpolar": [
                      {
                        "marker": {
                          "line": {
                            "color": "#E5ECF6",
                            "width": 0.5
                          },
                          "pattern": {
                            "fillmode": "overlay",
                            "size": 10,
                            "solidity": 0.2
                          }
                        },
                        "type": "barpolar"
                      }
                    ],
                    "carpet": [
                      {
                        "aaxis": {
                          "endlinecolor": "#2a3f5f",
                          "gridcolor": "white",
                          "linecolor": "white",
                          "minorgridcolor": "white",
                          "startlinecolor": "#2a3f5f"
                        },
                        "baxis": {
                          "endlinecolor": "#2a3f5f",
                          "gridcolor": "white",
                          "linecolor": "white",
                          "minorgridcolor": "white",
                          "startlinecolor": "#2a3f5f"
                        },
                        "type": "carpet"
                      }
                    ],
                    "choropleth": [
                      {
                        "colorbar": {
                          "outlinewidth": 0,
                          "ticks": ""
                        },
                        "type": "choropleth"
                      }
                    ],
                    "contour": [
                      {
                        "colorbar": {
                          "outlinewidth": 0,
                          "ticks": ""
                        },
                        "colorscale": [
                          [
                            0,
                            "#0d0887"
                          ],
                          [
                            0.1111111111111111,
                            "#46039f"
                          ],
                          [
                            0.2222222222222222,
                            "#7201a8"
                          ],
                          [
                            0.3333333333333333,
                            "#9c179e"
                          ],
                          [
                            0.4444444444444444,
                            "#bd3786"
                          ],
                          [
                            0.5555555555555556,
                            "#d8576b"
                          ],
                          [
                            0.6666666666666666,
                            "#ed7953"
                          ],
                          [
                            0.7777777777777778,
                            "#fb9f3a"
                          ],
                          [
                            0.8888888888888888,
                            "#fdca26"
                          ],
                          [
                            1,
                            "#f0f921"
                          ]
                        ],
                        "type": "contour"
                      }
                    ],
                    "contourcarpet": [
                      {
                        "colorbar": {
                          "outlinewidth": 0,
                          "ticks": ""
                        },
                        "type": "contourcarpet"
                      }
                    ],
                    "heatmap": [
                      {
                        "colorbar": {
                          "outlinewidth": 0,
                          "ticks": ""
                        },
                        "colorscale": [
                          [
                            0,
                            "#0d0887"
                          ],
                          [
                            0.1111111111111111,
                            "#46039f"
                          ],
                          [
                            0.2222222222222222,
                            "#7201a8"
                          ],
                          [
                            0.3333333333333333,
                            "#9c179e"
                          ],
                          [
                            0.4444444444444444,
                            "#bd3786"
                          ],
                          [
                            0.5555555555555556,
                            "#d8576b"
                          ],
                          [
                            0.6666666666666666,
                            "#ed7953"
                          ],
                          [
                            0.7777777777777778,
                            "#fb9f3a"
                          ],
                          [
                            0.8888888888888888,
                            "#fdca26"
                          ],
                          [
                            1,
                            "#f0f921"
                          ]
                        ],
                        "type": "heatmap"
                      }
                    ],
                    "heatmapgl": [
                      {
                        "colorbar": {
                          "outlinewidth": 0,
                          "ticks": ""
                        },
                        "colorscale": [
                          [
                            0,
                            "#0d0887"
                          ],
                          [
                            0.1111111111111111,
                            "#46039f"
                          ],
                          [
                            0.2222222222222222,
                            "#7201a8"
                          ],
                          [
                            0.3333333333333333,
                            "#9c179e"
                          ],
                          [
                            0.4444444444444444,
                            "#bd3786"
                          ],
                          [
                            0.5555555555555556,
                            "#d8576b"
                          ],
                          [
                            0.6666666666666666,
                            "#ed7953"
                          ],
                          [
                            0.7777777777777778,
                            "#fb9f3a"
                          ],
                          [
                            0.8888888888888888,
                            "#fdca26"
                          ],
                          [
                            1,
                            "#f0f921"
                          ]
                        ],
                        "type": "heatmapgl"
                      }
                    ],
                    "histogram": [
                      {
                        "marker": {
                          "pattern": {
                            "fillmode": "overlay",
                            "size": 10,
                            "solidity": 0.2
                          }
                        },
                        "type": "histogram"
                      }
                    ],
                    "histogram2d": [
                      {
                        "colorbar": {
                          "outlinewidth": 0,
                          "ticks": ""
                        },
                        "colorscale": [
                          [
                            0,
                            "#0d0887"
                          ],
                          [
                            0.1111111111111111,
                            "#46039f"
                          ],
                          [
                            0.2222222222222222,
                            "#7201a8"
                          ],
                          [
                            0.3333333333333333,
                            "#9c179e"
                          ],
                          [
                            0.4444444444444444,
                            "#bd3786"
                          ],
                          [
                            0.5555555555555556,
                            "#d8576b"
                          ],
                          [
                            0.6666666666666666,
                            "#ed7953"
                          ],
                          [
                            0.7777777777777778,
                            "#fb9f3a"
                          ],
                          [
                            0.8888888888888888,
                            "#fdca26"
                          ],
                          [
                            1,
                            "#f0f921"
                          ]
                        ],
                        "type": "histogram2d"
                      }
                    ],
                    "histogram2dcontour": [
                      {
                        "colorbar": {
                          "outlinewidth": 0,
                          "ticks": ""
                        },
                        "colorscale": [
                          [
                            0,
                            "#0d0887"
                          ],
                          [
                            0.1111111111111111,
                            "#46039f"
                          ],
                          [
                            0.2222222222222222,
                            "#7201a8"
                          ],
                          [
                            0.3333333333333333,
                            "#9c179e"
                          ],
                          [
                            0.4444444444444444,
                            "#bd3786"
                          ],
                          [
                            0.5555555555555556,
                            "#d8576b"
                          ],
                          [
                            0.6666666666666666,
                            "#ed7953"
                          ],
                          [
                            0.7777777777777778,
                            "#fb9f3a"
                          ],
                          [
                            0.8888888888888888,
                            "#fdca26"
                          ],
                          [
                            1,
                            "#f0f921"
                          ]
                        ],
                        "type": "histogram2dcontour"
                      }
                    ],
                    "mesh3d": [
                      {
                        "colorbar": {
                          "outlinewidth": 0,
                          "ticks": ""
                        },
                        "type": "mesh3d"
                      }
                    ],
                    "parcoords": [
                      {
                        "line": {
                          "colorbar": {
                            "outlinewidth": 0,
                            "ticks": ""
                          }
                        },
                        "type": "parcoords"
                      }
                    ],
                    "pie": [
                      {
                        "automargin": true,
                        "type": "pie"
                      }
                    ],
                    "scatter": [
                      {
                        "fillpattern": {
                          "fillmode": "overlay",
                          "size": 10,
                          "solidity": 0.2
                        },
                        "type": "scatter"
                      }
                    ],
                    "scatter3d": [
                      {
                        "line": {
                          "colorbar": {
                            "outlinewidth": 0,
                            "ticks": ""
                          }
                        },
                        "marker": {
                          "colorbar": {
                            "outlinewidth": 0,
                            "ticks": ""
                          }
                        },
                        "type": "scatter3d"
                      }
                    ],
                    "scattercarpet": [
                      {
                        "marker": {
                          "colorbar": {
                            "outlinewidth": 0,
                            "ticks": ""
                          }
                        },
                        "type": "scattercarpet"
                      }
                    ],
                    "scattergeo": [
                      {
                        "marker": {
                          "colorbar": {
                            "outlinewidth": 0,
                            "ticks": ""
                          }
                        },
                        "type": "scattergeo"
                      }
                    ],
                    "scattergl": [
                      {
                        "marker": {
                          "colorbar": {
                            "outlinewidth": 0,
                            "ticks": ""
                          }
                        },
                        "type": "scattergl"
                      }
                    ],
                    "scattermapbox": [
                      {
                        "marker": {
                          "colorbar": {
                            "outlinewidth": 0,
                            "ticks": ""
                          }
                        },
                        "type": "scattermapbox"
                      }
                    ],
                    "scatterpolar": [
                      {
                        "marker": {
                          "colorbar": {
                            "outlinewidth": 0,
                            "ticks": ""
                          }
                        },
                        "type": "scatterpolar"
                      }
                    ],
                    "scatterpolargl": [
                      {
                        "marker": {
                          "colorbar": {
                            "outlinewidth": 0,
                            "ticks": ""
                          }
                        },
                        "type": "scatterpolargl"
                      }
                    ],
                    "scatterternary": [
                      {
                        "marker": {
                          "colorbar": {
                            "outlinewidth": 0,
                            "ticks": ""
                          }
                        },
                        "type": "scatterternary"
                      }
                    ],
                    "surface": [
                      {
                        "colorbar": {
                          "outlinewidth": 0,
                          "ticks": ""
                        },
                        "colorscale": [
                          [
                            0,
                            "#0d0887"
                          ],
                          [
                            0.1111111111111111,
                            "#46039f"
                          ],
                          [
                            0.2222222222222222,
                            "#7201a8"
                          ],
                          [
                            0.3333333333333333,
                            "#9c179e"
                          ],
                          [
                            0.4444444444444444,
                            "#bd3786"
                          ],
                          [
                            0.5555555555555556,
                            "#d8576b"
                          ],
                          [
                            0.6666666666666666,
                            "#ed7953"
                          ],
                          [
                            0.7777777777777778,
                            "#fb9f3a"
                          ],
                          [
                            0.8888888888888888,
                            "#fdca26"
                          ],
                          [
                            1,
                            "#f0f921"
                          ]
                        ],
                        "type": "surface"
                      }
                    ],
                    "table": [
                      {
                        "cells": {
                          "fill": {
                            "color": "#EBF0F8"
                          },
                          "line": {
                            "color": "white"
                          }
                        },
                        "header": {
                          "fill": {
                            "color": "#C8D4E3"
                          },
                          "line": {
                            "color": "white"
                          }
                        },
                        "type": "table"
                      }
                    ]
                  },
                  "layout": {
                    "annotationdefaults": {
                      "arrowcolor": "#2a3f5f",
                      "arrowhead": 0,
                      "arrowwidth": 1
                    },
                    "autotypenumbers": "strict",
                    "coloraxis": {
                      "colorbar": {
                        "outlinewidth": 0,
                        "ticks": ""
                      }
                    },
                    "colorscale": {
                      "diverging": [
                        [
                          0,
                          "#8e0152"
                        ],
                        [
                          0.1,
                          "#c51b7d"
                        ],
                        [
                          0.2,
                          "#de77ae"
                        ],
                        [
                          0.3,
                          "#f1b6da"
                        ],
                        [
                          0.4,
                          "#fde0ef"
                        ],
                        [
                          0.5,
                          "#f7f7f7"
                        ],
                        [
                          0.6,
                          "#e6f5d0"
                        ],
                        [
                          0.7,
                          "#b8e186"
                        ],
                        [
                          0.8,
                          "#7fbc41"
                        ],
                        [
                          0.9,
                          "#4d9221"
                        ],
                        [
                          1,
                          "#276419"
                        ]
                      ],
                      "sequential": [
                        [
                          0,
                          "#0d0887"
                        ],
                        [
                          0.1111111111111111,
                          "#46039f"
                        ],
                        [
                          0.2222222222222222,
                          "#7201a8"
                        ],
                        [
                          0.3333333333333333,
                          "#9c179e"
                        ],
                        [
                          0.4444444444444444,
                          "#bd3786"
                        ],
                        [
                          0.5555555555555556,
                          "#d8576b"
                        ],
                        [
                          0.6666666666666666,
                          "#ed7953"
                        ],
                        [
                          0.7777777777777778,
                          "#fb9f3a"
                        ],
                        [
                          0.8888888888888888,
                          "#fdca26"
                        ],
                        [
                          1,
                          "#f0f921"
                        ]
                      ],
                      "sequentialminus": [
                        [
                          0,
                          "#0d0887"
                        ],
                        [
                          0.1111111111111111,
                          "#46039f"
                        ],
                        [
                          0.2222222222222222,
                          "#7201a8"
                        ],
                        [
                          0.3333333333333333,
                          "#9c179e"
                        ],
                        [
                          0.4444444444444444,
                          "#bd3786"
                        ],
                        [
                          0.5555555555555556,
                          "#d8576b"
                        ],
                        [
                          0.6666666666666666,
                          "#ed7953"
                        ],
                        [
                          0.7777777777777778,
                          "#fb9f3a"
                        ],
                        [
                          0.8888888888888888,
                          "#fdca26"
                        ],
                        [
                          1,
                          "#f0f921"
                        ]
                      ]
                    },
                    "colorway": [
                      "#636efa",
                      "#EF553B",
                      "#00cc96",
                      "#ab63fa",
                      "#FFA15A",
                      "#19d3f3",
                      "#FF6692",
                      "#B6E880",
                      "#FF97FF",
                      "#FECB52"
                    ],
                    "font": {
                      "color": "#2a3f5f"
                    },
                    "geo": {
                      "bgcolor": "white",
                      "lakecolor": "white",
                      "landcolor": "#E5ECF6",
                      "showlakes": true,
                      "showland": true,
                      "subunitcolor": "white"
                    },
                    "hoverlabel": {
                      "align": "left"
                    },
                    "hovermode": "closest",
                    "mapbox": {
                      "style": "light"
                    },
                    "paper_bgcolor": "white",
                    "plot_bgcolor": "#E5ECF6",
                    "polar": {
                      "angularaxis": {
                        "gridcolor": "white",
                        "linecolor": "white",
                        "ticks": ""
                      },
                      "bgcolor": "#E5ECF6",
                      "radialaxis": {
                        "gridcolor": "white",
                        "linecolor": "white",
                        "ticks": ""
                      }
                    },
                    "scene": {
                      "xaxis": {
                        "backgroundcolor": "#E5ECF6",
                        "gridcolor": "white",
                        "gridwidth": 2,
                        "linecolor": "white",
                        "showbackground": true,
                        "ticks": "",
                        "zerolinecolor": "white"
                      },
                      "yaxis": {
                        "backgroundcolor": "#E5ECF6",
                        "gridcolor": "white",
                        "gridwidth": 2,
                        "linecolor": "white",
                        "showbackground": true,
                        "ticks": "",
                        "zerolinecolor": "white"
                      },
                      "zaxis": {
                        "backgroundcolor": "#E5ECF6",
                        "gridcolor": "white",
                        "gridwidth": 2,
                        "linecolor": "white",
                        "showbackground": true,
                        "ticks": "",
                        "zerolinecolor": "white"
                      }
                    },
                    "shapedefaults": {
                      "line": {
                        "color": "#2a3f5f"
                      }
                    },
                    "ternary": {
                      "aaxis": {
                        "gridcolor": "white",
                        "linecolor": "white",
                        "ticks": ""
                      },
                      "baxis": {
                        "gridcolor": "white",
                        "linecolor": "white",
                        "ticks": ""
                      },
                      "bgcolor": "#E5ECF6",
                      "caxis": {
                        "gridcolor": "white",
                        "linecolor": "white",
                        "ticks": ""
                      }
                    },
                    "title": {
                      "x": 0.05
                    },
                    "xaxis": {
                      "automargin": true,
                      "gridcolor": "white",
                      "linecolor": "white",
                      "ticks": "",
                      "title": {
                        "standoff": 15
                      },
                      "zerolinecolor": "white",
                      "zerolinewidth": 2
                    },
                    "yaxis": {
                      "automargin": true,
                      "gridcolor": "white",
                      "linecolor": "white",
                      "ticks": "",
                      "title": {
                        "standoff": 15
                      },
                      "zerolinecolor": "white",
                      "zerolinewidth": 2
                    }
                  }
                },
                "title": {
                  "text": " MCC Score by Model"
                },
                "xaxis": {
                  "anchor": "y",
                  "domain": [
                    0,
                    1
                  ],
                  "title": {
                    "text": "Model"
                  }
                },
                "yaxis": {
                  "anchor": "x",
                  "domain": [
                    0,
                    1
                  ],
                  "title": {
                    "text": "MCC Score"
                  }
                }
              }
            }
          },
          "metadata": {},
          "output_type": "display_data"
        }
      ],
      "source": [
        "# MCC as a Bar Chart using Plotly\n",
        "import plotly.express as px\n",
        "\n",
        "fig_mcc = px.bar(\n",
        "    results_df,\n",
        "    x='Model',\n",
        "    y='MCC',\n",
        "    title=' MCC Score by Model',\n",
        "    text='MCC',\n",
        "    color='MCC',\n",
        "    color_continuous_scale='Viridis'\n",
        ")\n",
        "fig_mcc.update_traces(texttemplate='%{text:.2f}', textposition='outside')\n",
        "fig_mcc.update_layout(yaxis_title='MCC Score', xaxis_title='Model', showlegend=False)\n",
        "fig_mcc.show()\n"
      ]
    },
    {
      "cell_type": "code",
      "execution_count": null,
      "metadata": {
        "id": "R9l25waA0AI_"
      },
      "outputs": [
        {
          "data": {
            "application/vnd.plotly.v1+json": {
              "config": {
                "plotlyServerURL": "https://plot.ly"
              },
              "data": [
                {
                  "alignmentgroup": "True",
                  "hovertemplate": "Metric=Accuracy<br>Model=%{x}<br>Score=%{text}<extra></extra>",
                  "legendgroup": "Accuracy",
                  "marker": {
                    "color": "#636efa",
                    "pattern": {
                      "shape": ""
                    }
                  },
                  "name": "Accuracy",
                  "offsetgroup": "Accuracy",
                  "orientation": "v",
                  "showlegend": true,
                  "text": [
                    70.81,
                    65.47,
                    65.47,
                    65.47,
                    65.47,
                    64.84,
                    63.43
                  ],
                  "textposition": "outside",
                  "texttemplate": "%{text:.2f}",
                  "type": "bar",
                  "x": [
                    "K-Nearest Neighbors",
                    "Random Forest",
                    "Decision Tree",
                    "XGBoost",
                    "SVM (RBF Kernel)",
                    "Logistic Regression",
                    "SVM (Linear Kernel)"
                  ],
                  "xaxis": "x",
                  "y": [
                    70.81,
                    65.47,
                    65.47,
                    65.47,
                    65.47,
                    64.84,
                    63.43
                  ],
                  "yaxis": "y"
                },
                {
                  "alignmentgroup": "True",
                  "hovertemplate": "Metric=Precision<br>Model=%{x}<br>Score=%{text}<extra></extra>",
                  "legendgroup": "Precision",
                  "marker": {
                    "color": "#EF553B",
                    "pattern": {
                      "shape": ""
                    }
                  },
                  "name": "Precision",
                  "offsetgroup": "Precision",
                  "orientation": "v",
                  "showlegend": true,
                  "text": [
                    40.32,
                    56.7,
                    56.7,
                    56.7,
                    56.7,
                    55.41,
                    54.58
                  ],
                  "textposition": "outside",
                  "texttemplate": "%{text:.2f}",
                  "type": "bar",
                  "x": [
                    "K-Nearest Neighbors",
                    "Random Forest",
                    "Decision Tree",
                    "XGBoost",
                    "SVM (RBF Kernel)",
                    "Logistic Regression",
                    "SVM (Linear Kernel)"
                  ],
                  "xaxis": "x",
                  "y": [
                    40.32,
                    56.7,
                    56.7,
                    56.7,
                    56.7,
                    55.41,
                    54.58
                  ],
                  "yaxis": "y"
                },
                {
                  "alignmentgroup": "True",
                  "hovertemplate": "Metric=Recall<br>Model=%{x}<br>Score=%{text}<extra></extra>",
                  "legendgroup": "Recall",
                  "marker": {
                    "color": "#00cc96",
                    "pattern": {
                      "shape": ""
                    }
                  },
                  "name": "Recall",
                  "offsetgroup": "Recall",
                  "orientation": "v",
                  "showlegend": true,
                  "text": [
                    45.78,
                    62.43,
                    62.43,
                    62.43,
                    62.43,
                    60.23,
                    58.46
                  ],
                  "textposition": "outside",
                  "texttemplate": "%{text:.2f}",
                  "type": "bar",
                  "x": [
                    "K-Nearest Neighbors",
                    "Random Forest",
                    "Decision Tree",
                    "XGBoost",
                    "SVM (RBF Kernel)",
                    "Logistic Regression",
                    "SVM (Linear Kernel)"
                  ],
                  "xaxis": "x",
                  "y": [
                    45.78,
                    62.43,
                    62.43,
                    62.43,
                    62.43,
                    60.23,
                    58.46
                  ],
                  "yaxis": "y"
                },
                {
                  "alignmentgroup": "True",
                  "hovertemplate": "Metric=F1 Score<br>Model=%{x}<br>Score=%{text}<extra></extra>",
                  "legendgroup": "F1 Score",
                  "marker": {
                    "color": "#ab63fa",
                    "pattern": {
                      "shape": ""
                    }
                  },
                  "name": "F1 Score",
                  "offsetgroup": "F1 Score",
                  "orientation": "v",
                  "showlegend": true,
                  "text": [
                    42.85,
                    56.27,
                    56.27,
                    56.27,
                    56.27,
                    54.87,
                    53.19
                  ],
                  "textposition": "outside",
                  "texttemplate": "%{text:.2f}",
                  "type": "bar",
                  "x": [
                    "K-Nearest Neighbors",
                    "Random Forest",
                    "Decision Tree",
                    "XGBoost",
                    "SVM (RBF Kernel)",
                    "Logistic Regression",
                    "SVM (Linear Kernel)"
                  ],
                  "xaxis": "x",
                  "y": [
                    42.85,
                    56.27,
                    56.27,
                    56.27,
                    56.27,
                    54.87,
                    53.19
                  ],
                  "yaxis": "y"
                },
                {
                  "alignmentgroup": "True",
                  "hovertemplate": "Metric=CV Accuracy Mean<br>Model=%{x}<br>Score=%{text}<extra></extra>",
                  "legendgroup": "CV Accuracy Mean",
                  "marker": {
                    "color": "#FFA15A",
                    "pattern": {
                      "shape": ""
                    }
                  },
                  "name": "CV Accuracy Mean",
                  "offsetgroup": "CV Accuracy Mean",
                  "orientation": "v",
                  "showlegend": true,
                  "text": [
                    48.82,
                    67.06,
                    67.06,
                    67.06,
                    67.06,
                    65.64,
                    64.12
                  ],
                  "textposition": "outside",
                  "texttemplate": "%{text:.2f}",
                  "type": "bar",
                  "x": [
                    "K-Nearest Neighbors",
                    "Random Forest",
                    "Decision Tree",
                    "XGBoost",
                    "SVM (RBF Kernel)",
                    "Logistic Regression",
                    "SVM (Linear Kernel)"
                  ],
                  "xaxis": "x",
                  "y": [
                    48.82,
                    67.06,
                    67.06,
                    67.06,
                    67.06,
                    65.64,
                    64.12
                  ],
                  "yaxis": "y"
                }
              ],
              "layout": {
                "barmode": "group",
                "legend": {
                  "title": {
                    "text": "Metric"
                  },
                  "tracegroupgap": 0
                },
                "template": {
                  "data": {
                    "bar": [
                      {
                        "error_x": {
                          "color": "#2a3f5f"
                        },
                        "error_y": {
                          "color": "#2a3f5f"
                        },
                        "marker": {
                          "line": {
                            "color": "#E5ECF6",
                            "width": 0.5
                          },
                          "pattern": {
                            "fillmode": "overlay",
                            "size": 10,
                            "solidity": 0.2
                          }
                        },
                        "type": "bar"
                      }
                    ],
                    "barpolar": [
                      {
                        "marker": {
                          "line": {
                            "color": "#E5ECF6",
                            "width": 0.5
                          },
                          "pattern": {
                            "fillmode": "overlay",
                            "size": 10,
                            "solidity": 0.2
                          }
                        },
                        "type": "barpolar"
                      }
                    ],
                    "carpet": [
                      {
                        "aaxis": {
                          "endlinecolor": "#2a3f5f",
                          "gridcolor": "white",
                          "linecolor": "white",
                          "minorgridcolor": "white",
                          "startlinecolor": "#2a3f5f"
                        },
                        "baxis": {
                          "endlinecolor": "#2a3f5f",
                          "gridcolor": "white",
                          "linecolor": "white",
                          "minorgridcolor": "white",
                          "startlinecolor": "#2a3f5f"
                        },
                        "type": "carpet"
                      }
                    ],
                    "choropleth": [
                      {
                        "colorbar": {
                          "outlinewidth": 0,
                          "ticks": ""
                        },
                        "type": "choropleth"
                      }
                    ],
                    "contour": [
                      {
                        "colorbar": {
                          "outlinewidth": 0,
                          "ticks": ""
                        },
                        "colorscale": [
                          [
                            0,
                            "#0d0887"
                          ],
                          [
                            0.1111111111111111,
                            "#46039f"
                          ],
                          [
                            0.2222222222222222,
                            "#7201a8"
                          ],
                          [
                            0.3333333333333333,
                            "#9c179e"
                          ],
                          [
                            0.4444444444444444,
                            "#bd3786"
                          ],
                          [
                            0.5555555555555556,
                            "#d8576b"
                          ],
                          [
                            0.6666666666666666,
                            "#ed7953"
                          ],
                          [
                            0.7777777777777778,
                            "#fb9f3a"
                          ],
                          [
                            0.8888888888888888,
                            "#fdca26"
                          ],
                          [
                            1,
                            "#f0f921"
                          ]
                        ],
                        "type": "contour"
                      }
                    ],
                    "contourcarpet": [
                      {
                        "colorbar": {
                          "outlinewidth": 0,
                          "ticks": ""
                        },
                        "type": "contourcarpet"
                      }
                    ],
                    "heatmap": [
                      {
                        "colorbar": {
                          "outlinewidth": 0,
                          "ticks": ""
                        },
                        "colorscale": [
                          [
                            0,
                            "#0d0887"
                          ],
                          [
                            0.1111111111111111,
                            "#46039f"
                          ],
                          [
                            0.2222222222222222,
                            "#7201a8"
                          ],
                          [
                            0.3333333333333333,
                            "#9c179e"
                          ],
                          [
                            0.4444444444444444,
                            "#bd3786"
                          ],
                          [
                            0.5555555555555556,
                            "#d8576b"
                          ],
                          [
                            0.6666666666666666,
                            "#ed7953"
                          ],
                          [
                            0.7777777777777778,
                            "#fb9f3a"
                          ],
                          [
                            0.8888888888888888,
                            "#fdca26"
                          ],
                          [
                            1,
                            "#f0f921"
                          ]
                        ],
                        "type": "heatmap"
                      }
                    ],
                    "heatmapgl": [
                      {
                        "colorbar": {
                          "outlinewidth": 0,
                          "ticks": ""
                        },
                        "colorscale": [
                          [
                            0,
                            "#0d0887"
                          ],
                          [
                            0.1111111111111111,
                            "#46039f"
                          ],
                          [
                            0.2222222222222222,
                            "#7201a8"
                          ],
                          [
                            0.3333333333333333,
                            "#9c179e"
                          ],
                          [
                            0.4444444444444444,
                            "#bd3786"
                          ],
                          [
                            0.5555555555555556,
                            "#d8576b"
                          ],
                          [
                            0.6666666666666666,
                            "#ed7953"
                          ],
                          [
                            0.7777777777777778,
                            "#fb9f3a"
                          ],
                          [
                            0.8888888888888888,
                            "#fdca26"
                          ],
                          [
                            1,
                            "#f0f921"
                          ]
                        ],
                        "type": "heatmapgl"
                      }
                    ],
                    "histogram": [
                      {
                        "marker": {
                          "pattern": {
                            "fillmode": "overlay",
                            "size": 10,
                            "solidity": 0.2
                          }
                        },
                        "type": "histogram"
                      }
                    ],
                    "histogram2d": [
                      {
                        "colorbar": {
                          "outlinewidth": 0,
                          "ticks": ""
                        },
                        "colorscale": [
                          [
                            0,
                            "#0d0887"
                          ],
                          [
                            0.1111111111111111,
                            "#46039f"
                          ],
                          [
                            0.2222222222222222,
                            "#7201a8"
                          ],
                          [
                            0.3333333333333333,
                            "#9c179e"
                          ],
                          [
                            0.4444444444444444,
                            "#bd3786"
                          ],
                          [
                            0.5555555555555556,
                            "#d8576b"
                          ],
                          [
                            0.6666666666666666,
                            "#ed7953"
                          ],
                          [
                            0.7777777777777778,
                            "#fb9f3a"
                          ],
                          [
                            0.8888888888888888,
                            "#fdca26"
                          ],
                          [
                            1,
                            "#f0f921"
                          ]
                        ],
                        "type": "histogram2d"
                      }
                    ],
                    "histogram2dcontour": [
                      {
                        "colorbar": {
                          "outlinewidth": 0,
                          "ticks": ""
                        },
                        "colorscale": [
                          [
                            0,
                            "#0d0887"
                          ],
                          [
                            0.1111111111111111,
                            "#46039f"
                          ],
                          [
                            0.2222222222222222,
                            "#7201a8"
                          ],
                          [
                            0.3333333333333333,
                            "#9c179e"
                          ],
                          [
                            0.4444444444444444,
                            "#bd3786"
                          ],
                          [
                            0.5555555555555556,
                            "#d8576b"
                          ],
                          [
                            0.6666666666666666,
                            "#ed7953"
                          ],
                          [
                            0.7777777777777778,
                            "#fb9f3a"
                          ],
                          [
                            0.8888888888888888,
                            "#fdca26"
                          ],
                          [
                            1,
                            "#f0f921"
                          ]
                        ],
                        "type": "histogram2dcontour"
                      }
                    ],
                    "mesh3d": [
                      {
                        "colorbar": {
                          "outlinewidth": 0,
                          "ticks": ""
                        },
                        "type": "mesh3d"
                      }
                    ],
                    "parcoords": [
                      {
                        "line": {
                          "colorbar": {
                            "outlinewidth": 0,
                            "ticks": ""
                          }
                        },
                        "type": "parcoords"
                      }
                    ],
                    "pie": [
                      {
                        "automargin": true,
                        "type": "pie"
                      }
                    ],
                    "scatter": [
                      {
                        "fillpattern": {
                          "fillmode": "overlay",
                          "size": 10,
                          "solidity": 0.2
                        },
                        "type": "scatter"
                      }
                    ],
                    "scatter3d": [
                      {
                        "line": {
                          "colorbar": {
                            "outlinewidth": 0,
                            "ticks": ""
                          }
                        },
                        "marker": {
                          "colorbar": {
                            "outlinewidth": 0,
                            "ticks": ""
                          }
                        },
                        "type": "scatter3d"
                      }
                    ],
                    "scattercarpet": [
                      {
                        "marker": {
                          "colorbar": {
                            "outlinewidth": 0,
                            "ticks": ""
                          }
                        },
                        "type": "scattercarpet"
                      }
                    ],
                    "scattergeo": [
                      {
                        "marker": {
                          "colorbar": {
                            "outlinewidth": 0,
                            "ticks": ""
                          }
                        },
                        "type": "scattergeo"
                      }
                    ],
                    "scattergl": [
                      {
                        "marker": {
                          "colorbar": {
                            "outlinewidth": 0,
                            "ticks": ""
                          }
                        },
                        "type": "scattergl"
                      }
                    ],
                    "scattermapbox": [
                      {
                        "marker": {
                          "colorbar": {
                            "outlinewidth": 0,
                            "ticks": ""
                          }
                        },
                        "type": "scattermapbox"
                      }
                    ],
                    "scatterpolar": [
                      {
                        "marker": {
                          "colorbar": {
                            "outlinewidth": 0,
                            "ticks": ""
                          }
                        },
                        "type": "scatterpolar"
                      }
                    ],
                    "scatterpolargl": [
                      {
                        "marker": {
                          "colorbar": {
                            "outlinewidth": 0,
                            "ticks": ""
                          }
                        },
                        "type": "scatterpolargl"
                      }
                    ],
                    "scatterternary": [
                      {
                        "marker": {
                          "colorbar": {
                            "outlinewidth": 0,
                            "ticks": ""
                          }
                        },
                        "type": "scatterternary"
                      }
                    ],
                    "surface": [
                      {
                        "colorbar": {
                          "outlinewidth": 0,
                          "ticks": ""
                        },
                        "colorscale": [
                          [
                            0,
                            "#0d0887"
                          ],
                          [
                            0.1111111111111111,
                            "#46039f"
                          ],
                          [
                            0.2222222222222222,
                            "#7201a8"
                          ],
                          [
                            0.3333333333333333,
                            "#9c179e"
                          ],
                          [
                            0.4444444444444444,
                            "#bd3786"
                          ],
                          [
                            0.5555555555555556,
                            "#d8576b"
                          ],
                          [
                            0.6666666666666666,
                            "#ed7953"
                          ],
                          [
                            0.7777777777777778,
                            "#fb9f3a"
                          ],
                          [
                            0.8888888888888888,
                            "#fdca26"
                          ],
                          [
                            1,
                            "#f0f921"
                          ]
                        ],
                        "type": "surface"
                      }
                    ],
                    "table": [
                      {
                        "cells": {
                          "fill": {
                            "color": "#EBF0F8"
                          },
                          "line": {
                            "color": "white"
                          }
                        },
                        "header": {
                          "fill": {
                            "color": "#C8D4E3"
                          },
                          "line": {
                            "color": "white"
                          }
                        },
                        "type": "table"
                      }
                    ]
                  },
                  "layout": {
                    "annotationdefaults": {
                      "arrowcolor": "#2a3f5f",
                      "arrowhead": 0,
                      "arrowwidth": 1
                    },
                    "autotypenumbers": "strict",
                    "coloraxis": {
                      "colorbar": {
                        "outlinewidth": 0,
                        "ticks": ""
                      }
                    },
                    "colorscale": {
                      "diverging": [
                        [
                          0,
                          "#8e0152"
                        ],
                        [
                          0.1,
                          "#c51b7d"
                        ],
                        [
                          0.2,
                          "#de77ae"
                        ],
                        [
                          0.3,
                          "#f1b6da"
                        ],
                        [
                          0.4,
                          "#fde0ef"
                        ],
                        [
                          0.5,
                          "#f7f7f7"
                        ],
                        [
                          0.6,
                          "#e6f5d0"
                        ],
                        [
                          0.7,
                          "#b8e186"
                        ],
                        [
                          0.8,
                          "#7fbc41"
                        ],
                        [
                          0.9,
                          "#4d9221"
                        ],
                        [
                          1,
                          "#276419"
                        ]
                      ],
                      "sequential": [
                        [
                          0,
                          "#0d0887"
                        ],
                        [
                          0.1111111111111111,
                          "#46039f"
                        ],
                        [
                          0.2222222222222222,
                          "#7201a8"
                        ],
                        [
                          0.3333333333333333,
                          "#9c179e"
                        ],
                        [
                          0.4444444444444444,
                          "#bd3786"
                        ],
                        [
                          0.5555555555555556,
                          "#d8576b"
                        ],
                        [
                          0.6666666666666666,
                          "#ed7953"
                        ],
                        [
                          0.7777777777777778,
                          "#fb9f3a"
                        ],
                        [
                          0.8888888888888888,
                          "#fdca26"
                        ],
                        [
                          1,
                          "#f0f921"
                        ]
                      ],
                      "sequentialminus": [
                        [
                          0,
                          "#0d0887"
                        ],
                        [
                          0.1111111111111111,
                          "#46039f"
                        ],
                        [
                          0.2222222222222222,
                          "#7201a8"
                        ],
                        [
                          0.3333333333333333,
                          "#9c179e"
                        ],
                        [
                          0.4444444444444444,
                          "#bd3786"
                        ],
                        [
                          0.5555555555555556,
                          "#d8576b"
                        ],
                        [
                          0.6666666666666666,
                          "#ed7953"
                        ],
                        [
                          0.7777777777777778,
                          "#fb9f3a"
                        ],
                        [
                          0.8888888888888888,
                          "#fdca26"
                        ],
                        [
                          1,
                          "#f0f921"
                        ]
                      ]
                    },
                    "colorway": [
                      "#636efa",
                      "#EF553B",
                      "#00cc96",
                      "#ab63fa",
                      "#FFA15A",
                      "#19d3f3",
                      "#FF6692",
                      "#B6E880",
                      "#FF97FF",
                      "#FECB52"
                    ],
                    "font": {
                      "color": "#2a3f5f"
                    },
                    "geo": {
                      "bgcolor": "white",
                      "lakecolor": "white",
                      "landcolor": "#E5ECF6",
                      "showlakes": true,
                      "showland": true,
                      "subunitcolor": "white"
                    },
                    "hoverlabel": {
                      "align": "left"
                    },
                    "hovermode": "closest",
                    "mapbox": {
                      "style": "light"
                    },
                    "paper_bgcolor": "white",
                    "plot_bgcolor": "#E5ECF6",
                    "polar": {
                      "angularaxis": {
                        "gridcolor": "white",
                        "linecolor": "white",
                        "ticks": ""
                      },
                      "bgcolor": "#E5ECF6",
                      "radialaxis": {
                        "gridcolor": "white",
                        "linecolor": "white",
                        "ticks": ""
                      }
                    },
                    "scene": {
                      "xaxis": {
                        "backgroundcolor": "#E5ECF6",
                        "gridcolor": "white",
                        "gridwidth": 2,
                        "linecolor": "white",
                        "showbackground": true,
                        "ticks": "",
                        "zerolinecolor": "white"
                      },
                      "yaxis": {
                        "backgroundcolor": "#E5ECF6",
                        "gridcolor": "white",
                        "gridwidth": 2,
                        "linecolor": "white",
                        "showbackground": true,
                        "ticks": "",
                        "zerolinecolor": "white"
                      },
                      "zaxis": {
                        "backgroundcolor": "#E5ECF6",
                        "gridcolor": "white",
                        "gridwidth": 2,
                        "linecolor": "white",
                        "showbackground": true,
                        "ticks": "",
                        "zerolinecolor": "white"
                      }
                    },
                    "shapedefaults": {
                      "line": {
                        "color": "#2a3f5f"
                      }
                    },
                    "ternary": {
                      "aaxis": {
                        "gridcolor": "white",
                        "linecolor": "white",
                        "ticks": ""
                      },
                      "baxis": {
                        "gridcolor": "white",
                        "linecolor": "white",
                        "ticks": ""
                      },
                      "bgcolor": "#E5ECF6",
                      "caxis": {
                        "gridcolor": "white",
                        "linecolor": "white",
                        "ticks": ""
                      }
                    },
                    "title": {
                      "x": 0.05
                    },
                    "xaxis": {
                      "automargin": true,
                      "gridcolor": "white",
                      "linecolor": "white",
                      "ticks": "",
                      "title": {
                        "standoff": 15
                      },
                      "zerolinecolor": "white",
                      "zerolinewidth": 2
                    },
                    "yaxis": {
                      "automargin": true,
                      "gridcolor": "white",
                      "linecolor": "white",
                      "ticks": "",
                      "title": {
                        "standoff": 15
                      },
                      "zerolinecolor": "white",
                      "zerolinewidth": 2
                    }
                  }
                },
                "title": {
                  "text": " Model Comparison Across Multiple Metrics"
                },
                "xaxis": {
                  "anchor": "y",
                  "domain": [
                    0,
                    1
                  ],
                  "tickangle": -45,
                  "title": {
                    "text": "Model"
                  }
                },
                "yaxis": {
                  "anchor": "x",
                  "domain": [
                    0,
                    1
                  ],
                  "title": {
                    "text": "Score (%)"
                  }
                }
              }
            }
          },
          "metadata": {},
          "output_type": "display_data"
        }
      ],
      "source": [
        "# Bar graph model comparision \n",
        "melted = results_df.melt(\n",
        "    id_vars='Model',\n",
        "    value_vars=['Accuracy', 'Precision', 'Recall', 'F1 Score', 'CV Accuracy Mean'],\n",
        "    var_name='Metric',\n",
        "    value_name='Score'\n",
        ")\n",
        "\n",
        "fig_all = px.bar(\n",
        "    melted,\n",
        "    x='Model',\n",
        "    y='Score',\n",
        "    color='Metric',\n",
        "    barmode='group',\n",
        "    text='Score',\n",
        "    title=' Model Comparison Across Multiple Metrics'\n",
        ")\n",
        "\n",
        "fig_all.update_traces(texttemplate='%{text:.2f}', textposition='outside')\n",
        "fig_all.update_layout(\n",
        "    yaxis_title='Score (%)',\n",
        "    xaxis_title='Model',\n",
        "    legend_title='Metric',\n",
        "    xaxis_tickangle=-45\n",
        ")\n",
        "fig_all.show()\n"
      ]
    },
    {
      "cell_type": "code",
      "execution_count": 24,
      "metadata": {
        "id": "KAaB_fOo0AGo"
      },
      "outputs": [
        {
          "data": {
            "application/vnd.plotly.v1+json": {
              "config": {
                "plotlyServerURL": "https://plot.ly"
              },
              "data": [
                {
                  "marker": {
                    "color": "salmon"
                  },
                  "name": "Decision Tree",
                  "type": "bar",
                  "x": [
                    "Hydrogen Bonding",
                    "Electronegativity",
                    "Mass",
                    "Turn Propensity",
                    "Beta Sheet Propensity",
                    "Hydrophobicity",
                    "Polarity",
                    "Surface Tension"
                  ],
                  "y": [
                    0.9220614507862779,
                    0.007801352080404603,
                    0.025548733142319112,
                    0,
                    0.0006281871853815468,
                    0.0013782622938903351,
                    0.03226581029779817,
                    0.010316204213928377
                  ]
                },
                {
                  "marker": {
                    "color": "skyblue"
                  },
                  "name": "Random Forest",
                  "type": "bar",
                  "x": [
                    "Hydrogen Bonding",
                    "Electronegativity",
                    "Mass",
                    "Turn Propensity",
                    "Beta Sheet Propensity",
                    "Hydrophobicity",
                    "Polarity",
                    "Surface Tension"
                  ],
                  "y": [
                    0.1734154765472742,
                    0.05758919452800316,
                    0.10944936567162769,
                    0.0038266261261151496,
                    0.16001366215280405,
                    0.23561187595884692,
                    0.07933232945990897,
                    0.18076146955541986
                  ]
                },
                {
                  "marker": {
                    "color": "lightgreen"
                  },
                  "name": "XGBoost",
                  "type": "bar",
                  "x": [
                    "Hydrogen Bonding",
                    "Electronegativity",
                    "Mass",
                    "Turn Propensity",
                    "Beta Sheet Propensity",
                    "Hydrophobicity",
                    "Polarity",
                    "Surface Tension"
                  ],
                  "y": [
                    0.6257588267326355,
                    0.11164603382349014,
                    0.027174578979611397,
                    0.036142364144325256,
                    0.010893230326473713,
                    0.04106922447681427,
                    0.12869909405708313,
                    0.01861662231385708
                  ]
                }
              ],
              "layout": {
                "barmode": "group",
                "height": 500,
                "template": {
                  "data": {
                    "bar": [
                      {
                        "error_x": {
                          "color": "#2a3f5f"
                        },
                        "error_y": {
                          "color": "#2a3f5f"
                        },
                        "marker": {
                          "line": {
                            "color": "white",
                            "width": 0.5
                          },
                          "pattern": {
                            "fillmode": "overlay",
                            "size": 10,
                            "solidity": 0.2
                          }
                        },
                        "type": "bar"
                      }
                    ],
                    "barpolar": [
                      {
                        "marker": {
                          "line": {
                            "color": "white",
                            "width": 0.5
                          },
                          "pattern": {
                            "fillmode": "overlay",
                            "size": 10,
                            "solidity": 0.2
                          }
                        },
                        "type": "barpolar"
                      }
                    ],
                    "carpet": [
                      {
                        "aaxis": {
                          "endlinecolor": "#2a3f5f",
                          "gridcolor": "#C8D4E3",
                          "linecolor": "#C8D4E3",
                          "minorgridcolor": "#C8D4E3",
                          "startlinecolor": "#2a3f5f"
                        },
                        "baxis": {
                          "endlinecolor": "#2a3f5f",
                          "gridcolor": "#C8D4E3",
                          "linecolor": "#C8D4E3",
                          "minorgridcolor": "#C8D4E3",
                          "startlinecolor": "#2a3f5f"
                        },
                        "type": "carpet"
                      }
                    ],
                    "choropleth": [
                      {
                        "colorbar": {
                          "outlinewidth": 0,
                          "ticks": ""
                        },
                        "type": "choropleth"
                      }
                    ],
                    "contour": [
                      {
                        "colorbar": {
                          "outlinewidth": 0,
                          "ticks": ""
                        },
                        "colorscale": [
                          [
                            0,
                            "#0d0887"
                          ],
                          [
                            0.1111111111111111,
                            "#46039f"
                          ],
                          [
                            0.2222222222222222,
                            "#7201a8"
                          ],
                          [
                            0.3333333333333333,
                            "#9c179e"
                          ],
                          [
                            0.4444444444444444,
                            "#bd3786"
                          ],
                          [
                            0.5555555555555556,
                            "#d8576b"
                          ],
                          [
                            0.6666666666666666,
                            "#ed7953"
                          ],
                          [
                            0.7777777777777778,
                            "#fb9f3a"
                          ],
                          [
                            0.8888888888888888,
                            "#fdca26"
                          ],
                          [
                            1,
                            "#f0f921"
                          ]
                        ],
                        "type": "contour"
                      }
                    ],
                    "contourcarpet": [
                      {
                        "colorbar": {
                          "outlinewidth": 0,
                          "ticks": ""
                        },
                        "type": "contourcarpet"
                      }
                    ],
                    "heatmap": [
                      {
                        "colorbar": {
                          "outlinewidth": 0,
                          "ticks": ""
                        },
                        "colorscale": [
                          [
                            0,
                            "#0d0887"
                          ],
                          [
                            0.1111111111111111,
                            "#46039f"
                          ],
                          [
                            0.2222222222222222,
                            "#7201a8"
                          ],
                          [
                            0.3333333333333333,
                            "#9c179e"
                          ],
                          [
                            0.4444444444444444,
                            "#bd3786"
                          ],
                          [
                            0.5555555555555556,
                            "#d8576b"
                          ],
                          [
                            0.6666666666666666,
                            "#ed7953"
                          ],
                          [
                            0.7777777777777778,
                            "#fb9f3a"
                          ],
                          [
                            0.8888888888888888,
                            "#fdca26"
                          ],
                          [
                            1,
                            "#f0f921"
                          ]
                        ],
                        "type": "heatmap"
                      }
                    ],
                    "heatmapgl": [
                      {
                        "colorbar": {
                          "outlinewidth": 0,
                          "ticks": ""
                        },
                        "colorscale": [
                          [
                            0,
                            "#0d0887"
                          ],
                          [
                            0.1111111111111111,
                            "#46039f"
                          ],
                          [
                            0.2222222222222222,
                            "#7201a8"
                          ],
                          [
                            0.3333333333333333,
                            "#9c179e"
                          ],
                          [
                            0.4444444444444444,
                            "#bd3786"
                          ],
                          [
                            0.5555555555555556,
                            "#d8576b"
                          ],
                          [
                            0.6666666666666666,
                            "#ed7953"
                          ],
                          [
                            0.7777777777777778,
                            "#fb9f3a"
                          ],
                          [
                            0.8888888888888888,
                            "#fdca26"
                          ],
                          [
                            1,
                            "#f0f921"
                          ]
                        ],
                        "type": "heatmapgl"
                      }
                    ],
                    "histogram": [
                      {
                        "marker": {
                          "pattern": {
                            "fillmode": "overlay",
                            "size": 10,
                            "solidity": 0.2
                          }
                        },
                        "type": "histogram"
                      }
                    ],
                    "histogram2d": [
                      {
                        "colorbar": {
                          "outlinewidth": 0,
                          "ticks": ""
                        },
                        "colorscale": [
                          [
                            0,
                            "#0d0887"
                          ],
                          [
                            0.1111111111111111,
                            "#46039f"
                          ],
                          [
                            0.2222222222222222,
                            "#7201a8"
                          ],
                          [
                            0.3333333333333333,
                            "#9c179e"
                          ],
                          [
                            0.4444444444444444,
                            "#bd3786"
                          ],
                          [
                            0.5555555555555556,
                            "#d8576b"
                          ],
                          [
                            0.6666666666666666,
                            "#ed7953"
                          ],
                          [
                            0.7777777777777778,
                            "#fb9f3a"
                          ],
                          [
                            0.8888888888888888,
                            "#fdca26"
                          ],
                          [
                            1,
                            "#f0f921"
                          ]
                        ],
                        "type": "histogram2d"
                      }
                    ],
                    "histogram2dcontour": [
                      {
                        "colorbar": {
                          "outlinewidth": 0,
                          "ticks": ""
                        },
                        "colorscale": [
                          [
                            0,
                            "#0d0887"
                          ],
                          [
                            0.1111111111111111,
                            "#46039f"
                          ],
                          [
                            0.2222222222222222,
                            "#7201a8"
                          ],
                          [
                            0.3333333333333333,
                            "#9c179e"
                          ],
                          [
                            0.4444444444444444,
                            "#bd3786"
                          ],
                          [
                            0.5555555555555556,
                            "#d8576b"
                          ],
                          [
                            0.6666666666666666,
                            "#ed7953"
                          ],
                          [
                            0.7777777777777778,
                            "#fb9f3a"
                          ],
                          [
                            0.8888888888888888,
                            "#fdca26"
                          ],
                          [
                            1,
                            "#f0f921"
                          ]
                        ],
                        "type": "histogram2dcontour"
                      }
                    ],
                    "mesh3d": [
                      {
                        "colorbar": {
                          "outlinewidth": 0,
                          "ticks": ""
                        },
                        "type": "mesh3d"
                      }
                    ],
                    "parcoords": [
                      {
                        "line": {
                          "colorbar": {
                            "outlinewidth": 0,
                            "ticks": ""
                          }
                        },
                        "type": "parcoords"
                      }
                    ],
                    "pie": [
                      {
                        "automargin": true,
                        "type": "pie"
                      }
                    ],
                    "scatter": [
                      {
                        "fillpattern": {
                          "fillmode": "overlay",
                          "size": 10,
                          "solidity": 0.2
                        },
                        "type": "scatter"
                      }
                    ],
                    "scatter3d": [
                      {
                        "line": {
                          "colorbar": {
                            "outlinewidth": 0,
                            "ticks": ""
                          }
                        },
                        "marker": {
                          "colorbar": {
                            "outlinewidth": 0,
                            "ticks": ""
                          }
                        },
                        "type": "scatter3d"
                      }
                    ],
                    "scattercarpet": [
                      {
                        "marker": {
                          "colorbar": {
                            "outlinewidth": 0,
                            "ticks": ""
                          }
                        },
                        "type": "scattercarpet"
                      }
                    ],
                    "scattergeo": [
                      {
                        "marker": {
                          "colorbar": {
                            "outlinewidth": 0,
                            "ticks": ""
                          }
                        },
                        "type": "scattergeo"
                      }
                    ],
                    "scattergl": [
                      {
                        "marker": {
                          "colorbar": {
                            "outlinewidth": 0,
                            "ticks": ""
                          }
                        },
                        "type": "scattergl"
                      }
                    ],
                    "scattermapbox": [
                      {
                        "marker": {
                          "colorbar": {
                            "outlinewidth": 0,
                            "ticks": ""
                          }
                        },
                        "type": "scattermapbox"
                      }
                    ],
                    "scatterpolar": [
                      {
                        "marker": {
                          "colorbar": {
                            "outlinewidth": 0,
                            "ticks": ""
                          }
                        },
                        "type": "scatterpolar"
                      }
                    ],
                    "scatterpolargl": [
                      {
                        "marker": {
                          "colorbar": {
                            "outlinewidth": 0,
                            "ticks": ""
                          }
                        },
                        "type": "scatterpolargl"
                      }
                    ],
                    "scatterternary": [
                      {
                        "marker": {
                          "colorbar": {
                            "outlinewidth": 0,
                            "ticks": ""
                          }
                        },
                        "type": "scatterternary"
                      }
                    ],
                    "surface": [
                      {
                        "colorbar": {
                          "outlinewidth": 0,
                          "ticks": ""
                        },
                        "colorscale": [
                          [
                            0,
                            "#0d0887"
                          ],
                          [
                            0.1111111111111111,
                            "#46039f"
                          ],
                          [
                            0.2222222222222222,
                            "#7201a8"
                          ],
                          [
                            0.3333333333333333,
                            "#9c179e"
                          ],
                          [
                            0.4444444444444444,
                            "#bd3786"
                          ],
                          [
                            0.5555555555555556,
                            "#d8576b"
                          ],
                          [
                            0.6666666666666666,
                            "#ed7953"
                          ],
                          [
                            0.7777777777777778,
                            "#fb9f3a"
                          ],
                          [
                            0.8888888888888888,
                            "#fdca26"
                          ],
                          [
                            1,
                            "#f0f921"
                          ]
                        ],
                        "type": "surface"
                      }
                    ],
                    "table": [
                      {
                        "cells": {
                          "fill": {
                            "color": "#EBF0F8"
                          },
                          "line": {
                            "color": "white"
                          }
                        },
                        "header": {
                          "fill": {
                            "color": "#C8D4E3"
                          },
                          "line": {
                            "color": "white"
                          }
                        },
                        "type": "table"
                      }
                    ]
                  },
                  "layout": {
                    "annotationdefaults": {
                      "arrowcolor": "#2a3f5f",
                      "arrowhead": 0,
                      "arrowwidth": 1
                    },
                    "autotypenumbers": "strict",
                    "coloraxis": {
                      "colorbar": {
                        "outlinewidth": 0,
                        "ticks": ""
                      }
                    },
                    "colorscale": {
                      "diverging": [
                        [
                          0,
                          "#8e0152"
                        ],
                        [
                          0.1,
                          "#c51b7d"
                        ],
                        [
                          0.2,
                          "#de77ae"
                        ],
                        [
                          0.3,
                          "#f1b6da"
                        ],
                        [
                          0.4,
                          "#fde0ef"
                        ],
                        [
                          0.5,
                          "#f7f7f7"
                        ],
                        [
                          0.6,
                          "#e6f5d0"
                        ],
                        [
                          0.7,
                          "#b8e186"
                        ],
                        [
                          0.8,
                          "#7fbc41"
                        ],
                        [
                          0.9,
                          "#4d9221"
                        ],
                        [
                          1,
                          "#276419"
                        ]
                      ],
                      "sequential": [
                        [
                          0,
                          "#0d0887"
                        ],
                        [
                          0.1111111111111111,
                          "#46039f"
                        ],
                        [
                          0.2222222222222222,
                          "#7201a8"
                        ],
                        [
                          0.3333333333333333,
                          "#9c179e"
                        ],
                        [
                          0.4444444444444444,
                          "#bd3786"
                        ],
                        [
                          0.5555555555555556,
                          "#d8576b"
                        ],
                        [
                          0.6666666666666666,
                          "#ed7953"
                        ],
                        [
                          0.7777777777777778,
                          "#fb9f3a"
                        ],
                        [
                          0.8888888888888888,
                          "#fdca26"
                        ],
                        [
                          1,
                          "#f0f921"
                        ]
                      ],
                      "sequentialminus": [
                        [
                          0,
                          "#0d0887"
                        ],
                        [
                          0.1111111111111111,
                          "#46039f"
                        ],
                        [
                          0.2222222222222222,
                          "#7201a8"
                        ],
                        [
                          0.3333333333333333,
                          "#9c179e"
                        ],
                        [
                          0.4444444444444444,
                          "#bd3786"
                        ],
                        [
                          0.5555555555555556,
                          "#d8576b"
                        ],
                        [
                          0.6666666666666666,
                          "#ed7953"
                        ],
                        [
                          0.7777777777777778,
                          "#fb9f3a"
                        ],
                        [
                          0.8888888888888888,
                          "#fdca26"
                        ],
                        [
                          1,
                          "#f0f921"
                        ]
                      ]
                    },
                    "colorway": [
                      "#636efa",
                      "#EF553B",
                      "#00cc96",
                      "#ab63fa",
                      "#FFA15A",
                      "#19d3f3",
                      "#FF6692",
                      "#B6E880",
                      "#FF97FF",
                      "#FECB52"
                    ],
                    "font": {
                      "color": "#2a3f5f"
                    },
                    "geo": {
                      "bgcolor": "white",
                      "lakecolor": "white",
                      "landcolor": "white",
                      "showlakes": true,
                      "showland": true,
                      "subunitcolor": "#C8D4E3"
                    },
                    "hoverlabel": {
                      "align": "left"
                    },
                    "hovermode": "closest",
                    "mapbox": {
                      "style": "light"
                    },
                    "paper_bgcolor": "white",
                    "plot_bgcolor": "white",
                    "polar": {
                      "angularaxis": {
                        "gridcolor": "#EBF0F8",
                        "linecolor": "#EBF0F8",
                        "ticks": ""
                      },
                      "bgcolor": "white",
                      "radialaxis": {
                        "gridcolor": "#EBF0F8",
                        "linecolor": "#EBF0F8",
                        "ticks": ""
                      }
                    },
                    "scene": {
                      "xaxis": {
                        "backgroundcolor": "white",
                        "gridcolor": "#DFE8F3",
                        "gridwidth": 2,
                        "linecolor": "#EBF0F8",
                        "showbackground": true,
                        "ticks": "",
                        "zerolinecolor": "#EBF0F8"
                      },
                      "yaxis": {
                        "backgroundcolor": "white",
                        "gridcolor": "#DFE8F3",
                        "gridwidth": 2,
                        "linecolor": "#EBF0F8",
                        "showbackground": true,
                        "ticks": "",
                        "zerolinecolor": "#EBF0F8"
                      },
                      "zaxis": {
                        "backgroundcolor": "white",
                        "gridcolor": "#DFE8F3",
                        "gridwidth": 2,
                        "linecolor": "#EBF0F8",
                        "showbackground": true,
                        "ticks": "",
                        "zerolinecolor": "#EBF0F8"
                      }
                    },
                    "shapedefaults": {
                      "line": {
                        "color": "#2a3f5f"
                      }
                    },
                    "ternary": {
                      "aaxis": {
                        "gridcolor": "#DFE8F3",
                        "linecolor": "#A2B1C6",
                        "ticks": ""
                      },
                      "baxis": {
                        "gridcolor": "#DFE8F3",
                        "linecolor": "#A2B1C6",
                        "ticks": ""
                      },
                      "bgcolor": "white",
                      "caxis": {
                        "gridcolor": "#DFE8F3",
                        "linecolor": "#A2B1C6",
                        "ticks": ""
                      }
                    },
                    "title": {
                      "x": 0.05
                    },
                    "xaxis": {
                      "automargin": true,
                      "gridcolor": "#EBF0F8",
                      "linecolor": "#EBF0F8",
                      "ticks": "",
                      "title": {
                        "standoff": 15
                      },
                      "zerolinecolor": "#EBF0F8",
                      "zerolinewidth": 2
                    },
                    "yaxis": {
                      "automargin": true,
                      "gridcolor": "#EBF0F8",
                      "linecolor": "#EBF0F8",
                      "ticks": "",
                      "title": {
                        "standoff": 15
                      },
                      "zerolinecolor": "#EBF0F8",
                      "zerolinewidth": 2
                    }
                  }
                },
                "title": {
                  "text": "Feature Importance: DT vs RF vs XGBoost (Selected 8 AAindex Features)"
                },
                "width": 900,
                "xaxis": {
                  "title": {
                    "text": "AAindex Features"
                  }
                },
                "yaxis": {
                  "title": {
                    "text": "Importance Score"
                  }
                }
              }
            }
          },
          "metadata": {},
          "output_type": "display_data"
        }
      ],
      "source": [
        "## Future importance plot\n",
        "\n",
        "# Save fitted models explicitly so can access their feature_importances_\n",
        "dt = models['Decision Tree']\n",
        "rf = models['Random Forest']\n",
        "xgb = models['XGBoost']\n",
        "\n",
        "# Feature names used\n",
        "feature_names = [\n",
        "    'Hydrogen Bonding',\n",
        "    'Electronegativity',\n",
        "    'Mass',\n",
        "    'Turn Propensity',\n",
        "    'Beta Sheet Propensity',\n",
        "    'Hydrophobicity',\n",
        "    'Polarity',\n",
        "    'Surface Tension'\n",
        "]\n",
        "\n",
        "\n",
        "# Extract feature importances\n",
        "dt_importances = dt.feature_importances_\n",
        "rf_importances = rf.feature_importances_\n",
        "xgb_importances = xgb.feature_importances_\n",
        "\n",
        "\n",
        "# Plot using Plotly\n",
        "import plotly.graph_objects as go\n",
        "\n",
        "fig = go.Figure()\n",
        "\n",
        "fig.add_trace(go.Bar(\n",
        "    x=feature_names,\n",
        "    y=dt_importances,\n",
        "    name='Decision Tree',\n",
        "    marker_color='salmon'\n",
        "))\n",
        "\n",
        "fig.add_trace(go.Bar(\n",
        "    x=feature_names,\n",
        "    y=rf_importances,\n",
        "    name='Random Forest',\n",
        "    marker_color='skyblue'\n",
        "))\n",
        "\n",
        "fig.add_trace(go.Bar(\n",
        "    x=feature_names,\n",
        "    y=xgb_importances,\n",
        "    name='XGBoost',\n",
        "    marker_color='lightgreen'\n",
        "))\n",
        "\n",
        "fig.update_layout(\n",
        "    title='Feature Importance: DT vs RF vs XGBoost (Selected 8 AAindex Features)',\n",
        "    xaxis_title='AAindex Features',\n",
        "    yaxis_title='Importance Score',\n",
        "    barmode='group',\n",
        "    template='plotly_white',\n",
        "    width=900,\n",
        "    height=500\n",
        ")\n",
        "\n",
        "fig.show()"
      ]
    },
    {
      "cell_type": "markdown",
      "metadata": {
        "id": "ihcDx1fM0Ij3"
      },
      "source": [
        "Confidence Interval (CI)\n",
        "\n",
        "A confidence interval gives a range of values that is likely to contain the true value of a metric (like accuracy), based on sample (test data).\n",
        "\n",
        "It's used to express uncertainty in performance evaluation."
      ]
    },
    {
      "cell_type": "markdown",
      "metadata": {
        "id": "J7oraR3P0Jgm"
      },
      "source": [
        "Adding confidence intervals and performing statistical tests like McNemar’s test helps to compare model performance, going beyond just raw accuracy or F1-scores.\n",
        "\n",
        "These methods determine whether the performance differences between models are statistically significant or just due to random chance"
      ]
    },
    {
      "cell_type": "code",
      "execution_count": 25,
      "metadata": {
        "id": "UTJ3oCXg0AEd"
      },
      "outputs": [],
      "source": [
        "from statsmodels.stats.proportion import proportion_confint\n",
        "from statsmodels.stats.contingency_tables import mcnemar\n",
        "\n",
        "models = {\n",
        "    \"Decision Tree\": DecisionTreeClassifier(class_weight='balanced', random_state=42),\n",
        "    \"Random Forest\": RandomForestClassifier(n_estimators=100, random_state=42),  # No class_weight here (SMOTE already balances)\n",
        "    \"XGBoost\": XGBClassifier(eval_metric='mlogloss', random_state=42),  # Handles imbalance internally with `scale_pos_weight`, if needed\n",
        "    \"Logistic Regression\": LogisticRegression(max_iter=1000, class_weight='balanced'),\n",
        "    \"SVM (Linear Kernel)\": SVC(kernel='linear', class_weight='balanced'),\n",
        "    \"SVM (RBF Kernel)\": SVC(kernel='rbf', class_weight='balanced'),\n",
        "    \"K-Nearest Neighbors\": KNeighborsClassifier(n_neighbors=5, weights='distance')  # No class_weight support\n",
        "}\n",
        "\n",
        "\n",
        "# Store evaluation results and predictions\n",
        "results = []\n",
        "predictions = {}\n",
        "n = len(y_test)\n",
        "\n",
        "# Train, predict, evaluate\n",
        "for name, model in models.items():\n",
        "    model.fit(X_train, y_train)\n",
        "    y_pred = model.predict(X_test)\n",
        "    predictions[name] = y_pred  # for McNemar later\n",
        "\n",
        "    acc = accuracy_score(y_test, y_pred)\n",
        "    correct = int(acc * n)\n",
        "    ci_low, ci_high = proportion_confint(count=correct, nobs=n, alpha=0.05, method='normal')\n",
        "\n",
        "    precision = precision_score(y_test, y_pred, average='macro',zero_division=0)\n",
        "    recall = recall_score(y_test, y_pred, average='macro',zero_division=0)\n",
        "    f1_macro = f1_score(y_test, y_pred, average='macro',zero_division=0)\n",
        "    mcc = matthews_corrcoef(y_test, y_pred)\n",
        "\n",
        "    results.append({\n",
        "        'Model': name,\n",
        "        'Accuracy': round(acc * 100, 2),\n",
        "        '95% CI(Lower)': round(ci_low * 100, 2),\n",
        "        '95% CI(Upper)': round(ci_high * 100, 2),\n",
        "        'Precision(Macro)': round(precision * 100, 2),\n",
        "        'Recall(Macro)': round(recall * 100, 2),\n",
        "        'F1-Score(Macro)': round(f1_macro * 100, 2),\n",
        "        'MCC': round(mcc, 2)\n",
        "    })\n",
        "\n",
        "# Create DataFrame\n",
        "df_metrics = pd.DataFrame(results)"
      ]
    },
    {
      "cell_type": "code",
      "execution_count": 26,
      "metadata": {
        "id": "HXmazYSO0ACC"
      },
      "outputs": [
        {
          "name": "stdout",
          "output_type": "stream",
          "text": [
            "\n",
            " Final Metrics with 95% Confidence Intervals:\n",
            "\n"
          ]
        },
        {
          "data": {
            "text/html": [
              "<div>\n",
              "<style scoped>\n",
              "    .dataframe tbody tr th:only-of-type {\n",
              "        vertical-align: middle;\n",
              "    }\n",
              "\n",
              "    .dataframe tbody tr th {\n",
              "        vertical-align: top;\n",
              "    }\n",
              "\n",
              "    .dataframe thead th {\n",
              "        text-align: right;\n",
              "    }\n",
              "</style>\n",
              "<table border=\"1\" class=\"dataframe\">\n",
              "  <thead>\n",
              "    <tr style=\"text-align: right;\">\n",
              "      <th></th>\n",
              "      <th>Model</th>\n",
              "      <th>Accuracy</th>\n",
              "      <th>95% CI(Lower)</th>\n",
              "      <th>95% CI(Upper)</th>\n",
              "      <th>Precision(Macro)</th>\n",
              "      <th>Recall(Macro)</th>\n",
              "      <th>F1-Score(Macro)</th>\n",
              "      <th>MCC</th>\n",
              "    </tr>\n",
              "  </thead>\n",
              "  <tbody>\n",
              "    <tr>\n",
              "      <th>0</th>\n",
              "      <td>Decision Tree</td>\n",
              "      <td>65.47</td>\n",
              "      <td>64.88</td>\n",
              "      <td>66.06</td>\n",
              "      <td>56.70</td>\n",
              "      <td>62.43</td>\n",
              "      <td>56.27</td>\n",
              "      <td>0.45</td>\n",
              "    </tr>\n",
              "    <tr>\n",
              "      <th>1</th>\n",
              "      <td>Random Forest</td>\n",
              "      <td>65.47</td>\n",
              "      <td>64.88</td>\n",
              "      <td>66.06</td>\n",
              "      <td>56.70</td>\n",
              "      <td>62.43</td>\n",
              "      <td>56.27</td>\n",
              "      <td>0.45</td>\n",
              "    </tr>\n",
              "    <tr>\n",
              "      <th>2</th>\n",
              "      <td>XGBoost</td>\n",
              "      <td>65.47</td>\n",
              "      <td>64.88</td>\n",
              "      <td>66.06</td>\n",
              "      <td>56.70</td>\n",
              "      <td>62.43</td>\n",
              "      <td>56.27</td>\n",
              "      <td>0.45</td>\n",
              "    </tr>\n",
              "    <tr>\n",
              "      <th>3</th>\n",
              "      <td>Logistic Regression</td>\n",
              "      <td>64.84</td>\n",
              "      <td>64.24</td>\n",
              "      <td>65.43</td>\n",
              "      <td>55.41</td>\n",
              "      <td>60.23</td>\n",
              "      <td>54.87</td>\n",
              "      <td>0.44</td>\n",
              "    </tr>\n",
              "    <tr>\n",
              "      <th>4</th>\n",
              "      <td>SVM (Linear Kernel)</td>\n",
              "      <td>63.43</td>\n",
              "      <td>62.84</td>\n",
              "      <td>64.03</td>\n",
              "      <td>54.58</td>\n",
              "      <td>58.46</td>\n",
              "      <td>53.19</td>\n",
              "      <td>0.42</td>\n",
              "    </tr>\n",
              "    <tr>\n",
              "      <th>5</th>\n",
              "      <td>SVM (RBF Kernel)</td>\n",
              "      <td>65.47</td>\n",
              "      <td>64.88</td>\n",
              "      <td>66.06</td>\n",
              "      <td>56.70</td>\n",
              "      <td>62.43</td>\n",
              "      <td>56.27</td>\n",
              "      <td>0.45</td>\n",
              "    </tr>\n",
              "    <tr>\n",
              "      <th>6</th>\n",
              "      <td>K-Nearest Neighbors</td>\n",
              "      <td>70.81</td>\n",
              "      <td>70.24</td>\n",
              "      <td>71.37</td>\n",
              "      <td>40.32</td>\n",
              "      <td>45.78</td>\n",
              "      <td>42.85</td>\n",
              "      <td>0.31</td>\n",
              "    </tr>\n",
              "  </tbody>\n",
              "</table>\n",
              "</div>"
            ],
            "text/plain": [
              "                 Model  Accuracy  95% CI(Lower)  95% CI(Upper)  \\\n",
              "0        Decision Tree     65.47          64.88          66.06   \n",
              "1        Random Forest     65.47          64.88          66.06   \n",
              "2              XGBoost     65.47          64.88          66.06   \n",
              "3  Logistic Regression     64.84          64.24          65.43   \n",
              "4  SVM (Linear Kernel)     63.43          62.84          64.03   \n",
              "5     SVM (RBF Kernel)     65.47          64.88          66.06   \n",
              "6  K-Nearest Neighbors     70.81          70.24          71.37   \n",
              "\n",
              "   Precision(Macro)  Recall(Macro)  F1-Score(Macro)   MCC  \n",
              "0             56.70          62.43            56.27  0.45  \n",
              "1             56.70          62.43            56.27  0.45  \n",
              "2             56.70          62.43            56.27  0.45  \n",
              "3             55.41          60.23            54.87  0.44  \n",
              "4             54.58          58.46            53.19  0.42  \n",
              "5             56.70          62.43            56.27  0.45  \n",
              "6             40.32          45.78            42.85  0.31  "
            ]
          },
          "execution_count": 26,
          "metadata": {},
          "output_type": "execute_result"
        }
      ],
      "source": [
        "# Display metrics table\n",
        "print(\"\\n Final Metrics with 95% Confidence Intervals:\\n\")\n",
        "df_metrics"
      ]
    },
    {
      "cell_type": "code",
      "execution_count": 27,
      "metadata": {
        "id": "QsUHZ5iWx1WJ"
      },
      "outputs": [],
      "source": [
        "##  McNemar’s Test Function\n",
        "\n",
        "def mcnemar_test(pred1, pred2, y_true, name1, name2):\n",
        "    b = np.sum((pred1 == y_true) & (pred2 != y_true))  # model1 correct, model2 wrong\n",
        "    c = np.sum((pred1 != y_true) & (pred2 == y_true))  # model1 wrong, model2 correct\n",
        "    table = [[0, b], [c, 0]]\n",
        "    result = mcnemar(table, exact=True)\n",
        "\n",
        "    print(f\"\\n{name1} vs {name2} → McNemar’s Test p-value: {result.pvalue:.4f}\")\n",
        "    if result.pvalue < 0.05:\n",
        "        print(\"→ Statistically significant difference \")\n",
        "    else:\n",
        "        print(\"→ No significant difference \")\n"
      ]
    },
    {
      "cell_type": "code",
      "execution_count": 28,
      "metadata": {
        "id": "HpzpRCLU0VK5"
      },
      "outputs": [
        {
          "name": "stdout",
          "output_type": "stream",
          "text": [
            "\n",
            "Random Forest vs XGBoost → McNemar’s Test p-value: 1.0000\n",
            "→ No significant difference \n",
            "\n",
            "Logistic Regression vs SVM (Linear Kernel) → McNemar’s Test p-value: 0.0000\n",
            "→ Statistically significant difference \n",
            "\n",
            "SVM (RBF Kernel) vs KNN → McNemar’s Test p-value: 0.0000\n",
            "→ Statistically significant difference \n",
            "\n",
            "Decision Tree vs XGBoost → McNemar’s Test p-value: 1.0000\n",
            "→ No significant difference \n"
          ]
        }
      ],
      "source": [
        "mcnemar_test(predictions['Random Forest'], predictions['XGBoost'], y_test, \"Random Forest\", \"XGBoost\")\n",
        "\n",
        "mcnemar_test(predictions['Logistic Regression'], predictions['SVM (Linear Kernel)'], y_test, \"Logistic Regression\", \"SVM (Linear Kernel)\")\n",
        "\n",
        "mcnemar_test(predictions['SVM (RBF Kernel)'], predictions['K-Nearest Neighbors'], y_test, \"SVM (RBF Kernel)\", \"KNN\")\n",
        "\n",
        "mcnemar_test(predictions['Decision Tree'], predictions['XGBoost'], y_test, \"Decision Tree\", \"XGBoost\")"
      ]
    },
    {
      "cell_type": "code",
      "execution_count": 29,
      "metadata": {
        "id": "kSTcR3DG0VIV"
      },
      "outputs": [
        {
          "data": {
            "application/vnd.plotly.v1+json": {
              "config": {
                "plotlyServerURL": "https://plot.ly"
              },
              "data": [
                {
                  "hovertemplate": "Model: Decision Tree<br>Class: C<br>AUC: 0.90<extra></extra>",
                  "line": {
                    "width": 2
                  },
                  "mode": "lines",
                  "name": "Decision Tree – C (AUC=0.90)",
                  "type": "scatter",
                  "x": [
                    0,
                    0.0019250513347022586,
                    0.01732546201232033,
                    0.0476129363449692,
                    0.07648870636550308,
                    0.1183264887063655,
                    0.1927618069815195,
                    0.2521817248459959,
                    0.2747689938398357,
                    0.32482032854209447,
                    0.3489476386036961,
                    0.4010523613963039,
                    0.4531570841889117,
                    0.5156570841889117,
                    0.5845739219712526,
                    0.6283367556468172,
                    0.6880133470225873,
                    0.7116273100616016,
                    0.8264887063655031,
                    0.8454825462012321,
                    0.9104209445585215,
                    1
                  ],
                  "y": [
                    0,
                    0.68359831657704,
                    0.7107785831190087,
                    0.7449731119943885,
                    0.7657236380640636,
                    0.7897474865559972,
                    0.8225391629646949,
                    0.8413607668926818,
                    0.8514729950900164,
                    0.867898059387421,
                    0.8753214870236147,
                    0.8870119242459668,
                    0.902092588262801,
                    0.9198620528407763,
                    0.9357025952770633,
                    0.9454641103577274,
                    0.9526537292494739,
                    0.9561608604161795,
                    0.9718844984802432,
                    0.9772620996025251,
                    0.9867898059387421,
                    1
                  ]
                },
                {
                  "hovertemplate": "Model: Decision Tree<br>Class: H<br>AUC: 0.83<extra></extra>",
                  "line": {
                    "width": 2
                  },
                  "mode": "lines",
                  "name": "Decision Tree – H (AUC=0.83)",
                  "type": "scatter",
                  "x": [
                    0,
                    0.01994037437075412,
                    0.030692537021650947,
                    0.047553882996920975,
                    0.06900933483211964,
                    0.0820096769463858,
                    0.09613410879233664,
                    0.10322076144860955,
                    0.11441278529886124,
                    0.15307169737549484,
                    0.1860612873271101,
                    0.22056595474316992,
                    0.22828796246517766,
                    0.25179609989736573,
                    0.27466888226381897,
                    0.2980303992962221,
                    0.31645569620253167,
                    0.3430917354967988,
                    0.3711939787889155,
                    0.39836762621572747,
                    0.42788720003909875,
                    1
                  ],
                  "y": [
                    0,
                    0.1162423969362469,
                    0.14530299617030862,
                    0.21829240820004506,
                    0.2962378914169858,
                    0.3507546744762334,
                    0.41811218742960127,
                    0.43951340391980176,
                    0.4588871367425096,
                    0.5377337238116693,
                    0.5706240144176616,
                    0.6738004054967335,
                    0.6931741383194413,
                    0.7359765712998423,
                    0.7612074791619734,
                    0.8031088082901554,
                    0.8546970038296914,
                    0.863708042351881,
                    0.9002027483667493,
                    0.9569722910565442,
                    0.999098896147781,
                    1
                  ]
                },
                {
                  "hovertemplate": "Model: Decision Tree<br>Class: E<br>AUC: 0.82<extra></extra>",
                  "line": {
                    "width": 2
                  },
                  "mode": "lines",
                  "name": "Decision Tree – E (AUC=0.82)",
                  "type": "scatter",
                  "x": [
                    0,
                    0.02278739499698334,
                    0.04705991553348494,
                    0.06766603239430083,
                    0.08757599665846753,
                    0.11416902585046643,
                    0.13602821738525084,
                    0.16976841323618136,
                    0.17654429851023345,
                    0.19821784935257808,
                    0.20689655172413793,
                    0.226481644776535,
                    0.23636701164895346,
                    0.259804149069476,
                    0.30208381677263657,
                    0.32106557757460435,
                    0.3436673318791479,
                    0.3775931684225182,
                    0.40859516405996193,
                    0.44303151250754164,
                    0.4570473847867453,
                    1
                  ],
                  "y": [
                    0,
                    0.08947211452430659,
                    0.17447062332239785,
                    0.24008350730688935,
                    0.29287205487623025,
                    0.3417834774828512,
                    0.40143155383238893,
                    0.5317626006561288,
                    0.5609901580674024,
                    0.5946913212048911,
                    0.6104980614375186,
                    0.660005964807635,
                    0.6904264837458992,
                    0.7142857142857143,
                    0.7828810020876826,
                    0.8124067998807039,
                    0.8666865493587832,
                    0.8935281837160751,
                    0.9284223083805547,
                    0.9827020578586341,
                    0.9967193558007754,
                    1
                  ]
                },
                {
                  "hovertemplate": "Model: Random Forest<br>Class: C<br>AUC: 0.90<extra></extra>",
                  "line": {
                    "width": 2
                  },
                  "mode": "lines",
                  "name": "Random Forest – C (AUC=0.90)",
                  "type": "scatter",
                  "x": [
                    0,
                    0.0019250513347022586,
                    0.01732546201232033,
                    0.0476129363449692,
                    0.07648870636550308,
                    0.1183264887063655,
                    0.1927618069815195,
                    0.2521817248459959,
                    0.2747689938398357,
                    0.32482032854209447,
                    0.3489476386036961,
                    0.4010523613963039,
                    0.4531570841889117,
                    0.5156570841889117,
                    0.5845739219712526,
                    0.6283367556468172,
                    0.6880133470225873,
                    0.7116273100616016,
                    0.8264887063655031,
                    0.8454825462012321,
                    0.9104209445585215,
                    1
                  ],
                  "y": [
                    0,
                    0.68359831657704,
                    0.7107785831190087,
                    0.7449731119943885,
                    0.7657236380640636,
                    0.7897474865559972,
                    0.8225391629646949,
                    0.8413607668926818,
                    0.8514729950900164,
                    0.867898059387421,
                    0.8753214870236147,
                    0.8870119242459668,
                    0.902092588262801,
                    0.9198620528407763,
                    0.9357025952770633,
                    0.9454641103577274,
                    0.9526537292494739,
                    0.9561608604161795,
                    0.9718844984802432,
                    0.9772620996025251,
                    0.9867898059387421,
                    1
                  ]
                },
                {
                  "hovertemplate": "Model: Random Forest<br>Class: H<br>AUC: 0.83<extra></extra>",
                  "line": {
                    "width": 2
                  },
                  "mode": "lines",
                  "name": "Random Forest – H (AUC=0.83)",
                  "type": "scatter",
                  "x": [
                    0,
                    0.01994037437075412,
                    0.030692537021650947,
                    0.047553882996920975,
                    0.06900933483211964,
                    0.0820096769463858,
                    0.09613410879233664,
                    0.10322076144860955,
                    0.11441278529886124,
                    0.15307169737549484,
                    0.1860612873271101,
                    0.22056595474316992,
                    0.22828796246517766,
                    0.25179609989736573,
                    0.27466888226381897,
                    0.2980303992962221,
                    0.31645569620253167,
                    0.3430917354967988,
                    0.3711939787889155,
                    0.39836762621572747,
                    0.42788720003909875,
                    1
                  ],
                  "y": [
                    0,
                    0.1162423969362469,
                    0.14530299617030862,
                    0.21829240820004506,
                    0.2962378914169858,
                    0.3507546744762334,
                    0.41811218742960127,
                    0.43951340391980176,
                    0.4588871367425096,
                    0.5377337238116693,
                    0.5706240144176616,
                    0.6738004054967335,
                    0.6931741383194413,
                    0.7359765712998423,
                    0.7612074791619734,
                    0.8031088082901554,
                    0.8546970038296914,
                    0.863708042351881,
                    0.9002027483667493,
                    0.9569722910565442,
                    0.999098896147781,
                    1
                  ]
                },
                {
                  "hovertemplate": "Model: Random Forest<br>Class: E<br>AUC: 0.82<extra></extra>",
                  "line": {
                    "width": 2
                  },
                  "mode": "lines",
                  "name": "Random Forest – E (AUC=0.82)",
                  "type": "scatter",
                  "x": [
                    0,
                    0.02278739499698334,
                    0.04705991553348494,
                    0.06766603239430083,
                    0.08757599665846753,
                    0.11416902585046643,
                    0.13602821738525084,
                    0.16976841323618136,
                    0.17654429851023345,
                    0.19821784935257808,
                    0.20689655172413793,
                    0.226481644776535,
                    0.23636701164895346,
                    0.259804149069476,
                    0.30208381677263657,
                    0.32106557757460435,
                    0.3436673318791479,
                    0.3775931684225182,
                    0.40859516405996193,
                    0.44303151250754164,
                    0.4570473847867453,
                    1
                  ],
                  "y": [
                    0,
                    0.08947211452430659,
                    0.17447062332239785,
                    0.24008350730688935,
                    0.29287205487623025,
                    0.3417834774828512,
                    0.40143155383238893,
                    0.5317626006561288,
                    0.5609901580674024,
                    0.5946913212048911,
                    0.6104980614375186,
                    0.660005964807635,
                    0.6904264837458992,
                    0.7142857142857143,
                    0.7828810020876826,
                    0.8124067998807039,
                    0.8666865493587832,
                    0.8935281837160751,
                    0.9284223083805547,
                    0.9827020578586341,
                    0.9967193558007754,
                    1
                  ]
                },
                {
                  "hovertemplate": "Model: XGBoost<br>Class: C<br>AUC: 0.90<extra></extra>",
                  "line": {
                    "width": 2
                  },
                  "mode": "lines",
                  "name": "XGBoost – C (AUC=0.90)",
                  "type": "scatter",
                  "x": [
                    0,
                    0.0019250513347022586,
                    0.01732546201232033,
                    0.0476129363449692,
                    0.07648870636550308,
                    0.1183264887063655,
                    0.1927618069815195,
                    0.2521817248459959,
                    0.2747689938398357,
                    0.32482032854209447,
                    0.3489476386036961,
                    0.4010523613963039,
                    0.4531570841889117,
                    0.5156570841889117,
                    0.5845739219712526,
                    0.6283367556468172,
                    0.6880133470225873,
                    0.7116273100616016,
                    0.8264887063655031,
                    0.8454825462012321,
                    0.9104209445585215,
                    1
                  ],
                  "y": [
                    0,
                    0.68359831657704,
                    0.7107785831190087,
                    0.7449731119943885,
                    0.7657236380640636,
                    0.7897474865559972,
                    0.8225391629646949,
                    0.8413607668926818,
                    0.8514729950900164,
                    0.867898059387421,
                    0.8753214870236147,
                    0.8870119242459668,
                    0.902092588262801,
                    0.9198620528407763,
                    0.9357025952770633,
                    0.9454641103577274,
                    0.9526537292494739,
                    0.9561608604161795,
                    0.9718844984802432,
                    0.9772620996025251,
                    0.9867898059387421,
                    1
                  ]
                },
                {
                  "hovertemplate": "Model: XGBoost<br>Class: H<br>AUC: 0.83<extra></extra>",
                  "line": {
                    "width": 2
                  },
                  "mode": "lines",
                  "name": "XGBoost – H (AUC=0.83)",
                  "type": "scatter",
                  "x": [
                    0,
                    0.01994037437075412,
                    0.030692537021650947,
                    0.047553882996920975,
                    0.06900933483211964,
                    0.0820096769463858,
                    0.09613410879233664,
                    0.10322076144860955,
                    0.11441278529886124,
                    0.15307169737549484,
                    0.1860612873271101,
                    0.22056595474316992,
                    0.22828796246517766,
                    0.25179609989736573,
                    0.27466888226381897,
                    0.2980303992962221,
                    0.31645569620253167,
                    0.3430917354967988,
                    0.3711939787889155,
                    0.39836762621572747,
                    0.42788720003909875,
                    1
                  ],
                  "y": [
                    0,
                    0.1162423969362469,
                    0.14530299617030862,
                    0.21829240820004506,
                    0.2962378914169858,
                    0.3507546744762334,
                    0.41811218742960127,
                    0.43951340391980176,
                    0.4588871367425096,
                    0.5377337238116693,
                    0.5706240144176616,
                    0.6738004054967335,
                    0.6931741383194413,
                    0.7359765712998423,
                    0.7612074791619734,
                    0.8031088082901554,
                    0.8546970038296914,
                    0.863708042351881,
                    0.9002027483667493,
                    0.9569722910565442,
                    0.999098896147781,
                    1
                  ]
                },
                {
                  "hovertemplate": "Model: XGBoost<br>Class: E<br>AUC: 0.82<extra></extra>",
                  "line": {
                    "width": 2
                  },
                  "mode": "lines",
                  "name": "XGBoost – E (AUC=0.82)",
                  "type": "scatter",
                  "x": [
                    0,
                    0.02278739499698334,
                    0.04705991553348494,
                    0.06766603239430083,
                    0.08757599665846753,
                    0.11416902585046643,
                    0.13602821738525084,
                    0.16976841323618136,
                    0.17654429851023345,
                    0.19821784935257808,
                    0.20689655172413793,
                    0.226481644776535,
                    0.23636701164895346,
                    0.259804149069476,
                    0.30208381677263657,
                    0.32106557757460435,
                    0.3436673318791479,
                    0.3775931684225182,
                    0.40859516405996193,
                    0.44303151250754164,
                    0.4570473847867453,
                    1
                  ],
                  "y": [
                    0,
                    0.08947211452430659,
                    0.17447062332239785,
                    0.24008350730688935,
                    0.29287205487623025,
                    0.3417834774828512,
                    0.40143155383238893,
                    0.5317626006561288,
                    0.5609901580674024,
                    0.5946913212048911,
                    0.6104980614375186,
                    0.660005964807635,
                    0.6904264837458992,
                    0.7142857142857143,
                    0.7828810020876826,
                    0.8124067998807039,
                    0.8666865493587832,
                    0.8935281837160751,
                    0.9284223083805547,
                    0.9827020578586341,
                    0.9967193558007754,
                    1
                  ]
                },
                {
                  "hovertemplate": "Model: Logistic Regression<br>Class: C<br>AUC: 0.89<extra></extra>",
                  "line": {
                    "width": 2
                  },
                  "mode": "lines",
                  "name": "Logistic Regression – C (AUC=0.89)",
                  "type": "scatter",
                  "x": [
                    0,
                    0.0019250513347022586,
                    0.01732546201232033,
                    0.0476129363449692,
                    0.1220482546201232,
                    0.1814681724845996,
                    0.223305954825462,
                    0.2521817248459959,
                    0.2711755646817248,
                    0.32328028747433263,
                    0.34586755646817247,
                    0.3896303901437372,
                    0.4137577002053388,
                    0.4658624229979466,
                    0.5159137577002053,
                    0.5784137577002053,
                    0.6932751540041068,
                    0.7168891170431212,
                    0.7765657084188912,
                    0.8454825462012321,
                    0.9350616016427105,
                    1
                  ],
                  "y": [
                    0,
                    0.68359831657704,
                    0.7107785831190087,
                    0.7449731119943885,
                    0.7777647884030863,
                    0.7965863923310732,
                    0.8206102408230068,
                    0.8413607668926818,
                    0.8467383680149637,
                    0.8584288052373159,
                    0.8685410334346505,
                    0.8783025485153144,
                    0.885725976151508,
                    0.9008066401683423,
                    0.917231704465747,
                    0.9350011690437222,
                    0.9507248071077858,
                    0.9542319382744915,
                    0.961421557166238,
                    0.9772620996025251,
                    0.990472293663783,
                    1
                  ]
                },
                {
                  "hovertemplate": "Model: Logistic Regression<br>Class: H<br>AUC: 0.83<extra></extra>",
                  "line": {
                    "width": 2
                  },
                  "mode": "lines",
                  "name": "Logistic Regression – H (AUC=0.83)",
                  "type": "scatter",
                  "x": [
                    0,
                    0.016861345975270024,
                    0.030985777821220858,
                    0.05092615219197498,
                    0.061678314842871805,
                    0.09618298225893163,
                    0.10390498998093935,
                    0.11099164263721226,
                    0.1376276819314794,
                    0.15908313376667807,
                    0.17208347588094425,
                    0.1955916133131323,
                    0.2342505253897659,
                    0.26724011534138115,
                    0.29441376276819314,
                    0.3177752798005963,
                    0.33620057670690584,
                    0.3590733590733591,
                    0.3702653829236108,
                    0.39836762621572747,
                    0.42788720003909875,
                    1
                  ],
                  "y": [
                    0,
                    0.07298941202973643,
                    0.1403469249831043,
                    0.2565893219193512,
                    0.2856499211534129,
                    0.3888263122324848,
                    0.4082000450551926,
                    0.42960126154539313,
                    0.4386123000675828,
                    0.5165577832845235,
                    0.5710745663437711,
                    0.6138769993241721,
                    0.6927235863933319,
                    0.7256138769993242,
                    0.7823834196891192,
                    0.8242847488173012,
                    0.8758729443568372,
                    0.9011038522189683,
                    0.9204775850416761,
                    0.9569722910565442,
                    0.999098896147781,
                    1
                  ]
                },
                {
                  "hovertemplate": "Model: Logistic Regression<br>Class: E<br>AUC: 0.81<extra></extra>",
                  "line": {
                    "width": 2
                  },
                  "mode": "lines",
                  "name": "Logistic Regression – E (AUC=0.81)",
                  "type": "scatter",
                  "x": [
                    0,
                    0.02278739499698334,
                    0.032672761869401774,
                    0.05694528240590337,
                    0.07755139926671926,
                    0.10414442845871816,
                    0.12600361999350257,
                    0.14767717083584722,
                    0.1675871351000139,
                    0.18656889590198172,
                    0.1933447811760338,
                    0.2277811296236135,
                    0.26152132547454404,
                    0.29252332111198776,
                    0.3348029888151483,
                    0.3434816911867081,
                    0.3574975634659117,
                    0.3800993177704553,
                    0.3996844108228524,
                    0.43361024736622267,
                    0.4570473847867453,
                    1
                  ],
                  "y": [
                    0,
                    0.08947211452430659,
                    0.11989263346257083,
                    0.2048911422606621,
                    0.2705040262451536,
                    0.31941544885177453,
                    0.37906352520131226,
                    0.4127646883388011,
                    0.46555323590814196,
                    0.49507903370116313,
                    0.5243065911124366,
                    0.578586340590516,
                    0.7089173874142559,
                    0.7438115120787354,
                    0.8124067998807039,
                    0.8282135401133314,
                    0.8422308380554727,
                    0.8965105875335521,
                    0.9460184909036684,
                    0.9728601252609603,
                    0.9967193558007754,
                    1
                  ]
                },
                {
                  "hovertemplate": "Model: SVM (Linear Kernel)<br>Class: C<br>AUC: 0.87<extra></extra>",
                  "line": {
                    "width": 2
                  },
                  "mode": "lines",
                  "name": "SVM (Linear Kernel) – C (AUC=0.87)",
                  "type": "scatter",
                  "x": [
                    0,
                    0.0019250513347022586,
                    0.020918891170431213,
                    0.05120636550308008,
                    0.11062628336755646,
                    0.12602669404517453,
                    0.16786447638603696,
                    0.227541067761807,
                    0.301976386036961,
                    0.3457392197125257,
                    0.3978439425051335,
                    0.4603439425051335,
                    0.4844712525667351,
                    0.507058521560575,
                    0.6219199178644764,
                    0.6455338809034907,
                    0.7104722792607803,
                    0.8000513347022588,
                    0.8289271047227926,
                    0.8810318275154004,
                    0.9499486652977412,
                    1
                  ],
                  "y": [
                    0,
                    0.68359831657704,
                    0.688975917699322,
                    0.7231704465747019,
                    0.7419920505026888,
                    0.7691723170446575,
                    0.7931961655365911,
                    0.8003857844283376,
                    0.8331774608370353,
                    0.8429389759176993,
                    0.8546294131400515,
                    0.8723988777180266,
                    0.8798223053542202,
                    0.8899345335515548,
                    0.9056581716156185,
                    0.9091653027823241,
                    0.918693009118541,
                    0.9319032031797989,
                    0.9526537292494739,
                    0.9677343932663082,
                    0.9835749357025952,
                    1
                  ]
                },
                {
                  "hovertemplate": "Model: SVM (Linear Kernel)<br>Class: H<br>AUC: 0.50<extra></extra>",
                  "line": {
                    "width": 2
                  },
                  "mode": "lines",
                  "name": "SVM (Linear Kernel) – H (AUC=0.50)",
                  "type": "scatter",
                  "x": [
                    0,
                    0.016861345975270024,
                    0.030985777821220858,
                    0.06397536777283613,
                    0.09061140706710327,
                    0.09769805972337618,
                    0.108450222374273,
                    0.12839059674502712,
                    0.16289526416108693,
                    0.17061727188309467,
                    0.7427300718439959,
                    0.7641855236791946,
                    0.7870583060456479,
                    0.8257172181222814,
                    0.8387175602365475,
                    0.8622256976687357,
                    0.8855872147011388,
                    0.8967792385513904,
                    0.9239528859782025,
                    0.942378182884512,
                    0.9718977567078833,
                    1
                  ],
                  "y": [
                    0,
                    0.07298941202973643,
                    0.1403469249831043,
                    0.17323721558909663,
                    0.1822482541112863,
                    0.20364947060148683,
                    0.23271006983554854,
                    0.3489524667717954,
                    0.4521288578508673,
                    0.47150259067357514,
                    0.4724036945257941,
                    0.5503491777427348,
                    0.575580085604866,
                    0.6544266726740257,
                    0.7089434557332732,
                    0.7517458887136742,
                    0.7936472178418563,
                    0.8130209506645641,
                    0.8697904933543591,
                    0.9213786888938951,
                    0.9635052939851317,
                    1
                  ]
                },
                {
                  "hovertemplate": "Model: SVM (Linear Kernel)<br>Class: E<br>AUC: 0.80<extra></extra>",
                  "line": {
                    "width": 2
                  },
                  "mode": "lines",
                  "name": "SVM (Linear Kernel) – E (AUC=0.80)",
                  "type": "scatter",
                  "x": [
                    0,
                    0.024272520536501602,
                    0.046131712071286024,
                    0.06673782893210192,
                    0.08952522392908525,
                    0.11611825312108415,
                    0.13602821738525084,
                    0.1459135842576693,
                    0.1675871351000139,
                    0.18656889590198172,
                    0.22884856360514225,
                    0.259850559242586,
                    0.26662644451663803,
                    0.30106279296421773,
                    0.3348029888151483,
                    0.3488188610943519,
                    0.3714206153988954,
                    0.39485775281941804,
                    0.4144428458718151,
                    0.4483686824151854,
                    0.4570473847867453,
                    1
                  ],
                  "y": [
                    0,
                    0.08499850879809126,
                    0.144646585147629,
                    0.21025946913212049,
                    0.2997315836564271,
                    0.348643006263048,
                    0.40143155383238893,
                    0.43185207277065313,
                    0.46555323590814196,
                    0.49507903370116313,
                    0.5636743215031316,
                    0.5985684461676111,
                    0.6277960035788845,
                    0.6820757530569639,
                    0.8124067998807039,
                    0.8264240978228452,
                    0.8807038473009245,
                    0.9045630778407396,
                    0.954070981210856,
                    0.9809126155681479,
                    0.9967193558007754,
                    1
                  ]
                },
                {
                  "hovertemplate": "Model: SVM (RBF Kernel)<br>Class: C<br>AUC: 0.85<extra></extra>",
                  "line": {
                    "width": 2
                  },
                  "mode": "lines",
                  "name": "SVM (RBF Kernel) – C (AUC=0.85)",
                  "type": "scatter",
                  "x": [
                    0,
                    0.0019250513347022586,
                    0.07084188911704312,
                    0.09342915811088295,
                    0.11242299794661191,
                    0.1645277207392197,
                    0.17992813141683778,
                    0.20880390143737165,
                    0.3236652977412731,
                    0.3886036960985626,
                    0.412217659137577,
                    0.4643223819301848,
                    0.5061601642710473,
                    0.5364476386036962,
                    0.5961242299794661,
                    0.6398870636550308,
                    0.7143223819301848,
                    0.7643737166324436,
                    0.8268737166324436,
                    0.8510010266940452,
                    0.9405800821355236,
                    1
                  ],
                  "y": [
                    0,
                    0.68359831657704,
                    0.6994388590133271,
                    0.7095510872106616,
                    0.7149286883329437,
                    0.7300093523497779,
                    0.7571896188917465,
                    0.7779401449614216,
                    0.7936637830254851,
                    0.8031914893617021,
                    0.8066986205284078,
                    0.8183890577507599,
                    0.8424129062426935,
                    0.8766074351180734,
                    0.88379705400982,
                    0.893558569090484,
                    0.9263502454991817,
                    0.9427753097965864,
                    0.9605447743745616,
                    0.9679682020107552,
                    0.9811783960720131,
                    1
                  ]
                },
                {
                  "hovertemplate": "Model: SVM (RBF Kernel)<br>Class: H<br>AUC: 0.82<extra></extra>",
                  "line": {
                    "width": 2
                  },
                  "mode": "lines",
                  "name": "SVM (RBF Kernel) – H (AUC=0.82)",
                  "type": "scatter",
                  "x": [
                    0,
                    0.02145545183519867,
                    0.03445579394946484,
                    0.05439616832021895,
                    0.07125751429548897,
                    0.08244953814574067,
                    0.0932017007966375,
                    0.1318606128732711,
                    0.138947265529544,
                    0.15307169737549484,
                    0.1860612873271101,
                    0.20448658423341967,
                    0.22799472166560775,
                    0.250867504032061,
                    0.27750354332632815,
                    0.30467719075314015,
                    0.3280387077855432,
                    0.36254337520160307,
                    0.39206294902497435,
                    0.42016519231709104,
                    0.42788720003909875,
                    1
                  ],
                  "y": [
                    0,
                    0.07794548321694075,
                    0.13246226627618832,
                    0.24870466321243523,
                    0.32169407524217164,
                    0.34106780806487946,
                    0.3701284072989412,
                    0.4489749943681009,
                    0.47037621085830145,
                    0.5377337238116693,
                    0.5706240144176616,
                    0.6222122099571976,
                    0.6650146429375986,
                    0.6902455507997297,
                    0.6992565893219194,
                    0.7560261320117143,
                    0.7979274611398963,
                    0.9011038522189683,
                    0.943230457310205,
                    0.9797251633250732,
                    0.999098896147781,
                    1
                  ]
                },
                {
                  "hovertemplate": "Model: SVM (RBF Kernel)<br>Class: E<br>AUC: 0.60<extra></extra>",
                  "line": {
                    "width": 2
                  },
                  "mode": "lines",
                  "name": "SVM (RBF Kernel) – E (AUC=0.60)",
                  "type": "scatter",
                  "x": [
                    0,
                    0.02278739499698334,
                    0.02956328027103541,
                    0.0561563094630343,
                    0.07801550099781872,
                    0.11175569684874924,
                    0.1351928342692718,
                    0.1557989511300877,
                    0.17747250197243236,
                    0.19738246623659905,
                    0.22165498677310067,
                    0.7646076019863554,
                    0.7990439504339352,
                    0.8186290434863323,
                    0.8525548800297025,
                    0.8835568756671462,
                    0.8934422425395647,
                    0.9357219102427252,
                    0.954703671044693,
                    0.9633823734162529,
                    0.9859841277207964,
                    1
                  ],
                  "y": [
                    0,
                    0.08947211452430659,
                    0.11869967193558008,
                    0.16761109454220102,
                    0.22725917089173875,
                    0.35759021771547866,
                    0.38144944825529375,
                    0.44706233223978525,
                    0.4807634953772741,
                    0.533552042946615,
                    0.6185505517447062,
                    0.6218311959439308,
                    0.6761109454220101,
                    0.7256188487921265,
                    0.7524604831494184,
                    0.787354607813898,
                    0.8177751267521622,
                    0.8863704145541307,
                    0.9158962123471518,
                    0.9317029525797793,
                    0.9859827020578587,
                    1
                  ]
                },
                {
                  "hovertemplate": "Model: K-Nearest Neighbors<br>Class: C<br>AUC: 0.82<extra></extra>",
                  "line": {
                    "width": 2
                  },
                  "mode": "lines",
                  "name": "K-Nearest Neighbors – C (AUC=0.82)",
                  "type": "scatter",
                  "x": [
                    0,
                    0.162217659137577,
                    0.26373203285420943,
                    0.5965092402464066,
                    0.766812114989733,
                    1
                  ],
                  "y": [
                    0,
                    0.777823240589198,
                    0.8251110591536124,
                    0.9104512508767828,
                    0.9646948795884966,
                    1
                  ]
                },
                {
                  "hovertemplate": "Model: K-Nearest Neighbors<br>Class: H<br>AUC: 0.79<extra></extra>",
                  "line": {
                    "width": 2
                  },
                  "mode": "lines",
                  "name": "K-Nearest Neighbors – H (AUC=0.79)",
                  "type": "scatter",
                  "x": [
                    0,
                    0.05092615219197498,
                    0.1210107032891843,
                    0.223742730071844,
                    0.2918723425052539,
                    1
                  ],
                  "y": [
                    0,
                    0.2565893219193512,
                    0.44154088758729443,
                    0.6728993016445145,
                    0.8303671998197792,
                    1
                  ]
                },
                {
                  "hovertemplate": "Model: K-Nearest Neighbors<br>Class: E<br>AUC: 0.57<extra></extra>",
                  "line": {
                    "width": 2
                  },
                  "mode": "lines",
                  "name": "K-Nearest Neighbors – E (AUC=0.57)",
                  "type": "scatter",
                  "x": [
                    0,
                    0.008678702371559845,
                    0.0642780897572748,
                    1
                  ],
                  "y": [
                    0,
                    0.015806740232627497,
                    0.20578586340590516,
                    1
                  ]
                },
                {
                  "line": {
                    "color": "gray",
                    "dash": "dash"
                  },
                  "mode": "lines",
                  "showlegend": false,
                  "type": "scatter",
                  "x": [
                    0,
                    1
                  ],
                  "y": [
                    0,
                    1
                  ]
                }
              ],
              "layout": {
                "height": 600,
                "legend": {
                  "font": {
                    "size": 11
                  },
                  "orientation": "v"
                },
                "template": {
                  "data": {
                    "bar": [
                      {
                        "error_x": {
                          "color": "#2a3f5f"
                        },
                        "error_y": {
                          "color": "#2a3f5f"
                        },
                        "marker": {
                          "line": {
                            "color": "white",
                            "width": 0.5
                          },
                          "pattern": {
                            "fillmode": "overlay",
                            "size": 10,
                            "solidity": 0.2
                          }
                        },
                        "type": "bar"
                      }
                    ],
                    "barpolar": [
                      {
                        "marker": {
                          "line": {
                            "color": "white",
                            "width": 0.5
                          },
                          "pattern": {
                            "fillmode": "overlay",
                            "size": 10,
                            "solidity": 0.2
                          }
                        },
                        "type": "barpolar"
                      }
                    ],
                    "carpet": [
                      {
                        "aaxis": {
                          "endlinecolor": "#2a3f5f",
                          "gridcolor": "#C8D4E3",
                          "linecolor": "#C8D4E3",
                          "minorgridcolor": "#C8D4E3",
                          "startlinecolor": "#2a3f5f"
                        },
                        "baxis": {
                          "endlinecolor": "#2a3f5f",
                          "gridcolor": "#C8D4E3",
                          "linecolor": "#C8D4E3",
                          "minorgridcolor": "#C8D4E3",
                          "startlinecolor": "#2a3f5f"
                        },
                        "type": "carpet"
                      }
                    ],
                    "choropleth": [
                      {
                        "colorbar": {
                          "outlinewidth": 0,
                          "ticks": ""
                        },
                        "type": "choropleth"
                      }
                    ],
                    "contour": [
                      {
                        "colorbar": {
                          "outlinewidth": 0,
                          "ticks": ""
                        },
                        "colorscale": [
                          [
                            0,
                            "#0d0887"
                          ],
                          [
                            0.1111111111111111,
                            "#46039f"
                          ],
                          [
                            0.2222222222222222,
                            "#7201a8"
                          ],
                          [
                            0.3333333333333333,
                            "#9c179e"
                          ],
                          [
                            0.4444444444444444,
                            "#bd3786"
                          ],
                          [
                            0.5555555555555556,
                            "#d8576b"
                          ],
                          [
                            0.6666666666666666,
                            "#ed7953"
                          ],
                          [
                            0.7777777777777778,
                            "#fb9f3a"
                          ],
                          [
                            0.8888888888888888,
                            "#fdca26"
                          ],
                          [
                            1,
                            "#f0f921"
                          ]
                        ],
                        "type": "contour"
                      }
                    ],
                    "contourcarpet": [
                      {
                        "colorbar": {
                          "outlinewidth": 0,
                          "ticks": ""
                        },
                        "type": "contourcarpet"
                      }
                    ],
                    "heatmap": [
                      {
                        "colorbar": {
                          "outlinewidth": 0,
                          "ticks": ""
                        },
                        "colorscale": [
                          [
                            0,
                            "#0d0887"
                          ],
                          [
                            0.1111111111111111,
                            "#46039f"
                          ],
                          [
                            0.2222222222222222,
                            "#7201a8"
                          ],
                          [
                            0.3333333333333333,
                            "#9c179e"
                          ],
                          [
                            0.4444444444444444,
                            "#bd3786"
                          ],
                          [
                            0.5555555555555556,
                            "#d8576b"
                          ],
                          [
                            0.6666666666666666,
                            "#ed7953"
                          ],
                          [
                            0.7777777777777778,
                            "#fb9f3a"
                          ],
                          [
                            0.8888888888888888,
                            "#fdca26"
                          ],
                          [
                            1,
                            "#f0f921"
                          ]
                        ],
                        "type": "heatmap"
                      }
                    ],
                    "heatmapgl": [
                      {
                        "colorbar": {
                          "outlinewidth": 0,
                          "ticks": ""
                        },
                        "colorscale": [
                          [
                            0,
                            "#0d0887"
                          ],
                          [
                            0.1111111111111111,
                            "#46039f"
                          ],
                          [
                            0.2222222222222222,
                            "#7201a8"
                          ],
                          [
                            0.3333333333333333,
                            "#9c179e"
                          ],
                          [
                            0.4444444444444444,
                            "#bd3786"
                          ],
                          [
                            0.5555555555555556,
                            "#d8576b"
                          ],
                          [
                            0.6666666666666666,
                            "#ed7953"
                          ],
                          [
                            0.7777777777777778,
                            "#fb9f3a"
                          ],
                          [
                            0.8888888888888888,
                            "#fdca26"
                          ],
                          [
                            1,
                            "#f0f921"
                          ]
                        ],
                        "type": "heatmapgl"
                      }
                    ],
                    "histogram": [
                      {
                        "marker": {
                          "pattern": {
                            "fillmode": "overlay",
                            "size": 10,
                            "solidity": 0.2
                          }
                        },
                        "type": "histogram"
                      }
                    ],
                    "histogram2d": [
                      {
                        "colorbar": {
                          "outlinewidth": 0,
                          "ticks": ""
                        },
                        "colorscale": [
                          [
                            0,
                            "#0d0887"
                          ],
                          [
                            0.1111111111111111,
                            "#46039f"
                          ],
                          [
                            0.2222222222222222,
                            "#7201a8"
                          ],
                          [
                            0.3333333333333333,
                            "#9c179e"
                          ],
                          [
                            0.4444444444444444,
                            "#bd3786"
                          ],
                          [
                            0.5555555555555556,
                            "#d8576b"
                          ],
                          [
                            0.6666666666666666,
                            "#ed7953"
                          ],
                          [
                            0.7777777777777778,
                            "#fb9f3a"
                          ],
                          [
                            0.8888888888888888,
                            "#fdca26"
                          ],
                          [
                            1,
                            "#f0f921"
                          ]
                        ],
                        "type": "histogram2d"
                      }
                    ],
                    "histogram2dcontour": [
                      {
                        "colorbar": {
                          "outlinewidth": 0,
                          "ticks": ""
                        },
                        "colorscale": [
                          [
                            0,
                            "#0d0887"
                          ],
                          [
                            0.1111111111111111,
                            "#46039f"
                          ],
                          [
                            0.2222222222222222,
                            "#7201a8"
                          ],
                          [
                            0.3333333333333333,
                            "#9c179e"
                          ],
                          [
                            0.4444444444444444,
                            "#bd3786"
                          ],
                          [
                            0.5555555555555556,
                            "#d8576b"
                          ],
                          [
                            0.6666666666666666,
                            "#ed7953"
                          ],
                          [
                            0.7777777777777778,
                            "#fb9f3a"
                          ],
                          [
                            0.8888888888888888,
                            "#fdca26"
                          ],
                          [
                            1,
                            "#f0f921"
                          ]
                        ],
                        "type": "histogram2dcontour"
                      }
                    ],
                    "mesh3d": [
                      {
                        "colorbar": {
                          "outlinewidth": 0,
                          "ticks": ""
                        },
                        "type": "mesh3d"
                      }
                    ],
                    "parcoords": [
                      {
                        "line": {
                          "colorbar": {
                            "outlinewidth": 0,
                            "ticks": ""
                          }
                        },
                        "type": "parcoords"
                      }
                    ],
                    "pie": [
                      {
                        "automargin": true,
                        "type": "pie"
                      }
                    ],
                    "scatter": [
                      {
                        "fillpattern": {
                          "fillmode": "overlay",
                          "size": 10,
                          "solidity": 0.2
                        },
                        "type": "scatter"
                      }
                    ],
                    "scatter3d": [
                      {
                        "line": {
                          "colorbar": {
                            "outlinewidth": 0,
                            "ticks": ""
                          }
                        },
                        "marker": {
                          "colorbar": {
                            "outlinewidth": 0,
                            "ticks": ""
                          }
                        },
                        "type": "scatter3d"
                      }
                    ],
                    "scattercarpet": [
                      {
                        "marker": {
                          "colorbar": {
                            "outlinewidth": 0,
                            "ticks": ""
                          }
                        },
                        "type": "scattercarpet"
                      }
                    ],
                    "scattergeo": [
                      {
                        "marker": {
                          "colorbar": {
                            "outlinewidth": 0,
                            "ticks": ""
                          }
                        },
                        "type": "scattergeo"
                      }
                    ],
                    "scattergl": [
                      {
                        "marker": {
                          "colorbar": {
                            "outlinewidth": 0,
                            "ticks": ""
                          }
                        },
                        "type": "scattergl"
                      }
                    ],
                    "scattermapbox": [
                      {
                        "marker": {
                          "colorbar": {
                            "outlinewidth": 0,
                            "ticks": ""
                          }
                        },
                        "type": "scattermapbox"
                      }
                    ],
                    "scatterpolar": [
                      {
                        "marker": {
                          "colorbar": {
                            "outlinewidth": 0,
                            "ticks": ""
                          }
                        },
                        "type": "scatterpolar"
                      }
                    ],
                    "scatterpolargl": [
                      {
                        "marker": {
                          "colorbar": {
                            "outlinewidth": 0,
                            "ticks": ""
                          }
                        },
                        "type": "scatterpolargl"
                      }
                    ],
                    "scatterternary": [
                      {
                        "marker": {
                          "colorbar": {
                            "outlinewidth": 0,
                            "ticks": ""
                          }
                        },
                        "type": "scatterternary"
                      }
                    ],
                    "surface": [
                      {
                        "colorbar": {
                          "outlinewidth": 0,
                          "ticks": ""
                        },
                        "colorscale": [
                          [
                            0,
                            "#0d0887"
                          ],
                          [
                            0.1111111111111111,
                            "#46039f"
                          ],
                          [
                            0.2222222222222222,
                            "#7201a8"
                          ],
                          [
                            0.3333333333333333,
                            "#9c179e"
                          ],
                          [
                            0.4444444444444444,
                            "#bd3786"
                          ],
                          [
                            0.5555555555555556,
                            "#d8576b"
                          ],
                          [
                            0.6666666666666666,
                            "#ed7953"
                          ],
                          [
                            0.7777777777777778,
                            "#fb9f3a"
                          ],
                          [
                            0.8888888888888888,
                            "#fdca26"
                          ],
                          [
                            1,
                            "#f0f921"
                          ]
                        ],
                        "type": "surface"
                      }
                    ],
                    "table": [
                      {
                        "cells": {
                          "fill": {
                            "color": "#EBF0F8"
                          },
                          "line": {
                            "color": "white"
                          }
                        },
                        "header": {
                          "fill": {
                            "color": "#C8D4E3"
                          },
                          "line": {
                            "color": "white"
                          }
                        },
                        "type": "table"
                      }
                    ]
                  },
                  "layout": {
                    "annotationdefaults": {
                      "arrowcolor": "#2a3f5f",
                      "arrowhead": 0,
                      "arrowwidth": 1
                    },
                    "autotypenumbers": "strict",
                    "coloraxis": {
                      "colorbar": {
                        "outlinewidth": 0,
                        "ticks": ""
                      }
                    },
                    "colorscale": {
                      "diverging": [
                        [
                          0,
                          "#8e0152"
                        ],
                        [
                          0.1,
                          "#c51b7d"
                        ],
                        [
                          0.2,
                          "#de77ae"
                        ],
                        [
                          0.3,
                          "#f1b6da"
                        ],
                        [
                          0.4,
                          "#fde0ef"
                        ],
                        [
                          0.5,
                          "#f7f7f7"
                        ],
                        [
                          0.6,
                          "#e6f5d0"
                        ],
                        [
                          0.7,
                          "#b8e186"
                        ],
                        [
                          0.8,
                          "#7fbc41"
                        ],
                        [
                          0.9,
                          "#4d9221"
                        ],
                        [
                          1,
                          "#276419"
                        ]
                      ],
                      "sequential": [
                        [
                          0,
                          "#0d0887"
                        ],
                        [
                          0.1111111111111111,
                          "#46039f"
                        ],
                        [
                          0.2222222222222222,
                          "#7201a8"
                        ],
                        [
                          0.3333333333333333,
                          "#9c179e"
                        ],
                        [
                          0.4444444444444444,
                          "#bd3786"
                        ],
                        [
                          0.5555555555555556,
                          "#d8576b"
                        ],
                        [
                          0.6666666666666666,
                          "#ed7953"
                        ],
                        [
                          0.7777777777777778,
                          "#fb9f3a"
                        ],
                        [
                          0.8888888888888888,
                          "#fdca26"
                        ],
                        [
                          1,
                          "#f0f921"
                        ]
                      ],
                      "sequentialminus": [
                        [
                          0,
                          "#0d0887"
                        ],
                        [
                          0.1111111111111111,
                          "#46039f"
                        ],
                        [
                          0.2222222222222222,
                          "#7201a8"
                        ],
                        [
                          0.3333333333333333,
                          "#9c179e"
                        ],
                        [
                          0.4444444444444444,
                          "#bd3786"
                        ],
                        [
                          0.5555555555555556,
                          "#d8576b"
                        ],
                        [
                          0.6666666666666666,
                          "#ed7953"
                        ],
                        [
                          0.7777777777777778,
                          "#fb9f3a"
                        ],
                        [
                          0.8888888888888888,
                          "#fdca26"
                        ],
                        [
                          1,
                          "#f0f921"
                        ]
                      ]
                    },
                    "colorway": [
                      "#636efa",
                      "#EF553B",
                      "#00cc96",
                      "#ab63fa",
                      "#FFA15A",
                      "#19d3f3",
                      "#FF6692",
                      "#B6E880",
                      "#FF97FF",
                      "#FECB52"
                    ],
                    "font": {
                      "color": "#2a3f5f"
                    },
                    "geo": {
                      "bgcolor": "white",
                      "lakecolor": "white",
                      "landcolor": "white",
                      "showlakes": true,
                      "showland": true,
                      "subunitcolor": "#C8D4E3"
                    },
                    "hoverlabel": {
                      "align": "left"
                    },
                    "hovermode": "closest",
                    "mapbox": {
                      "style": "light"
                    },
                    "paper_bgcolor": "white",
                    "plot_bgcolor": "white",
                    "polar": {
                      "angularaxis": {
                        "gridcolor": "#EBF0F8",
                        "linecolor": "#EBF0F8",
                        "ticks": ""
                      },
                      "bgcolor": "white",
                      "radialaxis": {
                        "gridcolor": "#EBF0F8",
                        "linecolor": "#EBF0F8",
                        "ticks": ""
                      }
                    },
                    "scene": {
                      "xaxis": {
                        "backgroundcolor": "white",
                        "gridcolor": "#DFE8F3",
                        "gridwidth": 2,
                        "linecolor": "#EBF0F8",
                        "showbackground": true,
                        "ticks": "",
                        "zerolinecolor": "#EBF0F8"
                      },
                      "yaxis": {
                        "backgroundcolor": "white",
                        "gridcolor": "#DFE8F3",
                        "gridwidth": 2,
                        "linecolor": "#EBF0F8",
                        "showbackground": true,
                        "ticks": "",
                        "zerolinecolor": "#EBF0F8"
                      },
                      "zaxis": {
                        "backgroundcolor": "white",
                        "gridcolor": "#DFE8F3",
                        "gridwidth": 2,
                        "linecolor": "#EBF0F8",
                        "showbackground": true,
                        "ticks": "",
                        "zerolinecolor": "#EBF0F8"
                      }
                    },
                    "shapedefaults": {
                      "line": {
                        "color": "#2a3f5f"
                      }
                    },
                    "ternary": {
                      "aaxis": {
                        "gridcolor": "#DFE8F3",
                        "linecolor": "#A2B1C6",
                        "ticks": ""
                      },
                      "baxis": {
                        "gridcolor": "#DFE8F3",
                        "linecolor": "#A2B1C6",
                        "ticks": ""
                      },
                      "bgcolor": "white",
                      "caxis": {
                        "gridcolor": "#DFE8F3",
                        "linecolor": "#A2B1C6",
                        "ticks": ""
                      }
                    },
                    "title": {
                      "x": 0.05
                    },
                    "xaxis": {
                      "automargin": true,
                      "gridcolor": "#EBF0F8",
                      "linecolor": "#EBF0F8",
                      "ticks": "",
                      "title": {
                        "standoff": 15
                      },
                      "zerolinecolor": "#EBF0F8",
                      "zerolinewidth": 2
                    },
                    "yaxis": {
                      "automargin": true,
                      "gridcolor": "#EBF0F8",
                      "linecolor": "#EBF0F8",
                      "ticks": "",
                      "title": {
                        "standoff": 15
                      },
                      "zerolinecolor": "#EBF0F8",
                      "zerolinewidth": 2
                    }
                  }
                },
                "title": {
                  "text": "Multi-Class ROC Curves per Model (One-vs-Rest)"
                },
                "width": 950,
                "xaxis": {
                  "title": {
                    "text": "False Positive Rate"
                  }
                },
                "yaxis": {
                  "title": {
                    "text": "True Positive Rate"
                  }
                }
              }
            }
          },
          "metadata": {},
          "output_type": "display_data"
        }
      ],
      "source": [
        "\n",
        "##ROC curves for all models using the One-vs-Rest (OvR) approach for multi-class classification (e.g., Q3: C=0, H=1, E=2).\n",
        "import numpy as np\n",
        "import plotly.graph_objects as go\n",
        "from sklearn.metrics import roc_curve, auc\n",
        "from sklearn.preprocessing import label_binarize\n",
        "\n",
        "# Binarize the true labels\n",
        "classes = [0, 1, 2]\n",
        "class_labels = ['C', 'H', 'E']\n",
        "class_colors = ['crimson', 'seagreen', 'royalblue']\n",
        "n_classes = len(classes)\n",
        "y_test_bin = label_binarize(y_test, classes=classes)\n",
        "\n",
        "# Initialize plotly figure\n",
        "fig = go.Figure()\n",
        "\n",
        "# Loop through models\n",
        "for model_name, model in models.items():\n",
        "    # Get decision scores or probabilities\n",
        "    try:\n",
        "        if hasattr(model, \"predict_proba\"):\n",
        "            y_score = model.predict_proba(X_test)\n",
        "        elif hasattr(model, \"decision_function\"):\n",
        "            y_score = model.decision_function(X_test)\n",
        "        else:\n",
        "            print(f\"Skipping {model_name} (no predict_proba or decision_function)\")\n",
        "            continue\n",
        "    except Exception as e:\n",
        "        print(f\"Skipping {model_name} due to error: {e}\")\n",
        "        continue\n",
        "\n",
        "    # One-vs-Rest ROC for each class\n",
        "    for i in range(n_classes):\n",
        "        fpr, tpr, _ = roc_curve(y_test_bin[:, i], y_score[:, i])\n",
        "        roc_auc = auc(fpr, tpr)\n",
        "\n",
        "        fig.add_trace(go.Scatter(\n",
        "            x=fpr,\n",
        "            y=tpr,\n",
        "            mode='lines',\n",
        "            name=f\"{model_name} – {class_labels[i]} (AUC={roc_auc:.2f})\",\n",
        "            line=dict(width=2),\n",
        "            hovertemplate=f\"Model: {model_name}<br>Class: {class_labels[i]}<br>AUC: {roc_auc:.2f}<extra></extra>\"\n",
        "        ))\n",
        "\n",
        "# Diagonal reference line\n",
        "fig.add_trace(go.Scatter(\n",
        "    x=[0, 1], y=[0, 1],\n",
        "    mode='lines',\n",
        "    line=dict(dash='dash', color='gray'),\n",
        "    showlegend=False\n",
        "))\n",
        "\n",
        "# Layout\n",
        "fig.update_layout(\n",
        "    title='Multi-Class ROC Curves per Model (One-vs-Rest)',\n",
        "    xaxis_title='False Positive Rate',\n",
        "    yaxis_title='True Positive Rate',\n",
        "    width=950,\n",
        "    height=600,\n",
        "    legend=dict(\n",
        "        font=dict(size=11),\n",
        "        orientation=\"v\"\n",
        "    ),\n",
        "    template=\"plotly_white\"\n",
        ")\n",
        "\n",
        "fig.show()\n"
      ]
    }
  ],
  "metadata": {
    "colab": {
      "provenance": []
    },
    "kernelspec": {
      "display_name": "base",
      "language": "python",
      "name": "python3"
    },
    "language_info": {
      "codemirror_mode": {
        "name": "ipython",
        "version": 3
      },
      "file_extension": ".py",
      "mimetype": "text/x-python",
      "name": "python",
      "nbconvert_exporter": "python",
      "pygments_lexer": "ipython3",
      "version": "3.12.7"
    }
  },
  "nbformat": 4,
  "nbformat_minor": 0
}
