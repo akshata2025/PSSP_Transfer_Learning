{
  "cells": [
    {
      "cell_type": "markdown",
      "metadata": {
        "id": "T-yy_Y7b0ghZ"
      },
      "source": [
        "Transfer Learning RS126 and Kinase dataset using classic ML models\n"
      ]
    },
    {
      "cell_type": "markdown",
      "metadata": {
        "id": "LsoEI3L61oTP"
      },
      "source": [
        "***Summary:***\n",
        "\n",
        "The code contains Transfer Learning Model trained on RS125 dataset and testing on kinase dataset using DT, RF, XGBoost, SVM, LR , KNN, and NB models.\n",
        "\n",
        "1. Datacleaning, AAindex property extraction\n",
        "\n",
        "2. Feature selection (DT, RF, XGBoost)\n",
        "\n",
        "3. Padding of sequences\n",
        "\n",
        "4. PCA (reduced features to 8)\n",
        "\n",
        "5. Feature importance\n",
        "\n",
        "5. SMOTE (for minority clas)\n",
        "\n",
        "4. Model training and testing\n",
        "\n",
        "5. Model evaluation\n",
        "\n",
        "6. Stratified KFold Cross_validation\n",
        "\n",
        "7. Classification_report\n",
        "\n",
        "8. Confusion matrix\n",
        "\n",
        "9. Matrices: Accuracy score, Precision, Recall, F1 score, MCC\n",
        "\n",
        "10. Model Accuracy vs CV accuracy comparision plot\n",
        "\n",
        "11. Model Comparision on Matrices: Accuracy score,\n",
        "\n",
        "12. Precision, Recall, F1 score, MCC plots\n",
        "\n",
        "13. Confidence Interval (CI) and McNemar’s Test Function\n",
        "\n",
        "13. ROC by One-vs-Rest (OvR) % Interpretation of results"
      ]
    },
    {
      "cell_type": "markdown",
      "metadata": {
        "id": "3cxoEQqTsCI7"
      },
      "source": [
        "## Kinase testing on a completely independent dataset — which is better for generalization check\n",
        "Generalization Check = Testing on a dataset that is not seen during training and ideally from a different distribution"
      ]
    },
    {
      "cell_type": "code",
      "execution_count": null,
      "metadata": {
        "colab": {
          "base_uri": "https://localhost:8080/",
          "height": 226
        },
        "id": "2DzruPCeXmFB",
        "outputId": "a7f56ad4-0845-4dca-b3b4-3f2139bb1067"
      },
      "outputs": [
        {
          "data": {
            "text/html": [
              "<div>\n",
              "<style scoped>\n",
              "    .dataframe tbody tr th:only-of-type {\n",
              "        vertical-align: middle;\n",
              "    }\n",
              "\n",
              "    .dataframe tbody tr th {\n",
              "        vertical-align: top;\n",
              "    }\n",
              "\n",
              "    .dataframe thead th {\n",
              "        text-align: right;\n",
              "    }\n",
              "</style>\n",
              "<table border=\"1\" class=\"dataframe\">\n",
              "  <thead>\n",
              "    <tr style=\"text-align: right;\">\n",
              "      <th></th>\n",
              "      <th>input</th>\n",
              "      <th>dssp3</th>\n",
              "    </tr>\n",
              "  </thead>\n",
              "  <tbody>\n",
              "    <tr>\n",
              "      <th>0</th>\n",
              "      <td>APAFSVSPASGASDGQSVSVSVAAAGETYYIAQCAPVGGQDACNPA...</td>\n",
              "      <td>CCEEEEECCCCCCCCCEEEEEEECCCCEEEEEEECEECCEECCCCC...</td>\n",
              "    </tr>\n",
              "    <tr>\n",
              "      <th>1</th>\n",
              "      <td>CSVDIQGNDQMQFNTNAITVDKSCKQFTVNLSHPGNLPKNVMGHNW...</td>\n",
              "      <td>CCEEEECCCCCCCCCCCEECCCCCCEEEEEEECCCCCCCCCCCECC...</td>\n",
              "    </tr>\n",
              "    <tr>\n",
              "      <th>2</th>\n",
              "      <td>NVYHDGACPEVKPVDNFDWSNYHGKWWEVAKYPNSVEKYGKCGWAE...</td>\n",
              "      <td>CEEEECCCCCCCCCCCCCHHHCCEEEEEEEECCCCCCCCCEEEEEE...</td>\n",
              "    </tr>\n",
              "    <tr>\n",
              "      <th>3</th>\n",
              "      <td>AAPCFCSGKPGRGDLWILRGTCPGGYGYTSNCYKWPNICCYPH</td>\n",
              "      <td>CCCCCCCCCCCCCEEECCCCCCCCCCCCCCEEEECCEEEECCC</td>\n",
              "    </tr>\n",
              "    <tr>\n",
              "      <th>4</th>\n",
              "      <td>SISQQTVWNQMATVRTPLNFDSSKQSFCQFSVDLLGGGISVDKTGD...</td>\n",
              "      <td>CCCCCCCCEEEEEEECCCCCCCCCCCEEEEEEECCCCEEECCCCCC...</td>\n",
              "    </tr>\n",
              "  </tbody>\n",
              "</table>\n",
              "</div>"
            ],
            "text/plain": [
              "                                               input  \\\n",
              "0  APAFSVSPASGASDGQSVSVSVAAAGETYYIAQCAPVGGQDACNPA...   \n",
              "1  CSVDIQGNDQMQFNTNAITVDKSCKQFTVNLSHPGNLPKNVMGHNW...   \n",
              "2  NVYHDGACPEVKPVDNFDWSNYHGKWWEVAKYPNSVEKYGKCGWAE...   \n",
              "3        AAPCFCSGKPGRGDLWILRGTCPGGYGYTSNCYKWPNICCYPH   \n",
              "4  SISQQTVWNQMATVRTPLNFDSSKQSFCQFSVDLLGGGISVDKTGD...   \n",
              "\n",
              "                                               dssp3  \n",
              "0  CCEEEEECCCCCCCCCEEEEEEECCCCEEEEEEECEECCEECCCCC...  \n",
              "1  CCEEEECCCCCCCCCCCEECCCCCCEEEEEEECCCCCCCCCCCECC...  \n",
              "2  CEEEECCCCCCCCCCCCCHHHCCEEEEEEEECCCCCCCCCEEEEEE...  \n",
              "3        CCCCCCCCCCCCCEEECCCCCCCCCCCCCCEEEECCEEEECCC  \n",
              "4  CCCCCCCCEEEEEEECCCCCCCCCCCEEEEEEECCCCEEECCCCCC...  "
            ]
          },
          "execution_count": 1,
          "metadata": {},
          "output_type": "execute_result"
        }
      ],
      "source": [
        "### RS126 DATASET ###\n",
        "# read csv file\n",
        "import pandas as pd\n",
        "import numpy as np\n",
        "df = pd.read_csv('RS126_to.csv')\n",
        "df.head()"
      ]
    },
    {
      "cell_type": "code",
      "execution_count": null,
      "metadata": {
        "colab": {
          "base_uri": "https://localhost:8080/",
          "height": 226
        },
        "id": "yblHh4Opcta2",
        "outputId": "d1766369-7bc5-41db-81d6-c14a1ada4b5f"
      },
      "outputs": [
        {
          "data": {
            "text/html": [
              "<div>\n",
              "<style scoped>\n",
              "    .dataframe tbody tr th:only-of-type {\n",
              "        vertical-align: middle;\n",
              "    }\n",
              "\n",
              "    .dataframe tbody tr th {\n",
              "        vertical-align: top;\n",
              "    }\n",
              "\n",
              "    .dataframe thead th {\n",
              "        text-align: right;\n",
              "    }\n",
              "</style>\n",
              "<table border=\"1\" class=\"dataframe\">\n",
              "  <thead>\n",
              "    <tr style=\"text-align: right;\">\n",
              "      <th></th>\n",
              "      <th>input</th>\n",
              "      <th>dssp3</th>\n",
              "    </tr>\n",
              "  </thead>\n",
              "  <tbody>\n",
              "    <tr>\n",
              "      <th>0</th>\n",
              "      <td>EKKSINECDLKGKKVLIRVDFNVPVKNGKITNDYRIRSALPTLKKV...</td>\n",
              "      <td>CCCEHHHCCCCCCEEEEECCCCCCEECCEECCCHHHHHHHHHHHHH...</td>\n",
              "    </tr>\n",
              "    <tr>\n",
              "      <th>1</th>\n",
              "      <td>EKKSINECDLKGKKVLIRVDFNVPVKNGKITNDYRIRSALPTLKKV...</td>\n",
              "      <td>CECEHHHCCCCCCEEEEEECCCCCEECCEECCCHHHHHHHHHHHHH...</td>\n",
              "    </tr>\n",
              "    <tr>\n",
              "      <th>2</th>\n",
              "      <td>WKQAEDIRDIYDFRDVLGTGAFSEVILAEDKRTQKLVAIKCIAKEN...</td>\n",
              "      <td>CEECCCHHHCEEEEEECECHHHHHEEEEEECCCCCEEEEEEEECCH...</td>\n",
              "    </tr>\n",
              "    <tr>\n",
              "      <th>3</th>\n",
              "      <td>LFVALYDFVASGDNTLSITKGEKLRVLGYNHNGEWCEAQTKNGQGW...</td>\n",
              "      <td>CEEECCCECCCCCCECCECCCCEEEEEEECCCCCEEEEEECCEEEE...</td>\n",
              "    </tr>\n",
              "    <tr>\n",
              "      <th>4</th>\n",
              "      <td>NNGLTPQELEAYGISDVHDIVYNPSYDLLYQEELDPSLTGYERGVL...</td>\n",
              "      <td>CCCCCHHHHHHHCCCCCCCEEECCCHHHHHHHHCCCCCCHHHCCEE...</td>\n",
              "    </tr>\n",
              "  </tbody>\n",
              "</table>\n",
              "</div>"
            ],
            "text/plain": [
              "                                               input  \\\n",
              "0  EKKSINECDLKGKKVLIRVDFNVPVKNGKITNDYRIRSALPTLKKV...   \n",
              "1  EKKSINECDLKGKKVLIRVDFNVPVKNGKITNDYRIRSALPTLKKV...   \n",
              "2  WKQAEDIRDIYDFRDVLGTGAFSEVILAEDKRTQKLVAIKCIAKEN...   \n",
              "3  LFVALYDFVASGDNTLSITKGEKLRVLGYNHNGEWCEAQTKNGQGW...   \n",
              "4  NNGLTPQELEAYGISDVHDIVYNPSYDLLYQEELDPSLTGYERGVL...   \n",
              "\n",
              "                                               dssp3  \n",
              "0  CCCEHHHCCCCCCEEEEECCCCCCEECCEECCCHHHHHHHHHHHHH...  \n",
              "1  CECEHHHCCCCCCEEEEEECCCCCEECCEECCCHHHHHHHHHHHHH...  \n",
              "2  CEECCCHHHCEEEEEECECHHHHHEEEEEECCCCCEEEEEEEECCH...  \n",
              "3  CEEECCCECCCCCCECCECCCCEEEEEEECCCCCEEEEEECCEEEE...  \n",
              "4  CCCCCHHHHHHHCCCCCCCEEECCCHHHHHHHHCCCCCCHHHCCEE...  "
            ]
          },
          "execution_count": 2,
          "metadata": {},
          "output_type": "execute_result"
        }
      ],
      "source": [
        "### KINASE DATASET ####\n",
        "# read csv file kinase\n",
        "df2 = pd.read_csv('kinase.csv')\n",
        "\n",
        "# drop PDB_ID, DSSP_Q8, Length coloumns\n",
        "df2 = df2.drop(columns=['PDB_ID', 'DSSP_Q8', 'Length'])\n",
        "\n",
        "# rename coloums from \"Primary_Sequence\" to \"input\" , \"DSSP_Q3\" to \"dssp3\" \n",
        "df2 = df2.rename(columns={'Primary_Sequence': 'input', 'DSSP_Q3': 'dssp3'})\n",
        "df2.head()"
      ]
    },
    {
      "cell_type": "code",
      "execution_count": null,
      "metadata": {
        "colab": {
          "base_uri": "https://localhost:8080/"
        },
        "id": "30-3VBakPo1o",
        "outputId": "a089a389-c500-428b-c69f-cfa83f5355e2"
      },
      "outputs": [
        {
          "name": "stdout",
          "output_type": "stream",
          "text": [
            "Cleaned DataFrame for RS126 created. Removed 1 mismatched entries.\n",
            "Cleaned DataFrame for Kinase created. Removed 0 mismatched entries.\n"
          ]
        }
      ],
      "source": [
        "### Remove Unequal-Length Sequences for RS126\n",
        "\n",
        "# Check lengths and filter\n",
        "df_cleaned = df[df['input'].str.len() == df['dssp3'].str.len()]\n",
        "\n",
        "removed = len(df) - len(df_cleaned)\n",
        "print(f\"Cleaned DataFrame for RS126 created. Removed {removed} mismatched entries.\")\n",
        "\n",
        "### Remove Unequal-Length Sequences for Kinase\n",
        "\n",
        "# Check lengths and filter\n",
        "df2_cleaned = df2[df2['input'].str.len() == df2['dssp3'].str.len()]\n",
        "\n",
        "removed2 = len(df2) - len(df2_cleaned)\n",
        "print(f\"Cleaned DataFrame for Kinase created. Removed {removed2} mismatched entries.\")"
      ]
    },
    {
      "cell_type": "code",
      "execution_count": 4,
      "metadata": {
        "colab": {
          "base_uri": "https://localhost:8080/"
        },
        "id": "f3DiIY1sPriG",
        "outputId": "ac114c7f-2ac8-4875-ec50-d5d3468b45eb"
      },
      "outputs": [
        {
          "name": "stdout",
          "output_type": "stream",
          "text": [
            " Maximum sequence length in RS126: 498\n",
            " Maximum sequence length in Kinase: 2160\n"
          ]
        }
      ],
      "source": [
        "# Calculate the maximum sequence length in RS126\n",
        "max_len = df_cleaned['input'].str.len().max()\n",
        "print(f\" Maximum sequence length in RS126: {max_len}\")\n",
        "\n",
        "# Calculate the maximum sequence length in Kinase\n",
        "max_len2 = df2_cleaned['input'].str.len().max()\n",
        "print(f\" Maximum sequence length in Kinase: {max_len2}\")"
      ]
    },
    {
      "cell_type": "code",
      "execution_count": 5,
      "metadata": {
        "colab": {
          "base_uri": "https://localhost:8080/"
        },
        "id": "ZRNlm-yOQYsJ",
        "outputId": "a77efe0a-a694-4ef8-ded5-a8623f71b67e"
      },
      "outputs": [
        {
          "name": "stdout",
          "output_type": "stream",
          "text": [
            "Requirement already satisfied: aaindex in /opt/anaconda3/lib/python3.12/site-packages (1.1.2)\n",
            "Note: you may need to restart the kernel to use updated packages.\n"
          ]
        }
      ],
      "source": [
        "pip install aaindex"
      ]
    },
    {
      "cell_type": "code",
      "execution_count": 6,
      "metadata": {
        "colab": {
          "base_uri": "https://localhost:8080/"
        },
        "id": "qCIZOAMQPtxg",
        "outputId": "92997a28-d875-4080-e309-008d1b8f4622"
      },
      "outputs": [
        {
          "name": "stdout",
          "output_type": "stream",
          "text": [
            "   Helix Propensity  Charge  Solvent Accessibility  Isoelectric Point  \\\n",
            "A             115.0    4.76                  50.76               6.00   \n",
            "C             135.0    3.67                  58.74               5.05   \n",
            "D             150.0    5.69                  43.17               2.77   \n",
            "E             190.0    5.48                  43.48               3.22   \n",
            "F             210.0    4.31                  53.45               5.48   \n",
            "\n",
            "   Hydrophobicity  Polarity  Beta Sheet Propensity  Turn Propensity  \\\n",
            "A             1.8       8.1                   25.0             0.38   \n",
            "C             2.5       5.5                   19.0             0.45   \n",
            "D            -3.5      13.0                   50.0             0.15   \n",
            "E            -3.5      12.3                   49.0             0.18   \n",
            "F             2.8       5.2                   24.0             0.50   \n",
            "\n",
            "   Hydrogen Bonding  Interaction Energy  Protein Stability  \\\n",
            "A               0.0                1.36                9.8   \n",
            "C               0.0                0.82                3.0   \n",
            "D               0.0                1.04                4.9   \n",
            "E               0.0                1.48                4.4   \n",
            "F               0.0                1.05               23.0   \n",
            "\n",
            "   Biological Activity  Antigenicity  Electronegativity  Refractivity  Mass  \\\n",
            "A                 1.09          0.52                0.0           9.9 -0.01   \n",
            "C                 1.04          0.83                0.0           2.8  0.12   \n",
            "D                 1.24          0.37                1.0           2.8  0.15   \n",
            "E                 1.14          0.38                1.0           3.2  0.07   \n",
            "F                 0.80          0.87                0.0          18.8  0.03   \n",
            "\n",
            "   Surface Tension  Van der Waals Volume  Bulkiness  Compressibility  \n",
            "A            -0.06                  1.00       0.83             2.04  \n",
            "C             1.36                  2.43       1.48             3.41  \n",
            "D            -0.80                  2.78       0.64             3.78  \n",
            "E            -0.77                  3.78       0.65             3.31  \n",
            "F             1.27                  5.89       2.75             6.02  \n"
          ]
        }
      ],
      "source": [
        "## Retrieving selected physicochemical properties from the AAindex1 database and creating a feature table for each amino acid\n",
        "from aaindex import aaindex1\n",
        "import pandas as pd\n",
        "\n",
        "# Corrected property IDs\n",
        "selected_ids = {\n",
        "    'Helix Propensity': 'CHOC760101',\n",
        "    'Charge': 'FAUJ880113',\n",
        "    'Solvent Accessibility':'CORJ870101',\n",
        "    'Isoelectric Point': 'ZIMJ680104',\n",
        "    'Hydrophobicity': 'KYTJ820101',\n",
        "    'Polarity': 'GRAR740102',\n",
        "    'Helix Propensity':'CHOC760101',\n",
        "    'Beta Sheet Propensity':'CHOC760102',\n",
        "    'Turn Propensity': 'CHOC760103',\n",
        "    'Hydrogen Bonding':'FAUJ880111',\n",
        "    'Interaction Energy':'KANM800101',\n",
        "    'Protein Stability':'TAKK010101',\n",
        "    'Biological Activity':'ISOY800106',\n",
        "    'Antigenicity':'WERD780101',\n",
        "    'Electronegativity':'CHAM830107',\n",
        "    'Refractivity':'ZIMJ680105',\n",
        "    'Mass':'FAUJ880108',\n",
        "    'Surface Tension':'RADA880108',\n",
        "    'Van der Waals Volume':'FAUJ880103',\n",
        "    'Bulkiness':'ZIMJ680101',\n",
        "    'Compressibility':'FAUJ880106'\n",
        "}\n",
        "\n",
        "# Validate\n",
        "for name, idx in selected_ids.items():\n",
        "    if idx not in aaindex1.record_codes():\n",
        "        raise ValueError(f\"{name} → {idx} not found in aaindex1\")\n",
        "\n",
        "# Extract features\n",
        "amino_acids = list(\"ACDEFGHIKLMNPQRSTVWY\")\n",
        "aa_features = pd.DataFrame(index=amino_acids)\n",
        "\n",
        "for name, idx in selected_ids.items():\n",
        "    aa_features[name] = [aaindex1[idx].values[aa] for aa in amino_acids]\n",
        "\n",
        "print(aa_features.head())\n"
      ]
    },
    {
      "cell_type": "code",
      "execution_count": null,
      "metadata": {
        "colab": {
          "base_uri": "https://localhost:8080/"
        },
        "id": "e1sNhpK4LDbc",
        "outputId": "cac73dab-8cc3-4d04-f8dc-bf2c4fe97dfe"
      },
      "outputs": [
        {
          "name": "stdout",
          "output_type": "stream",
          "text": [
            "Top features selected: ['Helix Propensity', 'Van der Waals Volume', 'Charge', 'Electronegativity', 'Isoelectric Point', 'Compressibility', 'Beta Sheet Propensity', 'Turn Propensity']\n"
          ]
        }
      ],
      "source": [
        "### PCA Loadings → Select Top 8 Raw Features\n",
        "from sklearn.decomposition import PCA\n",
        "from sklearn.preprocessing import StandardScaler\n",
        "\n",
        "# Standardize the features\n",
        "\n",
        "scaler_all = StandardScaler()\n",
        "X_scaled_all = scaler_all.fit_transform(aa_features.values)\n",
        "\n",
        "## Apply PCA on AAindex Features\n",
        "pca_all = PCA(n_components=8) # PCA:reduces dimensionality from 20 → 8, retaining ~99% variance.\n",
        "pca_all.fit(X_scaled_all)\n",
        "\n",
        "loadings = pd.DataFrame(pca_all.components_.T, index=aa_features.columns, columns=[f'PC{i+1}' for i in range(8)])\n",
        "abs_loadings = loadings.abs()\n",
        "combined = abs_loadings[['PC1', 'PC2', 'PC3']].sum(axis=1).sort_values(ascending=False)\n",
        "\n",
        "\n",
        "top_features = combined.head(8).index.tolist()\n",
        "print(\"Top features selected:\", top_features)\n",
        "\n",
        "\n",
        "### Selected Only Top 8 Raw Features\n",
        "aa_features_reduced = aa_features[top_features]\n"
      ]
    },
    {
      "cell_type": "code",
      "execution_count": 8,
      "metadata": {
        "colab": {
          "base_uri": "https://localhost:8080/",
          "height": 278
        },
        "id": "ZHxS3lR5LDSZ",
        "outputId": "4658f654-d95b-453d-eb85-257e22cc41b7"
      },
      "outputs": [
        {
          "data": {
            "text/html": [
              "<div>\n",
              "<style scoped>\n",
              "    .dataframe tbody tr th:only-of-type {\n",
              "        vertical-align: middle;\n",
              "    }\n",
              "\n",
              "    .dataframe tbody tr th {\n",
              "        vertical-align: top;\n",
              "    }\n",
              "\n",
              "    .dataframe thead th {\n",
              "        text-align: right;\n",
              "    }\n",
              "</style>\n",
              "<table border=\"1\" class=\"dataframe\">\n",
              "  <thead>\n",
              "    <tr style=\"text-align: right;\">\n",
              "      <th></th>\n",
              "      <th>Helix Propensity</th>\n",
              "      <th>Van der Waals Volume</th>\n",
              "      <th>Charge</th>\n",
              "      <th>Electronegativity</th>\n",
              "      <th>Isoelectric Point</th>\n",
              "      <th>Compressibility</th>\n",
              "      <th>Beta Sheet Propensity</th>\n",
              "      <th>Turn Propensity</th>\n",
              "    </tr>\n",
              "  </thead>\n",
              "  <tbody>\n",
              "    <tr>\n",
              "      <th>A</th>\n",
              "      <td>115.0</td>\n",
              "      <td>1.00</td>\n",
              "      <td>4.76</td>\n",
              "      <td>0.0</td>\n",
              "      <td>6.00</td>\n",
              "      <td>2.04</td>\n",
              "      <td>25.0</td>\n",
              "      <td>0.38</td>\n",
              "    </tr>\n",
              "    <tr>\n",
              "      <th>C</th>\n",
              "      <td>135.0</td>\n",
              "      <td>2.43</td>\n",
              "      <td>3.67</td>\n",
              "      <td>0.0</td>\n",
              "      <td>5.05</td>\n",
              "      <td>3.41</td>\n",
              "      <td>19.0</td>\n",
              "      <td>0.45</td>\n",
              "    </tr>\n",
              "    <tr>\n",
              "      <th>D</th>\n",
              "      <td>150.0</td>\n",
              "      <td>2.78</td>\n",
              "      <td>5.69</td>\n",
              "      <td>1.0</td>\n",
              "      <td>2.77</td>\n",
              "      <td>3.78</td>\n",
              "      <td>50.0</td>\n",
              "      <td>0.15</td>\n",
              "    </tr>\n",
              "    <tr>\n",
              "      <th>E</th>\n",
              "      <td>190.0</td>\n",
              "      <td>3.78</td>\n",
              "      <td>5.48</td>\n",
              "      <td>1.0</td>\n",
              "      <td>3.22</td>\n",
              "      <td>3.31</td>\n",
              "      <td>49.0</td>\n",
              "      <td>0.18</td>\n",
              "    </tr>\n",
              "    <tr>\n",
              "      <th>F</th>\n",
              "      <td>210.0</td>\n",
              "      <td>5.89</td>\n",
              "      <td>4.31</td>\n",
              "      <td>0.0</td>\n",
              "      <td>5.48</td>\n",
              "      <td>6.02</td>\n",
              "      <td>24.0</td>\n",
              "      <td>0.50</td>\n",
              "    </tr>\n",
              "  </tbody>\n",
              "</table>\n",
              "</div>"
            ],
            "text/plain": [
              "   Helix Propensity  Van der Waals Volume  Charge  Electronegativity  \\\n",
              "A             115.0                  1.00    4.76                0.0   \n",
              "C             135.0                  2.43    3.67                0.0   \n",
              "D             150.0                  2.78    5.69                1.0   \n",
              "E             190.0                  3.78    5.48                1.0   \n",
              "F             210.0                  5.89    4.31                0.0   \n",
              "\n",
              "   Isoelectric Point  Compressibility  Beta Sheet Propensity  Turn Propensity  \n",
              "A               6.00             2.04                   25.0             0.38  \n",
              "C               5.05             3.41                   19.0             0.45  \n",
              "D               2.77             3.78                   50.0             0.15  \n",
              "E               3.22             3.31                   49.0             0.18  \n",
              "F               5.48             6.02                   24.0             0.50  "
            ]
          },
          "execution_count": 8,
          "metadata": {},
          "output_type": "execute_result"
        }
      ],
      "source": [
        "aa_features_reduced.head()"
      ]
    },
    {
      "cell_type": "code",
      "execution_count": 9,
      "metadata": {
        "id": "GvHMTb-WNUp6"
      },
      "outputs": [],
      "source": [
        "# sequence_to_features() Function\n",
        "\n",
        "import numpy as np\n",
        "\n",
        "def sequence_to_features(seq, aa_features):\n",
        "    features = []\n",
        "    for aa in seq:\n",
        "        if aa in aa_features.index:\n",
        "            features.append(aa_features.loc[aa].values)\n",
        "        else:\n",
        "            features.append(np.zeros(aa_features.shape[1]))  # fallback for unknown AAs\n",
        "    return np.array(features)\n"
      ]
    },
    {
      "cell_type": "code",
      "execution_count": null,
      "metadata": {
        "colab": {
          "base_uri": "https://localhost:8080/"
        },
        "id": "kKrfpk2aNUiM",
        "outputId": "b231e1a0-713f-4a2e-d434-739b2f4f3f5f"
      },
      "outputs": [
        {
          "name": "stdout",
          "output_type": "stream",
          "text": [
            "Rs126 X shape: (125, 498, 8), RS126 y shape: (125, 498)\n"
          ]
        }
      ],
      "source": [
        "# Defined Padding Length and Feature Count\n",
        "#  MAX_LEN for Padding/Truncating\n",
        "\n",
        "MAX_LEN = df_cleaned['input'].str.len().max() ## max-length for RS126 is 498\n",
        "\n",
        "X = []\n",
        "y = []\n",
        "\n",
        "for _, row in df_cleaned.iterrows():\n",
        "    seq = row['input']\n",
        "    labels = row['dssp3']\n",
        "\n",
        "    # Sequence to feature matrix\n",
        "    features = sequence_to_features(seq, aa_features_reduced)\n",
        "\n",
        "    # Pad/truncate features\n",
        "    if len(seq) < MAX_LEN:\n",
        "        features = np.pad(features, ((0, MAX_LEN - len(seq)), (0, 0)), mode='constant')\n",
        "    else:\n",
        "        features = features[:MAX_LEN]\n",
        "\n",
        "    # Pad/truncate labels\n",
        "    padded_labels = labels.ljust(MAX_LEN, 'C')[:MAX_LEN]\n",
        "\n",
        "    X.append(features)\n",
        "    y.append(list(padded_labels))\n",
        "\n",
        "X = np.array(X)\n",
        "y = np.array(y)\n",
        "\n",
        "print(f\"Rs126 X shape: {X.shape}, RS126 y shape: {y.shape}\")\n"
      ]
    },
    {
      "cell_type": "code",
      "execution_count": 11,
      "metadata": {
        "colab": {
          "base_uri": "https://localhost:8080/"
        },
        "id": "AE1oQ2HMNUXh",
        "outputId": "64e04a0f-842c-4a27-c8a4-35afd4bb6276"
      },
      "outputs": [
        {
          "name": "stdout",
          "output_type": "stream",
          "text": [
            "RS126 y_encoded shape: (125, 498)\n"
          ]
        }
      ],
      "source": [
        "## Convert character labels ('C', 'H', 'E') into numerical form (0, 1, 2) for machine learning models.\n",
        "\n",
        "# Label Encoding (y)\n",
        "\n",
        "from sklearn.preprocessing import LabelEncoder\n",
        "\n",
        "label_encoder = LabelEncoder()\n",
        "label_encoder.fit(['C', 'H', 'E'])\n",
        "\n",
        "y_encoded = label_encoder.transform(y.flatten()).reshape(y.shape)\n",
        "print(f\"RS126 y_encoded shape: {y_encoded.shape}\")\n"
      ]
    },
    {
      "cell_type": "code",
      "execution_count": null,
      "metadata": {
        "colab": {
          "base_uri": "https://localhost:8080/"
        },
        "id": "D7girfv7Nbi_",
        "outputId": "c2bf372d-1cc7-4719-ed88-a48f7cd26d9c"
      },
      "outputs": [
        {
          "name": "stdout",
          "output_type": "stream",
          "text": [
            "X_train shape (RS126) = (149538, 8), y_train shape (RS126) = (149538,)\n"
          ]
        }
      ],
      "source": [
        "# Flatten X and y\n",
        "X_flat = X.reshape(-1, X.shape[-1])  # shape: (total_residues, 8)\n",
        "y_flat = y_encoded.flatten()\n",
        "\n",
        "# Standardize features\n",
        "from sklearn.preprocessing import StandardScaler\n",
        "scaler = StandardScaler()\n",
        "\n",
        "X_train_std = scaler.fit_transform(X_flat)\n",
        "y_train_std = y_flat\n",
        "\n",
        "\n",
        "\n",
        "## SMOTE (Synthetic Minority Oversampling Technique) to balanced all labels\n",
        "# Applyed SMOTE only for X and y training sets not testing sets.\n",
        "# Balances the training set by synthetically oversampling underrepresented classes (e.g., E or H).\n",
        "\n",
        "from imblearn.over_sampling import SMOTE\n",
        "smote = SMOTE(random_state=42)\n",
        "X_train, y_train = smote.fit_resample(X_train_std, y_train_std)\n",
        "\n",
        "print(f\"X_train shape (RS126) = {X_train.shape}, y_train shape (RS126) = {y_train.shape}\")\n"
      ]
    },
    {
      "cell_type": "code",
      "execution_count": 13,
      "metadata": {
        "colab": {
          "base_uri": "https://localhost:8080/"
        },
        "id": "7iGzxRaDb3Z4",
        "outputId": "5e0d0963-5df6-48f2-c31f-7facd77d9245"
      },
      "outputs": [
        {
          "name": "stdout",
          "output_type": "stream",
          "text": [
            "RS126 Before SMOTE: Counter({0: 49846, 2: 7157, 1: 5247})\n",
            "RS126 After SMOTE: Counter({0: 49846, 1: 49846, 2: 49846})\n"
          ]
        }
      ],
      "source": [
        "# Count label clases before and after SMOTE for RS126 data class balance\n",
        "\n",
        "from collections import Counter\n",
        "print(\"RS126 Before SMOTE:\", Counter(y_train_std))\n",
        "print(\"RS126 After SMOTE:\", Counter(y_train))\n"
      ]
    },
    {
      "cell_type": "code",
      "execution_count": null,
      "metadata": {
        "colab": {
          "base_uri": "https://localhost:8080/"
        },
        "id": "_UZLKcffsCJK",
        "outputId": "339f23ec-d21d-40d0-a7c6-cec258cbe6dd"
      },
      "outputs": [
        {
          "name": "stdout",
          "output_type": "stream",
          "text": [
            "0 → C\n",
            "1 → E\n",
            "2 → H\n"
          ]
        }
      ],
      "source": [
        "##  Mapping in Code\n",
        "for label, name in enumerate(label_encoder.classes_):\n",
        "    print(f\"{label} → {name}\")\n"
      ]
    },
    {
      "cell_type": "code",
      "execution_count": 15,
      "metadata": {
        "colab": {
          "base_uri": "https://localhost:8080/"
        },
        "id": "7CIjS_lLhAHo",
        "outputId": "7dcc4bae-197d-49b6-9cbb-264b38d21737"
      },
      "outputs": [
        {
          "name": "stdout",
          "output_type": "stream",
          "text": [
            "Kinase X shape: (50, 498, 8), Kinase y shape: (50, 498)\n"
          ]
        }
      ],
      "source": [
        "# Process Kinase Data → X_test, y_test\n",
        "# similar steps for df2_cleaned (kinase):\n",
        "# MAX_LEN same as RS126\n",
        "\n",
        "X_kinase = []\n",
        "y_kinase = []\n",
        "\n",
        "for _, row in df2_cleaned.iterrows():\n",
        "    seq = row['input']\n",
        "    labels = row['dssp3']\n",
        "\n",
        "    features = sequence_to_features(seq, aa_features_reduced)\n",
        "\n",
        "    if len(seq) < MAX_LEN:\n",
        "        features = np.pad(features, ((0, MAX_LEN - len(seq)), (0, 0)), mode='constant')\n",
        "    else:\n",
        "        features = features[:MAX_LEN]\n",
        "\n",
        "    padded_labels = labels.ljust(MAX_LEN, 'C')[:MAX_LEN]\n",
        "\n",
        "    X_kinase.append(features)\n",
        "    y_kinase.append(list(padded_labels))\n",
        "\n",
        "X_kinase = np.array(X_kinase)\n",
        "y_kinase = np.array(y_kinase)\n",
        "\n",
        "print(f\"Kinase X shape: {X_kinase.shape}, Kinase y shape: {y_kinase.shape}\")"
      ]
    },
    {
      "cell_type": "code",
      "execution_count": 16,
      "metadata": {
        "colab": {
          "base_uri": "https://localhost:8080/"
        },
        "id": "aqNRenaixOKA",
        "outputId": "933a48b0-0ae1-4222-c74d-a675386cc0e6"
      },
      "outputs": [
        {
          "name": "stdout",
          "output_type": "stream",
          "text": [
            "Kinase y_encoded shape: (50, 498)\n"
          ]
        }
      ],
      "source": [
        "# Label encode and flatten for Kinase data\n",
        "y_kinase_encoded = label_encoder.transform(y_kinase.flatten()).reshape(y_kinase.shape)\n",
        "print(f\"Kinase y_encoded shape: {y_kinase_encoded.shape}\")"
      ]
    },
    {
      "cell_type": "code",
      "execution_count": 17,
      "metadata": {
        "colab": {
          "base_uri": "https://localhost:8080/"
        },
        "id": "6MJq2YGdxoMj",
        "outputId": "4e2659d4-8704-4359-e531-23b156f5e4a0"
      },
      "outputs": [
        {
          "name": "stdout",
          "output_type": "stream",
          "text": [
            "Kinase: X_test shape = (24900, 8), y_test shape = (24900,)\n"
          ]
        }
      ],
      "source": [
        "X_test = X_kinase.reshape(-1, X_kinase.shape[-1])\n",
        "y_test = y_kinase_encoded.flatten()\n",
        "\n",
        "# Use same scaler from RS126\n",
        "X_test = scaler.transform(X_test)\n",
        "\n",
        "print(f\"Kinase: X_test shape = {X_test.shape}, y_test shape = {y_test.shape}\")"
      ]
    },
    {
      "cell_type": "code",
      "execution_count": 18,
      "metadata": {
        "colab": {
          "base_uri": "https://localhost:8080/"
        },
        "id": "Z2yX89zV3yPo",
        "outputId": "42993e39-18fb-4d70-d60f-7ed8887491e7"
      },
      "outputs": [
        {
          "name": "stdout",
          "output_type": "stream",
          "text": [
            "Counts for RS126 {'C': 49846, 'H': 5247, 'E': 7157}\n",
            "Counts for Kinase {'C': 14550, 'H': 3456, 'E': 6894}\n"
          ]
        }
      ],
      "source": [
        "from collections import Counter\n",
        "\n",
        "# for RS126\n",
        "all_labels = y_train_std.flatten() # contains labels count before SMOTE\n",
        "label_counts = Counter(all_labels)\n",
        "\n",
        "# map back to original class names\n",
        "label_mapping = {0: 'C', 1: 'H', 2: 'E'}\n",
        "mapped_counts = {label_mapping[k]: v for k, v in label_counts.items()}\n",
        "\n",
        "print(\"Counts for RS126\",mapped_counts)\n",
        "\n",
        "# for Kinase\n",
        "all_labels_kinase = y_test.flatten()\n",
        "label_counts_kinase = Counter(all_labels_kinase)\n",
        "\n",
        "# map back to original class names\n",
        "label_mapping_kinase = {0: 'C', 1: 'H', 2: 'E'}\n",
        "mapped_counts_kinase = {label_mapping_kinase[k]: v for k, v in label_counts_kinase.items()}\n",
        "print(\"Counts for Kinase\",mapped_counts_kinase)"
      ]
    },
    {
      "cell_type": "code",
      "execution_count": 19,
      "metadata": {
        "id": "VSaT1hgvNpRu"
      },
      "outputs": [],
      "source": [
        "### import necessary libraries\n",
        "\n",
        "from sklearn.preprocessing import LabelEncoder\n",
        "from sklearn.tree import DecisionTreeClassifier\n",
        "from sklearn.ensemble import RandomForestClassifier\n",
        "from xgboost import XGBClassifier\n",
        "from sklearn.model_selection import StratifiedKFold\n",
        "import pandas as pd\n",
        "from sklearn.metrics import (\n",
        "    accuracy_score, precision_score, recall_score,\n",
        "    f1_score, matthews_corrcoef, classification_report,\n",
        "    confusion_matrix, ConfusionMatrixDisplay\n",
        ")\n",
        "from sklearn.linear_model import LogisticRegression\n",
        "from sklearn.svm import SVC\n",
        "from sklearn.neighbors import KNeighborsClassifier\n",
        "from sklearn.naive_bayes import MultinomialNB\n",
        "import numpy as np\n",
        "import matplotlib.pyplot as plt"
      ]
    },
    {
      "cell_type": "code",
      "execution_count": null,
      "metadata": {
        "id": "fLIJB247yZHt"
      },
      "outputs": [
        {
          "name": "stdout",
          "output_type": "stream",
          "text": [
            "\n",
            "========== MultinomialNB ==========\n",
            " Skipped MultinomialNB (requires non-negative features)\n",
            "\n",
            "========== Decision Tree ==========\n",
            " Accuracy         : 53.44%\n",
            " Precision (macro): 55.36%\n",
            " Recall (macro)   : 54.57%\n",
            " F1 Score (macro) : 49.78%\n",
            " MCC Score        : 0.35\n",
            "\n",
            " Classification Report:\n",
            "              precision    recall  f1-score   support\n",
            "\n",
            "           C       1.00      0.50      0.66     14550\n",
            "           E       0.24      0.52      0.32      3456\n",
            "           H       0.43      0.62      0.50      6894\n",
            "\n",
            "    accuracy                           0.53     24900\n",
            "   macro avg       0.55      0.55      0.50     24900\n",
            "weighted avg       0.73      0.53      0.57     24900\n",
            "\n",
            "\n",
            " Cross-validation scores (accuracy %): [67.32, 66.64, 66.97, 66.99, 67.36]\n",
            " Mean CV Accuracy   : 67.06%\n",
            " Std Dev CV Accuracy: 0.26%\n"
          ]
        },
        {
          "data": {
            "image/png": "[encoded data removed]",
            "text/plain": [
              "<Figure size 640x480 with 2 Axes>"
            ]
          },
          "metadata": {},
          "output_type": "display_data"
        },
        {
          "name": "stdout",
          "output_type": "stream",
          "text": [
            "\n",
            "========== Random Forest ==========\n",
            " Accuracy         : 53.44%\n",
            " Precision (macro): 55.36%\n",
            " Recall (macro)   : 54.57%\n",
            " F1 Score (macro) : 49.78%\n",
            " MCC Score        : 0.35\n",
            "\n",
            " Classification Report:\n",
            "              precision    recall  f1-score   support\n",
            "\n",
            "           C       1.00      0.50      0.66     14550\n",
            "           E       0.24      0.52      0.32      3456\n",
            "           H       0.43      0.62      0.50      6894\n",
            "\n",
            "    accuracy                           0.53     24900\n",
            "   macro avg       0.55      0.55      0.50     24900\n",
            "weighted avg       0.73      0.53      0.57     24900\n",
            "\n",
            "\n",
            " Cross-validation scores (accuracy %): [67.32, 66.64, 66.97, 66.99, 67.36]\n",
            " Mean CV Accuracy   : 67.06%\n",
            " Std Dev CV Accuracy: 0.26%\n"
          ]
        },
        {
          "data": {
            "image/png": "[encoded data removed]",
            "text/plain": [
              "<Figure size 640x480 with 2 Axes>"
            ]
          },
          "metadata": {},
          "output_type": "display_data"
        },
        {
          "name": "stdout",
          "output_type": "stream",
          "text": [
            "\n",
            "========== XGBoost ==========\n",
            " Accuracy         : 53.44%\n",
            " Precision (macro): 55.36%\n",
            " Recall (macro)   : 54.57%\n",
            " F1 Score (macro) : 49.78%\n",
            " MCC Score        : 0.35\n",
            "\n",
            " Classification Report:\n",
            "              precision    recall  f1-score   support\n",
            "\n",
            "           C       1.00      0.50      0.66     14550\n",
            "           E       0.24      0.52      0.32      3456\n",
            "           H       0.43      0.62      0.50      6894\n",
            "\n",
            "    accuracy                           0.53     24900\n",
            "   macro avg       0.55      0.55      0.50     24900\n",
            "weighted avg       0.73      0.53      0.57     24900\n",
            "\n",
            "\n",
            " Cross-validation scores (accuracy %): [67.32, 66.64, 66.97, 66.99, 67.36]\n",
            " Mean CV Accuracy   : 67.06%\n",
            " Std Dev CV Accuracy: 0.26%\n"
          ]
        },
        {
          "data": {
            "image/png": "[encoded data removed]",
            "text/plain": [
              "<Figure size 640x480 with 2 Axes>"
            ]
          },
          "metadata": {},
          "output_type": "display_data"
        },
        {
          "name": "stdout",
          "output_type": "stream",
          "text": [
            "\n",
            "========== Logistic Regression ==========\n",
            " Accuracy         : 51.10%\n",
            " Precision (macro): 54.72%\n",
            " Recall (macro)   : 53.82%\n",
            " F1 Score (macro) : 48.08%\n",
            " MCC Score        : 0.33\n",
            "\n",
            " Classification Report:\n",
            "              precision    recall  f1-score   support\n",
            "\n",
            "           C       1.00      0.50      0.66     14550\n",
            "           E       0.23      0.64      0.34      3456\n",
            "           H       0.42      0.47      0.44      6894\n",
            "\n",
            "    accuracy                           0.51     24900\n",
            "   macro avg       0.55      0.54      0.48     24900\n",
            "weighted avg       0.73      0.51      0.56     24900\n",
            "\n",
            "\n",
            " Cross-validation scores (accuracy %): [65.77, 65.49, 65.64, 65.5, 65.79]\n",
            " Mean CV Accuracy   : 65.64%\n",
            " Std Dev CV Accuracy: 0.13%\n"
          ]
        },
        {
          "data": {
            "image/png": "[encoded data removed]",
            "text/plain": [
              "<Figure size 640x480 with 2 Axes>"
            ]
          },
          "metadata": {},
          "output_type": "display_data"
        },
        {
          "name": "stdout",
          "output_type": "stream",
          "text": [
            "\n",
            "========== SVM (Linear Kernel) ==========\n",
            " Accuracy         : 52.62%\n",
            " Precision (macro): 54.94%\n",
            " Recall (macro)   : 54.34%\n",
            " F1 Score (macro) : 49.27%\n",
            " MCC Score        : 0.33\n",
            "\n",
            " Classification Report:\n",
            "              precision    recall  f1-score   support\n",
            "\n",
            "           C       1.00      0.50      0.66     14550\n",
            "           E       0.25      0.56      0.34      3456\n",
            "           H       0.40      0.57      0.47      6894\n",
            "\n",
            "    accuracy                           0.53     24900\n",
            "   macro avg       0.55      0.54      0.49     24900\n",
            "weighted avg       0.73      0.53      0.57     24900\n",
            "\n",
            "\n",
            " Cross-validation scores (accuracy %): [64.14, 64.11, 63.95, 64.24, 64.14]\n",
            " Mean CV Accuracy   : 64.12%\n",
            " Std Dev CV Accuracy: 0.09%\n"
          ]
        },
        {
          "data": {
            "image/png": "[encoded data removed]",
            "text/plain": [
              "<Figure size 640x480 with 2 Axes>"
            ]
          },
          "metadata": {},
          "output_type": "display_data"
        },
        {
          "name": "stdout",
          "output_type": "stream",
          "text": [
            "\n",
            "========== SVM (RBF Kernel) ==========\n",
            " Accuracy         : 53.44%\n",
            " Precision (macro): 55.36%\n",
            " Recall (macro)   : 54.57%\n",
            " F1 Score (macro) : 49.78%\n",
            " MCC Score        : 0.35\n",
            "\n",
            " Classification Report:\n",
            "              precision    recall  f1-score   support\n",
            "\n",
            "           C       1.00      0.50      0.66     14550\n",
            "           E       0.24      0.52      0.32      3456\n",
            "           H       0.43      0.62      0.50      6894\n",
            "\n",
            "    accuracy                           0.53     24900\n",
            "   macro avg       0.55      0.55      0.50     24900\n",
            "weighted avg       0.73      0.53      0.57     24900\n",
            "\n",
            "\n",
            " Cross-validation scores (accuracy %): [67.32, 66.64, 66.97, 66.99, 67.36]\n",
            " Mean CV Accuracy   : 67.06%\n",
            " Std Dev CV Accuracy: 0.26%\n"
          ]
        },
        {
          "data": {
            "image/png": "[encoded data removed]",
            "text/plain": [
              "<Figure size 640x480 with 2 Axes>"
            ]
          },
          "metadata": {},
          "output_type": "display_data"
        },
        {
          "name": "stdout",
          "output_type": "stream",
          "text": [
            "\n",
            "========== K-Nearest Neighbors ==========\n",
            " Accuracy         : 57.08%\n",
            " Precision (macro): 30.74%\n",
            " Recall (macro)   : 43.11%\n",
            " F1 Score (macro) : 35.86%\n",
            " MCC Score        : 0.19\n",
            "\n",
            " Classification Report:\n",
            "              precision    recall  f1-score   support\n",
            "\n",
            "           C       0.65      0.88      0.75     14550\n",
            "           E       0.27      0.42      0.33      3456\n",
            "           H       0.00      0.00      0.00      6894\n",
            "\n",
            "    accuracy                           0.57     24900\n",
            "   macro avg       0.31      0.43      0.36     24900\n",
            "weighted avg       0.42      0.57      0.48     24900\n",
            "\n",
            "\n",
            " Cross-validation scores (accuracy %): [47.06, 49.51, 50.0, 48.56, 48.95]\n",
            " Mean CV Accuracy   : 48.82%\n",
            " Std Dev CV Accuracy: 1.00%\n"
          ]
        },
        {
          "data": {
            "image/png": "[encoded data removed]",
            "text/plain": [
              "<Figure size 640x480 with 2 Axes>"
            ]
          },
          "metadata": {},
          "output_type": "display_data"
        }
      ],
      "source": [
        "\n",
        "# ===== Defined Models with Class Weights Where Applicable =====\n",
        "models = {\n",
        "    \"MultinomialNB\": MultinomialNB(),  # Only if features are non-negative\n",
        "    \"Decision Tree\": DecisionTreeClassifier(class_weight='balanced', random_state=42),\n",
        "    \"Random Forest\": RandomForestClassifier(n_estimators=100, random_state=42),  # No class_weight here (SMOTE already balances)\n",
        "    \"XGBoost\": XGBClassifier(eval_metric='mlogloss', random_state=42),  # Handles imbalance internally with `scale_pos_weight`\n",
        "    \"Logistic Regression\": LogisticRegression(max_iter=1000, class_weight='balanced'),\n",
        "    \"SVM (Linear Kernel)\": SVC(kernel='linear', class_weight='balanced'),\n",
        "    \"SVM (RBF Kernel)\": SVC(kernel='rbf', class_weight='balanced'),\n",
        "    \"K-Nearest Neighbors\": KNeighborsClassifier(n_neighbors=5, weights='distance')  # No class_weight support\n",
        "}\n",
        "\n",
        "# ===== Cross-Validation Setup =====\n",
        "skf = StratifiedKFold(n_splits=5, shuffle=True, random_state=42)\n",
        "results = []\n",
        "\n",
        "# ===== Training and Evaluation =====\n",
        "for model_name, model in models.items():\n",
        "    print(f\"\\n========== {model_name} ==========\")\n",
        "\n",
        "    # Skiped MultinomialNB because features are negative\n",
        "    if model_name == \"MultinomialNB\" and np.any(X_train < 0):\n",
        "        print(\" Skipped MultinomialNB (requires non-negative features)\")\n",
        "        continue\n",
        "\n",
        "    # === Train model and evaluate on test set ===\n",
        "    model.fit(X_train, y_train)\n",
        "    y_pred = model.predict(X_test)\n",
        "\n",
        "    acc = accuracy_score(y_test, y_pred)\n",
        "    prec = precision_score(y_test, y_pred, average='macro', zero_division=0)\n",
        "    rec = recall_score(y_test, y_pred, average='macro', zero_division=0)\n",
        "    f1 = f1_score(y_test, y_pred, average='macro', zero_division=0)\n",
        "    mcc = matthews_corrcoef(y_test, y_pred)\n",
        "\n",
        "    print(f\" Accuracy         : {acc * 100:.2f}%\")\n",
        "    print(f\" Precision (macro): {prec * 100:.2f}%\")\n",
        "    print(f\" Recall (macro)   : {rec * 100:.2f}%\")\n",
        "    print(f\" F1 Score (macro) : {f1 * 100:.2f}%\")\n",
        "    print(f\" MCC Score        : {mcc:.2f}\")\n",
        "\n",
        "    # === Classification Report ===\n",
        "    print(\"\\n Classification Report:\")\n",
        "    print(classification_report(y_test, y_pred, target_names=label_encoder.classes_,zero_division=0))\n",
        "\n",
        "    # === Stratified Cross-Validation ===\n",
        "    cv_accuracies = []\n",
        "    for train_idx, val_idx in skf.split(X_train, y_train):\n",
        "        X_fold_train, X_fold_val = X_train[train_idx], X_train[val_idx]\n",
        "        y_fold_train, y_fold_val = y_train[train_idx], y_train[val_idx]\n",
        "\n",
        "        model.fit(X_fold_train, y_fold_train)\n",
        "        y_fold_pred = model.predict(X_fold_val)\n",
        "        fold_acc = accuracy_score(y_fold_val, y_fold_pred)\n",
        "        cv_accuracies.append(fold_acc * 100)\n",
        "\n",
        "    cv_accuracies = np.array(cv_accuracies)\n",
        "    print(f\"\\n Cross-validation scores (accuracy %): {np.round(cv_accuracies, 2).tolist()}\")\n",
        "    print(f\" Mean CV Accuracy   : {cv_accuracies.mean():.2f}%\")\n",
        "    print(f\" Std Dev CV Accuracy: {cv_accuracies.std():.2f}%\")\n",
        "\n",
        "    # === Confusion Matrix ===\n",
        "    cm = confusion_matrix(y_test, y_pred)\n",
        "    disp = ConfusionMatrixDisplay(confusion_matrix=cm, display_labels=label_encoder.classes_)\n",
        "    disp.plot(cmap='viridis')\n",
        "    plt.title(f\"{model_name} - Confusion Matrix\")\n",
        "    plt.show()\n",
        "\n",
        "    # Store results\n",
        "    results.append({\n",
        "        'Model': model_name,\n",
        "        'Accuracy': acc * 100,\n",
        "        'Precision': prec * 100,\n",
        "        'Recall': rec * 100,\n",
        "        'F1 Score': f1 * 100,\n",
        "        'MCC': mcc,\n",
        "        'CV Accuracy Mean': cv_accuracies.mean(),\n",
        "        'CV Accuracy Std Dev': cv_accuracies.std()\n",
        "    })\n"
      ]
    },
    {
      "cell_type": "code",
      "execution_count": 21,
      "metadata": {
        "id": "x9h0r3_MyZDw"
      },
      "outputs": [
        {
          "data": {
            "text/html": [
              "<div>\n",
              "<style scoped>\n",
              "    .dataframe tbody tr th:only-of-type {\n",
              "        vertical-align: middle;\n",
              "    }\n",
              "\n",
              "    .dataframe tbody tr th {\n",
              "        vertical-align: top;\n",
              "    }\n",
              "\n",
              "    .dataframe thead th {\n",
              "        text-align: right;\n",
              "    }\n",
              "</style>\n",
              "<table border=\"1\" class=\"dataframe\">\n",
              "  <thead>\n",
              "    <tr style=\"text-align: right;\">\n",
              "      <th></th>\n",
              "      <th>Model</th>\n",
              "      <th>Accuracy</th>\n",
              "      <th>Precision</th>\n",
              "      <th>Recall</th>\n",
              "      <th>F1 Score</th>\n",
              "      <th>MCC</th>\n",
              "      <th>CV Accuracy Mean</th>\n",
              "      <th>CV Accuracy Std Dev</th>\n",
              "    </tr>\n",
              "  </thead>\n",
              "  <tbody>\n",
              "    <tr>\n",
              "      <th>0</th>\n",
              "      <td>K-Nearest Neighbors</td>\n",
              "      <td>57.08</td>\n",
              "      <td>30.74</td>\n",
              "      <td>43.11</td>\n",
              "      <td>35.86</td>\n",
              "      <td>0.19</td>\n",
              "      <td>48.82</td>\n",
              "      <td>1.00</td>\n",
              "    </tr>\n",
              "    <tr>\n",
              "      <th>1</th>\n",
              "      <td>Random Forest</td>\n",
              "      <td>53.44</td>\n",
              "      <td>55.36</td>\n",
              "      <td>54.57</td>\n",
              "      <td>49.78</td>\n",
              "      <td>0.35</td>\n",
              "      <td>67.06</td>\n",
              "      <td>0.26</td>\n",
              "    </tr>\n",
              "    <tr>\n",
              "      <th>2</th>\n",
              "      <td>Decision Tree</td>\n",
              "      <td>53.44</td>\n",
              "      <td>55.36</td>\n",
              "      <td>54.57</td>\n",
              "      <td>49.78</td>\n",
              "      <td>0.35</td>\n",
              "      <td>67.06</td>\n",
              "      <td>0.26</td>\n",
              "    </tr>\n",
              "    <tr>\n",
              "      <th>3</th>\n",
              "      <td>XGBoost</td>\n",
              "      <td>53.44</td>\n",
              "      <td>55.36</td>\n",
              "      <td>54.57</td>\n",
              "      <td>49.78</td>\n",
              "      <td>0.35</td>\n",
              "      <td>67.06</td>\n",
              "      <td>0.26</td>\n",
              "    </tr>\n",
              "    <tr>\n",
              "      <th>4</th>\n",
              "      <td>SVM (RBF Kernel)</td>\n",
              "      <td>53.44</td>\n",
              "      <td>55.36</td>\n",
              "      <td>54.57</td>\n",
              "      <td>49.78</td>\n",
              "      <td>0.35</td>\n",
              "      <td>67.06</td>\n",
              "      <td>0.26</td>\n",
              "    </tr>\n",
              "    <tr>\n",
              "      <th>5</th>\n",
              "      <td>SVM (Linear Kernel)</td>\n",
              "      <td>52.62</td>\n",
              "      <td>54.94</td>\n",
              "      <td>54.34</td>\n",
              "      <td>49.27</td>\n",
              "      <td>0.33</td>\n",
              "      <td>64.12</td>\n",
              "      <td>0.09</td>\n",
              "    </tr>\n",
              "    <tr>\n",
              "      <th>6</th>\n",
              "      <td>Logistic Regression</td>\n",
              "      <td>51.10</td>\n",
              "      <td>54.72</td>\n",
              "      <td>53.82</td>\n",
              "      <td>48.08</td>\n",
              "      <td>0.33</td>\n",
              "      <td>65.64</td>\n",
              "      <td>0.13</td>\n",
              "    </tr>\n",
              "  </tbody>\n",
              "</table>\n",
              "</div>"
            ],
            "text/plain": [
              "                 Model  Accuracy  Precision  Recall  F1 Score   MCC  \\\n",
              "0  K-Nearest Neighbors     57.08      30.74   43.11     35.86  0.19   \n",
              "1        Random Forest     53.44      55.36   54.57     49.78  0.35   \n",
              "2        Decision Tree     53.44      55.36   54.57     49.78  0.35   \n",
              "3              XGBoost     53.44      55.36   54.57     49.78  0.35   \n",
              "4     SVM (RBF Kernel)     53.44      55.36   54.57     49.78  0.35   \n",
              "5  SVM (Linear Kernel)     52.62      54.94   54.34     49.27  0.33   \n",
              "6  Logistic Regression     51.10      54.72   53.82     48.08  0.33   \n",
              "\n",
              "   CV Accuracy Mean  CV Accuracy Std Dev  \n",
              "0             48.82                 1.00  \n",
              "1             67.06                 0.26  \n",
              "2             67.06                 0.26  \n",
              "3             67.06                 0.26  \n",
              "4             67.06                 0.26  \n",
              "5             64.12                 0.09  \n",
              "6             65.64                 0.13  "
            ]
          },
          "execution_count": 21,
          "metadata": {},
          "output_type": "execute_result"
        }
      ],
      "source": [
        "# convert to DataFrame\n",
        "import pandas as pd\n",
        "results_df = pd.DataFrame(results)\n",
        "results_df = results_df.round(2)\n",
        "results_df = results_df.sort_values(by='Accuracy', ascending=False).reset_index(drop=True)\n",
        "results_df"
      ]
    },
    {
      "cell_type": "code",
      "execution_count": 22,
      "metadata": {
        "id": "R3C4lpSMyZBT"
      },
      "outputs": [
        {
          "data": {
            "application/vnd.plotly.v1+json": {
              "config": {
                "plotlyServerURL": "https://plot.ly"
              },
              "data": [
                {
                  "alignmentgroup": "True",
                  "hovertemplate": "Model=%{x}<br>MCC=%{marker.color}<extra></extra>",
                  "legendgroup": "",
                  "marker": {
                    "color": [
                      0.19,
                      0.35,
                      0.35,
                      0.35,
                      0.35,
                      0.33,
                      0.33
                    ],
                    "coloraxis": "coloraxis",
                    "pattern": {
                      "shape": ""
                    }
                  },
                  "name": "",
                  "offsetgroup": "",
                  "orientation": "v",
                  "showlegend": false,
                  "text": [
                    0.19,
                    0.35,
                    0.35,
                    0.35,
                    0.35,
                    0.33,
                    0.33
                  ],
                  "textposition": "outside",
                  "texttemplate": "%{text:.2f}",
                  "type": "bar",
                  "x": [
                    "K-Nearest Neighbors",
                    "Random Forest",
                    "Decision Tree",
                    "XGBoost",
                    "SVM (RBF Kernel)",
                    "SVM (Linear Kernel)",
                    "Logistic Regression"
                  ],
                  "xaxis": "x",
                  "y": [
                    0.19,
                    0.35,
                    0.35,
                    0.35,
                    0.35,
                    0.33,
                    0.33
                  ],
                  "yaxis": "y"
                }
              ],
              "layout": {
                "barmode": "relative",
                "coloraxis": {
                  "colorbar": {
                    "title": {
                      "text": "MCC"
                    }
                  },
                  "colorscale": [
                    [
                      0,
                      "#440154"
                    ],
                    [
                      0.1111111111111111,
                      "#482878"
                    ],
                    [
                      0.2222222222222222,
                      "#3e4989"
                    ],
                    [
                      0.3333333333333333,
                      "#31688e"
                    ],
                    [
                      0.4444444444444444,
                      "#26828e"
                    ],
                    [
                      0.5555555555555556,
                      "#1f9e89"
                    ],
                    [
                      0.6666666666666666,
                      "#35b779"
                    ],
                    [
                      0.7777777777777778,
                      "#6ece58"
                    ],
                    [
                      0.8888888888888888,
                      "#b5de2b"
                    ],
                    [
                      1,
                      "#fde725"
                    ]
                  ]
                },
                "legend": {
                  "tracegroupgap": 0
                },
                "showlegend": false,
                "template": {
                  "data": {
                    "bar": [
                      {
                        "error_x": {
                          "color": "#2a3f5f"
                        },
                        "error_y": {
                          "color": "#2a3f5f"
                        },
                        "marker": {
                          "line": {
                            "color": "#E5ECF6",
                            "width": 0.5
                          },
                          "pattern": {
                            "fillmode": "overlay",
                            "size": 10,
                            "solidity": 0.2
                          }
                        },
                        "type": "bar"
                      }
                    ],
                    "barpolar": [
                      {
                        "marker": {
                          "line": {
                            "color": "#E5ECF6",
                            "width": 0.5
                          },
                          "pattern": {
                            "fillmode": "overlay",
                            "size": 10,
                            "solidity": 0.2
                          }
                        },
                        "type": "barpolar"
                      }
                    ],
                    "carpet": [
                      {
                        "aaxis": {
                          "endlinecolor": "#2a3f5f",
                          "gridcolor": "white",
                          "linecolor": "white",
                          "minorgridcolor": "white",
                          "startlinecolor": "#2a3f5f"
                        },
                        "baxis": {
                          "endlinecolor": "#2a3f5f",
                          "gridcolor": "white",
                          "linecolor": "white",
                          "minorgridcolor": "white",
                          "startlinecolor": "#2a3f5f"
                        },
                        "type": "carpet"
                      }
                    ],
                    "choropleth": [
                      {
                        "colorbar": {
                          "outlinewidth": 0,
                          "ticks": ""
                        },
                        "type": "choropleth"
                      }
                    ],
                    "contour": [
                      {
                        "colorbar": {
                          "outlinewidth": 0,
                          "ticks": ""
                        },
                        "colorscale": [
                          [
                            0,
                            "#0d0887"
                          ],
                          [
                            0.1111111111111111,
                            "#46039f"
                          ],
                          [
                            0.2222222222222222,
                            "#7201a8"
                          ],
                          [
                            0.3333333333333333,
                            "#9c179e"
                          ],
                          [
                            0.4444444444444444,
                            "#bd3786"
                          ],
                          [
                            0.5555555555555556,
                            "#d8576b"
                          ],
                          [
                            0.6666666666666666,
                            "#ed7953"
                          ],
                          [
                            0.7777777777777778,
                            "#fb9f3a"
                          ],
                          [
                            0.8888888888888888,
                            "#fdca26"
                          ],
                          [
                            1,
                            "#f0f921"
                          ]
                        ],
                        "type": "contour"
                      }
                    ],
                    "contourcarpet": [
                      {
                        "colorbar": {
                          "outlinewidth": 0,
                          "ticks": ""
                        },
                        "type": "contourcarpet"
                      }
                    ],
                    "heatmap": [
                      {
                        "colorbar": {
                          "outlinewidth": 0,
                          "ticks": ""
                        },
                        "colorscale": [
                          [
                            0,
                            "#0d0887"
                          ],
                          [
                            0.1111111111111111,
                            "#46039f"
                          ],
                          [
                            0.2222222222222222,
                            "#7201a8"
                          ],
                          [
                            0.3333333333333333,
                            "#9c179e"
                          ],
                          [
                            0.4444444444444444,
                            "#bd3786"
                          ],
                          [
                            0.5555555555555556,
                            "#d8576b"
                          ],
                          [
                            0.6666666666666666,
                            "#ed7953"
                          ],
                          [
                            0.7777777777777778,
                            "#fb9f3a"
                          ],
                          [
                            0.8888888888888888,
                            "#fdca26"
                          ],
                          [
                            1,
                            "#f0f921"
                          ]
                        ],
                        "type": "heatmap"
                      }
                    ],
                    "heatmapgl": [
                      {
                        "colorbar": {
                          "outlinewidth": 0,
                          "ticks": ""
                        },
                        "colorscale": [
                          [
                            0,
                            "#0d0887"
                          ],
                          [
                            0.1111111111111111,
                            "#46039f"
                          ],
                          [
                            0.2222222222222222,
                            "#7201a8"
                          ],
                          [
                            0.3333333333333333,
                            "#9c179e"
                          ],
                          [
                            0.4444444444444444,
                            "#bd3786"
                          ],
                          [
                            0.5555555555555556,
                            "#d8576b"
                          ],
                          [
                            0.6666666666666666,
                            "#ed7953"
                          ],
                          [
                            0.7777777777777778,
                            "#fb9f3a"
                          ],
                          [
                            0.8888888888888888,
                            "#fdca26"
                          ],
                          [
                            1,
                            "#f0f921"
                          ]
                        ],
                        "type": "heatmapgl"
                      }
                    ],
                    "histogram": [
                      {
                        "marker": {
                          "pattern": {
                            "fillmode": "overlay",
                            "size": 10,
                            "solidity": 0.2
                          }
                        },
                        "type": "histogram"
                      }
                    ],
                    "histogram2d": [
                      {
                        "colorbar": {
                          "outlinewidth": 0,
                          "ticks": ""
                        },
                        "colorscale": [
                          [
                            0,
                            "#0d0887"
                          ],
                          [
                            0.1111111111111111,
                            "#46039f"
                          ],
                          [
                            0.2222222222222222,
                            "#7201a8"
                          ],
                          [
                            0.3333333333333333,
                            "#9c179e"
                          ],
                          [
                            0.4444444444444444,
                            "#bd3786"
                          ],
                          [
                            0.5555555555555556,
                            "#d8576b"
                          ],
                          [
                            0.6666666666666666,
                            "#ed7953"
                          ],
                          [
                            0.7777777777777778,
                            "#fb9f3a"
                          ],
                          [
                            0.8888888888888888,
                            "#fdca26"
                          ],
                          [
                            1,
                            "#f0f921"
                          ]
                        ],
                        "type": "histogram2d"
                      }
                    ],
                    "histogram2dcontour": [
                      {
                        "colorbar": {
                          "outlinewidth": 0,
                          "ticks": ""
                        },
                        "colorscale": [
                          [
                            0,
                            "#0d0887"
                          ],
                          [
                            0.1111111111111111,
                            "#46039f"
                          ],
                          [
                            0.2222222222222222,
                            "#7201a8"
                          ],
                          [
                            0.3333333333333333,
                            "#9c179e"
                          ],
                          [
                            0.4444444444444444,
                            "#bd3786"
                          ],
                          [
                            0.5555555555555556,
                            "#d8576b"
                          ],
                          [
                            0.6666666666666666,
                            "#ed7953"
                          ],
                          [
                            0.7777777777777778,
                            "#fb9f3a"
                          ],
                          [
                            0.8888888888888888,
                            "#fdca26"
                          ],
                          [
                            1,
                            "#f0f921"
                          ]
                        ],
                        "type": "histogram2dcontour"
                      }
                    ],
                    "mesh3d": [
                      {
                        "colorbar": {
                          "outlinewidth": 0,
                          "ticks": ""
                        },
                        "type": "mesh3d"
                      }
                    ],
                    "parcoords": [
                      {
                        "line": {
                          "colorbar": {
                            "outlinewidth": 0,
                            "ticks": ""
                          }
                        },
                        "type": "parcoords"
                      }
                    ],
                    "pie": [
                      {
                        "automargin": true,
                        "type": "pie"
                      }
                    ],
                    "scatter": [
                      {
                        "fillpattern": {
                          "fillmode": "overlay",
                          "size": 10,
                          "solidity": 0.2
                        },
                        "type": "scatter"
                      }
                    ],
                    "scatter3d": [
                      {
                        "line": {
                          "colorbar": {
                            "outlinewidth": 0,
                            "ticks": ""
                          }
                        },
                        "marker": {
                          "colorbar": {
                            "outlinewidth": 0,
                            "ticks": ""
                          }
                        },
                        "type": "scatter3d"
                      }
                    ],
                    "scattercarpet": [
                      {
                        "marker": {
                          "colorbar": {
                            "outlinewidth": 0,
                            "ticks": ""
                          }
                        },
                        "type": "scattercarpet"
                      }
                    ],
                    "scattergeo": [
                      {
                        "marker": {
                          "colorbar": {
                            "outlinewidth": 0,
                            "ticks": ""
                          }
                        },
                        "type": "scattergeo"
                      }
                    ],
                    "scattergl": [
                      {
                        "marker": {
                          "colorbar": {
                            "outlinewidth": 0,
                            "ticks": ""
                          }
                        },
                        "type": "scattergl"
                      }
                    ],
                    "scattermapbox": [
                      {
                        "marker": {
                          "colorbar": {
                            "outlinewidth": 0,
                            "ticks": ""
                          }
                        },
                        "type": "scattermapbox"
                      }
                    ],
                    "scatterpolar": [
                      {
                        "marker": {
                          "colorbar": {
                            "outlinewidth": 0,
                            "ticks": ""
                          }
                        },
                        "type": "scatterpolar"
                      }
                    ],
                    "scatterpolargl": [
                      {
                        "marker": {
                          "colorbar": {
                            "outlinewidth": 0,
                            "ticks": ""
                          }
                        },
                        "type": "scatterpolargl"
                      }
                    ],
                    "scatterternary": [
                      {
                        "marker": {
                          "colorbar": {
                            "outlinewidth": 0,
                            "ticks": ""
                          }
                        },
                        "type": "scatterternary"
                      }
                    ],
                    "surface": [
                      {
                        "colorbar": {
                          "outlinewidth": 0,
                          "ticks": ""
                        },
                        "colorscale": [
                          [
                            0,
                            "#0d0887"
                          ],
                          [
                            0.1111111111111111,
                            "#46039f"
                          ],
                          [
                            0.2222222222222222,
                            "#7201a8"
                          ],
                          [
                            0.3333333333333333,
                            "#9c179e"
                          ],
                          [
                            0.4444444444444444,
                            "#bd3786"
                          ],
                          [
                            0.5555555555555556,
                            "#d8576b"
                          ],
                          [
                            0.6666666666666666,
                            "#ed7953"
                          ],
                          [
                            0.7777777777777778,
                            "#fb9f3a"
                          ],
                          [
                            0.8888888888888888,
                            "#fdca26"
                          ],
                          [
                            1,
                            "#f0f921"
                          ]
                        ],
                        "type": "surface"
                      }
                    ],
                    "table": [
                      {
                        "cells": {
                          "fill": {
                            "color": "#EBF0F8"
                          },
                          "line": {
                            "color": "white"
                          }
                        },
                        "header": {
                          "fill": {
                            "color": "#C8D4E3"
                          },
                          "line": {
                            "color": "white"
                          }
                        },
                        "type": "table"
                      }
                    ]
                  },
                  "layout": {
                    "annotationdefaults": {
                      "arrowcolor": "#2a3f5f",
                      "arrowhead": 0,
                      "arrowwidth": 1
                    },
                    "autotypenumbers": "strict",
                    "coloraxis": {
                      "colorbar": {
                        "outlinewidth": 0,
                        "ticks": ""
                      }
                    },
                    "colorscale": {
                      "diverging": [
                        [
                          0,
                          "#8e0152"
                        ],
                        [
                          0.1,
                          "#c51b7d"
                        ],
                        [
                          0.2,
                          "#de77ae"
                        ],
                        [
                          0.3,
                          "#f1b6da"
                        ],
                        [
                          0.4,
                          "#fde0ef"
                        ],
                        [
                          0.5,
                          "#f7f7f7"
                        ],
                        [
                          0.6,
                          "#e6f5d0"
                        ],
                        [
                          0.7,
                          "#b8e186"
                        ],
                        [
                          0.8,
                          "#7fbc41"
                        ],
                        [
                          0.9,
                          "#4d9221"
                        ],
                        [
                          1,
                          "#276419"
                        ]
                      ],
                      "sequential": [
                        [
                          0,
                          "#0d0887"
                        ],
                        [
                          0.1111111111111111,
                          "#46039f"
                        ],
                        [
                          0.2222222222222222,
                          "#7201a8"
                        ],
                        [
                          0.3333333333333333,
                          "#9c179e"
                        ],
                        [
                          0.4444444444444444,
                          "#bd3786"
                        ],
                        [
                          0.5555555555555556,
                          "#d8576b"
                        ],
                        [
                          0.6666666666666666,
                          "#ed7953"
                        ],
                        [
                          0.7777777777777778,
                          "#fb9f3a"
                        ],
                        [
                          0.8888888888888888,
                          "#fdca26"
                        ],
                        [
                          1,
                          "#f0f921"
                        ]
                      ],
                      "sequentialminus": [
                        [
                          0,
                          "#0d0887"
                        ],
                        [
                          0.1111111111111111,
                          "#46039f"
                        ],
                        [
                          0.2222222222222222,
                          "#7201a8"
                        ],
                        [
                          0.3333333333333333,
                          "#9c179e"
                        ],
                        [
                          0.4444444444444444,
                          "#bd3786"
                        ],
                        [
                          0.5555555555555556,
                          "#d8576b"
                        ],
                        [
                          0.6666666666666666,
                          "#ed7953"
                        ],
                        [
                          0.7777777777777778,
                          "#fb9f3a"
                        ],
                        [
                          0.8888888888888888,
                          "#fdca26"
                        ],
                        [
                          1,
                          "#f0f921"
                        ]
                      ]
                    },
                    "colorway": [
                      "#636efa",
                      "#EF553B",
                      "#00cc96",
                      "#ab63fa",
                      "#FFA15A",
                      "#19d3f3",
                      "#FF6692",
                      "#B6E880",
                      "#FF97FF",
                      "#FECB52"
                    ],
                    "font": {
                      "color": "#2a3f5f"
                    },
                    "geo": {
                      "bgcolor": "white",
                      "lakecolor": "white",
                      "landcolor": "#E5ECF6",
                      "showlakes": true,
                      "showland": true,
                      "subunitcolor": "white"
                    },
                    "hoverlabel": {
                      "align": "left"
                    },
                    "hovermode": "closest",
                    "mapbox": {
                      "style": "light"
                    },
                    "paper_bgcolor": "white",
                    "plot_bgcolor": "#E5ECF6",
                    "polar": {
                      "angularaxis": {
                        "gridcolor": "white",
                        "linecolor": "white",
                        "ticks": ""
                      },
                      "bgcolor": "#E5ECF6",
                      "radialaxis": {
                        "gridcolor": "white",
                        "linecolor": "white",
                        "ticks": ""
                      }
                    },
                    "scene": {
                      "xaxis": {
                        "backgroundcolor": "#E5ECF6",
                        "gridcolor": "white",
                        "gridwidth": 2,
                        "linecolor": "white",
                        "showbackground": true,
                        "ticks": "",
                        "zerolinecolor": "white"
                      },
                      "yaxis": {
                        "backgroundcolor": "#E5ECF6",
                        "gridcolor": "white",
                        "gridwidth": 2,
                        "linecolor": "white",
                        "showbackground": true,
                        "ticks": "",
                        "zerolinecolor": "white"
                      },
                      "zaxis": {
                        "backgroundcolor": "#E5ECF6",
                        "gridcolor": "white",
                        "gridwidth": 2,
                        "linecolor": "white",
                        "showbackground": true,
                        "ticks": "",
                        "zerolinecolor": "white"
                      }
                    },
                    "shapedefaults": {
                      "line": {
                        "color": "#2a3f5f"
                      }
                    },
                    "ternary": {
                      "aaxis": {
                        "gridcolor": "white",
                        "linecolor": "white",
                        "ticks": ""
                      },
                      "baxis": {
                        "gridcolor": "white",
                        "linecolor": "white",
                        "ticks": ""
                      },
                      "bgcolor": "#E5ECF6",
                      "caxis": {
                        "gridcolor": "white",
                        "linecolor": "white",
                        "ticks": ""
                      }
                    },
                    "title": {
                      "x": 0.05
                    },
                    "xaxis": {
                      "automargin": true,
                      "gridcolor": "white",
                      "linecolor": "white",
                      "ticks": "",
                      "title": {
                        "standoff": 15
                      },
                      "zerolinecolor": "white",
                      "zerolinewidth": 2
                    },
                    "yaxis": {
                      "automargin": true,
                      "gridcolor": "white",
                      "linecolor": "white",
                      "ticks": "",
                      "title": {
                        "standoff": 15
                      },
                      "zerolinecolor": "white",
                      "zerolinewidth": 2
                    }
                  }
                },
                "title": {
                  "text": " MCC Score by Model"
                },
                "xaxis": {
                  "anchor": "y",
                  "domain": [
                    0,
                    1
                  ],
                  "title": {
                    "text": "Model"
                  }
                },
                "yaxis": {
                  "anchor": "x",
                  "domain": [
                    0,
                    1
                  ],
                  "title": {
                    "text": "MCC Score"
                  }
                }
              }
            }
          },
          "metadata": {},
          "output_type": "display_data"
        }
      ],
      "source": [
        "# MCC as a Bar Chart using Plotly\n",
        "import plotly.express as px\n",
        "\n",
        "fig_mcc = px.bar(\n",
        "    results_df,\n",
        "    x='Model',\n",
        "    y='MCC',\n",
        "    title=' MCC Score by Model',\n",
        "    text='MCC',\n",
        "    color='MCC',\n",
        "    color_continuous_scale='Viridis'\n",
        ")\n",
        "fig_mcc.update_traces(texttemplate='%{text:.2f}', textposition='outside')\n",
        "fig_mcc.update_layout(yaxis_title='MCC Score', xaxis_title='Model', showlegend=False)\n",
        "fig_mcc.show()\n"
      ]
    },
    {
      "cell_type": "code",
      "execution_count": null,
      "metadata": {
        "id": "R9l25waA0AI_"
      },
      "outputs": [
        {
          "data": {
            "application/vnd.plotly.v1+json": {
              "config": {
                "plotlyServerURL": "https://plot.ly"
              },
              "data": [
                {
                  "alignmentgroup": "True",
                  "hovertemplate": "Metric=Accuracy<br>Model=%{x}<br>Score=%{text}<extra></extra>",
                  "legendgroup": "Accuracy",
                  "marker": {
                    "color": "#636efa",
                    "pattern": {
                      "shape": ""
                    }
                  },
                  "name": "Accuracy",
                  "offsetgroup": "Accuracy",
                  "orientation": "v",
                  "showlegend": true,
                  "text": [
                    57.08,
                    53.44,
                    53.44,
                    53.44,
                    53.44,
                    52.62,
                    51.1
                  ],
                  "textposition": "outside",
                  "texttemplate": "%{text:.2f}",
                  "type": "bar",
                  "x": [
                    "K-Nearest Neighbors",
                    "Random Forest",
                    "Decision Tree",
                    "XGBoost",
                    "SVM (RBF Kernel)",
                    "SVM (Linear Kernel)",
                    "Logistic Regression"
                  ],
                  "xaxis": "x",
                  "y": [
                    57.08,
                    53.44,
                    53.44,
                    53.44,
                    53.44,
                    52.62,
                    51.1
                  ],
                  "yaxis": "y"
                },
                {
                  "alignmentgroup": "True",
                  "hovertemplate": "Metric=Precision<br>Model=%{x}<br>Score=%{text}<extra></extra>",
                  "legendgroup": "Precision",
                  "marker": {
                    "color": "#EF553B",
                    "pattern": {
                      "shape": ""
                    }
                  },
                  "name": "Precision",
                  "offsetgroup": "Precision",
                  "orientation": "v",
                  "showlegend": true,
                  "text": [
                    30.74,
                    55.36,
                    55.36,
                    55.36,
                    55.36,
                    54.94,
                    54.72
                  ],
                  "textposition": "outside",
                  "texttemplate": "%{text:.2f}",
                  "type": "bar",
                  "x": [
                    "K-Nearest Neighbors",
                    "Random Forest",
                    "Decision Tree",
                    "XGBoost",
                    "SVM (RBF Kernel)",
                    "SVM (Linear Kernel)",
                    "Logistic Regression"
                  ],
                  "xaxis": "x",
                  "y": [
                    30.74,
                    55.36,
                    55.36,
                    55.36,
                    55.36,
                    54.94,
                    54.72
                  ],
                  "yaxis": "y"
                },
                {
                  "alignmentgroup": "True",
                  "hovertemplate": "Metric=Recall<br>Model=%{x}<br>Score=%{text}<extra></extra>",
                  "legendgroup": "Recall",
                  "marker": {
                    "color": "#00cc96",
                    "pattern": {
                      "shape": ""
                    }
                  },
                  "name": "Recall",
                  "offsetgroup": "Recall",
                  "orientation": "v",
                  "showlegend": true,
                  "text": [
                    43.11,
                    54.57,
                    54.57,
                    54.57,
                    54.57,
                    54.34,
                    53.82
                  ],
                  "textposition": "outside",
                  "texttemplate": "%{text:.2f}",
                  "type": "bar",
                  "x": [
                    "K-Nearest Neighbors",
                    "Random Forest",
                    "Decision Tree",
                    "XGBoost",
                    "SVM (RBF Kernel)",
                    "SVM (Linear Kernel)",
                    "Logistic Regression"
                  ],
                  "xaxis": "x",
                  "y": [
                    43.11,
                    54.57,
                    54.57,
                    54.57,
                    54.57,
                    54.34,
                    53.82
                  ],
                  "yaxis": "y"
                },
                {
                  "alignmentgroup": "True",
                  "hovertemplate": "Metric=F1 Score<br>Model=%{x}<br>Score=%{text}<extra></extra>",
                  "legendgroup": "F1 Score",
                  "marker": {
                    "color": "#ab63fa",
                    "pattern": {
                      "shape": ""
                    }
                  },
                  "name": "F1 Score",
                  "offsetgroup": "F1 Score",
                  "orientation": "v",
                  "showlegend": true,
                  "text": [
                    35.86,
                    49.78,
                    49.78,
                    49.78,
                    49.78,
                    49.27,
                    48.08
                  ],
                  "textposition": "outside",
                  "texttemplate": "%{text:.2f}",
                  "type": "bar",
                  "x": [
                    "K-Nearest Neighbors",
                    "Random Forest",
                    "Decision Tree",
                    "XGBoost",
                    "SVM (RBF Kernel)",
                    "SVM (Linear Kernel)",
                    "Logistic Regression"
                  ],
                  "xaxis": "x",
                  "y": [
                    35.86,
                    49.78,
                    49.78,
                    49.78,
                    49.78,
                    49.27,
                    48.08
                  ],
                  "yaxis": "y"
                },
                {
                  "alignmentgroup": "True",
                  "hovertemplate": "Metric=CV Accuracy Mean<br>Model=%{x}<br>Score=%{text}<extra></extra>",
                  "legendgroup": "CV Accuracy Mean",
                  "marker": {
                    "color": "#FFA15A",
                    "pattern": {
                      "shape": ""
                    }
                  },
                  "name": "CV Accuracy Mean",
                  "offsetgroup": "CV Accuracy Mean",
                  "orientation": "v",
                  "showlegend": true,
                  "text": [
                    48.82,
                    67.06,
                    67.06,
                    67.06,
                    67.06,
                    64.12,
                    65.64
                  ],
                  "textposition": "outside",
                  "texttemplate": "%{text:.2f}",
                  "type": "bar",
                  "x": [
                    "K-Nearest Neighbors",
                    "Random Forest",
                    "Decision Tree",
                    "XGBoost",
                    "SVM (RBF Kernel)",
                    "SVM (Linear Kernel)",
                    "Logistic Regression"
                  ],
                  "xaxis": "x",
                  "y": [
                    48.82,
                    67.06,
                    67.06,
                    67.06,
                    67.06,
                    64.12,
                    65.64
                  ],
                  "yaxis": "y"
                }
              ],
              "layout": {
                "barmode": "group",
                "legend": {
                  "title": {
                    "text": "Metric"
                  },
                  "tracegroupgap": 0
                },
                "template": {
                  "data": {
                    "bar": [
                      {
                        "error_x": {
                          "color": "#2a3f5f"
                        },
                        "error_y": {
                          "color": "#2a3f5f"
                        },
                        "marker": {
                          "line": {
                            "color": "#E5ECF6",
                            "width": 0.5
                          },
                          "pattern": {
                            "fillmode": "overlay",
                            "size": 10,
                            "solidity": 0.2
                          }
                        },
                        "type": "bar"
                      }
                    ],
                    "barpolar": [
                      {
                        "marker": {
                          "line": {
                            "color": "#E5ECF6",
                            "width": 0.5
                          },
                          "pattern": {
                            "fillmode": "overlay",
                            "size": 10,
                            "solidity": 0.2
                          }
                        },
                        "type": "barpolar"
                      }
                    ],
                    "carpet": [
                      {
                        "aaxis": {
                          "endlinecolor": "#2a3f5f",
                          "gridcolor": "white",
                          "linecolor": "white",
                          "minorgridcolor": "white",
                          "startlinecolor": "#2a3f5f"
                        },
                        "baxis": {
                          "endlinecolor": "#2a3f5f",
                          "gridcolor": "white",
                          "linecolor": "white",
                          "minorgridcolor": "white",
                          "startlinecolor": "#2a3f5f"
                        },
                        "type": "carpet"
                      }
                    ],
                    "choropleth": [
                      {
                        "colorbar": {
                          "outlinewidth": 0,
                          "ticks": ""
                        },
                        "type": "choropleth"
                      }
                    ],
                    "contour": [
                      {
                        "colorbar": {
                          "outlinewidth": 0,
                          "ticks": ""
                        },
                        "colorscale": [
                          [
                            0,
                            "#0d0887"
                          ],
                          [
                            0.1111111111111111,
                            "#46039f"
                          ],
                          [
                            0.2222222222222222,
                            "#7201a8"
                          ],
                          [
                            0.3333333333333333,
                            "#9c179e"
                          ],
                          [
                            0.4444444444444444,
                            "#bd3786"
                          ],
                          [
                            0.5555555555555556,
                            "#d8576b"
                          ],
                          [
                            0.6666666666666666,
                            "#ed7953"
                          ],
                          [
                            0.7777777777777778,
                            "#fb9f3a"
                          ],
                          [
                            0.8888888888888888,
                            "#fdca26"
                          ],
                          [
                            1,
                            "#f0f921"
                          ]
                        ],
                        "type": "contour"
                      }
                    ],
                    "contourcarpet": [
                      {
                        "colorbar": {
                          "outlinewidth": 0,
                          "ticks": ""
                        },
                        "type": "contourcarpet"
                      }
                    ],
                    "heatmap": [
                      {
                        "colorbar": {
                          "outlinewidth": 0,
                          "ticks": ""
                        },
                        "colorscale": [
                          [
                            0,
                            "#0d0887"
                          ],
                          [
                            0.1111111111111111,
                            "#46039f"
                          ],
                          [
                            0.2222222222222222,
                            "#7201a8"
                          ],
                          [
                            0.3333333333333333,
                            "#9c179e"
                          ],
                          [
                            0.4444444444444444,
                            "#bd3786"
                          ],
                          [
                            0.5555555555555556,
                            "#d8576b"
                          ],
                          [
                            0.6666666666666666,
                            "#ed7953"
                          ],
                          [
                            0.7777777777777778,
                            "#fb9f3a"
                          ],
                          [
                            0.8888888888888888,
                            "#fdca26"
                          ],
                          [
                            1,
                            "#f0f921"
                          ]
                        ],
                        "type": "heatmap"
                      }
                    ],
                    "heatmapgl": [
                      {
                        "colorbar": {
                          "outlinewidth": 0,
                          "ticks": ""
                        },
                        "colorscale": [
                          [
                            0,
                            "#0d0887"
                          ],
                          [
                            0.1111111111111111,
                            "#46039f"
                          ],
                          [
                            0.2222222222222222,
                            "#7201a8"
                          ],
                          [
                            0.3333333333333333,
                            "#9c179e"
                          ],
                          [
                            0.4444444444444444,
                            "#bd3786"
                          ],
                          [
                            0.5555555555555556,
                            "#d8576b"
                          ],
                          [
                            0.6666666666666666,
                            "#ed7953"
                          ],
                          [
                            0.7777777777777778,
                            "#fb9f3a"
                          ],
                          [
                            0.8888888888888888,
                            "#fdca26"
                          ],
                          [
                            1,
                            "#f0f921"
                          ]
                        ],
                        "type": "heatmapgl"
                      }
                    ],
                    "histogram": [
                      {
                        "marker": {
                          "pattern": {
                            "fillmode": "overlay",
                            "size": 10,
                            "solidity": 0.2
                          }
                        },
                        "type": "histogram"
                      }
                    ],
                    "histogram2d": [
                      {
                        "colorbar": {
                          "outlinewidth": 0,
                          "ticks": ""
                        },
                        "colorscale": [
                          [
                            0,
                            "#0d0887"
                          ],
                          [
                            0.1111111111111111,
                            "#46039f"
                          ],
                          [
                            0.2222222222222222,
                            "#7201a8"
                          ],
                          [
                            0.3333333333333333,
                            "#9c179e"
                          ],
                          [
                            0.4444444444444444,
                            "#bd3786"
                          ],
                          [
                            0.5555555555555556,
                            "#d8576b"
                          ],
                          [
                            0.6666666666666666,
                            "#ed7953"
                          ],
                          [
                            0.7777777777777778,
                            "#fb9f3a"
                          ],
                          [
                            0.8888888888888888,
                            "#fdca26"
                          ],
                          [
                            1,
                            "#f0f921"
                          ]
                        ],
                        "type": "histogram2d"
                      }
                    ],
                    "histogram2dcontour": [
                      {
                        "colorbar": {
                          "outlinewidth": 0,
                          "ticks": ""
                        },
                        "colorscale": [
                          [
                            0,
                            "#0d0887"
                          ],
                          [
                            0.1111111111111111,
                            "#46039f"
                          ],
                          [
                            0.2222222222222222,
                            "#7201a8"
                          ],
                          [
                            0.3333333333333333,
                            "#9c179e"
                          ],
                          [
                            0.4444444444444444,
                            "#bd3786"
                          ],
                          [
                            0.5555555555555556,
                            "#d8576b"
                          ],
                          [
                            0.6666666666666666,
                            "#ed7953"
                          ],
                          [
                            0.7777777777777778,
                            "#fb9f3a"
                          ],
                          [
                            0.8888888888888888,
                            "#fdca26"
                          ],
                          [
                            1,
                            "#f0f921"
                          ]
                        ],
                        "type": "histogram2dcontour"
                      }
                    ],
                    "mesh3d": [
                      {
                        "colorbar": {
                          "outlinewidth": 0,
                          "ticks": ""
                        },
                        "type": "mesh3d"
                      }
                    ],
                    "parcoords": [
                      {
                        "line": {
                          "colorbar": {
                            "outlinewidth": 0,
                            "ticks": ""
                          }
                        },
                        "type": "parcoords"
                      }
                    ],
                    "pie": [
                      {
                        "automargin": true,
                        "type": "pie"
                      }
                    ],
                    "scatter": [
                      {
                        "fillpattern": {
                          "fillmode": "overlay",
                          "size": 10,
                          "solidity": 0.2
                        },
                        "type": "scatter"
                      }
                    ],
                    "scatter3d": [
                      {
                        "line": {
                          "colorbar": {
                            "outlinewidth": 0,
                            "ticks": ""
                          }
                        },
                        "marker": {
                          "colorbar": {
                            "outlinewidth": 0,
                            "ticks": ""
                          }
                        },
                        "type": "scatter3d"
                      }
                    ],
                    "scattercarpet": [
                      {
                        "marker": {
                          "colorbar": {
                            "outlinewidth": 0,
                            "ticks": ""
                          }
                        },
                        "type": "scattercarpet"
                      }
                    ],
                    "scattergeo": [
                      {
                        "marker": {
                          "colorbar": {
                            "outlinewidth": 0,
                            "ticks": ""
                          }
                        },
                        "type": "scattergeo"
                      }
                    ],
                    "scattergl": [
                      {
                        "marker": {
                          "colorbar": {
                            "outlinewidth": 0,
                            "ticks": ""
                          }
                        },
                        "type": "scattergl"
                      }
                    ],
                    "scattermapbox": [
                      {
                        "marker": {
                          "colorbar": {
                            "outlinewidth": 0,
                            "ticks": ""
                          }
                        },
                        "type": "scattermapbox"
                      }
                    ],
                    "scatterpolar": [
                      {
                        "marker": {
                          "colorbar": {
                            "outlinewidth": 0,
                            "ticks": ""
                          }
                        },
                        "type": "scatterpolar"
                      }
                    ],
                    "scatterpolargl": [
                      {
                        "marker": {
                          "colorbar": {
                            "outlinewidth": 0,
                            "ticks": ""
                          }
                        },
                        "type": "scatterpolargl"
                      }
                    ],
                    "scatterternary": [
                      {
                        "marker": {
                          "colorbar": {
                            "outlinewidth": 0,
                            "ticks": ""
                          }
                        },
                        "type": "scatterternary"
                      }
                    ],
                    "surface": [
                      {
                        "colorbar": {
                          "outlinewidth": 0,
                          "ticks": ""
                        },
                        "colorscale": [
                          [
                            0,
                            "#0d0887"
                          ],
                          [
                            0.1111111111111111,
                            "#46039f"
                          ],
                          [
                            0.2222222222222222,
                            "#7201a8"
                          ],
                          [
                            0.3333333333333333,
                            "#9c179e"
                          ],
                          [
                            0.4444444444444444,
                            "#bd3786"
                          ],
                          [
                            0.5555555555555556,
                            "#d8576b"
                          ],
                          [
                            0.6666666666666666,
                            "#ed7953"
                          ],
                          [
                            0.7777777777777778,
                            "#fb9f3a"
                          ],
                          [
                            0.8888888888888888,
                            "#fdca26"
                          ],
                          [
                            1,
                            "#f0f921"
                          ]
                        ],
                        "type": "surface"
                      }
                    ],
                    "table": [
                      {
                        "cells": {
                          "fill": {
                            "color": "#EBF0F8"
                          },
                          "line": {
                            "color": "white"
                          }
                        },
                        "header": {
                          "fill": {
                            "color": "#C8D4E3"
                          },
                          "line": {
                            "color": "white"
                          }
                        },
                        "type": "table"
                      }
                    ]
                  },
                  "layout": {
                    "annotationdefaults": {
                      "arrowcolor": "#2a3f5f",
                      "arrowhead": 0,
                      "arrowwidth": 1
                    },
                    "autotypenumbers": "strict",
                    "coloraxis": {
                      "colorbar": {
                        "outlinewidth": 0,
                        "ticks": ""
                      }
                    },
                    "colorscale": {
                      "diverging": [
                        [
                          0,
                          "#8e0152"
                        ],
                        [
                          0.1,
                          "#c51b7d"
                        ],
                        [
                          0.2,
                          "#de77ae"
                        ],
                        [
                          0.3,
                          "#f1b6da"
                        ],
                        [
                          0.4,
                          "#fde0ef"
                        ],
                        [
                          0.5,
                          "#f7f7f7"
                        ],
                        [
                          0.6,
                          "#e6f5d0"
                        ],
                        [
                          0.7,
                          "#b8e186"
                        ],
                        [
                          0.8,
                          "#7fbc41"
                        ],
                        [
                          0.9,
                          "#4d9221"
                        ],
                        [
                          1,
                          "#276419"
                        ]
                      ],
                      "sequential": [
                        [
                          0,
                          "#0d0887"
                        ],
                        [
                          0.1111111111111111,
                          "#46039f"
                        ],
                        [
                          0.2222222222222222,
                          "#7201a8"
                        ],
                        [
                          0.3333333333333333,
                          "#9c179e"
                        ],
                        [
                          0.4444444444444444,
                          "#bd3786"
                        ],
                        [
                          0.5555555555555556,
                          "#d8576b"
                        ],
                        [
                          0.6666666666666666,
                          "#ed7953"
                        ],
                        [
                          0.7777777777777778,
                          "#fb9f3a"
                        ],
                        [
                          0.8888888888888888,
                          "#fdca26"
                        ],
                        [
                          1,
                          "#f0f921"
                        ]
                      ],
                      "sequentialminus": [
                        [
                          0,
                          "#0d0887"
                        ],
                        [
                          0.1111111111111111,
                          "#46039f"
                        ],
                        [
                          0.2222222222222222,
                          "#7201a8"
                        ],
                        [
                          0.3333333333333333,
                          "#9c179e"
                        ],
                        [
                          0.4444444444444444,
                          "#bd3786"
                        ],
                        [
                          0.5555555555555556,
                          "#d8576b"
                        ],
                        [
                          0.6666666666666666,
                          "#ed7953"
                        ],
                        [
                          0.7777777777777778,
                          "#fb9f3a"
                        ],
                        [
                          0.8888888888888888,
                          "#fdca26"
                        ],
                        [
                          1,
                          "#f0f921"
                        ]
                      ]
                    },
                    "colorway": [
                      "#636efa",
                      "#EF553B",
                      "#00cc96",
                      "#ab63fa",
                      "#FFA15A",
                      "#19d3f3",
                      "#FF6692",
                      "#B6E880",
                      "#FF97FF",
                      "#FECB52"
                    ],
                    "font": {
                      "color": "#2a3f5f"
                    },
                    "geo": {
                      "bgcolor": "white",
                      "lakecolor": "white",
                      "landcolor": "#E5ECF6",
                      "showlakes": true,
                      "showland": true,
                      "subunitcolor": "white"
                    },
                    "hoverlabel": {
                      "align": "left"
                    },
                    "hovermode": "closest",
                    "mapbox": {
                      "style": "light"
                    },
                    "paper_bgcolor": "white",
                    "plot_bgcolor": "#E5ECF6",
                    "polar": {
                      "angularaxis": {
                        "gridcolor": "white",
                        "linecolor": "white",
                        "ticks": ""
                      },
                      "bgcolor": "#E5ECF6",
                      "radialaxis": {
                        "gridcolor": "white",
                        "linecolor": "white",
                        "ticks": ""
                      }
                    },
                    "scene": {
                      "xaxis": {
                        "backgroundcolor": "#E5ECF6",
                        "gridcolor": "white",
                        "gridwidth": 2,
                        "linecolor": "white",
                        "showbackground": true,
                        "ticks": "",
                        "zerolinecolor": "white"
                      },
                      "yaxis": {
                        "backgroundcolor": "#E5ECF6",
                        "gridcolor": "white",
                        "gridwidth": 2,
                        "linecolor": "white",
                        "showbackground": true,
                        "ticks": "",
                        "zerolinecolor": "white"
                      },
                      "zaxis": {
                        "backgroundcolor": "#E5ECF6",
                        "gridcolor": "white",
                        "gridwidth": 2,
                        "linecolor": "white",
                        "showbackground": true,
                        "ticks": "",
                        "zerolinecolor": "white"
                      }
                    },
                    "shapedefaults": {
                      "line": {
                        "color": "#2a3f5f"
                      }
                    },
                    "ternary": {
                      "aaxis": {
                        "gridcolor": "white",
                        "linecolor": "white",
                        "ticks": ""
                      },
                      "baxis": {
                        "gridcolor": "white",
                        "linecolor": "white",
                        "ticks": ""
                      },
                      "bgcolor": "#E5ECF6",
                      "caxis": {
                        "gridcolor": "white",
                        "linecolor": "white",
                        "ticks": ""
                      }
                    },
                    "title": {
                      "x": 0.05
                    },
                    "xaxis": {
                      "automargin": true,
                      "gridcolor": "white",
                      "linecolor": "white",
                      "ticks": "",
                      "title": {
                        "standoff": 15
                      },
                      "zerolinecolor": "white",
                      "zerolinewidth": 2
                    },
                    "yaxis": {
                      "automargin": true,
                      "gridcolor": "white",
                      "linecolor": "white",
                      "ticks": "",
                      "title": {
                        "standoff": 15
                      },
                      "zerolinecolor": "white",
                      "zerolinewidth": 2
                    }
                  }
                },
                "title": {
                  "text": " Model Comparison Across Multiple Metrics"
                },
                "xaxis": {
                  "anchor": "y",
                  "domain": [
                    0,
                    1
                  ],
                  "tickangle": -45,
                  "title": {
                    "text": "Model"
                  }
                },
                "yaxis": {
                  "anchor": "x",
                  "domain": [
                    0,
                    1
                  ],
                  "title": {
                    "text": "Score (%)"
                  }
                }
              }
            }
          },
          "metadata": {},
          "output_type": "display_data"
        }
      ],
      "source": [
        "# Bar graphs model comparision\n",
        "melted = results_df.melt(\n",
        "    id_vars='Model',\n",
        "    value_vars=['Accuracy', 'Precision', 'Recall', 'F1 Score', 'CV Accuracy Mean'],\n",
        "    var_name='Metric',\n",
        "    value_name='Score'\n",
        ")\n",
        "\n",
        "fig_all = px.bar(\n",
        "    melted,\n",
        "    x='Model',\n",
        "    y='Score',\n",
        "    color='Metric',\n",
        "    barmode='group',\n",
        "    text='Score',\n",
        "    title=' Model Comparison Across Multiple Metrics'\n",
        ")\n",
        "\n",
        "fig_all.update_traces(texttemplate='%{text:.2f}', textposition='outside')\n",
        "fig_all.update_layout(\n",
        "    yaxis_title='Score (%)',\n",
        "    xaxis_title='Model',\n",
        "    legend_title='Metric',\n",
        "    xaxis_tickangle=-45\n",
        ")\n",
        "fig_all.show()\n"
      ]
    },
    {
      "cell_type": "code",
      "execution_count": 24,
      "metadata": {
        "id": "KAaB_fOo0AGo"
      },
      "outputs": [
        {
          "data": {
            "application/vnd.plotly.v1+json": {
              "config": {
                "plotlyServerURL": "https://plot.ly"
              },
              "data": [
                {
                  "marker": {
                    "color": "salmon"
                  },
                  "name": "Decision Tree",
                  "type": "bar",
                  "x": [
                    "Hydrogen Bonding",
                    "Electronegativity",
                    "Mass",
                    "Turn Propensity",
                    "Beta Sheet Propensity",
                    "Hydrophobicity",
                    "Polarity",
                    "Surface Tension"
                  ],
                  "y": [
                    0.9220614507862779,
                    0.007801352080404603,
                    0.025548733142319112,
                    0,
                    0.0006281871853815468,
                    0.0013782622938903351,
                    0.03226581029779817,
                    0.010316204213928377
                  ]
                },
                {
                  "marker": {
                    "color": "skyblue"
                  },
                  "name": "Random Forest",
                  "type": "bar",
                  "x": [
                    "Hydrogen Bonding",
                    "Electronegativity",
                    "Mass",
                    "Turn Propensity",
                    "Beta Sheet Propensity",
                    "Hydrophobicity",
                    "Polarity",
                    "Surface Tension"
                  ],
                  "y": [
                    0.1734154765472742,
                    0.05758919452800316,
                    0.10944936567162769,
                    0.0038266261261151496,
                    0.16001366215280405,
                    0.23561187595884692,
                    0.07933232945990897,
                    0.18076146955541986
                  ]
                },
                {
                  "marker": {
                    "color": "lightgreen"
                  },
                  "name": "XGBoost",
                  "type": "bar",
                  "x": [
                    "Hydrogen Bonding",
                    "Electronegativity",
                    "Mass",
                    "Turn Propensity",
                    "Beta Sheet Propensity",
                    "Hydrophobicity",
                    "Polarity",
                    "Surface Tension"
                  ],
                  "y": [
                    0.6257588267326355,
                    0.11164603382349014,
                    0.027174578979611397,
                    0.036142364144325256,
                    0.010893230326473713,
                    0.04106922447681427,
                    0.12869909405708313,
                    0.01861662231385708
                  ]
                }
              ],
              "layout": {
                "barmode": "group",
                "height": 500,
                "template": {
                  "data": {
                    "bar": [
                      {
                        "error_x": {
                          "color": "#2a3f5f"
                        },
                        "error_y": {
                          "color": "#2a3f5f"
                        },
                        "marker": {
                          "line": {
                            "color": "white",
                            "width": 0.5
                          },
                          "pattern": {
                            "fillmode": "overlay",
                            "size": 10,
                            "solidity": 0.2
                          }
                        },
                        "type": "bar"
                      }
                    ],
                    "barpolar": [
                      {
                        "marker": {
                          "line": {
                            "color": "white",
                            "width": 0.5
                          },
                          "pattern": {
                            "fillmode": "overlay",
                            "size": 10,
                            "solidity": 0.2
                          }
                        },
                        "type": "barpolar"
                      }
                    ],
                    "carpet": [
                      {
                        "aaxis": {
                          "endlinecolor": "#2a3f5f",
                          "gridcolor": "#C8D4E3",
                          "linecolor": "#C8D4E3",
                          "minorgridcolor": "#C8D4E3",
                          "startlinecolor": "#2a3f5f"
                        },
                        "baxis": {
                          "endlinecolor": "#2a3f5f",
                          "gridcolor": "#C8D4E3",
                          "linecolor": "#C8D4E3",
                          "minorgridcolor": "#C8D4E3",
                          "startlinecolor": "#2a3f5f"
                        },
                        "type": "carpet"
                      }
                    ],
                    "choropleth": [
                      {
                        "colorbar": {
                          "outlinewidth": 0,
                          "ticks": ""
                        },
                        "type": "choropleth"
                      }
                    ],
                    "contour": [
                      {
                        "colorbar": {
                          "outlinewidth": 0,
                          "ticks": ""
                        },
                        "colorscale": [
                          [
                            0,
                            "#0d0887"
                          ],
                          [
                            0.1111111111111111,
                            "#46039f"
                          ],
                          [
                            0.2222222222222222,
                            "#7201a8"
                          ],
                          [
                            0.3333333333333333,
                            "#9c179e"
                          ],
                          [
                            0.4444444444444444,
                            "#bd3786"
                          ],
                          [
                            0.5555555555555556,
                            "#d8576b"
                          ],
                          [
                            0.6666666666666666,
                            "#ed7953"
                          ],
                          [
                            0.7777777777777778,
                            "#fb9f3a"
                          ],
                          [
                            0.8888888888888888,
                            "#fdca26"
                          ],
                          [
                            1,
                            "#f0f921"
                          ]
                        ],
                        "type": "contour"
                      }
                    ],
                    "contourcarpet": [
                      {
                        "colorbar": {
                          "outlinewidth": 0,
                          "ticks": ""
                        },
                        "type": "contourcarpet"
                      }
                    ],
                    "heatmap": [
                      {
                        "colorbar": {
                          "outlinewidth": 0,
                          "ticks": ""
                        },
                        "colorscale": [
                          [
                            0,
                            "#0d0887"
                          ],
                          [
                            0.1111111111111111,
                            "#46039f"
                          ],
                          [
                            0.2222222222222222,
                            "#7201a8"
                          ],
                          [
                            0.3333333333333333,
                            "#9c179e"
                          ],
                          [
                            0.4444444444444444,
                            "#bd3786"
                          ],
                          [
                            0.5555555555555556,
                            "#d8576b"
                          ],
                          [
                            0.6666666666666666,
                            "#ed7953"
                          ],
                          [
                            0.7777777777777778,
                            "#fb9f3a"
                          ],
                          [
                            0.8888888888888888,
                            "#fdca26"
                          ],
                          [
                            1,
                            "#f0f921"
                          ]
                        ],
                        "type": "heatmap"
                      }
                    ],
                    "heatmapgl": [
                      {
                        "colorbar": {
                          "outlinewidth": 0,
                          "ticks": ""
                        },
                        "colorscale": [
                          [
                            0,
                            "#0d0887"
                          ],
                          [
                            0.1111111111111111,
                            "#46039f"
                          ],
                          [
                            0.2222222222222222,
                            "#7201a8"
                          ],
                          [
                            0.3333333333333333,
                            "#9c179e"
                          ],
                          [
                            0.4444444444444444,
                            "#bd3786"
                          ],
                          [
                            0.5555555555555556,
                            "#d8576b"
                          ],
                          [
                            0.6666666666666666,
                            "#ed7953"
                          ],
                          [
                            0.7777777777777778,
                            "#fb9f3a"
                          ],
                          [
                            0.8888888888888888,
                            "#fdca26"
                          ],
                          [
                            1,
                            "#f0f921"
                          ]
                        ],
                        "type": "heatmapgl"
                      }
                    ],
                    "histogram": [
                      {
                        "marker": {
                          "pattern": {
                            "fillmode": "overlay",
                            "size": 10,
                            "solidity": 0.2
                          }
                        },
                        "type": "histogram"
                      }
                    ],
                    "histogram2d": [
                      {
                        "colorbar": {
                          "outlinewidth": 0,
                          "ticks": ""
                        },
                        "colorscale": [
                          [
                            0,
                            "#0d0887"
                          ],
                          [
                            0.1111111111111111,
                            "#46039f"
                          ],
                          [
                            0.2222222222222222,
                            "#7201a8"
                          ],
                          [
                            0.3333333333333333,
                            "#9c179e"
                          ],
                          [
                            0.4444444444444444,
                            "#bd3786"
                          ],
                          [
                            0.5555555555555556,
                            "#d8576b"
                          ],
                          [
                            0.6666666666666666,
                            "#ed7953"
                          ],
                          [
                            0.7777777777777778,
                            "#fb9f3a"
                          ],
                          [
                            0.8888888888888888,
                            "#fdca26"
                          ],
                          [
                            1,
                            "#f0f921"
                          ]
                        ],
                        "type": "histogram2d"
                      }
                    ],
                    "histogram2dcontour": [
                      {
                        "colorbar": {
                          "outlinewidth": 0,
                          "ticks": ""
                        },
                        "colorscale": [
                          [
                            0,
                            "#0d0887"
                          ],
                          [
                            0.1111111111111111,
                            "#46039f"
                          ],
                          [
                            0.2222222222222222,
                            "#7201a8"
                          ],
                          [
                            0.3333333333333333,
                            "#9c179e"
                          ],
                          [
                            0.4444444444444444,
                            "#bd3786"
                          ],
                          [
                            0.5555555555555556,
                            "#d8576b"
                          ],
                          [
                            0.6666666666666666,
                            "#ed7953"
                          ],
                          [
                            0.7777777777777778,
                            "#fb9f3a"
                          ],
                          [
                            0.8888888888888888,
                            "#fdca26"
                          ],
                          [
                            1,
                            "#f0f921"
                          ]
                        ],
                        "type": "histogram2dcontour"
                      }
                    ],
                    "mesh3d": [
                      {
                        "colorbar": {
                          "outlinewidth": 0,
                          "ticks": ""
                        },
                        "type": "mesh3d"
                      }
                    ],
                    "parcoords": [
                      {
                        "line": {
                          "colorbar": {
                            "outlinewidth": 0,
                            "ticks": ""
                          }
                        },
                        "type": "parcoords"
                      }
                    ],
                    "pie": [
                      {
                        "automargin": true,
                        "type": "pie"
                      }
                    ],
                    "scatter": [
                      {
                        "fillpattern": {
                          "fillmode": "overlay",
                          "size": 10,
                          "solidity": 0.2
                        },
                        "type": "scatter"
                      }
                    ],
                    "scatter3d": [
                      {
                        "line": {
                          "colorbar": {
                            "outlinewidth": 0,
                            "ticks": ""
                          }
                        },
                        "marker": {
                          "colorbar": {
                            "outlinewidth": 0,
                            "ticks": ""
                          }
                        },
                        "type": "scatter3d"
                      }
                    ],
                    "scattercarpet": [
                      {
                        "marker": {
                          "colorbar": {
                            "outlinewidth": 0,
                            "ticks": ""
                          }
                        },
                        "type": "scattercarpet"
                      }
                    ],
                    "scattergeo": [
                      {
                        "marker": {
                          "colorbar": {
                            "outlinewidth": 0,
                            "ticks": ""
                          }
                        },
                        "type": "scattergeo"
                      }
                    ],
                    "scattergl": [
                      {
                        "marker": {
                          "colorbar": {
                            "outlinewidth": 0,
                            "ticks": ""
                          }
                        },
                        "type": "scattergl"
                      }
                    ],
                    "scattermapbox": [
                      {
                        "marker": {
                          "colorbar": {
                            "outlinewidth": 0,
                            "ticks": ""
                          }
                        },
                        "type": "scattermapbox"
                      }
                    ],
                    "scatterpolar": [
                      {
                        "marker": {
                          "colorbar": {
                            "outlinewidth": 0,
                            "ticks": ""
                          }
                        },
                        "type": "scatterpolar"
                      }
                    ],
                    "scatterpolargl": [
                      {
                        "marker": {
                          "colorbar": {
                            "outlinewidth": 0,
                            "ticks": ""
                          }
                        },
                        "type": "scatterpolargl"
                      }
                    ],
                    "scatterternary": [
                      {
                        "marker": {
                          "colorbar": {
                            "outlinewidth": 0,
                            "ticks": ""
                          }
                        },
                        "type": "scatterternary"
                      }
                    ],
                    "surface": [
                      {
                        "colorbar": {
                          "outlinewidth": 0,
                          "ticks": ""
                        },
                        "colorscale": [
                          [
                            0,
                            "#0d0887"
                          ],
                          [
                            0.1111111111111111,
                            "#46039f"
                          ],
                          [
                            0.2222222222222222,
                            "#7201a8"
                          ],
                          [
                            0.3333333333333333,
                            "#9c179e"
                          ],
                          [
                            0.4444444444444444,
                            "#bd3786"
                          ],
                          [
                            0.5555555555555556,
                            "#d8576b"
                          ],
                          [
                            0.6666666666666666,
                            "#ed7953"
                          ],
                          [
                            0.7777777777777778,
                            "#fb9f3a"
                          ],
                          [
                            0.8888888888888888,
                            "#fdca26"
                          ],
                          [
                            1,
                            "#f0f921"
                          ]
                        ],
                        "type": "surface"
                      }
                    ],
                    "table": [
                      {
                        "cells": {
                          "fill": {
                            "color": "#EBF0F8"
                          },
                          "line": {
                            "color": "white"
                          }
                        },
                        "header": {
                          "fill": {
                            "color": "#C8D4E3"
                          },
                          "line": {
                            "color": "white"
                          }
                        },
                        "type": "table"
                      }
                    ]
                  },
                  "layout": {
                    "annotationdefaults": {
                      "arrowcolor": "#2a3f5f",
                      "arrowhead": 0,
                      "arrowwidth": 1
                    },
                    "autotypenumbers": "strict",
                    "coloraxis": {
                      "colorbar": {
                        "outlinewidth": 0,
                        "ticks": ""
                      }
                    },
                    "colorscale": {
                      "diverging": [
                        [
                          0,
                          "#8e0152"
                        ],
                        [
                          0.1,
                          "#c51b7d"
                        ],
                        [
                          0.2,
                          "#de77ae"
                        ],
                        [
                          0.3,
                          "#f1b6da"
                        ],
                        [
                          0.4,
                          "#fde0ef"
                        ],
                        [
                          0.5,
                          "#f7f7f7"
                        ],
                        [
                          0.6,
                          "#e6f5d0"
                        ],
                        [
                          0.7,
                          "#b8e186"
                        ],
                        [
                          0.8,
                          "#7fbc41"
                        ],
                        [
                          0.9,
                          "#4d9221"
                        ],
                        [
                          1,
                          "#276419"
                        ]
                      ],
                      "sequential": [
                        [
                          0,
                          "#0d0887"
                        ],
                        [
                          0.1111111111111111,
                          "#46039f"
                        ],
                        [
                          0.2222222222222222,
                          "#7201a8"
                        ],
                        [
                          0.3333333333333333,
                          "#9c179e"
                        ],
                        [
                          0.4444444444444444,
                          "#bd3786"
                        ],
                        [
                          0.5555555555555556,
                          "#d8576b"
                        ],
                        [
                          0.6666666666666666,
                          "#ed7953"
                        ],
                        [
                          0.7777777777777778,
                          "#fb9f3a"
                        ],
                        [
                          0.8888888888888888,
                          "#fdca26"
                        ],
                        [
                          1,
                          "#f0f921"
                        ]
                      ],
                      "sequentialminus": [
                        [
                          0,
                          "#0d0887"
                        ],
                        [
                          0.1111111111111111,
                          "#46039f"
                        ],
                        [
                          0.2222222222222222,
                          "#7201a8"
                        ],
                        [
                          0.3333333333333333,
                          "#9c179e"
                        ],
                        [
                          0.4444444444444444,
                          "#bd3786"
                        ],
                        [
                          0.5555555555555556,
                          "#d8576b"
                        ],
                        [
                          0.6666666666666666,
                          "#ed7953"
                        ],
                        [
                          0.7777777777777778,
                          "#fb9f3a"
                        ],
                        [
                          0.8888888888888888,
                          "#fdca26"
                        ],
                        [
                          1,
                          "#f0f921"
                        ]
                      ]
                    },
                    "colorway": [
                      "#636efa",
                      "#EF553B",
                      "#00cc96",
                      "#ab63fa",
                      "#FFA15A",
                      "#19d3f3",
                      "#FF6692",
                      "#B6E880",
                      "#FF97FF",
                      "#FECB52"
                    ],
                    "font": {
                      "color": "#2a3f5f"
                    },
                    "geo": {
                      "bgcolor": "white",
                      "lakecolor": "white",
                      "landcolor": "white",
                      "showlakes": true,
                      "showland": true,
                      "subunitcolor": "#C8D4E3"
                    },
                    "hoverlabel": {
                      "align": "left"
                    },
                    "hovermode": "closest",
                    "mapbox": {
                      "style": "light"
                    },
                    "paper_bgcolor": "white",
                    "plot_bgcolor": "white",
                    "polar": {
                      "angularaxis": {
                        "gridcolor": "#EBF0F8",
                        "linecolor": "#EBF0F8",
                        "ticks": ""
                      },
                      "bgcolor": "white",
                      "radialaxis": {
                        "gridcolor": "#EBF0F8",
                        "linecolor": "#EBF0F8",
                        "ticks": ""
                      }
                    },
                    "scene": {
                      "xaxis": {
                        "backgroundcolor": "white",
                        "gridcolor": "#DFE8F3",
                        "gridwidth": 2,
                        "linecolor": "#EBF0F8",
                        "showbackground": true,
                        "ticks": "",
                        "zerolinecolor": "#EBF0F8"
                      },
                      "yaxis": {
                        "backgroundcolor": "white",
                        "gridcolor": "#DFE8F3",
                        "gridwidth": 2,
                        "linecolor": "#EBF0F8",
                        "showbackground": true,
                        "ticks": "",
                        "zerolinecolor": "#EBF0F8"
                      },
                      "zaxis": {
                        "backgroundcolor": "white",
                        "gridcolor": "#DFE8F3",
                        "gridwidth": 2,
                        "linecolor": "#EBF0F8",
                        "showbackground": true,
                        "ticks": "",
                        "zerolinecolor": "#EBF0F8"
                      }
                    },
                    "shapedefaults": {
                      "line": {
                        "color": "#2a3f5f"
                      }
                    },
                    "ternary": {
                      "aaxis": {
                        "gridcolor": "#DFE8F3",
                        "linecolor": "#A2B1C6",
                        "ticks": ""
                      },
                      "baxis": {
                        "gridcolor": "#DFE8F3",
                        "linecolor": "#A2B1C6",
                        "ticks": ""
                      },
                      "bgcolor": "white",
                      "caxis": {
                        "gridcolor": "#DFE8F3",
                        "linecolor": "#A2B1C6",
                        "ticks": ""
                      }
                    },
                    "title": {
                      "x": 0.05
                    },
                    "xaxis": {
                      "automargin": true,
                      "gridcolor": "#EBF0F8",
                      "linecolor": "#EBF0F8",
                      "ticks": "",
                      "title": {
                        "standoff": 15
                      },
                      "zerolinecolor": "#EBF0F8",
                      "zerolinewidth": 2
                    },
                    "yaxis": {
                      "automargin": true,
                      "gridcolor": "#EBF0F8",
                      "linecolor": "#EBF0F8",
                      "ticks": "",
                      "title": {
                        "standoff": 15
                      },
                      "zerolinecolor": "#EBF0F8",
                      "zerolinewidth": 2
                    }
                  }
                },
                "title": {
                  "text": "Feature Importance: DT vs RF vs XGBoost (Selected 8 AAindex Features)"
                },
                "width": 900,
                "xaxis": {
                  "title": {
                    "text": "AAindex Features"
                  }
                },
                "yaxis": {
                  "title": {
                    "text": "Importance Score"
                  }
                }
              }
            }
          },
          "metadata": {},
          "output_type": "display_data"
        }
      ],
      "source": [
        "## Future importance plot\n",
        "\n",
        "# Save fitted models explicitly so can access their feature_importances_\n",
        "dt = models['Decision Tree']\n",
        "rf = models['Random Forest']\n",
        "xgb = models['XGBoost']\n",
        "\n",
        "# Feature names used\n",
        "feature_names = [\n",
        "    'Hydrogen Bonding',\n",
        "    'Electronegativity',\n",
        "    'Mass',\n",
        "    'Turn Propensity',\n",
        "    'Beta Sheet Propensity',\n",
        "    'Hydrophobicity',\n",
        "    'Polarity',\n",
        "    'Surface Tension'\n",
        "]\n",
        "\n",
        "\n",
        "# Extract feature importances\n",
        "dt_importances = dt.feature_importances_\n",
        "rf_importances = rf.feature_importances_\n",
        "xgb_importances = xgb.feature_importances_\n",
        "\n",
        "\n",
        "# Plot using Plotly\n",
        "import plotly.graph_objects as go\n",
        "\n",
        "fig = go.Figure()\n",
        "\n",
        "fig.add_trace(go.Bar(\n",
        "    x=feature_names,\n",
        "    y=dt_importances,\n",
        "    name='Decision Tree',\n",
        "    marker_color='salmon'\n",
        "))\n",
        "\n",
        "fig.add_trace(go.Bar(\n",
        "    x=feature_names,\n",
        "    y=rf_importances,\n",
        "    name='Random Forest',\n",
        "    marker_color='skyblue'\n",
        "))\n",
        "\n",
        "fig.add_trace(go.Bar(\n",
        "    x=feature_names,\n",
        "    y=xgb_importances,\n",
        "    name='XGBoost',\n",
        "    marker_color='lightgreen'\n",
        "))\n",
        "\n",
        "fig.update_layout(\n",
        "    title='Feature Importance: DT vs RF vs XGBoost (Selected 8 AAindex Features)',\n",
        "    xaxis_title='AAindex Features',\n",
        "    yaxis_title='Importance Score',\n",
        "    barmode='group',\n",
        "    template='plotly_white',\n",
        "    width=900,\n",
        "    height=500\n",
        ")\n",
        "\n",
        "fig.show()"
      ]
    },
    {
      "cell_type": "markdown",
      "metadata": {
        "id": "ihcDx1fM0Ij3"
      },
      "source": [
        "Confidence Interval (CI)\n",
        "\n",
        "A confidence interval gives a range of values that is likely to contain the true value of a metric (like accuracy), based on sample (test data).\n",
        "\n",
        "It's used to express uncertainty in performance evaluation."
      ]
    },
    {
      "cell_type": "markdown",
      "metadata": {
        "id": "J7oraR3P0Jgm"
      },
      "source": [
        "Adding confidence intervals and performing statistical tests like McNemar’s test helps to compare model performance, going beyond just raw accuracy or F1-scores.\n",
        "\n",
        "These methods determine whether the performance differences between models are statistically significant or just due to random chance"
      ]
    },
    {
      "cell_type": "code",
      "execution_count": 25,
      "metadata": {
        "id": "UTJ3oCXg0AEd"
      },
      "outputs": [],
      "source": [
        "from statsmodels.stats.proportion import proportion_confint\n",
        "from statsmodels.stats.contingency_tables import mcnemar\n",
        "\n",
        "models = {\n",
        "    \"Decision Tree\": DecisionTreeClassifier(class_weight='balanced', random_state=42),\n",
        "    \"Random Forest\": RandomForestClassifier(n_estimators=100, random_state=42),  # No class_weight here (SMOTE already balances)\n",
        "    \"XGBoost\": XGBClassifier(eval_metric='mlogloss', random_state=42),  # Handles imbalance internally with `scale_pos_weight`, if needed\n",
        "    \"Logistic Regression\": LogisticRegression(max_iter=1000, class_weight='balanced'),\n",
        "    \"SVM (Linear Kernel)\": SVC(kernel='linear', class_weight='balanced'),\n",
        "    \"SVM (RBF Kernel)\": SVC(kernel='rbf', class_weight='balanced'),\n",
        "    \"K-Nearest Neighbors\": KNeighborsClassifier(n_neighbors=5, weights='distance')  # No class_weight support\n",
        "}\n",
        "\n",
        "\n",
        "# Store evaluation results and predictions\n",
        "results = []\n",
        "predictions = {}\n",
        "n = len(y_test)\n",
        "\n",
        "# Train, predict, evaluate\n",
        "for name, model in models.items():\n",
        "    model.fit(X_train, y_train)\n",
        "    y_pred = model.predict(X_test)\n",
        "    predictions[name] = y_pred  # for McNemar later\n",
        "\n",
        "    acc = accuracy_score(y_test, y_pred)\n",
        "    correct = int(acc * n)\n",
        "    ci_low, ci_high = proportion_confint(count=correct, nobs=n, alpha=0.05, method='normal')\n",
        "\n",
        "    precision = precision_score(y_test, y_pred, average='macro',zero_division=0)\n",
        "    recall = recall_score(y_test, y_pred, average='macro',zero_division=0)\n",
        "    f1_macro = f1_score(y_test, y_pred, average='macro',zero_division=0)\n",
        "    mcc = matthews_corrcoef(y_test, y_pred)\n",
        "\n",
        "    results.append({\n",
        "        'Model': name,\n",
        "        'Accuracy': round(acc * 100, 2),\n",
        "        '95% CI(Lower)': round(ci_low * 100, 2),\n",
        "        '95% CI(Upper)': round(ci_high * 100, 2),\n",
        "        'Precision(Macro)': round(precision * 100, 2),\n",
        "        'Recall(Macro)': round(recall * 100, 2),\n",
        "        'F1-Score(Macro)': round(f1_macro * 100, 2),\n",
        "        'MCC': round(mcc, 2)\n",
        "    })\n",
        "\n",
        "# Create DataFrame\n",
        "df_metrics = pd.DataFrame(results)"
      ]
    },
    {
      "cell_type": "code",
      "execution_count": 26,
      "metadata": {
        "id": "HXmazYSO0ACC"
      },
      "outputs": [
        {
          "name": "stdout",
          "output_type": "stream",
          "text": [
            "\n",
            " Final Metrics with 95% Confidence Intervals:\n",
            "\n"
          ]
        },
        {
          "data": {
            "text/html": [
              "<div>\n",
              "<style scoped>\n",
              "    .dataframe tbody tr th:only-of-type {\n",
              "        vertical-align: middle;\n",
              "    }\n",
              "\n",
              "    .dataframe tbody tr th {\n",
              "        vertical-align: top;\n",
              "    }\n",
              "\n",
              "    .dataframe thead th {\n",
              "        text-align: right;\n",
              "    }\n",
              "</style>\n",
              "<table border=\"1\" class=\"dataframe\">\n",
              "  <thead>\n",
              "    <tr style=\"text-align: right;\">\n",
              "      <th></th>\n",
              "      <th>Model</th>\n",
              "      <th>Accuracy</th>\n",
              "      <th>95% CI(Lower)</th>\n",
              "      <th>95% CI(Upper)</th>\n",
              "      <th>Precision(Macro)</th>\n",
              "      <th>Recall(Macro)</th>\n",
              "      <th>F1-Score(Macro)</th>\n",
              "      <th>MCC</th>\n",
              "    </tr>\n",
              "  </thead>\n",
              "  <tbody>\n",
              "    <tr>\n",
              "      <th>0</th>\n",
              "      <td>Decision Tree</td>\n",
              "      <td>53.44</td>\n",
              "      <td>52.82</td>\n",
              "      <td>54.06</td>\n",
              "      <td>55.36</td>\n",
              "      <td>54.57</td>\n",
              "      <td>49.78</td>\n",
              "      <td>0.35</td>\n",
              "    </tr>\n",
              "    <tr>\n",
              "      <th>1</th>\n",
              "      <td>Random Forest</td>\n",
              "      <td>53.44</td>\n",
              "      <td>52.82</td>\n",
              "      <td>54.06</td>\n",
              "      <td>55.36</td>\n",
              "      <td>54.57</td>\n",
              "      <td>49.78</td>\n",
              "      <td>0.35</td>\n",
              "    </tr>\n",
              "    <tr>\n",
              "      <th>2</th>\n",
              "      <td>XGBoost</td>\n",
              "      <td>53.44</td>\n",
              "      <td>52.82</td>\n",
              "      <td>54.06</td>\n",
              "      <td>55.36</td>\n",
              "      <td>54.57</td>\n",
              "      <td>49.78</td>\n",
              "      <td>0.35</td>\n",
              "    </tr>\n",
              "    <tr>\n",
              "      <th>3</th>\n",
              "      <td>Logistic Regression</td>\n",
              "      <td>51.10</td>\n",
              "      <td>50.48</td>\n",
              "      <td>51.72</td>\n",
              "      <td>54.72</td>\n",
              "      <td>53.82</td>\n",
              "      <td>48.08</td>\n",
              "      <td>0.33</td>\n",
              "    </tr>\n",
              "    <tr>\n",
              "      <th>4</th>\n",
              "      <td>SVM (Linear Kernel)</td>\n",
              "      <td>52.62</td>\n",
              "      <td>52.00</td>\n",
              "      <td>53.24</td>\n",
              "      <td>54.94</td>\n",
              "      <td>54.34</td>\n",
              "      <td>49.27</td>\n",
              "      <td>0.33</td>\n",
              "    </tr>\n",
              "    <tr>\n",
              "      <th>5</th>\n",
              "      <td>SVM (RBF Kernel)</td>\n",
              "      <td>53.44</td>\n",
              "      <td>52.82</td>\n",
              "      <td>54.06</td>\n",
              "      <td>55.36</td>\n",
              "      <td>54.57</td>\n",
              "      <td>49.78</td>\n",
              "      <td>0.35</td>\n",
              "    </tr>\n",
              "    <tr>\n",
              "      <th>6</th>\n",
              "      <td>K-Nearest Neighbors</td>\n",
              "      <td>57.08</td>\n",
              "      <td>56.46</td>\n",
              "      <td>57.69</td>\n",
              "      <td>30.74</td>\n",
              "      <td>43.11</td>\n",
              "      <td>35.86</td>\n",
              "      <td>0.19</td>\n",
              "    </tr>\n",
              "  </tbody>\n",
              "</table>\n",
              "</div>"
            ],
            "text/plain": [
              "                 Model  Accuracy  95% CI(Lower)  95% CI(Upper)  \\\n",
              "0        Decision Tree     53.44          52.82          54.06   \n",
              "1        Random Forest     53.44          52.82          54.06   \n",
              "2              XGBoost     53.44          52.82          54.06   \n",
              "3  Logistic Regression     51.10          50.48          51.72   \n",
              "4  SVM (Linear Kernel)     52.62          52.00          53.24   \n",
              "5     SVM (RBF Kernel)     53.44          52.82          54.06   \n",
              "6  K-Nearest Neighbors     57.08          56.46          57.69   \n",
              "\n",
              "   Precision(Macro)  Recall(Macro)  F1-Score(Macro)   MCC  \n",
              "0             55.36          54.57            49.78  0.35  \n",
              "1             55.36          54.57            49.78  0.35  \n",
              "2             55.36          54.57            49.78  0.35  \n",
              "3             54.72          53.82            48.08  0.33  \n",
              "4             54.94          54.34            49.27  0.33  \n",
              "5             55.36          54.57            49.78  0.35  \n",
              "6             30.74          43.11            35.86  0.19  "
            ]
          },
          "execution_count": 26,
          "metadata": {},
          "output_type": "execute_result"
        }
      ],
      "source": [
        "# Display metrics table\n",
        "print(\"\\n Final Metrics with 95% Confidence Intervals:\\n\")\n",
        "df_metrics"
      ]
    },
    {
      "cell_type": "code",
      "execution_count": 27,
      "metadata": {
        "id": "QsUHZ5iWx1WJ"
      },
      "outputs": [],
      "source": [
        "##  McNemar’s Test Function\n",
        "\n",
        "def mcnemar_test(pred1, pred2, y_true, name1, name2):\n",
        "    b = np.sum((pred1 == y_true) & (pred2 != y_true))  # model1 correct, model2 wrong\n",
        "    c = np.sum((pred1 != y_true) & (pred2 == y_true))  # model1 wrong, model2 correct\n",
        "    table = [[0, b], [c, 0]]\n",
        "    result = mcnemar(table, exact=True)\n",
        "\n",
        "    print(f\"\\n{name1} vs {name2} → McNemar’s Test p-value: {result.pvalue:.4f}\")\n",
        "    if result.pvalue < 0.05:\n",
        "        print(\"→ Statistically significant difference \")\n",
        "    else:\n",
        "        print(\"→ No significant difference \")\n"
      ]
    },
    {
      "cell_type": "code",
      "execution_count": 28,
      "metadata": {
        "id": "HpzpRCLU0VK5"
      },
      "outputs": [
        {
          "name": "stdout",
          "output_type": "stream",
          "text": [
            "\n",
            "Random Forest vs XGBoost → McNemar’s Test p-value: 1.0000\n",
            "→ No significant difference \n",
            "\n",
            "Logistic Regression vs SVM (Linear Kernel) → McNemar’s Test p-value: 0.0000\n",
            "→ Statistically significant difference \n",
            "\n",
            "SVM (RBF Kernel) vs KNN → McNemar’s Test p-value: 0.0000\n",
            "→ Statistically significant difference \n",
            "\n",
            "Decision Tree vs XGBoost → McNemar’s Test p-value: 1.0000\n",
            "→ No significant difference \n"
          ]
        }
      ],
      "source": [
        "mcnemar_test(predictions['Random Forest'], predictions['XGBoost'], y_test, \"Random Forest\", \"XGBoost\")\n",
        "\n",
        "mcnemar_test(predictions['Logistic Regression'], predictions['SVM (Linear Kernel)'], y_test, \"Logistic Regression\", \"SVM (Linear Kernel)\")\n",
        "\n",
        "mcnemar_test(predictions['SVM (RBF Kernel)'], predictions['K-Nearest Neighbors'], y_test, \"SVM (RBF Kernel)\", \"KNN\")\n",
        "\n",
        "mcnemar_test(predictions['Decision Tree'], predictions['XGBoost'], y_test, \"Decision Tree\", \"XGBoost\")"
      ]
    },
    {
      "cell_type": "code",
      "execution_count": 29,
      "metadata": {
        "id": "kSTcR3DG0VIV"
      },
      "outputs": [
        {
          "data": {
            "application/vnd.plotly.v1+json": {
              "config": {
                "plotlyServerURL": "https://plot.ly"
              },
              "data": [
                {
                  "hovertemplate": "Model: Decision Tree<br>Class: C<br>AUC: 0.83<extra></extra>",
                  "line": {
                    "width": 2
                  },
                  "mode": "lines",
                  "name": "Decision Tree – C (AUC=0.83)",
                  "type": "scatter",
                  "x": [
                    0,
                    0.0004830917874396135,
                    0.024057971014492755,
                    0.0659903381642512,
                    0.09120772946859904,
                    0.13758454106280193,
                    0.18193236714975847,
                    0.22676328502415458,
                    0.24048309178743962,
                    0.30879227053140096,
                    0.3277294685990338,
                    0.36386473429951693,
                    0.41091787439613525,
                    0.48096618357487925,
                    0.5700483091787439,
                    0.6035748792270531,
                    0.6494685990338164,
                    0.6779710144927537,
                    0.8172946859903382,
                    0.8297584541062802,
                    0.9100483091787439,
                    1
                  ],
                  "y": [
                    0,
                    0.4970446735395189,
                    0.5387628865979381,
                    0.5968384879725086,
                    0.6231615120274914,
                    0.6640549828178695,
                    0.6957388316151203,
                    0.7276288659793815,
                    0.732233676975945,
                    0.7641237113402062,
                    0.780893470790378,
                    0.7949140893470791,
                    0.821786941580756,
                    0.8492096219931271,
                    0.8799312714776633,
                    0.896701030927835,
                    0.9134020618556701,
                    0.9225429553264605,
                    0.9573195876288659,
                    0.962061855670103,
                    0.9747079037800688,
                    1
                  ]
                },
                {
                  "hovertemplate": "Model: Decision Tree<br>Class: H<br>AUC: 0.74<extra></extra>",
                  "line": {
                    "width": 2
                  },
                  "mode": "lines",
                  "name": "Decision Tree – H (AUC=0.74)",
                  "type": "scatter",
                  "x": [
                    0,
                    0.03753963812721507,
                    0.044907666480134306,
                    0.07368028352919231,
                    0.109541130386122,
                    0.13103898526394328,
                    0.15603432195485917,
                    0.1637754150345085,
                    0.18135609028166386,
                    0.21898899459056145,
                    0.2705651930609961,
                    0.3383697071441895,
                    0.3549710874836784,
                    0.39768699869427343,
                    0.42384816265622083,
                    0.45817011751538894,
                    0.48111359820928934,
                    0.5182335385189331,
                    0.5624883417272897,
                    0.6171889572840887,
                    0.6626562208543182,
                    1
                  ],
                  "y": [
                    0,
                    0.14293981481481483,
                    0.15769675925925927,
                    0.2728587962962963,
                    0.31886574074074076,
                    0.35648148148148145,
                    0.40914351851851855,
                    0.4184027777777778,
                    0.4366319444444444,
                    0.4693287037037037,
                    0.5193865740740741,
                    0.6623263888888888,
                    0.6831597222222222,
                    0.7569444444444444,
                    0.7809606481481481,
                    0.8220486111111112,
                    0.8469328703703703,
                    0.8628472222222222,
                    0.8993055555555556,
                    0.9560185185185185,
                    0.9991319444444444,
                    1
                  ]
                },
                {
                  "hovertemplate": "Model: Decision Tree<br>Class: E<br>AUC: 0.74<extra></extra>",
                  "line": {
                    "width": 2
                  },
                  "mode": "lines",
                  "name": "Decision Tree – E (AUC=0.74)",
                  "type": "scatter",
                  "x": [
                    0,
                    0.03043429967788515,
                    0.06614461846051316,
                    0.09574586249028101,
                    0.11185160502054871,
                    0.15189381317338665,
                    0.19182494723980895,
                    0.24736199044762858,
                    0.2587470843052316,
                    0.28462734644007553,
                    0.2902365878040653,
                    0.31383983116738867,
                    0.33088970343218926,
                    0.36765522603576584,
                    0.3995334888370543,
                    0.4203043429967789,
                    0.45262690214372986,
                    0.5091636121292903,
                    0.5437631900477619,
                    0.5916361212929023,
                    0.598189492391425,
                    1
                  ],
                  "y": [
                    0,
                    0.0835509138381201,
                    0.1888598781549173,
                    0.23890339425587467,
                    0.28067885117493474,
                    0.3320278503046127,
                    0.39759210908035975,
                    0.5351029881055991,
                    0.5674499564838991,
                    0.5932695097185959,
                    0.607339715694807,
                    0.6498404409631564,
                    0.66913257905425,
                    0.6965477226573832,
                    0.7467362924281984,
                    0.7782129387873513,
                    0.8410211778357992,
                    0.8788801856686974,
                    0.9231215549753409,
                    0.9865100087032201,
                    0.9997098926602843,
                    1
                  ]
                },
                {
                  "hovertemplate": "Model: Random Forest<br>Class: C<br>AUC: 0.83<extra></extra>",
                  "line": {
                    "width": 2
                  },
                  "mode": "lines",
                  "name": "Random Forest – C (AUC=0.83)",
                  "type": "scatter",
                  "x": [
                    0,
                    0.0004830917874396135,
                    0.024057971014492755,
                    0.0659903381642512,
                    0.09120772946859904,
                    0.13758454106280193,
                    0.18193236714975847,
                    0.22676328502415458,
                    0.24048309178743962,
                    0.30879227053140096,
                    0.3277294685990338,
                    0.36386473429951693,
                    0.41091787439613525,
                    0.48096618357487925,
                    0.5700483091787439,
                    0.6035748792270531,
                    0.6494685990338164,
                    0.6779710144927537,
                    0.8172946859903382,
                    0.8297584541062802,
                    0.9100483091787439,
                    1
                  ],
                  "y": [
                    0,
                    0.4970446735395189,
                    0.5387628865979381,
                    0.5968384879725086,
                    0.6231615120274914,
                    0.6640549828178695,
                    0.6957388316151203,
                    0.7276288659793815,
                    0.732233676975945,
                    0.7641237113402062,
                    0.780893470790378,
                    0.7949140893470791,
                    0.821786941580756,
                    0.8492096219931271,
                    0.8799312714776633,
                    0.896701030927835,
                    0.9134020618556701,
                    0.9225429553264605,
                    0.9573195876288659,
                    0.962061855670103,
                    0.9747079037800688,
                    1
                  ]
                },
                {
                  "hovertemplate": "Model: Random Forest<br>Class: H<br>AUC: 0.74<extra></extra>",
                  "line": {
                    "width": 2
                  },
                  "mode": "lines",
                  "name": "Random Forest – H (AUC=0.74)",
                  "type": "scatter",
                  "x": [
                    0,
                    0.03753963812721507,
                    0.044907666480134306,
                    0.07368028352919231,
                    0.109541130386122,
                    0.13103898526394328,
                    0.15603432195485917,
                    0.1637754150345085,
                    0.18135609028166386,
                    0.21898899459056145,
                    0.2705651930609961,
                    0.3383697071441895,
                    0.3549710874836784,
                    0.39768699869427343,
                    0.42384816265622083,
                    0.45817011751538894,
                    0.48111359820928934,
                    0.5182335385189331,
                    0.5624883417272897,
                    0.6171889572840887,
                    0.6626562208543182,
                    1
                  ],
                  "y": [
                    0,
                    0.14293981481481483,
                    0.15769675925925927,
                    0.2728587962962963,
                    0.31886574074074076,
                    0.35648148148148145,
                    0.40914351851851855,
                    0.4184027777777778,
                    0.4366319444444444,
                    0.4693287037037037,
                    0.5193865740740741,
                    0.6623263888888888,
                    0.6831597222222222,
                    0.7569444444444444,
                    0.7809606481481481,
                    0.8220486111111112,
                    0.8469328703703703,
                    0.8628472222222222,
                    0.8993055555555556,
                    0.9560185185185185,
                    0.9991319444444444,
                    1
                  ]
                },
                {
                  "hovertemplate": "Model: Random Forest<br>Class: E<br>AUC: 0.74<extra></extra>",
                  "line": {
                    "width": 2
                  },
                  "mode": "lines",
                  "name": "Random Forest – E (AUC=0.74)",
                  "type": "scatter",
                  "x": [
                    0,
                    0.03043429967788515,
                    0.06614461846051316,
                    0.09574586249028101,
                    0.11185160502054871,
                    0.15189381317338665,
                    0.19182494723980895,
                    0.24736199044762858,
                    0.2587470843052316,
                    0.28462734644007553,
                    0.2902365878040653,
                    0.31383983116738867,
                    0.33088970343218926,
                    0.36765522603576584,
                    0.3995334888370543,
                    0.4203043429967789,
                    0.45262690214372986,
                    0.5091636121292903,
                    0.5437631900477619,
                    0.5916361212929023,
                    0.598189492391425,
                    1
                  ],
                  "y": [
                    0,
                    0.0835509138381201,
                    0.1888598781549173,
                    0.23890339425587467,
                    0.28067885117493474,
                    0.3320278503046127,
                    0.39759210908035975,
                    0.5351029881055991,
                    0.5674499564838991,
                    0.5932695097185959,
                    0.607339715694807,
                    0.6498404409631564,
                    0.66913257905425,
                    0.6965477226573832,
                    0.7467362924281984,
                    0.7782129387873513,
                    0.8410211778357992,
                    0.8788801856686974,
                    0.9231215549753409,
                    0.9865100087032201,
                    0.9997098926602843,
                    1
                  ]
                },
                {
                  "hovertemplate": "Model: XGBoost<br>Class: C<br>AUC: 0.83<extra></extra>",
                  "line": {
                    "width": 2
                  },
                  "mode": "lines",
                  "name": "XGBoost – C (AUC=0.83)",
                  "type": "scatter",
                  "x": [
                    0,
                    0.0004830917874396135,
                    0.024057971014492755,
                    0.0659903381642512,
                    0.09120772946859904,
                    0.13758454106280193,
                    0.18193236714975847,
                    0.22676328502415458,
                    0.24048309178743962,
                    0.30879227053140096,
                    0.3277294685990338,
                    0.36386473429951693,
                    0.41091787439613525,
                    0.48096618357487925,
                    0.5700483091787439,
                    0.6035748792270531,
                    0.6494685990338164,
                    0.6779710144927537,
                    0.8172946859903382,
                    0.8297584541062802,
                    0.9100483091787439,
                    1
                  ],
                  "y": [
                    0,
                    0.4970446735395189,
                    0.5387628865979381,
                    0.5968384879725086,
                    0.6231615120274914,
                    0.6640549828178695,
                    0.6957388316151203,
                    0.7276288659793815,
                    0.732233676975945,
                    0.7641237113402062,
                    0.780893470790378,
                    0.7949140893470791,
                    0.821786941580756,
                    0.8492096219931271,
                    0.8799312714776633,
                    0.896701030927835,
                    0.9134020618556701,
                    0.9225429553264605,
                    0.9573195876288659,
                    0.962061855670103,
                    0.9747079037800688,
                    1
                  ]
                },
                {
                  "hovertemplate": "Model: XGBoost<br>Class: H<br>AUC: 0.74<extra></extra>",
                  "line": {
                    "width": 2
                  },
                  "mode": "lines",
                  "name": "XGBoost – H (AUC=0.74)",
                  "type": "scatter",
                  "x": [
                    0,
                    0.03753963812721507,
                    0.044907666480134306,
                    0.07368028352919231,
                    0.109541130386122,
                    0.13103898526394328,
                    0.15603432195485917,
                    0.1637754150345085,
                    0.18135609028166386,
                    0.21898899459056145,
                    0.2705651930609961,
                    0.3383697071441895,
                    0.3549710874836784,
                    0.39768699869427343,
                    0.42384816265622083,
                    0.45817011751538894,
                    0.48111359820928934,
                    0.5182335385189331,
                    0.5624883417272897,
                    0.6171889572840887,
                    0.6626562208543182,
                    1
                  ],
                  "y": [
                    0,
                    0.14293981481481483,
                    0.15769675925925927,
                    0.2728587962962963,
                    0.31886574074074076,
                    0.35648148148148145,
                    0.40914351851851855,
                    0.4184027777777778,
                    0.4366319444444444,
                    0.4693287037037037,
                    0.5193865740740741,
                    0.6623263888888888,
                    0.6831597222222222,
                    0.7569444444444444,
                    0.7809606481481481,
                    0.8220486111111112,
                    0.8469328703703703,
                    0.8628472222222222,
                    0.8993055555555556,
                    0.9560185185185185,
                    0.9991319444444444,
                    1
                  ]
                },
                {
                  "hovertemplate": "Model: XGBoost<br>Class: E<br>AUC: 0.74<extra></extra>",
                  "line": {
                    "width": 2
                  },
                  "mode": "lines",
                  "name": "XGBoost – E (AUC=0.74)",
                  "type": "scatter",
                  "x": [
                    0,
                    0.03043429967788515,
                    0.06614461846051316,
                    0.09574586249028101,
                    0.11185160502054871,
                    0.15189381317338665,
                    0.19182494723980895,
                    0.24736199044762858,
                    0.2587470843052316,
                    0.28462734644007553,
                    0.2902365878040653,
                    0.31383983116738867,
                    0.33088970343218926,
                    0.36765522603576584,
                    0.3995334888370543,
                    0.4203043429967789,
                    0.45262690214372986,
                    0.5091636121292903,
                    0.5437631900477619,
                    0.5916361212929023,
                    0.598189492391425,
                    1
                  ],
                  "y": [
                    0,
                    0.0835509138381201,
                    0.1888598781549173,
                    0.23890339425587467,
                    0.28067885117493474,
                    0.3320278503046127,
                    0.39759210908035975,
                    0.5351029881055991,
                    0.5674499564838991,
                    0.5932695097185959,
                    0.607339715694807,
                    0.6498404409631564,
                    0.66913257905425,
                    0.6965477226573832,
                    0.7467362924281984,
                    0.7782129387873513,
                    0.8410211778357992,
                    0.8788801856686974,
                    0.9231215549753409,
                    0.9865100087032201,
                    0.9997098926602843,
                    1
                  ]
                },
                {
                  "hovertemplate": "Model: Logistic Regression<br>Class: C<br>AUC: 0.83<extra></extra>",
                  "line": {
                    "width": 2
                  },
                  "mode": "lines",
                  "name": "Logistic Regression – C (AUC=0.83)",
                  "type": "scatter",
                  "x": [
                    0,
                    0.0004830917874396135,
                    0.024057971014492755,
                    0.0659903381642512,
                    0.11033816425120772,
                    0.15516908212560387,
                    0.20154589371980677,
                    0.22676328502415458,
                    0.23922705314009662,
                    0.2753623188405797,
                    0.28908212560386476,
                    0.3226086956521739,
                    0.34154589371980676,
                    0.38859903381642513,
                    0.4569082125603865,
                    0.5269565217391304,
                    0.666280193236715,
                    0.6947826086956522,
                    0.7406763285024155,
                    0.8297584541062802,
                    0.9197101449275362,
                    1
                  ],
                  "y": [
                    0,
                    0.4970446735395189,
                    0.5387628865979381,
                    0.5968384879725086,
                    0.6285223367697594,
                    0.6604123711340206,
                    0.7013058419243986,
                    0.7276288659793815,
                    0.7323711340206186,
                    0.7463917525773196,
                    0.7509965635738831,
                    0.767766323024055,
                    0.7845360824742268,
                    0.8114089347079038,
                    0.843298969072165,
                    0.8707216494845361,
                    0.9054982817869416,
                    0.914639175257732,
                    0.931340206185567,
                    0.962061855670103,
                    0.9873539518900344,
                    1
                  ]
                },
                {
                  "hovertemplate": "Model: Logistic Regression<br>Class: H<br>AUC: 0.75<extra></extra>",
                  "line": {
                    "width": 2
                  },
                  "mode": "lines",
                  "name": "Logistic Regression – H (AUC=0.75)",
                  "type": "scatter",
                  "x": [
                    0,
                    0.02877261704905801,
                    0.05376795373997389,
                    0.09130759186718895,
                    0.09867562022010819,
                    0.16648013430330164,
                    0.18308151464279052,
                    0.19082260772243984,
                    0.22794254803208355,
                    0.2638033948890132,
                    0.2853012497668345,
                    0.3280171609774296,
                    0.36565006528632715,
                    0.4172262637567618,
                    0.4719268793135609,
                    0.5062488341727289,
                    0.5291923148666293,
                    0.5553534788285768,
                    0.5729341540757321,
                    0.6171889572840887,
                    0.6626562208543182,
                    1
                  ],
                  "y": [
                    0,
                    0.11516203703703703,
                    0.16782407407407407,
                    0.3107638888888889,
                    0.3255208333333333,
                    0.46846064814814814,
                    0.48929398148148145,
                    0.49855324074074076,
                    0.5144675925925926,
                    0.5604745370370371,
                    0.5980902777777778,
                    0.671875,
                    0.7045717592592593,
                    0.7546296296296297,
                    0.8113425925925926,
                    0.8524305555555556,
                    0.8773148148148148,
                    0.9013310185185185,
                    0.9195601851851852,
                    0.9560185185185185,
                    0.9991319444444444,
                    1
                  ]
                },
                {
                  "hovertemplate": "Model: Logistic Regression<br>Class: E<br>AUC: 0.73<extra></extra>",
                  "line": {
                    "width": 2
                  },
                  "mode": "lines",
                  "name": "Logistic Regression – E (AUC=0.73)",
                  "type": "scatter",
                  "x": [
                    0,
                    0.03043429967788515,
                    0.04748417194268577,
                    0.08319449072531379,
                    0.11279573475508164,
                    0.15283794290791958,
                    0.1927690769743419,
                    0.21864933910918583,
                    0.23475508163945352,
                    0.25552593579917804,
                    0.2669110296567811,
                    0.31478396090192157,
                    0.37032100410974117,
                    0.4049205820282128,
                    0.43679884482950126,
                    0.44240808619349103,
                    0.44896145729201375,
                    0.4812840164389648,
                    0.5048872598022881,
                    0.5614239697878485,
                    0.598189492391425,
                    1
                  ],
                  "y": [
                    0,
                    0.0835509138381201,
                    0.10284305192921381,
                    0.208152016246011,
                    0.2581955323469684,
                    0.30954453147664635,
                    0.3751087902523934,
                    0.4009283434870902,
                    0.44270380040615026,
                    0.4741804467653032,
                    0.5065274151436031,
                    0.5699158688714825,
                    0.7074267478967218,
                    0.7516681172033652,
                    0.8018566869741804,
                    0.8159268929503917,
                    0.8291267769074557,
                    0.8919350159559036,
                    0.934435741224253,
                    0.9722947490571512,
                    0.9997098926602843,
                    1
                  ]
                },
                {
                  "hovertemplate": "Model: SVM (Linear Kernel)<br>Class: C<br>AUC: 0.80<extra></extra>",
                  "line": {
                    "width": 2
                  },
                  "mode": "lines",
                  "name": "SVM (Linear Kernel) – C (AUC=0.80)",
                  "type": "scatter",
                  "x": [
                    0,
                    0.0004830917874396135,
                    0.012946859903381642,
                    0.0548792270531401,
                    0.09971014492753623,
                    0.12328502415458938,
                    0.16966183574879226,
                    0.21555555555555556,
                    0.2599033816425121,
                    0.29342995169082126,
                    0.32956521739130434,
                    0.3996135265700483,
                    0.41855072463768117,
                    0.43227053140096616,
                    0.5715942028985507,
                    0.600096618357488,
                    0.6803864734299517,
                    0.7703381642512077,
                    0.7955555555555556,
                    0.8426086956521739,
                    0.9316908212560386,
                    1
                  ],
                  "y": [
                    0,
                    0.4970446735395189,
                    0.501786941580756,
                    0.5598625429553264,
                    0.5917525773195876,
                    0.6334707903780069,
                    0.6743642611683849,
                    0.6910652920962199,
                    0.7227491408934708,
                    0.7395189003436426,
                    0.7535395189003437,
                    0.7809621993127148,
                    0.7977319587628866,
                    0.8023367697594501,
                    0.8371134020618557,
                    0.8462542955326461,
                    0.8589003436426117,
                    0.8841924398625429,
                    0.9105154639175258,
                    0.9373883161512028,
                    0.9681099656357388,
                    1
                  ]
                },
                {
                  "hovertemplate": "Model: SVM (Linear Kernel)<br>Class: H<br>AUC: 0.58<extra></extra>",
                  "line": {
                    "width": 2
                  },
                  "mode": "lines",
                  "name": "SVM (Linear Kernel) – H (AUC=0.58)",
                  "type": "scatter",
                  "x": [
                    0,
                    0.02877261704905801,
                    0.05376795373997389,
                    0.1053441522104085,
                    0.14246409252005224,
                    0.15020518559970156,
                    0.15757321395262078,
                    0.19511285207983586,
                    0.2629173661630293,
                    0.2795187465025182,
                    0.6168625256482,
                    0.6527233725051297,
                    0.678884536467077,
                    0.7165174407759747,
                    0.738015295653796,
                    0.780731206864391,
                    0.815053161723559,
                    0.8326338369707145,
                    0.8873344525275135,
                    0.9102779332214139,
                    0.9557451967916434,
                    1
                  ],
                  "y": [
                    0,
                    0.11516203703703703,
                    0.16782407407407407,
                    0.21788194444444445,
                    0.2337962962962963,
                    0.24305555555555555,
                    0.2578125,
                    0.4007523148148148,
                    0.5436921296296297,
                    0.5645254629629629,
                    0.5653935185185185,
                    0.6114004629629629,
                    0.6354166666666666,
                    0.6681134259259259,
                    0.7057291666666666,
                    0.7795138888888888,
                    0.8206018518518519,
                    0.8388310185185185,
                    0.8955439814814815,
                    0.9204282407407407,
                    0.9635416666666666,
                    1
                  ]
                },
                {
                  "hovertemplate": "Model: SVM (Linear Kernel)<br>Class: E<br>AUC: 0.73<extra></extra>",
                  "line": {
                    "width": 2
                  },
                  "mode": "lines",
                  "name": "SVM (Linear Kernel) – E (AUC=0.73)",
                  "type": "scatter",
                  "x": [
                    0,
                    0.035710318782628016,
                    0.07564145284905031,
                    0.10524269687881817,
                    0.13567699655670332,
                    0.17571920470954128,
                    0.19182494723980895,
                    0.20887481950460957,
                    0.23475508163945352,
                    0.25552593579917804,
                    0.2874041986004665,
                    0.32200377651893813,
                    0.33338887037654114,
                    0.38126180162168166,
                    0.43679884482950126,
                    0.443352215928024,
                    0.475674775074975,
                    0.5124402976785516,
                    0.5360435410418749,
                    0.5925802510274353,
                    0.598189492391425,
                    1
                  ],
                  "y": [
                    0,
                    0.10530896431679722,
                    0.17087322309254424,
                    0.2209167391935016,
                    0.3044676530316217,
                    0.3558166521612997,
                    0.39759210908035975,
                    0.41688424717145345,
                    0.44270380040615026,
                    0.4741804467653032,
                    0.5243690165361183,
                    0.5686103858427618,
                    0.6009573542210618,
                    0.6643458079489412,
                    0.8018566869741804,
                    0.8150565709312445,
                    0.8778648099796925,
                    0.9052799535828256,
                    0.9477806788511749,
                    0.9856396866840731,
                    0.9997098926602843,
                    1
                  ]
                },
                {
                  "hovertemplate": "Model: SVM (RBF Kernel)<br>Class: C<br>AUC: 0.74<extra></extra>",
                  "line": {
                    "width": 2
                  },
                  "mode": "lines",
                  "name": "SVM (RBF Kernel) – C (AUC=0.74)",
                  "type": "scatter",
                  "x": [
                    0,
                    0.0004830917874396135,
                    0.08956521739130435,
                    0.10328502415458937,
                    0.1157487922705314,
                    0.16280193236714977,
                    0.18637681159420288,
                    0.21159420289855072,
                    0.35091787439613525,
                    0.43120772946859903,
                    0.45971014492753626,
                    0.49584541062801935,
                    0.5422222222222223,
                    0.5841545893719807,
                    0.630048309178744,
                    0.6635748792270532,
                    0.7079227053140097,
                    0.776231884057971,
                    0.846280193236715,
                    0.8652173913043478,
                    0.9551690821256039,
                    1
                  ],
                  "y": [
                    0,
                    0.4970446735395189,
                    0.527766323024055,
                    0.5323711340206185,
                    0.5371134020618556,
                    0.5639862542955326,
                    0.6057044673539519,
                    0.6320274914089347,
                    0.6668041237113402,
                    0.6794501718213058,
                    0.6885910652920962,
                    0.7026116838487972,
                    0.7435051546391752,
                    0.8015807560137457,
                    0.8182817869415807,
                    0.8350515463917526,
                    0.8667353951890034,
                    0.8986254295532646,
                    0.9260481099656357,
                    0.9428178694158076,
                    0.9681099656357388,
                    1
                  ]
                },
                {
                  "hovertemplate": "Model: SVM (RBF Kernel)<br>Class: H<br>AUC: 0.71<extra></extra>",
                  "line": {
                    "width": 2
                  },
                  "mode": "lines",
                  "name": "SVM (RBF Kernel) – H (AUC=0.71)",
                  "type": "scatter",
                  "x": [
                    0,
                    0.035860846856929675,
                    0.05735870173475098,
                    0.09489833986196605,
                    0.12367095691102406,
                    0.14125163215817946,
                    0.14861966051109868,
                    0.18625256481999627,
                    0.1939936578996456,
                    0.21898899459056145,
                    0.2705651930609961,
                    0.2935086737548965,
                    0.3362245849654915,
                    0.3623857489274389,
                    0.39950568923708263,
                    0.45420630479388174,
                    0.4885282596530498,
                    0.5563327737362432,
                    0.6018000373064727,
                    0.6460548405148293,
                    0.6626562208543182,
                    1
                  ],
                  "y": [
                    0,
                    0.04600694444444445,
                    0.08362268518518519,
                    0.2265625,
                    0.34172453703703703,
                    0.3599537037037037,
                    0.37471064814814814,
                    0.4074074074074074,
                    0.4166666666666667,
                    0.4693287037037037,
                    0.5193865740740741,
                    0.5442708333333334,
                    0.6180555555555556,
                    0.6420717592592593,
                    0.6579861111111112,
                    0.7146990740740741,
                    0.7557870370370371,
                    0.8987268518518519,
                    0.9418402777777778,
                    0.9782986111111112,
                    0.9991319444444444,
                    1
                  ]
                },
                {
                  "hovertemplate": "Model: SVM (RBF Kernel)<br>Class: E<br>AUC: 0.57<extra></extra>",
                  "line": {
                    "width": 2
                  },
                  "mode": "lines",
                  "name": "SVM (RBF Kernel) – E (AUC=0.57)",
                  "type": "scatter",
                  "x": [
                    0,
                    0.03043429967788515,
                    0.04181939353548817,
                    0.08186160168832611,
                    0.12179273575474842,
                    0.17732977896256805,
                    0.21409530156614462,
                    0.24369654559591247,
                    0.26957680773075643,
                    0.2856825502610241,
                    0.3213928690436521,
                    0.723203376652227,
                    0.7710763078973676,
                    0.7946795512606909,
                    0.8512162612462513,
                    0.8858158391647228,
                    0.9028657114295235,
                    0.9347439742308119,
                    0.9555148283905365,
                    0.9611240697545262,
                    0.9934466289014773,
                    1
                  ],
                  "y": [
                    0,
                    0.0835509138381201,
                    0.11589788221642007,
                    0.16724688134609805,
                    0.2328111401218451,
                    0.3703220191470844,
                    0.3977371627502176,
                    0.44778067885117495,
                    0.47360023208587176,
                    0.5153756890049318,
                    0.6206846533217291,
                    0.6209747606614447,
                    0.684363214389324,
                    0.7268639396576734,
                    0.7647229474905715,
                    0.8089643167972149,
                    0.8282564548883087,
                    0.8784450246591239,
                    0.9099216710182768,
                    0.9239918769944879,
                    0.9868001160429359,
                    1
                  ]
                },
                {
                  "hovertemplate": "Model: K-Nearest Neighbors<br>Class: C<br>AUC: 0.75<extra></extra>",
                  "line": {
                    "width": 2
                  },
                  "mode": "lines",
                  "name": "K-Nearest Neighbors – C (AUC=0.75)",
                  "type": "scatter",
                  "x": [
                    0,
                    0.18309178743961352,
                    0.29033816425120773,
                    0.6573913043478261,
                    0.7714009661835749,
                    1
                  ],
                  "y": [
                    0,
                    0.6511340206185567,
                    0.7139518900343642,
                    0.8781443298969073,
                    0.9406185567010309,
                    1
                  ]
                },
                {
                  "hovertemplate": "Model: K-Nearest Neighbors<br>Class: H<br>AUC: 0.69<extra></extra>",
                  "line": {
                    "width": 2
                  },
                  "mode": "lines",
                  "name": "K-Nearest Neighbors – H (AUC=0.69)",
                  "type": "scatter",
                  "x": [
                    0,
                    0.09130759186718895,
                    0.17338183174780825,
                    0.3501212460361873,
                    0.4514549524342473,
                    1
                  ],
                  "y": [
                    0,
                    0.3107638888888889,
                    0.40596064814814814,
                    0.5934606481481481,
                    0.7751736111111112,
                    1
                  ]
                },
                {
                  "hovertemplate": "Model: K-Nearest Neighbors<br>Class: E<br>AUC: 0.56<extra></extra>",
                  "line": {
                    "width": 2
                  },
                  "mode": "lines",
                  "name": "K-Nearest Neighbors – E (AUC=0.56)",
                  "type": "scatter",
                  "x": [
                    0,
                    0.005609241363989781,
                    0.1010774186382317,
                    1
                  ],
                  "y": [
                    0,
                    0.014070205976211198,
                    0.21714534377719757,
                    1
                  ]
                },
                {
                  "line": {
                    "color": "gray",
                    "dash": "dash"
                  },
                  "mode": "lines",
                  "showlegend": false,
                  "type": "scatter",
                  "x": [
                    0,
                    1
                  ],
                  "y": [
                    0,
                    1
                  ]
                }
              ],
              "layout": {
                "height": 600,
                "legend": {
                  "font": {
                    "size": 11
                  },
                  "orientation": "v"
                },
                "template": {
                  "data": {
                    "bar": [
                      {
                        "error_x": {
                          "color": "#2a3f5f"
                        },
                        "error_y": {
                          "color": "#2a3f5f"
                        },
                        "marker": {
                          "line": {
                            "color": "white",
                            "width": 0.5
                          },
                          "pattern": {
                            "fillmode": "overlay",
                            "size": 10,
                            "solidity": 0.2
                          }
                        },
                        "type": "bar"
                      }
                    ],
                    "barpolar": [
                      {
                        "marker": {
                          "line": {
                            "color": "white",
                            "width": 0.5
                          },
                          "pattern": {
                            "fillmode": "overlay",
                            "size": 10,
                            "solidity": 0.2
                          }
                        },
                        "type": "barpolar"
                      }
                    ],
                    "carpet": [
                      {
                        "aaxis": {
                          "endlinecolor": "#2a3f5f",
                          "gridcolor": "#C8D4E3",
                          "linecolor": "#C8D4E3",
                          "minorgridcolor": "#C8D4E3",
                          "startlinecolor": "#2a3f5f"
                        },
                        "baxis": {
                          "endlinecolor": "#2a3f5f",
                          "gridcolor": "#C8D4E3",
                          "linecolor": "#C8D4E3",
                          "minorgridcolor": "#C8D4E3",
                          "startlinecolor": "#2a3f5f"
                        },
                        "type": "carpet"
                      }
                    ],
                    "choropleth": [
                      {
                        "colorbar": {
                          "outlinewidth": 0,
                          "ticks": ""
                        },
                        "type": "choropleth"
                      }
                    ],
                    "contour": [
                      {
                        "colorbar": {
                          "outlinewidth": 0,
                          "ticks": ""
                        },
                        "colorscale": [
                          [
                            0,
                            "#0d0887"
                          ],
                          [
                            0.1111111111111111,
                            "#46039f"
                          ],
                          [
                            0.2222222222222222,
                            "#7201a8"
                          ],
                          [
                            0.3333333333333333,
                            "#9c179e"
                          ],
                          [
                            0.4444444444444444,
                            "#bd3786"
                          ],
                          [
                            0.5555555555555556,
                            "#d8576b"
                          ],
                          [
                            0.6666666666666666,
                            "#ed7953"
                          ],
                          [
                            0.7777777777777778,
                            "#fb9f3a"
                          ],
                          [
                            0.8888888888888888,
                            "#fdca26"
                          ],
                          [
                            1,
                            "#f0f921"
                          ]
                        ],
                        "type": "contour"
                      }
                    ],
                    "contourcarpet": [
                      {
                        "colorbar": {
                          "outlinewidth": 0,
                          "ticks": ""
                        },
                        "type": "contourcarpet"
                      }
                    ],
                    "heatmap": [
                      {
                        "colorbar": {
                          "outlinewidth": 0,
                          "ticks": ""
                        },
                        "colorscale": [
                          [
                            0,
                            "#0d0887"
                          ],
                          [
                            0.1111111111111111,
                            "#46039f"
                          ],
                          [
                            0.2222222222222222,
                            "#7201a8"
                          ],
                          [
                            0.3333333333333333,
                            "#9c179e"
                          ],
                          [
                            0.4444444444444444,
                            "#bd3786"
                          ],
                          [
                            0.5555555555555556,
                            "#d8576b"
                          ],
                          [
                            0.6666666666666666,
                            "#ed7953"
                          ],
                          [
                            0.7777777777777778,
                            "#fb9f3a"
                          ],
                          [
                            0.8888888888888888,
                            "#fdca26"
                          ],
                          [
                            1,
                            "#f0f921"
                          ]
                        ],
                        "type": "heatmap"
                      }
                    ],
                    "heatmapgl": [
                      {
                        "colorbar": {
                          "outlinewidth": 0,
                          "ticks": ""
                        },
                        "colorscale": [
                          [
                            0,
                            "#0d0887"
                          ],
                          [
                            0.1111111111111111,
                            "#46039f"
                          ],
                          [
                            0.2222222222222222,
                            "#7201a8"
                          ],
                          [
                            0.3333333333333333,
                            "#9c179e"
                          ],
                          [
                            0.4444444444444444,
                            "#bd3786"
                          ],
                          [
                            0.5555555555555556,
                            "#d8576b"
                          ],
                          [
                            0.6666666666666666,
                            "#ed7953"
                          ],
                          [
                            0.7777777777777778,
                            "#fb9f3a"
                          ],
                          [
                            0.8888888888888888,
                            "#fdca26"
                          ],
                          [
                            1,
                            "#f0f921"
                          ]
                        ],
                        "type": "heatmapgl"
                      }
                    ],
                    "histogram": [
                      {
                        "marker": {
                          "pattern": {
                            "fillmode": "overlay",
                            "size": 10,
                            "solidity": 0.2
                          }
                        },
                        "type": "histogram"
                      }
                    ],
                    "histogram2d": [
                      {
                        "colorbar": {
                          "outlinewidth": 0,
                          "ticks": ""
                        },
                        "colorscale": [
                          [
                            0,
                            "#0d0887"
                          ],
                          [
                            0.1111111111111111,
                            "#46039f"
                          ],
                          [
                            0.2222222222222222,
                            "#7201a8"
                          ],
                          [
                            0.3333333333333333,
                            "#9c179e"
                          ],
                          [
                            0.4444444444444444,
                            "#bd3786"
                          ],
                          [
                            0.5555555555555556,
                            "#d8576b"
                          ],
                          [
                            0.6666666666666666,
                            "#ed7953"
                          ],
                          [
                            0.7777777777777778,
                            "#fb9f3a"
                          ],
                          [
                            0.8888888888888888,
                            "#fdca26"
                          ],
                          [
                            1,
                            "#f0f921"
                          ]
                        ],
                        "type": "histogram2d"
                      }
                    ],
                    "histogram2dcontour": [
                      {
                        "colorbar": {
                          "outlinewidth": 0,
                          "ticks": ""
                        },
                        "colorscale": [
                          [
                            0,
                            "#0d0887"
                          ],
                          [
                            0.1111111111111111,
                            "#46039f"
                          ],
                          [
                            0.2222222222222222,
                            "#7201a8"
                          ],
                          [
                            0.3333333333333333,
                            "#9c179e"
                          ],
                          [
                            0.4444444444444444,
                            "#bd3786"
                          ],
                          [
                            0.5555555555555556,
                            "#d8576b"
                          ],
                          [
                            0.6666666666666666,
                            "#ed7953"
                          ],
                          [
                            0.7777777777777778,
                            "#fb9f3a"
                          ],
                          [
                            0.8888888888888888,
                            "#fdca26"
                          ],
                          [
                            1,
                            "#f0f921"
                          ]
                        ],
                        "type": "histogram2dcontour"
                      }
                    ],
                    "mesh3d": [
                      {
                        "colorbar": {
                          "outlinewidth": 0,
                          "ticks": ""
                        },
                        "type": "mesh3d"
                      }
                    ],
                    "parcoords": [
                      {
                        "line": {
                          "colorbar": {
                            "outlinewidth": 0,
                            "ticks": ""
                          }
                        },
                        "type": "parcoords"
                      }
                    ],
                    "pie": [
                      {
                        "automargin": true,
                        "type": "pie"
                      }
                    ],
                    "scatter": [
                      {
                        "fillpattern": {
                          "fillmode": "overlay",
                          "size": 10,
                          "solidity": 0.2
                        },
                        "type": "scatter"
                      }
                    ],
                    "scatter3d": [
                      {
                        "line": {
                          "colorbar": {
                            "outlinewidth": 0,
                            "ticks": ""
                          }
                        },
                        "marker": {
                          "colorbar": {
                            "outlinewidth": 0,
                            "ticks": ""
                          }
                        },
                        "type": "scatter3d"
                      }
                    ],
                    "scattercarpet": [
                      {
                        "marker": {
                          "colorbar": {
                            "outlinewidth": 0,
                            "ticks": ""
                          }
                        },
                        "type": "scattercarpet"
                      }
                    ],
                    "scattergeo": [
                      {
                        "marker": {
                          "colorbar": {
                            "outlinewidth": 0,
                            "ticks": ""
                          }
                        },
                        "type": "scattergeo"
                      }
                    ],
                    "scattergl": [
                      {
                        "marker": {
                          "colorbar": {
                            "outlinewidth": 0,
                            "ticks": ""
                          }
                        },
                        "type": "scattergl"
                      }
                    ],
                    "scattermapbox": [
                      {
                        "marker": {
                          "colorbar": {
                            "outlinewidth": 0,
                            "ticks": ""
                          }
                        },
                        "type": "scattermapbox"
                      }
                    ],
                    "scatterpolar": [
                      {
                        "marker": {
                          "colorbar": {
                            "outlinewidth": 0,
                            "ticks": ""
                          }
                        },
                        "type": "scatterpolar"
                      }
                    ],
                    "scatterpolargl": [
                      {
                        "marker": {
                          "colorbar": {
                            "outlinewidth": 0,
                            "ticks": ""
                          }
                        },
                        "type": "scatterpolargl"
                      }
                    ],
                    "scatterternary": [
                      {
                        "marker": {
                          "colorbar": {
                            "outlinewidth": 0,
                            "ticks": ""
                          }
                        },
                        "type": "scatterternary"
                      }
                    ],
                    "surface": [
                      {
                        "colorbar": {
                          "outlinewidth": 0,
                          "ticks": ""
                        },
                        "colorscale": [
                          [
                            0,
                            "#0d0887"
                          ],
                          [
                            0.1111111111111111,
                            "#46039f"
                          ],
                          [
                            0.2222222222222222,
                            "#7201a8"
                          ],
                          [
                            0.3333333333333333,
                            "#9c179e"
                          ],
                          [
                            0.4444444444444444,
                            "#bd3786"
                          ],
                          [
                            0.5555555555555556,
                            "#d8576b"
                          ],
                          [
                            0.6666666666666666,
                            "#ed7953"
                          ],
                          [
                            0.7777777777777778,
                            "#fb9f3a"
                          ],
                          [
                            0.8888888888888888,
                            "#fdca26"
                          ],
                          [
                            1,
                            "#f0f921"
                          ]
                        ],
                        "type": "surface"
                      }
                    ],
                    "table": [
                      {
                        "cells": {
                          "fill": {
                            "color": "#EBF0F8"
                          },
                          "line": {
                            "color": "white"
                          }
                        },
                        "header": {
                          "fill": {
                            "color": "#C8D4E3"
                          },
                          "line": {
                            "color": "white"
                          }
                        },
                        "type": "table"
                      }
                    ]
                  },
                  "layout": {
                    "annotationdefaults": {
                      "arrowcolor": "#2a3f5f",
                      "arrowhead": 0,
                      "arrowwidth": 1
                    },
                    "autotypenumbers": "strict",
                    "coloraxis": {
                      "colorbar": {
                        "outlinewidth": 0,
                        "ticks": ""
                      }
                    },
                    "colorscale": {
                      "diverging": [
                        [
                          0,
                          "#8e0152"
                        ],
                        [
                          0.1,
                          "#c51b7d"
                        ],
                        [
                          0.2,
                          "#de77ae"
                        ],
                        [
                          0.3,
                          "#f1b6da"
                        ],
                        [
                          0.4,
                          "#fde0ef"
                        ],
                        [
                          0.5,
                          "#f7f7f7"
                        ],
                        [
                          0.6,
                          "#e6f5d0"
                        ],
                        [
                          0.7,
                          "#b8e186"
                        ],
                        [
                          0.8,
                          "#7fbc41"
                        ],
                        [
                          0.9,
                          "#4d9221"
                        ],
                        [
                          1,
                          "#276419"
                        ]
                      ],
                      "sequential": [
                        [
                          0,
                          "#0d0887"
                        ],
                        [
                          0.1111111111111111,
                          "#46039f"
                        ],
                        [
                          0.2222222222222222,
                          "#7201a8"
                        ],
                        [
                          0.3333333333333333,
                          "#9c179e"
                        ],
                        [
                          0.4444444444444444,
                          "#bd3786"
                        ],
                        [
                          0.5555555555555556,
                          "#d8576b"
                        ],
                        [
                          0.6666666666666666,
                          "#ed7953"
                        ],
                        [
                          0.7777777777777778,
                          "#fb9f3a"
                        ],
                        [
                          0.8888888888888888,
                          "#fdca26"
                        ],
                        [
                          1,
                          "#f0f921"
                        ]
                      ],
                      "sequentialminus": [
                        [
                          0,
                          "#0d0887"
                        ],
                        [
                          0.1111111111111111,
                          "#46039f"
                        ],
                        [
                          0.2222222222222222,
                          "#7201a8"
                        ],
                        [
                          0.3333333333333333,
                          "#9c179e"
                        ],
                        [
                          0.4444444444444444,
                          "#bd3786"
                        ],
                        [
                          0.5555555555555556,
                          "#d8576b"
                        ],
                        [
                          0.6666666666666666,
                          "#ed7953"
                        ],
                        [
                          0.7777777777777778,
                          "#fb9f3a"
                        ],
                        [
                          0.8888888888888888,
                          "#fdca26"
                        ],
                        [
                          1,
                          "#f0f921"
                        ]
                      ]
                    },
                    "colorway": [
                      "#636efa",
                      "#EF553B",
                      "#00cc96",
                      "#ab63fa",
                      "#FFA15A",
                      "#19d3f3",
                      "#FF6692",
                      "#B6E880",
                      "#FF97FF",
                      "#FECB52"
                    ],
                    "font": {
                      "color": "#2a3f5f"
                    },
                    "geo": {
                      "bgcolor": "white",
                      "lakecolor": "white",
                      "landcolor": "white",
                      "showlakes": true,
                      "showland": true,
                      "subunitcolor": "#C8D4E3"
                    },
                    "hoverlabel": {
                      "align": "left"
                    },
                    "hovermode": "closest",
                    "mapbox": {
                      "style": "light"
                    },
                    "paper_bgcolor": "white",
                    "plot_bgcolor": "white",
                    "polar": {
                      "angularaxis": {
                        "gridcolor": "#EBF0F8",
                        "linecolor": "#EBF0F8",
                        "ticks": ""
                      },
                      "bgcolor": "white",
                      "radialaxis": {
                        "gridcolor": "#EBF0F8",
                        "linecolor": "#EBF0F8",
                        "ticks": ""
                      }
                    },
                    "scene": {
                      "xaxis": {
                        "backgroundcolor": "white",
                        "gridcolor": "#DFE8F3",
                        "gridwidth": 2,
                        "linecolor": "#EBF0F8",
                        "showbackground": true,
                        "ticks": "",
                        "zerolinecolor": "#EBF0F8"
                      },
                      "yaxis": {
                        "backgroundcolor": "white",
                        "gridcolor": "#DFE8F3",
                        "gridwidth": 2,
                        "linecolor": "#EBF0F8",
                        "showbackground": true,
                        "ticks": "",
                        "zerolinecolor": "#EBF0F8"
                      },
                      "zaxis": {
                        "backgroundcolor": "white",
                        "gridcolor": "#DFE8F3",
                        "gridwidth": 2,
                        "linecolor": "#EBF0F8",
                        "showbackground": true,
                        "ticks": "",
                        "zerolinecolor": "#EBF0F8"
                      }
                    },
                    "shapedefaults": {
                      "line": {
                        "color": "#2a3f5f"
                      }
                    },
                    "ternary": {
                      "aaxis": {
                        "gridcolor": "#DFE8F3",
                        "linecolor": "#A2B1C6",
                        "ticks": ""
                      },
                      "baxis": {
                        "gridcolor": "#DFE8F3",
                        "linecolor": "#A2B1C6",
                        "ticks": ""
                      },
                      "bgcolor": "white",
                      "caxis": {
                        "gridcolor": "#DFE8F3",
                        "linecolor": "#A2B1C6",
                        "ticks": ""
                      }
                    },
                    "title": {
                      "x": 0.05
                    },
                    "xaxis": {
                      "automargin": true,
                      "gridcolor": "#EBF0F8",
                      "linecolor": "#EBF0F8",
                      "ticks": "",
                      "title": {
                        "standoff": 15
                      },
                      "zerolinecolor": "#EBF0F8",
                      "zerolinewidth": 2
                    },
                    "yaxis": {
                      "automargin": true,
                      "gridcolor": "#EBF0F8",
                      "linecolor": "#EBF0F8",
                      "ticks": "",
                      "title": {
                        "standoff": 15
                      },
                      "zerolinecolor": "#EBF0F8",
                      "zerolinewidth": 2
                    }
                  }
                },
                "title": {
                  "text": "Multi-Class ROC Curves per Model (One-vs-Rest)"
                },
                "width": 950,
                "xaxis": {
                  "title": {
                    "text": "False Positive Rate"
                  }
                },
                "yaxis": {
                  "title": {
                    "text": "True Positive Rate"
                  }
                }
              }
            }
          },
          "metadata": {},
          "output_type": "display_data"
        }
      ],
      "source": [
        "\n",
        "##ROC curves for all models using the One-vs-Rest (OvR) approach for multi-class classification (e.g., Q3: C=0, H=1, E=2).\n",
        "import numpy as np\n",
        "import plotly.graph_objects as go\n",
        "from sklearn.metrics import roc_curve, auc\n",
        "from sklearn.preprocessing import label_binarize\n",
        "\n",
        "# Binarize the true labels\n",
        "classes = [0, 1, 2]\n",
        "class_labels = ['C', 'H', 'E']\n",
        "class_colors = ['crimson', 'seagreen', 'royalblue']\n",
        "n_classes = len(classes)\n",
        "y_test_bin = label_binarize(y_test, classes=classes)\n",
        "\n",
        "# Initialize plotly figure\n",
        "fig = go.Figure()\n",
        "\n",
        "# Loop through models\n",
        "for model_name, model in models.items():\n",
        "    # Get decision scores or probabilities\n",
        "    try:\n",
        "        if hasattr(model, \"predict_proba\"):\n",
        "            y_score = model.predict_proba(X_test)\n",
        "        elif hasattr(model, \"decision_function\"):\n",
        "            y_score = model.decision_function(X_test)\n",
        "        else:\n",
        "            print(f\"Skipping {model_name} (no predict_proba or decision_function)\")\n",
        "            continue\n",
        "    except Exception as e:\n",
        "        print(f\"Skipping {model_name} due to error: {e}\")\n",
        "        continue\n",
        "\n",
        "    # One-vs-Rest ROC for each class\n",
        "    for i in range(n_classes):\n",
        "        fpr, tpr, _ = roc_curve(y_test_bin[:, i], y_score[:, i])\n",
        "        roc_auc = auc(fpr, tpr)\n",
        "\n",
        "        fig.add_trace(go.Scatter(\n",
        "            x=fpr,\n",
        "            y=tpr,\n",
        "            mode='lines',\n",
        "            name=f\"{model_name} – {class_labels[i]} (AUC={roc_auc:.2f})\",\n",
        "            line=dict(width=2),\n",
        "            hovertemplate=f\"Model: {model_name}<br>Class: {class_labels[i]}<br>AUC: {roc_auc:.2f}<extra></extra>\"\n",
        "        ))\n",
        "\n",
        "# Diagonal reference line\n",
        "fig.add_trace(go.Scatter(\n",
        "    x=[0, 1], y=[0, 1],\n",
        "    mode='lines',\n",
        "    line=dict(dash='dash', color='gray'),\n",
        "    showlegend=False\n",
        "))\n",
        "\n",
        "# Layout\n",
        "fig.update_layout(\n",
        "    title='Multi-Class ROC Curves per Model (One-vs-Rest)',\n",
        "    xaxis_title='False Positive Rate',\n",
        "    yaxis_title='True Positive Rate',\n",
        "    width=950,\n",
        "    height=600,\n",
        "    legend=dict(\n",
        "        font=dict(size=11),\n",
        "        orientation=\"v\"\n",
        "    ),\n",
        "    template=\"plotly_white\"\n",
        ")\n",
        "\n",
        "fig.show()\n"
      ]
    }
  ],
  "metadata": {
    "colab": {
      "provenance": []
    },
    "kernelspec": {
      "display_name": "base",
      "language": "python",
      "name": "python3"
    },
    "language_info": {
      "codemirror_mode": {
        "name": "ipython",
        "version": 3
      },
      "file_extension": ".py",
      "mimetype": "text/x-python",
      "name": "python",
      "nbconvert_exporter": "python",
      "pygments_lexer": "ipython3",
      "version": "3.12.7"
    }
  },
  "nbformat": 4,
  "nbformat_minor": 0
}
